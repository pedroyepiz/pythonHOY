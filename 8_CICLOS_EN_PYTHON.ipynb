{
  "nbformat": 4,
  "nbformat_minor": 0,
  "metadata": {
    "colab": {
      "provenance": [],
      "authorship_tag": "ABX9TyMms0xHZvDUFpw0QcLjk63L",
      "include_colab_link": true
    },
    "kernelspec": {
      "name": "python3",
      "display_name": "Python 3"
    },
    "language_info": {
      "name": "python"
    }
  },
  "cells": [
    {
      "cell_type": "markdown",
      "metadata": {
        "id": "view-in-github",
        "colab_type": "text"
      },
      "source": [
        "<a href=\"https://colab.research.google.com/github/pedroyepiz/pythonHOY/blob/main/8_CICLOS_EN_PYTHON.ipynb\" target=\"_parent\"><img src=\"https://colab.research.google.com/assets/colab-badge.svg\" alt=\"Open In Colab\"/></a>"
      ]
    },
    {
      "cell_type": "markdown",
      "source": [
        "# **ESTRUCTURAS DE CONTROL DE REPETITIVAS**\n",
        "\n",
        "## **¿Qué son los ciclos?**\n",
        "\n",
        "En programación, los ciclos son estructuras que permiten ejecutar un conjunto de instrucciones de manera repetitiva mientras se cumple una condición determinada. Los ciclos son una herramienta esencial en cualquier lenguaje de programación, incluyendo Python.\n",
        "\n",
        "## **Introducción a los ciclos**\n",
        "\n",
        "Los ciclos permiten automatizar tareas repetitivas, lo que reduce la cantidad de código necesario para lograr un resultado y hace que el código sea más legible y fácil de mantener. En Python, existen dos tipos principales de ciclos: el ciclo \"for\" y el ciclo \"while\".\n",
        "\n",
        "## **Tipos de ciclos en Python**\n",
        "\n",
        "* **El ciclo \"`for`\":** este ciclo se utiliza para recorrer una secuencia de elementos, como una lista o una tupla, y ejecutar un conjunto de instrucciones para cada elemento. En Python, se utiliza la palabra clave \"for\" para iniciar el ciclo y se utiliza una variable para hacer referencia a cada elemento de la secuencia.\n",
        "\n",
        "El ciclo \"for\" se utiliza cuando se conoce de antemano la cantidad de veces que se quiere repetir una acción, es decir, cuando se sabe la cantidad exacta de elementos que se van a recorrer en una lista o una secuencia. Este ciclo se compone de una variable de control que toma valores consecutivos de una lista, tupla, diccionario o cualquier otra estructura de datos iterable. Dentro del cuerpo del ciclo \"for\", se pueden ejecutar una serie de instrucciones que se repiten en cada iteración del ciclo.\n",
        "\n",
        "* **El ciclo \"`while`\":** este ciclo se utiliza para ejecutar un conjunto de instrucciones mientras se cumpla una condición determinada. En Python, se utiliza la palabra clave \"while\" para iniciar el ciclo y se especifica una condición que debe ser verdadera para que el ciclo continúe.\n",
        "\n",
        "## **DEFINICION DE: Contador, Acumulador, Bandera, Elemento Iterable**\n",
        "\n",
        "* **Contador:** una variable que se utiliza para llevar la cuenta del número de veces que se ha ejecutado un ciclo.\n",
        "\n",
        "* **Acumulador:** una variable que se utiliza para acumular los resultados de cada iteración de un ciclo.\n",
        "\n",
        "* **Bandera:** una variable booleana que se utiliza para controlar la ejecución de un ciclo.\n",
        "\n",
        "* **Elemento iterable:** una secuencia de elementos que se puede recorrer utilizando un ciclo \"`for`\".\n",
        "\n",
        "## **PALABRAS CLAVES: `continue, break, pass, else`**\n",
        "\n",
        "#### **En Python, los ciclos for y while pueden ser controlados con 4 palabras clave especiales: `continue, break, pass, else`.**\n",
        "\n",
        "* **`continue`:** esta palabra clave se utiliza dentro de un ciclo para omitir la iteración actual y saltar a la siguiente iteración. En otras palabras, si se encuentra una determinada condición, la iteración actual se salta y el ciclo se continúa con la siguiente iteración. Por ejemplo, supongamos que se quiere imprimir los números del 1 al 10, excepto el 5. Podemos usar continue para omitir la iteración cuando el número es igual a 5:\n",
        "\n",
        "* **`break`:** esta palabra clave se utiliza dentro de un ciclo para salir del ciclo por completo. Si se encuentra una determinada condición, el ciclo se detiene y se ejecuta el código después del ciclo. Por ejemplo, supongamos que se quiere imprimir los números del 1 al 10, pero se quiere detener la impresión en el número 5. Podemos usar break para salir del ciclo cuando el número es igual a 5:\n",
        "\n",
        "* **`pass`:** esta palabra clave se utiliza para indicar que no se debe realizar ninguna operación. Es útil cuando se necesita una sentencia en un lugar donde la sintaxis de Python lo requiere, pero no se necesita ninguna operación. Por ejemplo, supongamos que se quiere crear una función que aún no está completamente implementada. Podemos usar pass como marcador de posición para indicar que no hay ninguna operación en la función:\n",
        "\n",
        "* **`else`:** esta palabra clave se utiliza junto con un ciclo para ejecutar un bloque de código después de que el ciclo ha terminado de iterar sobre todos los elementos de una secuencia. La sección else se ejecuta solo si el ciclo se completa sin haber encontrado una sentencia break. Por ejemplo, supongamos que se quiere buscar un número en una lista y se quiere imprimir un mensaje si el número no está en la lista:"
      ],
      "metadata": {
        "id": "g-K0qzBxrJaF"
      }
    },
    {
      "cell_type": "markdown",
      "source": [
        "\n",
        "\n",
        "---\n",
        "\n"
      ],
      "metadata": {
        "id": "hTVkwT3TDgDy"
      }
    },
    {
      "cell_type": "markdown",
      "source": [
        "# **EL CICLO `for`**\n",
        "\n",
        "El ciclo **`\"for\"`** es una estructura de control de flujo en Python que se utiliza para iterar sobre una secuencia de elementos, como una lista, tupla, diccionario o conjunto. La iteración es el proceso de recorrer cada elemento de una secuencia uno por uno, y se realiza para realizar una tarea repetitiva de manera automatizada.\n",
        "\n",
        "El ciclo **`**\"for\"**`** es uno de los ciclos más utilizados en Python debido a su simplicidad y flexibilidad. Se utiliza para ejecutar un conjunto de instrucciones un número determinado de veces, una vez por cada elemento de la secuencia. El ciclo \"for\" se compone de tres partes principales: la palabra clave \"for\", la variable que hace referencia a cada elemento de la secuencia y la secuencia que se va a iterar.\n",
        "\n",
        "**La sintaxis básica del ciclo \"`for`\" es la siguiente:**\n",
        "\n",
        "\n"
      ],
      "metadata": {
        "id": "JLmadpPI83ls"
      }
    },
    {
      "cell_type": "code",
      "metadata": {
        "id": "I6ujdIFA1kUu"
      },
      "source": [
        "//La sintaxis de un bucle for es la siguiente:\n",
        "\n",
        "for variable in elemento_iterable (lista, cadena, range, etc.):\n",
        "    cuerpo del_bucle"
      ],
      "execution_count": null,
      "outputs": []
    },
    {
      "cell_type": "markdown",
      "source": [
        "\n",
        "No es necesario definir la variable de control antes del ciclo, aunque se puede utilizar como variable de control una variable ya definida en el programa.\n",
        "\n",
        "El cuerpo del ciclo se ejecuta tantas veces como elementos tenga el elemento recorrible (elementos de una lista o de un range(), caracteres de una cadena, etc.). Por ejemplo:"
      ],
      "metadata": {
        "id": "ccehswSD9LLm"
      }
    },
    {
      "cell_type": "code",
      "metadata": {
        "id": "SME7aZhbz5z7",
        "colab": {
          "base_uri": "https://localhost:8080/"
        },
        "outputId": "7018e7bb-7e8f-4699-9a18-0894efc86a89"
      },
      "source": [
        "print(\"Comienzo\")\n",
        "for i in [6, 2, 9]:\n",
        "    print(\"Hola \", end=\"\")\n",
        "print()\n",
        "print(\"Final\")"
      ],
      "execution_count": null,
      "outputs": [
        {
          "output_type": "stream",
          "name": "stdout",
          "text": [
            "Comienzo\n",
            "Hola Hola Hola \n",
            "Final\n"
          ]
        }
      ]
    },
    {
      "cell_type": "code",
      "metadata": {
        "id": "vcbCHfc40Jmy",
        "colab": {
          "base_uri": "https://localhost:8080/"
        },
        "outputId": "746cfad1-36a1-470a-f972-7aca9b26ca74"
      },
      "source": [
        "print(\"Comienzo\")\n",
        "for i in \"PEDRITO \":\n",
        "    print(\"Hola \", end=\"\")\n",
        "print()\n",
        "print(\"Final\")"
      ],
      "execution_count": null,
      "outputs": [
        {
          "output_type": "stream",
          "name": "stdout",
          "text": [
            "Comienzo\n",
            "Hola Hola Hola Hola Hola Hola Hola Hola \n",
            "Final\n"
          ]
        }
      ]
    },
    {
      "cell_type": "code",
      "source": [
        "print(\"Comienzo\")\n",
        "for i in \"PEDRITO \":\n",
        "    print(i)\n",
        "print()\n",
        "print(\"Final\")"
      ],
      "metadata": {
        "colab": {
          "base_uri": "https://localhost:8080/"
        },
        "id": "iT6jGMsOQvfR",
        "outputId": "64b307aa-9ba6-4f66-e312-f94ca39b8a13"
      },
      "execution_count": null,
      "outputs": [
        {
          "output_type": "stream",
          "name": "stdout",
          "text": [
            "Comienzo\n",
            "P\n",
            "E\n",
            "D\n",
            "R\n",
            "I\n",
            "T\n",
            "O\n",
            " \n",
            "\n",
            "Final\n"
          ]
        }
      ]
    },
    {
      "cell_type": "code",
      "metadata": {
        "id": "5UAmKMdz0CP8",
        "colab": {
          "base_uri": "https://localhost:8080/"
        },
        "outputId": "2e143f5d-bc6e-41cf-e1f2-c406aa8a9b86"
      },
      "source": [
        "print(\"Comienzo\")\n",
        "for i in [41, \"Pedrito\", 51.34, True]:\n",
        "    print(i)\n",
        "print()\n",
        "print(\"Final\")"
      ],
      "execution_count": null,
      "outputs": [
        {
          "output_type": "stream",
          "name": "stdout",
          "text": [
            "Comienzo\n",
            "41\n",
            "Pedrito\n",
            "51.34\n",
            "True\n",
            "\n",
            "Final\n"
          ]
        }
      ]
    },
    {
      "cell_type": "code",
      "metadata": {
        "id": "COdywyJB1Gss",
        "colab": {
          "base_uri": "https://localhost:8080/"
        },
        "outputId": "93cb7be9-e55a-40cf-d9b3-675329c819a6"
      },
      "source": [
        "print(\"Comienzo\")\n",
        "for _ in \"HOLA MUNDO\":\n",
        "    print(\"Hola \", end=\"\")\n",
        "print()\n",
        "print(\"Final\")"
      ],
      "execution_count": null,
      "outputs": [
        {
          "output_type": "stream",
          "name": "stdout",
          "text": [
            "Comienzo\n",
            "Hola Hola Hola Hola Hola Hola Hola Hola Hola Hola \n",
            "Final\n"
          ]
        }
      ]
    },
    {
      "cell_type": "code",
      "metadata": {
        "id": "8DlpRL2Y1G1S",
        "colab": {
          "base_uri": "https://localhost:8080/"
        },
        "outputId": "92734687-107c-4315-8373-de9872a54bdd"
      },
      "source": [
        "print(\"Comienzo\")\n",
        "for i in [3, 4, 5,7]:\n",
        "    print(f\"Hola. Ahora i vale {i} y su cuadrado {i ** 2}\")\n",
        "print(\"Final\")"
      ],
      "execution_count": null,
      "outputs": [
        {
          "output_type": "stream",
          "name": "stdout",
          "text": [
            "Comienzo\n",
            "Hola. Ahora i vale 3 y su cuadrado 9\n",
            "Hola. Ahora i vale 4 y su cuadrado 16\n",
            "Hola. Ahora i vale 5 y su cuadrado 25\n",
            "Hola. Ahora i vale 7 y su cuadrado 49\n",
            "Final\n"
          ]
        }
      ]
    },
    {
      "cell_type": "code",
      "metadata": {
        "id": "XEvPAJIq1G6Q",
        "colab": {
          "base_uri": "https://localhost:8080/"
        },
        "outputId": "6b08a47f-29db-4e36-9123-c9e2df805a49"
      },
      "source": [
        "print(\"Comienzo\")\n",
        "for i in [\"Alba\", \"Benito\", 27]:\n",
        "    print(f\"Hola. Ahora i vale {i}\")\n",
        "print(\"Final\")"
      ],
      "execution_count": null,
      "outputs": [
        {
          "output_type": "stream",
          "name": "stdout",
          "text": [
            "Comienzo\n",
            "Hola. Ahora i vale Alba\n",
            "Hola. Ahora i vale Benito\n",
            "Hola. Ahora i vale 27\n",
            "Final\n"
          ]
        }
      ]
    },
    {
      "cell_type": "code",
      "metadata": {
        "id": "O_cL3a6K1G-E",
        "colab": {
          "base_uri": "https://localhost:8080/"
        },
        "outputId": "c01e0885-9122-4ac5-9c7c-bd37d0e0dc2e"
      },
      "source": [
        "print(\"Comienzo\")\n",
        "for numero in  [0, 1, 2, 3]:\n",
        "    print(f\"{numero} * {numero} = {numero *numero}\")\n",
        "print(\"Final\")"
      ],
      "execution_count": null,
      "outputs": [
        {
          "output_type": "stream",
          "name": "stdout",
          "text": [
            "Comienzo\n",
            "0 * 0 = 0\n",
            "1 * 1 = 1\n",
            "2 * 2 = 4\n",
            "3 * 3 = 9\n",
            "Final\n"
          ]
        }
      ]
    },
    {
      "cell_type": "code",
      "metadata": {
        "id": "Z9RmEBoV1HCC",
        "colab": {
          "base_uri": "https://localhost:8080/"
        },
        "outputId": "0fe40b42-997b-472a-cfa7-6fb3aa56dd35"
      },
      "source": [
        "i = 10\n",
        "print(f\"El bucle no ha comenzado. Ahora i vale {i}\")\n",
        "\n",
        "for i in [0, 1, 2, 3, 4]:\n",
        "    print(f\"{i} * {i} = {i ** 2}\")\n",
        "\n",
        "print(f\"El bucle ha terminado. Ahora i vale {i}\")"
      ],
      "execution_count": null,
      "outputs": [
        {
          "output_type": "stream",
          "name": "stdout",
          "text": [
            "El bucle no ha comenzado. Ahora i vale 10\n",
            "0 * 0 = 0\n",
            "1 * 1 = 1\n",
            "2 * 2 = 4\n",
            "3 * 3 = 9\n",
            "4 * 4 = 16\n",
            "El bucle ha terminado. Ahora i vale 4\n"
          ]
        }
      ]
    },
    {
      "cell_type": "code",
      "metadata": {
        "id": "CPRgYQ1G1HFs"
      },
      "source": [
        "for i in [0, 1, 2]:\n",
        "    print(f\"{i} * {i} = {i * i}\")\n",
        "\n",
        "\n",
        "for i in [0, 1, 2, 3]:\n",
        "    print(f\"{i} * {i} * {i} = {i * i * i}\")"
      ],
      "execution_count": null,
      "outputs": []
    },
    {
      "cell_type": "code",
      "metadata": {
        "id": "PbIIQtbv1HJZ",
        "colab": {
          "base_uri": "https://localhost:8080/"
        },
        "outputId": "032e9c07-46e4-4c2f-d172-4c3f489dfc3e"
      },
      "source": [
        "for letra in \"AMIGO\":\n",
        "    print(f\"Dame una {letra}\")\n",
        "print(\"¡AMIGO!\")"
      ],
      "execution_count": null,
      "outputs": [
        {
          "output_type": "stream",
          "name": "stdout",
          "text": [
            "Dame una A\n",
            "Dame una M\n",
            "Dame una I\n",
            "Dame una G\n",
            "Dame una O\n",
            "¡AMIGO!\n"
          ]
        }
      ]
    },
    {
      "cell_type": "markdown",
      "metadata": {
        "id": "LdUi28chF79u"
      },
      "source": [
        "En los ejemplos anteriores se ha utilizado una lista para facilitar la comprensión del funcionamiento de los bucles pero, si es posible hacerlo, se recomienda utilizar tipos range(), entre otros motivos porque durante la ejecución del programa ocupan menos memoria en el ordenador."
      ]
    },
    {
      "cell_type": "code",
      "metadata": {
        "colab": {
          "base_uri": "https://localhost:8080/"
        },
        "id": "E5DXHFWH1HNF",
        "outputId": "d65a5381-5527-405b-d1ee-8a376ae999c7"
      },
      "source": [
        "n=int (input(\"DAME UN NUMERO \"))\n",
        "\n",
        "for i in range(n-1,0,-1):\n",
        "    print(i)\n",
        "print()\n",
        "print(\"Final\")"
      ],
      "execution_count": null,
      "outputs": [
        {
          "output_type": "stream",
          "name": "stdout",
          "text": [
            "DAME UN NUMERO 12\n",
            "11\n",
            "10\n",
            "9\n",
            "8\n",
            "7\n",
            "6\n",
            "5\n",
            "4\n",
            "3\n",
            "2\n",
            "1\n",
            "\n",
            "Final\n"
          ]
        }
      ]
    },
    {
      "cell_type": "code",
      "metadata": {
        "id": "edm1ub-j1HRE",
        "colab": {
          "base_uri": "https://localhost:8080/"
        },
        "outputId": "99c6e114-616e-4934-d15d-8da6b2eb2a13"
      },
      "source": [
        "print(\"Comienzo\")\n",
        "for i in range(10):\n",
        "    print(\"Hola \", end=\"\")\n",
        "print()\n",
        "print(\"Final\")"
      ],
      "execution_count": null,
      "outputs": [
        {
          "output_type": "stream",
          "name": "stdout",
          "text": [
            "Comienzo\n",
            "Hola Hola Hola Hola Hola Hola Hola Hola Hola Hola \n",
            "Final\n"
          ]
        }
      ]
    },
    {
      "cell_type": "code",
      "metadata": {
        "id": "EgacM53R1HU_",
        "colab": {
          "base_uri": "https://localhost:8080/"
        },
        "outputId": "c596b6ec-8a6d-4b83-b242-b1d2f13264e0"
      },
      "source": [
        "veces = int(input(\"¿Cuántas veces quiere que le salude? \"))\n",
        "for i in range(veces):\n",
        "    print(\"Hola \", end=\"\")\n",
        "print()\n",
        "print(\"Adiós\")"
      ],
      "execution_count": null,
      "outputs": [
        {
          "output_type": "stream",
          "name": "stdout",
          "text": [
            "¿Cuántas veces quiere que le salude? 4\n",
            "Hola Hola Hola Hola \n",
            "Adiós\n"
          ]
        }
      ]
    },
    {
      "cell_type": "code",
      "source": [
        "\n",
        "for i,letra in enumerate([12,23,45,67,\"hola\"]):\n",
        "    print(f\"{i} {letra} \")\n",
        "print()\n",
        "print(\"Final\")"
      ],
      "metadata": {
        "id": "YW-FtHvyEQp4"
      },
      "execution_count": null,
      "outputs": []
    },
    {
      "cell_type": "code",
      "source": [
        "x= {\"Nombre\":\"PEDRO\",\"Appat\":\"Nunez \",\"ApMat\":\"YEPIZ\"}\n",
        "for i,letra in enumerate(x):\n",
        "    print(f\"{i} {letra} \")\n",
        "print()\n",
        "print(\"Final\")"
      ],
      "metadata": {
        "colab": {
          "base_uri": "https://localhost:8080/"
        },
        "id": "WEOpnY1KNpXN",
        "outputId": "950dd309-2293-4ffa-d732-7e0012b2b4c2"
      },
      "execution_count": null,
      "outputs": [
        {
          "output_type": "stream",
          "name": "stdout",
          "text": [
            "0 Nombre \n",
            "1 Appat \n",
            "2 ApMat \n",
            "\n",
            "Final\n"
          ]
        }
      ]
    },
    {
      "cell_type": "markdown",
      "metadata": {
        "id": "AdLi3ypfGixn"
      },
      "source": [
        "### **Testigo:**\n",
        "\n",
        "**Se entiende por testigo una variable que indica simplemente si una condición se ha cumplido o no. Es un caso particular de contador, pero se suele hacer con variables lógicas en vez de numéricas (en este caso, la variable que hace de testigo es la variable encontrado):**\n",
        "\n",
        "Ejemplo de testigo"
      ]
    },
    {
      "cell_type": "code",
      "metadata": {
        "id": "CCQYqsRA1HYw",
        "colab": {
          "base_uri": "https://localhost:8080/"
        },
        "outputId": "9dc5025a-51ba-4a97-849f-428f0a5f59e2"
      },
      "source": [
        "print(\"Comienzo\")\n",
        "encontrado = False\n",
        "for i in range(1, 6):\n",
        "    if i % 2 == 0:\n",
        "        encontrado = True\n",
        "if encontrado:\n",
        "    print(f\"Entre 1 y 5 hay al menos un múltiplo de 2.\")\n",
        "else:\n",
        "    print(f\"Entre 1 y 5 no hay ningún múltiplo de 2.\")"
      ],
      "execution_count": null,
      "outputs": [
        {
          "output_type": "stream",
          "name": "stdout",
          "text": [
            "Comienzo\n",
            "Entre 1 y 5 hay al menos un múltiplo de 2.\n"
          ]
        }
      ]
    },
    {
      "cell_type": "markdown",
      "metadata": {
        "id": "JwPEIGcyGsxz"
      },
      "source": [
        "### **Contador:** \n",
        "**Se entiende por contador una variable que lleva la cuenta del número de veces que se ha cumplido una condición. El ejemplo siguiente es un ejemplo de programa con contador (en este caso, la variable que hace de contador es la variable cuenta)** "
      ]
    },
    {
      "cell_type": "code",
      "metadata": {
        "colab": {
          "base_uri": "https://localhost:8080/"
        },
        "id": "UaRzebjv1Hci",
        "outputId": "f59a3a51-91a6-4cfa-87b0-38e0aac67302"
      },
      "source": [
        "print(\"Comienzo\")\n",
        "cuenta = 0\n",
        "for i in range(1, 9):\n",
        "    if i % 2 == 0:\n",
        "        cuenta = cuenta + 1\n",
        "print(f\"Desde 1 hasta 9 hay {cuenta} múltiplos de 2\")"
      ],
      "execution_count": null,
      "outputs": [
        {
          "output_type": "stream",
          "name": "stdout",
          "text": [
            "Comienzo\n",
            "Desde 1 hasta 9 hay 4 múltiplos de 2\n"
          ]
        }
      ]
    },
    {
      "cell_type": "markdown",
      "metadata": {
        "id": "EcYs4XeHG0aH"
      },
      "source": [
        "### **Acumulador:** \n",
        "**Se entiende por acumulador una variable que acumula el resultado de una operación. El ejemplo siguiente es un ejemplo de programa con acumulador (en este caso, la variable que hace de acumulador es la variable suma):**"
      ]
    },
    {
      "cell_type": "code",
      "metadata": {
        "colab": {
          "base_uri": "https://localhost:8080/"
        },
        "id": "-srut41X1Hfy",
        "outputId": "b59160c9-fdaf-432b-fa42-98a93747a476"
      },
      "source": [
        "print(\"Comienzo\")\n",
        "suma = 0\n",
        "j=0\n",
        "for i in range(3,23,3):\n",
        "    suma = suma + i\n",
        "    j=j+1\n",
        "    print (f\" {j}-> {i}, \",)\n",
        "print()    \n",
        "print(f\"La suma de los números de los {j} numeros es {suma}\")"
      ],
      "execution_count": null,
      "outputs": [
        {
          "output_type": "stream",
          "name": "stdout",
          "text": [
            "Comienzo\n",
            " 1-> 3, \n",
            " 2-> 6, \n",
            " 3-> 9, \n",
            " 4-> 12, \n",
            " 5-> 15, \n",
            " 6-> 18, \n",
            " 7-> 21, \n",
            "\n",
            "La suma de los números de los 7 numeros es 84\n"
          ]
        }
      ]
    },
    {
      "cell_type": "code",
      "source": [
        "# EJEMPLO DE CONTINUE\n",
        "for i in range(1, 11):\n",
        "    if i == 5:\n",
        "        continue\n",
        "    print(i)\n"
      ],
      "metadata": {
        "id": "VWWQerdWGLHg"
      },
      "execution_count": null,
      "outputs": []
    },
    {
      "cell_type": "code",
      "source": [
        "# EJEMPLOC ON BREAK\n",
        "for i in range(1, 11):\n",
        "    if i == 5:\n",
        "        break\n",
        "    print(i)\n"
      ],
      "metadata": {
        "id": "kfgeyI7RGSp3"
      },
      "execution_count": null,
      "outputs": []
    },
    {
      "cell_type": "code",
      "source": [
        "# EJEMPLO CON ELSE\n",
        "\n",
        "numbers = [1, 2, 3, 4, 5]\n",
        "\n",
        "for i in numbers:\n",
        "    if i == 6:\n",
        "        print(\"El número 6 está en la lista.\")\n",
        "        break\n",
        "else:\n",
        "    print(\"El número 6 no está en la lista.\")\n"
      ],
      "metadata": {
        "colab": {
          "base_uri": "https://localhost:8080/"
        },
        "id": "DJFumcgyGcj0",
        "outputId": "8c3a04dd-0cdc-4a0a-9312-86e79e0e4309"
      },
      "execution_count": null,
      "outputs": [
        {
          "output_type": "stream",
          "name": "stdout",
          "text": [
            "El número 6 no está en la lista.\n"
          ]
        }
      ]
    },
    {
      "cell_type": "markdown",
      "source": [
        "\n",
        "\n",
        "---\n",
        "\n"
      ],
      "metadata": {
        "id": "hGMbG67aHieg"
      }
    },
    {
      "cell_type": "markdown",
      "source": [],
      "metadata": {
        "id": "0lxVwsB5HsFY"
      }
    }
  ]
}