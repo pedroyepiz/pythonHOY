{
  "nbformat": 4,
  "nbformat_minor": 0,
  "metadata": {
    "colab": {
      "provenance": [],
      "authorship_tag": "ABX9TyMXIX+HIdnDC8RMQf37bb32",
      "include_colab_link": true
    },
    "kernelspec": {
      "name": "python3",
      "display_name": "Python 3"
    },
    "language_info": {
      "name": "python"
    }
  },
  "cells": [
    {
      "cell_type": "markdown",
      "metadata": {
        "id": "view-in-github",
        "colab_type": "text"
      },
      "source": [
        "<a href=\"https://colab.research.google.com/github/pedroyepiz/pythonHOY/blob/main/6_FUNCIONES_INTEGRADAS_EN_PYTHON.ipynb\" target=\"_parent\"><img src=\"https://colab.research.google.com/assets/colab-badge.svg\" alt=\"Open In Colab\"/></a>"
      ]
    },
    {
      "cell_type": "markdown",
      "source": [
        "# **6.- FUNCIONES INTEGRADAS**\n",
        "Una función integrada, también conocida como función incorporada o función nativa, es una función que viene predefinida en el lenguaje de programación Python y que se puede utilizar sin necesidad de definirla previamente.\n",
        "\n",
        "Python tiene muchas funciones integradas, que proporcionan una amplia gama de funcionalidades, desde operaciones matemáticas hasta el manejo de archivos y cadenas de texto. Estas funciones están disponibles para el usuario sin necesidad de importar ningún módulo adicional y se pueden utilizar directamente en el código.\n",
        " "
      ],
      "metadata": {
        "id": "yiMmy02RsVAx"
      }
    },
    {
      "cell_type": "markdown",
      "source": [
        "\n",
        "**Algunos ejemplos de funciones integradas en Python son:**\n",
        "\n",
        "\n",
        "|**Función** | **Descripción** | **Ejemplo** |\n",
        "| ------- | ----------- | ------- |\n",
        "| `print()` | Imprime un mensaje en la consola | `print(\"Hola, mundo!\")` |\n",
        "| `input()` | Lee una entrada desde el usuario | `nombre = input(\"Ingresa tu nombre: \")` |\n",
        "| `len()` | Devuelve la longitud de un objeto | `longitud = len(\"Python\")` |\n",
        "| `type()` | Devuelve el tipo de un objeto | `tipo = type(3.14)` |\n",
        "| `str()` | Convierte un objeto a una cadena | `cadena = str(42)` |\n",
        "| `int()` | Convierte una cadena o número a un entero | `entero = int(\"42\")` |\n",
        "| `float()` | Convierte una cadena o número a un número de punto flotante | `flotante = float(\"3.14\")` |\n",
        "| `list()` | Crea una lista vacía o convierte un objeto iterable a una lista | `lista_vacia = list()`, `lista = list(range(5))` |\n",
        "| `dict()` | Crea un diccionario vacío o convierte un objeto iterable a un diccionario | `diccionario_vacio = dict()`, `diccionario = dict(zip([\"a\", \"b\", \"c\"], [1, 2, 3]))` |\n",
        "| `tuple()` | Crea una tupla vacía o convierte un objeto iterable a una tupla | `tupla_vacia = tuple()`, `tupla = tuple(range(5))` |\n",
        "| `set()` | Crea un conjunto vacío o convierte un objeto iterable a un conjunto | `conjunto_vacio = set()`, `conjunto = set([1, 2, 3])` |\n",
        "| `sorted()` | Devuelve una lista ordenada a partir de un objeto iterable o una cadena | `ordenada = sorted([3, 1, 2])` |\n",
        "| `max()` | Devuelve el valor máximo de un objeto iterable o el máximo de dos o más argumentos | `maximo = max([3, 1, 2])` |\n",
        "| `min()` | Devuelve el valor mínimo de un objeto iterable o el mínimo de dos o más argumentos | `minimo = min([3, 1, 2])` |\n",
        "| `sum()` | Devuelve la suma de los elementos de un objeto iterable | `suma = sum([1, 2, 3])` |\n",
        "| `range()` | Devuelve un objeto iterable de una secuencia de números | `rango = range(5)` |\n",
        "| `enumerate()` | Devuelve una tupla de un índice y un elemento para cada elemento de un objeto iterable | `enumerado = enumerate([\"a\", \"b\", \"c\"])` |\n",
        "| `zip()` | Devuelve una tupla de elementos correspondientes de cada uno de los objetos iterables | `emparejado = zip([\"a\", \"b\", \"c\"], [1, 2, 3])` |\n",
        "| `map()` | Aplica una función a cada elemento de un objeto iterable | `cuadrados = map(lambda x: x**2, [1, 2, 3])` |\n",
        "| `filter()` | Devuelve una lista de los elementos de un objeto iterable para los cuales una función devuelve `True` | `pares = filter(lambda x: x%2 == 0, [1, 2, 3, 4, 5])|\n",
        "| `round()` | Redondea un número a un número especificado de decimales. | `round(3.14159, 2)` retorna `3.14` |\n",
        "| `pow()` | Eleva un número a una potencia especificada. | `pow(2, 3)` retorna `8` |\n",
        "| `type()` | Retorna el tipo de un objeto. | `type('Hola')` retorna `<class 'str'>` |\n",
        "| `dir()` | Retorna una lista de|       |\n",
        "| `help()` | Muestra la documentación de ayuda para un objeto o función. | |\n",
        "| `id()` | imprime un número único que identifica al objeto entero |  |\n"
      ],
      "metadata": {
        "id": "fq7pUDF_qUbe"
      }
    },
    {
      "cell_type": "code",
      "execution_count": null,
      "metadata": {
        "id": "1elN_f6Mr780"
      },
      "outputs": [],
      "source": [
        "help(min)"
      ]
    },
    {
      "cell_type": "code",
      "source": [
        "dir(str)"
      ],
      "metadata": {
        "id": "KSL1gRwhE1v4"
      },
      "execution_count": null,
      "outputs": []
    },
    {
      "cell_type": "code",
      "source": [
        "dir(pow)"
      ],
      "metadata": {
        "id": "C-HEl0yxzJ7z"
      },
      "execution_count": null,
      "outputs": []
    },
    {
      "cell_type": "markdown",
      "source": [
        "## **UN EJEMPLO DE FUNCIONES INTEGRADAS**"
      ],
      "metadata": {
        "id": "j59heYEtoIR3"
      }
    },
    {
      "cell_type": "code",
      "source": [
        "# Definimos una lista de números\n",
        "numeros = [4, 8, 15, 16, 23, 42]\n",
        "\n",
        "# Imprimimos la lista\n",
        "print(\"La lista de números es:\", numeros)\n",
        "\n",
        "# Calculamos la suma de los números\n",
        "suma = sum(numeros)\n",
        "\n",
        "# Calculamos el máximo y mínimo de los números\n",
        "maximo = max(numeros)\n",
        "minimo = min(numeros)\n",
        "\n",
        "# Obtenemos el tipo de la lista\n",
        "tipo = type(numeros)\n",
        "\n",
        "# Imprimimos los resultados\n",
        "print(\"La suma de los números es:\", suma)\n",
        "print(\"El máximo de los números es:\", maximo)\n",
        "print(\"El mínimo de los números es:\", minimo)\n",
        "print(\"El tipo de la lista es:\", tipo)\n",
        "\n",
        "# Creamos una lista de números pares con range()\n",
        "pares = list(range(2, 11, 2))\n",
        "\n",
        "# Imprimimos la lista de números pares\n",
        "print(\"La lista de números pares es:\", pares)\n",
        "\n",
        "# Obtenemos la longitud de la lista de números pares\n",
        "longitud = len(pares)\n",
        "\n",
        "# Imprimimos la longitud de la lista de números pares\n",
        "print(\"La longitud de la lista de números pares es:\", longitud)\n",
        "\n",
        "# Convertimos un número en una cadena de texto\n",
        "numero = 42\n",
        "cadena = str(numero)\n",
        "\n",
        "# Imprimimos el número convertido en cadena\n",
        "print(\"El número 42 como cadena de texto es:\", cadena)\n"
      ],
      "metadata": {
        "id": "EjNfr4GboNZv",
        "outputId": "e2510426-54d1-4025-a37d-09b65b20b206",
        "colab": {
          "base_uri": "https://localhost:8080/"
        }
      },
      "execution_count": null,
      "outputs": [
        {
          "output_type": "stream",
          "name": "stdout",
          "text": [
            "La lista de números es: [4, 8, 15, 16, 23, 42]\n",
            "La suma de los números es: 108\n",
            "El máximo de los números es: 42\n",
            "El mínimo de los números es: 4\n",
            "El tipo de la lista es: <class 'list'>\n",
            "La lista de números pares es: [2, 4, 6, 8, 10]\n",
            "La longitud de la lista de números pares es: 5\n",
            "El número 42 como cadena de texto es: 42\n"
          ]
        }
      ]
    },
    {
      "cell_type": "markdown",
      "source": [
        "## **range**\n",
        "`\"range\"` en Python es una función integrada que se utiliza para generar una secuencia de números. La secuencia generada por \"`range\"` es un objeto iterable que puede ser utilizado en ciclos `\"for\"` u otras funciones que requieren una secuencia de números.\n",
        "\n",
        "La función `\"range\" `**tiene tres argumentos: \"start\", \"stop\" y \"step\".** \n",
        "* El argumento **\"start\"** es opcional y especifica el valor inicial de la secuencia. Por defecto, su valor es 0. \n",
        "* El argumento **\"stop\"** es obligatorio y especifica el valor final de la secuencia. \n",
        "* El argumento **\"step\"** también es opcional y especifica el tamaño del salto entre los números de la secuencia. Por defecto, su valor es 1.\n",
        "\n",
        "**Por ejemplo:**\n",
        "\n",
        "` \"range(5)\"` generará la secuencia de números [0, 1, 2, 3, 4]\n",
        "\n",
        " `\"range(1, 6)\"` generará la secuencia [1, 2, 3, 4, 5].\n",
        "\n",
        " `\"range(0, 10, 2)\"` generará la secuencia [0, 2, 4, 6, 8].\n",
        "\n",
        " > También es posible especificar un tamaño de salto diferente\n",
        "\n",
        "\n",
        "\n"
      ],
      "metadata": {
        "id": "4zM7Q12MBVW9"
      }
    },
    {
      "cell_type": "code",
      "source": [
        "# range(stop)\n",
        "print(\"Ejemplo 1:\")\n",
        "for i in range(5):\n",
        "    print(i)\n",
        "print()\n",
        "\n",
        "# range(start, stop)\n",
        "print(\"Ejemplo 2:\")\n",
        "for i in range(2, 7):\n",
        "    print(i)\n",
        "print()\n",
        "\n",
        "# range(start, stop, step)\n",
        "print(\"Ejemplo 3:\")\n",
        "for i in range(1, 10, 2):\n",
        "    print(i)\n"
      ],
      "metadata": {
        "colab": {
          "base_uri": "https://localhost:8080/"
        },
        "id": "3_x5G4YKCrHg",
        "outputId": "9d45d05a-8add-4634-c678-ee3f63612f83"
      },
      "execution_count": null,
      "outputs": [
        {
          "output_type": "stream",
          "name": "stdout",
          "text": [
            "Ejemplo 1:\n",
            "0\n",
            "1\n",
            "2\n",
            "3\n",
            "4\n",
            "\n",
            "Ejemplo 2:\n",
            "2\n",
            "3\n",
            "4\n",
            "5\n",
            "6\n",
            "\n",
            "Ejemplo 3:\n",
            "1\n",
            "3\n",
            "5\n",
            "7\n",
            "9\n"
          ]
        }
      ]
    },
    {
      "cell_type": "code",
      "source": [
        "num = 23\n",
        "\n"
      ],
      "metadata": {
        "id": "ebCrx61FQtGN"
      },
      "execution_count": null,
      "outputs": []
    },
    {
      "cell_type": "code",
      "source": [
        "x=list(range(25,2,-1))\n",
        "print (x)\n",
        "for i in x:\n",
        "    print (i)"
      ],
      "metadata": {
        "colab": {
          "base_uri": "https://localhost:8080/"
        },
        "id": "mu7YErEISGzM",
        "outputId": "b90c2886-ed55-48a5-fc67-806a91f56426"
      },
      "execution_count": null,
      "outputs": [
        {
          "output_type": "stream",
          "name": "stdout",
          "text": [
            "[25, 24, 23, 22, 21, 20, 19, 18, 17, 16, 15, 14, 13, 12, 11, 10, 9, 8, 7, 6, 5, 4, 3]\n",
            "25\n",
            "24\n",
            "23\n",
            "22\n",
            "21\n",
            "20\n",
            "19\n",
            "18\n",
            "17\n",
            "16\n",
            "15\n",
            "14\n",
            "13\n",
            "12\n",
            "11\n",
            "10\n",
            "9\n",
            "8\n",
            "7\n",
            "6\n",
            "5\n",
            "4\n",
            "3\n"
          ]
        }
      ]
    }
  ]
}