{
  "nbformat": 4,
  "nbformat_minor": 0,
  "metadata": {
    "colab": {
      "provenance": [],
      "authorship_tag": "ABX9TyM4otEOlLh6VjFoewOTIH+x",
      "include_colab_link": true
    },
    "kernelspec": {
      "name": "python3",
      "display_name": "Python 3"
    },
    "language_info": {
      "name": "python"
    }
  },
  "cells": [
    {
      "cell_type": "markdown",
      "metadata": {
        "id": "view-in-github",
        "colab_type": "text"
      },
      "source": [
        "<a href=\"https://colab.research.google.com/github/pedroyepiz/pythonHOY/blob/main/14_DICCIONARIOS_EN_PYTHON.ipynb\" target=\"_parent\"><img src=\"https://colab.research.google.com/assets/colab-badge.svg\" alt=\"Open In Colab\"/></a>"
      ]
    },
    {
      "cell_type": "markdown",
      "source": [
        "# **¿Qué es un Diccionario de datos?**\n",
        "Un Diccionario es una estructura de datos y un tipo de dato en Python con características especiales que nos permite almacenar cualquier tipo de valor como enteros, cadenas, listas e incluso otras funciones. Estos diccionarios nos permiten además identificar cada elemento por una clave (Key)."
      ],
      "metadata": {
        "id": "fj2iOv13qHxA"
      }
    },
    {
      "cell_type": "markdown",
      "source": [
        "Para definir un diccionario, se encierra el listado de valores entre llaves. Las parejas de clave y valor se separan con comas, y la clave y el valor se separan con dos puntos."
      ],
      "metadata": {
        "id": "gtL0P6tLqHkE"
      }
    },
    {
      "cell_type": "code",
      "source": [
        "diccionario = {\"nombre\" : \"Carlos\", \"edad\" : 22, \"cursos\": [\"Python\",\"Estructurada\",\"Calculo\",\"EyM\"] }\n",
        "print (diccionario)"
      ],
      "metadata": {
        "colab": {
          "base_uri": "https://localhost:8080/"
        },
        "id": "T3ykgfuqqHH_",
        "outputId": "6833d110-3561-4be3-9cbd-f394382ef418"
      },
      "execution_count": null,
      "outputs": [
        {
          "output_type": "stream",
          "name": "stdout",
          "text": [
            "{'nombre': 'Carlos', 'edad': 22, 'cursos': ['Python', 'Estructurada', 'Calculo', 'EyM']}\n"
          ]
        }
      ]
    },
    {
      "cell_type": "markdown",
      "source": [
        "Podemos acceder al elemento de un Diccionario mediante la clave de este elemento, como veremos a continuación:"
      ],
      "metadata": {
        "id": "NPzfM95iqpbT"
      }
    },
    {
      "cell_type": "code",
      "execution_count": null,
      "metadata": {
        "colab": {
          "base_uri": "https://localhost:8080/"
        },
        "id": "JHtSrzv9qD5t",
        "outputId": "d9cfbb0f-e7bc-4535-8eef-c50347f0a83c"
      },
      "outputs": [
        {
          "output_type": "stream",
          "name": "stdout",
          "text": [
            "Carlos\n",
            "22\n",
            "['Python', 'Estructurada', 'Calculo', 'EyM']\n"
          ]
        }
      ],
      "source": [
        "diccionario = {\"nombre\" : \"Carlos\", \"edad\" : 22, \"cursos\": [\"Python\",\"Estructurada\",\"Calculo\",\"EyM\"] }\n",
        "\n",
        "print (diccionario[\"nombre\"])\n",
        "print (diccionario[\"edad\"])\n",
        "print (diccionario[\"cursos\"])"
      ]
    },
    {
      "cell_type": "markdown",
      "source": [
        "También es posible insertar una lista dentro de un diccionario. Para acceder a cada uno de los cursos usamos los índices:"
      ],
      "metadata": {
        "id": "wxkaGyHhrBCw"
      }
    },
    {
      "cell_type": "code",
      "source": [
        "diccionario = {\"nombre\" : \"Carlos\", \"edad\" : 22, \"cursos\": [\"Python\",\"Estructurada\",\"Calculo\",\"EyM\"] }\n",
        "print (diccionario[\"cursos\"][0])\n",
        "print (diccionario[\"cursos\"][1])\n",
        "print (diccionario[\"cursos\"][2])\n",
        "print (diccionario[\"cursos\"][3])"
      ],
      "metadata": {
        "colab": {
          "base_uri": "https://localhost:8080/"
        },
        "id": "uHHcaM-krB-Y",
        "outputId": "3e6b7c96-bb5a-4e38-dce3-0fc407898e82"
      },
      "execution_count": null,
      "outputs": [
        {
          "output_type": "stream",
          "name": "stdout",
          "text": [
            "Python\n",
            "Estructurada\n",
            "Calculo\n",
            "EyM\n"
          ]
        }
      ]
    },
    {
      "cell_type": "markdown",
      "source": [
        "Para recorrer todo el Diccionario, podemos hacer uso de la estructura for:"
      ],
      "metadata": {
        "id": "XNCLPCN_rUra"
      }
    },
    {
      "cell_type": "code",
      "source": [
        "for key in diccionario:\n",
        "  print (key, \":\", diccionario[key])"
      ],
      "metadata": {
        "colab": {
          "base_uri": "https://localhost:8080/"
        },
        "id": "znnbcvacrZIm",
        "outputId": "a1096f2d-afd1-430d-baf8-5d56b6c19731"
      },
      "execution_count": null,
      "outputs": [
        {
          "output_type": "stream",
          "name": "stdout",
          "text": [
            "nombre : Carlos\n",
            "edad : 22\n",
            "cursos : ['Python', 'Estructurada', 'Calculo', 'EyM']\n"
          ]
        }
      ]
    },
    {
      "cell_type": "code",
      "source": [
        "for i,j in enumerate(diccionario):\n",
        "  print (i, \":\", j)"
      ],
      "metadata": {
        "colab": {
          "base_uri": "https://localhost:8080/"
        },
        "id": "fVlH0h0CZK2L",
        "outputId": "21ea5a38-3086-477e-8ee6-eb6193707bfe"
      },
      "execution_count": null,
      "outputs": [
        {
          "output_type": "stream",
          "name": "stdout",
          "text": [
            "0 : nombre\n",
            "1 : edad\n",
            "2 : cursos\n"
          ]
        }
      ]
    },
    {
      "cell_type": "code",
      "source": [
        "for key in diccionario:\n",
        "  print (key)"
      ],
      "metadata": {
        "colab": {
          "base_uri": "https://localhost:8080/"
        },
        "id": "R_Ct4AXgel9r",
        "outputId": "291b676a-7e29-4813-bc25-cc6766b01a54"
      },
      "execution_count": null,
      "outputs": [
        {
          "output_type": "stream",
          "name": "stdout",
          "text": [
            "nombre\n",
            "edad\n",
            "cursos\n"
          ]
        }
      ]
    },
    {
      "cell_type": "markdown",
      "source": [
        "# **Métodos de los Diccionarios**\n",
        "**dict ()**\n",
        "\n",
        "Recibe como parámetro una representación de un diccionario y si es factible, devuelve un diccionario de datos."
      ],
      "metadata": {
        "id": "P0jz-6MMsi6Z"
      }
    },
    {
      "cell_type": "code",
      "source": [
        "dic =  dict(nombre=\"Goku\", apellido=\"Nuñez Yepiz\", edad=25)\n",
        "print (dic)"
      ],
      "metadata": {
        "colab": {
          "base_uri": "https://localhost:8080/"
        },
        "id": "Ssr3TymPskHb",
        "outputId": "18673aed-d829-4b88-fc33-6c971d2ebe36"
      },
      "execution_count": null,
      "outputs": [
        {
          "output_type": "stream",
          "name": "stdout",
          "text": [
            "{'nombre': 'Goku', 'apellido': 'Nuñez Yepiz', 'edad': 25}\n"
          ]
        }
      ]
    },
    {
      "cell_type": "code",
      "source": [
        "diccionario =  dict(nombre=\"Goku\", apellido=\"Nuñez Yepiz\", edad=25)\n",
        "print (diccionario)\n",
        "for key in diccionario:\n",
        "  print (key, \":\", diccionario[key])"
      ],
      "metadata": {
        "colab": {
          "base_uri": "https://localhost:8080/"
        },
        "id": "Ivatf47JfUmA",
        "outputId": "41b81d99-b42f-4f20-d4f0-7590e5ff6469"
      },
      "execution_count": null,
      "outputs": [
        {
          "output_type": "stream",
          "name": "stdout",
          "text": [
            "{'nombre': 'Goku', 'apellido': 'Nuñez Yepiz', 'edad': 25}\n",
            "nombre : Goku\n",
            "apellido : Nuñez Yepiz\n",
            "edad : 25\n"
          ]
        }
      ]
    },
    {
      "cell_type": "markdown",
      "source": [
        "**zip()**\n",
        "\n",
        "Recibe como parámetro dos elementos iterables, ya sea una cadena, una lista o una tupla. Ambos parámetros deben tener el mismo número de elementos. Se devolverá un diccionario relacionando el elemento i-esimo de cada uno de los iterables."
      ],
      "metadata": {
        "id": "LodAkbHztafK"
      }
    },
    {
      "cell_type": "code",
      "source": [
        "dic = dict(zip([1,2,3,4],[\"uno\",\"dos\",\"tres\",[6,7,8]]))\n",
        "print (dic)"
      ],
      "metadata": {
        "colab": {
          "base_uri": "https://localhost:8080/"
        },
        "id": "krK6s9PVte4o",
        "outputId": "a1177810-92ba-4246-a8b8-5315726ff924"
      },
      "execution_count": null,
      "outputs": [
        {
          "output_type": "stream",
          "name": "stdout",
          "text": [
            "{1: 'uno', 2: 'dos', 3: 'tres', 4: [6, 7, 8]}\n"
          ]
        }
      ]
    },
    {
      "cell_type": "markdown",
      "source": [
        "**items()**\n",
        "\n",
        "Devuelve una lista de tuplas, cada tupla se compone de dos elementos: el primero será la clave y el segundo, su valor."
      ],
      "metadata": {
        "id": "V3Y4oJsctuUe"
      }
    },
    {
      "cell_type": "code",
      "source": [
        "\n",
        "items = dic.items()\n",
        "print (dic)\n",
        "print (items)"
      ],
      "metadata": {
        "colab": {
          "base_uri": "https://localhost:8080/"
        },
        "id": "ZC7v_QxDtwJx",
        "outputId": "679bad4c-6113-4c73-eedd-88ff50223ee3"
      },
      "execution_count": null,
      "outputs": [
        {
          "output_type": "stream",
          "name": "stdout",
          "text": [
            "{1: 'uno', 2: 'dos', 3: 'tres', 4: [6, 7, 8]}\n",
            "dict_items([(1, 'uno'), (2, 'dos'), (3, 'tres'), (4, [6, 7, 8])])\n"
          ]
        }
      ]
    },
    {
      "cell_type": "markdown",
      "source": [
        "**keys(**)\n",
        "\n",
        "Retorna una lista de elementos, los cuales serán las claves de nuestro diccionario."
      ],
      "metadata": {
        "id": "Q8SW-jTfuJSp"
      }
    },
    {
      "cell_type": "code",
      "source": [
        "#dic =   {'a': 1, 'b': 2, 'c': 3, 'd': 4}\n",
        "keys= dic.keys()\n",
        "print (dic)\n",
        "print (keys)\n",
        "keys = list(keys) \n",
        "print (keys)"
      ],
      "metadata": {
        "colab": {
          "base_uri": "https://localhost:8080/"
        },
        "id": "0_RlCSqNuLIp",
        "outputId": "2e28f814-269d-464a-fa6a-b180a5e64a02"
      },
      "execution_count": null,
      "outputs": [
        {
          "output_type": "stream",
          "name": "stdout",
          "text": [
            "{1: 'uno', 2: 'dos', 3: 'tres', 4: [6, 7, 8]}\n",
            "dict_keys([1, 2, 3, 4])\n",
            "[1, 2, 3, 4]\n"
          ]
        }
      ]
    },
    {
      "cell_type": "markdown",
      "source": [
        "**values()**\n",
        "\n",
        "Retorna una lista de elementos, que serán los valores de nuestro diccionario."
      ],
      "metadata": {
        "id": "MjwQiEmDueCg"
      }
    },
    {
      "cell_type": "code",
      "source": [
        "#dic =   {'a': 1, 'b': 2, 'c': 3, 'd': 4}\n",
        "values= dic.values()\n",
        "print (dic)\n",
        "print (values)\n"
      ],
      "metadata": {
        "colab": {
          "base_uri": "https://localhost:8080/"
        },
        "id": "c7zBwGuSufzv",
        "outputId": "ba23c102-63b7-4db5-ec80-0b994b1644de"
      },
      "execution_count": null,
      "outputs": [
        {
          "output_type": "stream",
          "name": "stdout",
          "text": [
            "{1: 'uno', 2: 'dos', 3: 'tres', 4: [6, 7, 8]}\n",
            "dict_values(['uno', 'dos', 'tres', [6, 7, 8]])\n",
            "['uno', 'dos', 'tres', [6, 7, 8]]\n"
          ]
        }
      ]
    },
    {
      "cell_type": "markdown",
      "source": [
        "**clear()**\n",
        "\n",
        "Elimina todos los ítems del diccionario dejándolo vacío."
      ],
      "metadata": {
        "id": "08cKpqKIuuOr"
      }
    },
    {
      "cell_type": "code",
      "source": [
        "dic1 =   {\"a\": 1, \"b\": 2, \"c\": 3, \"d\": 4}\n",
        "dic1.clear()\n",
        "print (dic1)"
      ],
      "metadata": {
        "colab": {
          "base_uri": "https://localhost:8080/"
        },
        "id": "_if2sIPQuwZy",
        "outputId": "bd120008-a5b5-4e75-b35a-7d8d7c235cf6"
      },
      "execution_count": null,
      "outputs": [
        {
          "output_type": "stream",
          "name": "stdout",
          "text": [
            "{}\n"
          ]
        }
      ]
    },
    {
      "cell_type": "markdown",
      "source": [
        "**copy()**\n",
        "\n",
        "Retorna una copia del diccionario original."
      ],
      "metadata": {
        "id": "qKoHYslmvK7Y"
      }
    },
    {
      "cell_type": "code",
      "source": [
        "dic =   {\"a\": 1, \"b\": 2, \"c\": 3, \"d\": 4}\n",
        "dic1 = dic.copy()\n",
        "print (dic1)"
      ],
      "metadata": {
        "colab": {
          "base_uri": "https://localhost:8080/"
        },
        "id": "Ns5so5wNvREE",
        "outputId": "d4b83260-6d7f-4c4a-a973-18bfc62cf9cc"
      },
      "execution_count": null,
      "outputs": [
        {
          "output_type": "stream",
          "name": "stdout",
          "text": [
            "{'a': 1, 'b': 2, 'c': 3, 'd': 4}\n"
          ]
        }
      ]
    },
    {
      "cell_type": "markdown",
      "source": [
        "**fromkeys()**\n",
        "\n",
        "Recibe como parámetros un iterable y un valor, devolviendo un diccionario que contiene como claves los elementos del iterable con el mismo valor ingresado. Si el valor no es ingresado, devolverá none para todas las claves."
      ],
      "metadata": {
        "id": "ouWmfent9bB9"
      }
    },
    {
      "cell_type": "code",
      "source": [
        "dic = dict.fromkeys([\"a\",\"b\",\"c\",\"d\"],1)\n",
        "print (dic)"
      ],
      "metadata": {
        "colab": {
          "base_uri": "https://localhost:8080/"
        },
        "id": "AXLBKTE09qHf",
        "outputId": "f97ddce8-6b1d-4941-dd43-9469a19270a7"
      },
      "execution_count": null,
      "outputs": [
        {
          "output_type": "stream",
          "name": "stdout",
          "text": [
            "{'a': 1, 'b': 1, 'c': 1, 'd': 1}\n"
          ]
        }
      ]
    },
    {
      "cell_type": "markdown",
      "source": [
        "**get()**\n",
        "\n",
        "Recibe como parámetro una clave, devuelve el valor de la clave. Si no lo encuentra, devuelve un objeto none."
      ],
      "metadata": {
        "id": "888hV_St999g"
      }
    },
    {
      "cell_type": "code",
      "source": [
        "dic =   {\"a\": 1, \"b\": 2, \"c\": 3, \"d\": 4}\n",
        "valor = dic.get(\"b\")\n",
        "print(valor)"
      ],
      "metadata": {
        "colab": {
          "base_uri": "https://localhost:8080/"
        },
        "id": "MCNYBJP69_oM",
        "outputId": "750305eb-264d-4109-a0cc-77945c8d1d93"
      },
      "execution_count": null,
      "outputs": [
        {
          "output_type": "stream",
          "name": "stdout",
          "text": [
            "2\n"
          ]
        }
      ]
    },
    {
      "cell_type": "markdown",
      "source": [
        "**pop()**\n",
        "\n",
        "Recibe como parámetro una clave, elimina esta y devuelve su valor. Si no lo encuentra, devuelve error."
      ],
      "metadata": {
        "id": "uh0W0RmI-5eH"
      }
    },
    {
      "cell_type": "code",
      "source": [
        "dic =   {\"a\": 1, \"b\": 2, \"c\": 3, \"d\": 4}\n",
        "valor = dic.pop('b')\n",
        "print (dic)\n",
        "print(valor)"
      ],
      "metadata": {
        "colab": {
          "base_uri": "https://localhost:8080/"
        },
        "id": "R57dCiXU_Ajy",
        "outputId": "8c1668ce-3118-4ab1-b0c9-5d70d6ee123a"
      },
      "execution_count": null,
      "outputs": [
        {
          "output_type": "stream",
          "name": "stdout",
          "text": [
            "{'a': 1, 'c': 3, 'd': 4}\n",
            "2\n"
          ]
        }
      ]
    },
    {
      "cell_type": "markdown",
      "source": [
        "**setdefault()**\n",
        "\n",
        "Funciona de dos formas. En la primera como get"
      ],
      "metadata": {
        "id": "z0I9itoh_OGk"
      }
    },
    {
      "cell_type": "code",
      "source": [
        "dic =   {'a': 1, 'b': 2, 'c': 3, 'd': 4}\n",
        "valor = dic.setdefault('b')\n",
        "print (dic)\n",
        "print(valor)"
      ],
      "metadata": {
        "colab": {
          "base_uri": "https://localhost:8080/"
        },
        "id": "35-8BArU_T_I",
        "outputId": "944d5c98-1bca-4ef9-e6bd-a2bc662ed419"
      },
      "execution_count": null,
      "outputs": [
        {
          "output_type": "stream",
          "name": "stdout",
          "text": [
            "{'a': 1, 'b': 2, 'c': 3, 'd': 4}\n",
            "2\n"
          ]
        }
      ]
    },
    {
      "cell_type": "markdown",
      "source": [
        "Y en la segunda forma, nos sirve para agregar un nuevo elemento a nuestro diccionario."
      ],
      "metadata": {
        "id": "n5RlKhS1_dAs"
      }
    },
    {
      "cell_type": "code",
      "source": [
        "dic =   {'a': 1, 'b': 2, 'c': 3, 'd': 4}\n",
        "valor = dic.setdefault(\"f\",14)\n",
        "print (dic)\n",
        "print(valor)"
      ],
      "metadata": {
        "colab": {
          "base_uri": "https://localhost:8080/"
        },
        "id": "3XfjAYNm_hHq",
        "outputId": "6f6d1016-0556-49f4-ad70-ce7d5f02a2ed"
      },
      "execution_count": null,
      "outputs": [
        {
          "output_type": "stream",
          "name": "stdout",
          "text": [
            "{'a': 1, 'b': 2, 'c': 3, 'd': 4, 'f': 14}\n",
            "14\n"
          ]
        }
      ]
    },
    {
      "cell_type": "markdown",
      "source": [
        "**update()**\n",
        "\n",
        "Recibe como parámetro otro diccionario. Si se tienen claves iguales, actualiza el valor de la clave repetida; si no hay claves iguales, este par clave-valor es agregado al diccionario."
      ],
      "metadata": {
        "id": "fshtoYC1_Tei"
      }
    },
    {
      "cell_type": "code",
      "source": [
        "dic1 =  {'a': 1, 'b': 2, 'c': 3, 'd': 4}\n",
        "dic2 = {'c' : 6, 'b' : 5, 'e' : 9 , 'f' : 10}\n",
        "dic1.update(dic2)\n",
        "print (dic1)\n",
        "print (dic2)"
      ],
      "metadata": {
        "colab": {
          "base_uri": "https://localhost:8080/"
        },
        "id": "lgJLOx_R_QqU",
        "outputId": "f80fd1a7-ac24-4127-ee50-ffc8fd018c16"
      },
      "execution_count": null,
      "outputs": [
        {
          "output_type": "stream",
          "name": "stdout",
          "text": [
            "{'a': 1, 'b': 5, 'c': 6, 'd': 4, 'e': 9, 'f': 10}\n",
            "{'c': 6, 'b': 5, 'e': 9, 'f': 10}\n"
          ]
        }
      ]
    },
    {
      "cell_type": "markdown",
      "source": [
        "___"
      ],
      "metadata": {
        "id": "mUaoD1MA-7Mr"
      }
    },
    {
      "cell_type": "markdown",
      "source": [
        "https://devcode.la/tutoriales/diccionarios-en-python/"
      ],
      "metadata": {
        "id": "OLXHgvAzvm1g"
      }
    },
    {
      "cell_type": "code",
      "source": [
        "import random\n",
        "appat = [\"PEREZ\",\"GALINDO\",\"YEPIZ\",\"CARDENAS\",\"NEVAREZ\",\"ZAMBRANO\",\"URBALEJO\"] \n",
        "midict = {\"appat\":\"\"}\n",
        "\n",
        "\n",
        "midict[\"appat\"]= random.choice(appat)\n",
        "\n",
        "print (midict)\n"
      ],
      "metadata": {
        "colab": {
          "base_uri": "https://localhost:8080/"
        },
        "id": "_D3Fr720MNWk",
        "outputId": "3dba0a3f-4623-4e36-8ec3-1f510046f9ff"
      },
      "execution_count": null,
      "outputs": [
        {
          "output_type": "stream",
          "name": "stdout",
          "text": [
            "{'appat': 'PEREZ'}\n"
          ]
        }
      ]
    },
    {
      "cell_type": "code",
      "source": [
        "\n",
        "def gennom():\n",
        "    dic1 =  {'a': 1, 'b': 2, 'c': 3, 'd': 76}\n",
        "    return dic1\n",
        "\n",
        "diccionario = gennom()\n",
        "\n"
      ],
      "metadata": {
        "id": "myXQDML1UhsU"
      },
      "execution_count": null,
      "outputs": []
    },
    {
      "cell_type": "code",
      "source": [
        "print (diccionario)"
      ],
      "metadata": {
        "colab": {
          "base_uri": "https://localhost:8080/"
        },
        "id": "pJrM1ahEU3z8",
        "outputId": "466f2eab-4ea5-476f-8f35-52216b44578a"
      },
      "execution_count": null,
      "outputs": [
        {
          "output_type": "stream",
          "name": "stdout",
          "text": [
            "{'a': 1, 'b': 2, 'c': 3, 'd': 76}\n"
          ]
        }
      ]
    }
  ]
}