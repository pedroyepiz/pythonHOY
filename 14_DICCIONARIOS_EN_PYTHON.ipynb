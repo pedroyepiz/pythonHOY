{
  "nbformat": 4,
  "nbformat_minor": 0,
  "metadata": {
    "colab": {
      "provenance": [],
      "authorship_tag": "ABX9TyOueShTpkiP4WjBLtP6tRDY",
      "include_colab_link": true
    },
    "kernelspec": {
      "name": "python3",
      "display_name": "Python 3"
    },
    "language_info": {
      "name": "python"
    }
  },
  "cells": [
    {
      "cell_type": "markdown",
      "metadata": {
        "id": "view-in-github",
        "colab_type": "text"
      },
      "source": [
        "<a href=\"https://colab.research.google.com/github/pedroyepiz/pythonHOY/blob/main/14_DICCIONARIOS_EN_PYTHON.ipynb\" target=\"_parent\"><img src=\"https://colab.research.google.com/assets/colab-badge.svg\" alt=\"Open In Colab\"/></a>"
      ]
    },
    {
      "cell_type": "markdown",
      "source": [
        "# **DICCIONARIOS DE DATOS EN PYTHON**\n"
      ],
      "metadata": {
        "id": "UGMJNyXLycoA"
      }
    },
    {
      "cell_type": "markdown",
      "source": [
        "## **¿Qué es un Diccionario de datos?**\n",
        "Un Diccionario es una estructura de datos y un tipo de dato en Python con características especiales que nos permite almacenar cualquier tipo de valor como enteros, cadenas, listas e incluso otras funciones. Estos diccionarios nos permiten además identificar cada elemento por una clave (Key)."
      ],
      "metadata": {
        "id": "fj2iOv13qHxA"
      }
    },
    {
      "cell_type": "markdown",
      "source": [
        "**Para definir un diccionario**, se encierra el listado de valores entre llaves  `{}` . Las parejas de `clave` y `valor` se separan con comas, y la `clave` y el `valor` se separan con dos puntos  `:`  ."
      ],
      "metadata": {
        "id": "gtL0P6tLqHkE"
      }
    },
    {
      "cell_type": "markdown",
      "source": [
        "**Los diccionarios de datos en Python** son una estructura de datos poderosa y versátil que permite almacenar y organizar elementos en pares de `clave-valor`. Cada elemento en un diccionario está asociado con una clave única que actúa como identificador y se utiliza para acceder a su valor correspondiente. \n",
        "\n",
        "**Algunas características básicas de los diccionarios de datos en Python son:**\n",
        "\n",
        "\n",
        "* **Flexibilidad en las claves y valores:** Las claves en un diccionario pueden ser de cualquier tipo inmutable, como cadenas de texto, números o tuplas. Los valores, por otro lado, pueden ser de cualquier tipo de dato, como números, cadenas de texto, listas, tuplas, e incluso otros diccionarios.\n",
        "\n",
        "\n",
        "* **Estructura mutable:** Los diccionarios son estructuras de datos mutables, lo que significa que se pueden modificar después de su creación. Esto permite agregar, actualizar o eliminar elementos en un diccionario según las necesidades del programa.\n",
        "\n",
        "\n",
        "* **Eficiencia en la búsqueda:** Los diccionarios en Python están implementados como tablas de hash, lo que permite una búsqueda rápida y eficiente de elementos a través de las claves en lugar de índices numéricos.\n",
        "\n",
        "\n",
        "* **No tienen orden definido:** A diferencia de las listas o tuplas, los diccionarios no tienen un orden definido para los elementos. Los elementos se almacenan en el diccionario según su clave y no se garantiza un orden específico.\n",
        "\n",
        "\n",
        "Los diccionarios de datos en Python son ampliamente utilizados en la programación debido a su flexibilidad y eficiencia en la búsqueda.\n",
        "**Algunos usos comunes de los diccionarios son:**\n",
        "\n",
        "* **Almacenamiento de configuraciones:** Los diccionarios se utilizan con frecuencia para almacenar configuraciones de aplicaciones, como opciones de usuario, preferencias de visualización, entre otros.\n",
        "\n",
        "* **Procesamiento de datos estructurados:** Los diccionarios son útiles para organizar y manipular datos estructurados, como JSON o datos de bases de datos, donde se puede utilizar una clave para acceder a los valores correspondientes.\n",
        "\n",
        "* **Implementación de bases de datos en memoria:** Los diccionarios pueden ser utilizados para implementar bases de datos simples en memoria, donde las claves son los identificadores de los registros y los valores son los datos asociados."
      ],
      "metadata": {
        "id": "XJhK5xE7xG7w"
      }
    },
    {
      "cell_type": "markdown",
      "source": [
        "## **Orden en diccionarios**\n",
        "Los mapas en cualquier lenguaje de programación se implementan sin orden pero **desde la versión 3.5, en Python los diccionarios están ordenados**.\n",
        "\n",
        "**Esto significa que mantienen el orden de inserción.**"
      ],
      "metadata": {
        "id": "HNMqg1eY8X4Z"
      }
    },
    {
      "cell_type": "markdown",
      "source": [
        "## **¿Cómo crear diccionarios en Python?**\n",
        "**1.- Para crear diccionarios en Python se puede utilizar el constructir `dict()`:**\n",
        "\n",
        "* **El constructor dict y argumentos.**\n",
        "\n",
        "> `dict(color='Azul', num=4) `\n",
        "\n",
        "* **Constructor dict y pares de valores.**\n",
        "\n",
        "> `dict([('color', 'Azul'), ('num', 4)])`\n",
        "\n",
        "**2.- Diccionario   Vacio**\n",
        "> `diccionario = dict()`\n",
        "\n",
        "> `diccionario = {}`\n",
        "\n",
        "\n",
        "**3.- Usando un literal de pares separados por ':' y rodeado por {}.**\n",
        "\n",
        "> `diccionario = {'color': 'Azul', 'num': 4}`\n",
        "___"
      ],
      "metadata": {
        "id": "brhl30Mt06z0"
      }
    },
    {
      "cell_type": "markdown",
      "source": [
        "###**Diccionario con elementos de distintos tipos**"
      ],
      "metadata": {
        "id": "y80_cugBpiL3"
      }
    },
    {
      "cell_type": "code",
      "source": [
        "diccionario={\"nombre\":\"PEDRO GOKU\", \"edad\": 19, \"sexo\":\"HOMBRE\",\"ciudad\":\"ENSENADA\"}\n",
        "print (diccionario)"
      ],
      "metadata": {
        "colab": {
          "base_uri": "https://localhost:8080/"
        },
        "id": "XEA4uSWBpX_3",
        "outputId": "e57572ff-9ec5-4dd2-9f12-ce181047ac7b"
      },
      "execution_count": 1,
      "outputs": [
        {
          "output_type": "stream",
          "name": "stdout",
          "text": [
            "{'nombre': 'PEDRO GOKU', 'edad': 19, 'sexo': 'HOMBRE', 'ciudad': 'ENSENADA'}\n"
          ]
        }
      ]
    },
    {
      "cell_type": "code",
      "source": [
        "\n",
        "dic2={\"mascota\":[\"PELUSA\",\"TOMAS\",\"MOKA\",\"TIGER\"],\"novia\":\"NO APLICA\"}\n",
        "print (dic2)"
      ],
      "metadata": {
        "colab": {
          "base_uri": "https://localhost:8080/"
        },
        "id": "FHbaGhQDCVWG",
        "outputId": "8c6b4d7d-2058-4f8c-b355-627cf3ba305a"
      },
      "execution_count": 2,
      "outputs": [
        {
          "output_type": "stream",
          "name": "stdout",
          "text": [
            "{'mascota': ['PELUSA', 'TOMAS', 'MOKA', 'TIGER'], 'novia': 'NO APLICA'}\n"
          ]
        }
      ]
    },
    {
      "cell_type": "markdown",
      "source": [
        "###**Diccionarios anidados**"
      ],
      "metadata": {
        "id": "k9U6OpmuqPQQ"
      }
    },
    {
      "cell_type": "code",
      "source": [
        "\n",
        "d={\"nom_compl\":{\"nombre\":\"PEDRO GOKU\",\"apPat\":\"NUÑEZ\",\"apMat\":\"MORALES\"}}\n",
        "print (d)"
      ],
      "metadata": {
        "colab": {
          "base_uri": "https://localhost:8080/"
        },
        "id": "7TskvG4IpXys",
        "outputId": "beede057-3ba4-4a6b-cb15-b4c6332d5b58"
      },
      "execution_count": 3,
      "outputs": [
        {
          "output_type": "stream",
          "name": "stdout",
          "text": [
            "{'nom_compl': {'nombre': 'PEDRO GOKU', 'apPat': 'NUÑEZ', 'apMat': 'MORALES'}}\n"
          ]
        }
      ]
    },
    {
      "cell_type": "markdown",
      "source": [
        "##**Acceso a los elementos de un diccionario**\n",
        "\n",
        "* **d[clave]**  devuelve el valor del diccionario **d** asociado a la clave clave. Si en el diccionario no existe esa clave devuelve un error.\n",
        "\n",
        "* **d.get(clave, valor)** devuelve el valor del diccionario **d** asociado a la clave **clave**. Si en el diccionario no existe esa clave devuelve **valor**, y si no se especifica un **valor** por defecto devuelve None."
      ],
      "metadata": {
        "id": "XsYKcHomrdG9"
      }
    },
    {
      "cell_type": "code",
      "source": [
        "diccionario = {\"nombre\" : \"Carlos\", \"edad\" : 22, \"cursos\": [\"Python\",\"Estructurada\",\"Calculo\",\"EyM\"] }\n",
        "print (diccionario)"
      ],
      "metadata": {
        "colab": {
          "base_uri": "https://localhost:8080/"
        },
        "id": "T3ykgfuqqHH_",
        "outputId": "589a4ecb-9f84-4c81-8d99-744bd624c62f"
      },
      "execution_count": 4,
      "outputs": [
        {
          "output_type": "stream",
          "name": "stdout",
          "text": [
            "{'nombre': 'Carlos', 'edad': 22, 'cursos': ['Python', 'Estructurada', 'Calculo', 'EyM']}\n"
          ]
        }
      ]
    },
    {
      "cell_type": "markdown",
      "source": [
        "**Podemos acceder al elemento de un Diccionario mediante la clave de este elemento**"
      ],
      "metadata": {
        "id": "NPzfM95iqpbT"
      }
    },
    {
      "cell_type": "code",
      "execution_count": 5,
      "metadata": {
        "colab": {
          "base_uri": "https://localhost:8080/"
        },
        "id": "JHtSrzv9qD5t",
        "outputId": "87e495c4-7f8e-46bb-dbef-ccb776bc6965"
      },
      "outputs": [
        {
          "output_type": "stream",
          "name": "stdout",
          "text": [
            "Carlos\n",
            "22\n",
            "['Python', 'Estructurada', 'Calculo', 'EyM']\n"
          ]
        }
      ],
      "source": [
        "diccionario = {\"nombre\" : \"Carlos\", \"edad\" : 22, \"cursos\": [\"Python\",\"Estructurada\",\"Calculo\",\"EyM\"] }\n",
        "\n",
        "print (diccionario[\"nombre\"])\n",
        "print (diccionario[\"edad\"])\n",
        "print (diccionario[\"cursos\"])"
      ]
    },
    {
      "cell_type": "markdown",
      "source": [
        "**También es posible insertar una lista dentro de un diccionario. Para acceder a cada uno de los cursos usamos los índices:**"
      ],
      "metadata": {
        "id": "wxkaGyHhrBCw"
      }
    },
    {
      "cell_type": "code",
      "source": [
        "diccionario = {\"nombre\" : \"Carlos\", \"edad\" : 22, \"cursos\": [\"Python\",\"Estructurada\",\"Calculo\",\"EyM\"] }\n",
        "print (diccionario[\"cursos\"][0])\n",
        "print (diccionario[\"cursos\"][1])\n",
        "print (diccionario[\"cursos\"][2])\n",
        "print (diccionario[\"cursos\"][3])"
      ],
      "metadata": {
        "colab": {
          "base_uri": "https://localhost:8080/"
        },
        "id": "uHHcaM-krB-Y",
        "outputId": "8f674a4a-fe68-46a5-f7b8-6dc83cb40837"
      },
      "execution_count": 6,
      "outputs": [
        {
          "output_type": "stream",
          "name": "stdout",
          "text": [
            "Python\n",
            "Estructurada\n",
            "Calculo\n",
            "EyM\n"
          ]
        }
      ]
    },
    {
      "cell_type": "markdown",
      "source": [
        "**Para recorrer todo el Diccionario, podemos hacer uso de la estructura for:**"
      ],
      "metadata": {
        "id": "XNCLPCN_rUra"
      }
    },
    {
      "cell_type": "code",
      "source": [
        "for key in diccionario:\n",
        "  print (key, \":\", diccionario[key])"
      ],
      "metadata": {
        "colab": {
          "base_uri": "https://localhost:8080/"
        },
        "id": "znnbcvacrZIm",
        "outputId": "ffe22944-0495-4756-f3e6-9d733427227b"
      },
      "execution_count": 7,
      "outputs": [
        {
          "output_type": "stream",
          "name": "stdout",
          "text": [
            "nombre : Carlos\n",
            "edad : 22\n",
            "cursos : ['Python', 'Estructurada', 'Calculo', 'EyM']\n"
          ]
        }
      ]
    },
    {
      "cell_type": "code",
      "source": [
        "for i,j in enumerate(diccionario):\n",
        "  print (i, \":\", j)"
      ],
      "metadata": {
        "colab": {
          "base_uri": "https://localhost:8080/"
        },
        "id": "fVlH0h0CZK2L",
        "outputId": "d96dc10a-8b9a-46df-bfda-39ebfd0ae3a8"
      },
      "execution_count": 8,
      "outputs": [
        {
          "output_type": "stream",
          "name": "stdout",
          "text": [
            "0 : nombre\n",
            "1 : edad\n",
            "2 : cursos\n"
          ]
        }
      ]
    },
    {
      "cell_type": "code",
      "source": [
        "for key in diccionario:\n",
        "  print (key)"
      ],
      "metadata": {
        "colab": {
          "base_uri": "https://localhost:8080/"
        },
        "id": "R_Ct4AXgel9r",
        "outputId": "7b9758c3-82bd-42e0-e988-1e89a28ae44b"
      },
      "execution_count": 9,
      "outputs": [
        {
          "output_type": "stream",
          "name": "stdout",
          "text": [
            "nombre\n",
            "edad\n",
            "cursos\n"
          ]
        }
      ]
    },
    {
      "cell_type": "markdown",
      "source": [
        "___\n",
        "## **Métodos de los Diccionarios**\n",
        " **dict ()**\n",
        "\n",
        "Recibe como parámetro una representación de un diccionario y si es factible, devuelve un diccionario de datos."
      ],
      "metadata": {
        "id": "P0jz-6MMsi6Z"
      }
    },
    {
      "cell_type": "code",
      "source": [
        "dic =  dict(nombre=\"Goku\", apellido=\"Nuñez Yepiz\", edad=25)\n",
        "print (dic)"
      ],
      "metadata": {
        "colab": {
          "base_uri": "https://localhost:8080/"
        },
        "id": "Ssr3TymPskHb",
        "outputId": "70f37994-2fd9-4c7f-eb50-99327bf11e7f"
      },
      "execution_count": 10,
      "outputs": [
        {
          "output_type": "stream",
          "name": "stdout",
          "text": [
            "{'nombre': 'Goku', 'apellido': 'Nuñez Yepiz', 'edad': 25}\n"
          ]
        }
      ]
    },
    {
      "cell_type": "code",
      "source": [
        "diccionario =  dict(nombre=\"Goku\", apellido=\"Nuñez Yepiz\", edad=25)\n",
        "print (diccionario)\n",
        "for key in diccionario:\n",
        "  print (key, \":\", diccionario[key])"
      ],
      "metadata": {
        "colab": {
          "base_uri": "https://localhost:8080/"
        },
        "id": "Ivatf47JfUmA",
        "outputId": "1a4e03f2-6fb7-4194-ef7f-f52c97a284b9"
      },
      "execution_count": 11,
      "outputs": [
        {
          "output_type": "stream",
          "name": "stdout",
          "text": [
            "{'nombre': 'Goku', 'apellido': 'Nuñez Yepiz', 'edad': 25}\n",
            "nombre : Goku\n",
            "apellido : Nuñez Yepiz\n",
            "edad : 25\n"
          ]
        }
      ]
    },
    {
      "cell_type": "markdown",
      "source": [
        "**zip()**\n",
        "\n",
        "Recibe como parámetro dos elementos iterables, ya sea una cadena, una lista o una tupla. Ambos parámetros deben tener el mismo número de elementos. Se devolverá un diccionario relacionando el elemento i-esimo de cada uno de los iterables."
      ],
      "metadata": {
        "id": "LodAkbHztafK"
      }
    },
    {
      "cell_type": "code",
      "source": [
        "dic = dict(zip([1,2,3,4],[\"uno\",\"dos\",\"tres\",[6,7,8]]))\n",
        "print (dic)"
      ],
      "metadata": {
        "colab": {
          "base_uri": "https://localhost:8080/"
        },
        "id": "krK6s9PVte4o",
        "outputId": "f6494b6c-6d66-4194-e6b2-5a1251aa2d21"
      },
      "execution_count": 12,
      "outputs": [
        {
          "output_type": "stream",
          "name": "stdout",
          "text": [
            "{1: 'uno', 2: 'dos', 3: 'tres', 4: [6, 7, 8]}\n"
          ]
        }
      ]
    },
    {
      "cell_type": "markdown",
      "source": [
        "**items()**\n",
        "\n",
        "Devuelve una lista de tuplas, cada tupla se compone de dos elementos: el primero será la clave y el segundo, su valor."
      ],
      "metadata": {
        "id": "V3Y4oJsctuUe"
      }
    },
    {
      "cell_type": "code",
      "source": [
        "\n",
        "items = dic.items()\n",
        "print (dic)\n",
        "print (items)"
      ],
      "metadata": {
        "colab": {
          "base_uri": "https://localhost:8080/"
        },
        "id": "ZC7v_QxDtwJx",
        "outputId": "090f57ab-c36f-438c-8d03-4415f16daa27"
      },
      "execution_count": 13,
      "outputs": [
        {
          "output_type": "stream",
          "name": "stdout",
          "text": [
            "{1: 'uno', 2: 'dos', 3: 'tres', 4: [6, 7, 8]}\n",
            "dict_items([(1, 'uno'), (2, 'dos'), (3, 'tres'), (4, [6, 7, 8])])\n"
          ]
        }
      ]
    },
    {
      "cell_type": "markdown",
      "source": [
        "**keys(**)\n",
        "\n",
        "Retorna una lista de elementos, los cuales serán las claves de nuestro diccionario."
      ],
      "metadata": {
        "id": "Q8SW-jTfuJSp"
      }
    },
    {
      "cell_type": "code",
      "source": [
        "#dic =   {'a': 1, 'b': 2, 'c': 3, 'd': 4}\n",
        "keys= dic.keys()\n",
        "print (dic)\n",
        "print (keys)\n",
        "keys = list(keys) \n",
        "print (keys)"
      ],
      "metadata": {
        "colab": {
          "base_uri": "https://localhost:8080/"
        },
        "id": "0_RlCSqNuLIp",
        "outputId": "5257cacc-6afd-4f10-b40f-3e95daf00d4d"
      },
      "execution_count": 14,
      "outputs": [
        {
          "output_type": "stream",
          "name": "stdout",
          "text": [
            "{1: 'uno', 2: 'dos', 3: 'tres', 4: [6, 7, 8]}\n",
            "dict_keys([1, 2, 3, 4])\n",
            "[1, 2, 3, 4]\n"
          ]
        }
      ]
    },
    {
      "cell_type": "markdown",
      "source": [
        "**values()**\n",
        "\n",
        "Retorna una lista de elementos, que serán los valores de nuestro diccionario."
      ],
      "metadata": {
        "id": "MjwQiEmDueCg"
      }
    },
    {
      "cell_type": "code",
      "source": [
        "#dic =   {'a': 1, 'b': 2, 'c': 3, 'd': 4}\n",
        "values= dic.values()\n",
        "print (dic)\n",
        "print (values)\n"
      ],
      "metadata": {
        "colab": {
          "base_uri": "https://localhost:8080/"
        },
        "id": "c7zBwGuSufzv",
        "outputId": "219b0f05-1435-478b-f218-79386e491013"
      },
      "execution_count": 15,
      "outputs": [
        {
          "output_type": "stream",
          "name": "stdout",
          "text": [
            "{1: 'uno', 2: 'dos', 3: 'tres', 4: [6, 7, 8]}\n",
            "dict_values(['uno', 'dos', 'tres', [6, 7, 8]])\n"
          ]
        }
      ]
    },
    {
      "cell_type": "markdown",
      "source": [
        "**clear()**\n",
        "\n",
        "Elimina todos los ítems del diccionario dejándolo vacío."
      ],
      "metadata": {
        "id": "08cKpqKIuuOr"
      }
    },
    {
      "cell_type": "code",
      "source": [
        "dic1 =   {\"a\": 1, \"b\": 2, \"c\": 3, \"d\": 4}\n",
        "dic1.clear()\n",
        "print (dic1)"
      ],
      "metadata": {
        "colab": {
          "base_uri": "https://localhost:8080/"
        },
        "id": "_if2sIPQuwZy",
        "outputId": "a88b8c43-12ed-40ff-e5e3-6184e4335ee0"
      },
      "execution_count": 16,
      "outputs": [
        {
          "output_type": "stream",
          "name": "stdout",
          "text": [
            "{}\n"
          ]
        }
      ]
    },
    {
      "cell_type": "markdown",
      "source": [
        "**copy()**\n",
        "\n",
        "Retorna una copia del diccionario original."
      ],
      "metadata": {
        "id": "qKoHYslmvK7Y"
      }
    },
    {
      "cell_type": "code",
      "source": [
        "dic =   {\"a\": 1, \"b\": 2, \"c\": 3, \"d\": 4}\n",
        "dic1 = dic.copy()\n",
        "print (dic1)"
      ],
      "metadata": {
        "colab": {
          "base_uri": "https://localhost:8080/"
        },
        "id": "Ns5so5wNvREE",
        "outputId": "d5c62a68-2a8d-4dca-8a14-79dff2e65329"
      },
      "execution_count": 17,
      "outputs": [
        {
          "output_type": "stream",
          "name": "stdout",
          "text": [
            "{'a': 1, 'b': 2, 'c': 3, 'd': 4}\n"
          ]
        }
      ]
    },
    {
      "cell_type": "markdown",
      "source": [
        "**fromkeys()**\n",
        "\n",
        "Recibe como parámetros un iterable y un valor, devolviendo un diccionario que contiene como claves los elementos del iterable con el mismo valor ingresado. Si el valor no es ingresado, devolverá none para todas las claves."
      ],
      "metadata": {
        "id": "ouWmfent9bB9"
      }
    },
    {
      "cell_type": "code",
      "source": [
        "dic = dict.fromkeys([\"a\",\"b\",\"c\",\"d\"],1)\n",
        "print (dic)"
      ],
      "metadata": {
        "colab": {
          "base_uri": "https://localhost:8080/"
        },
        "id": "AXLBKTE09qHf",
        "outputId": "04b2c0b0-4365-4c10-ff1a-945d3c87953f"
      },
      "execution_count": 18,
      "outputs": [
        {
          "output_type": "stream",
          "name": "stdout",
          "text": [
            "{'a': 1, 'b': 1, 'c': 1, 'd': 1}\n"
          ]
        }
      ]
    },
    {
      "cell_type": "markdown",
      "source": [
        "**get()**\n",
        "\n",
        "Recibe como parámetro una clave, devuelve el valor de la clave. Si no lo encuentra, devuelve un objeto none."
      ],
      "metadata": {
        "id": "888hV_St999g"
      }
    },
    {
      "cell_type": "code",
      "source": [
        "dic =   {\"a\": 1, \"b\": 2, \"c\": 3, \"d\": 4}\n",
        "valor = dic.get(\"b\")\n",
        "print(valor)"
      ],
      "metadata": {
        "colab": {
          "base_uri": "https://localhost:8080/"
        },
        "id": "MCNYBJP69_oM",
        "outputId": "7849460c-695f-4f0d-d441-e9a8e51fecd4"
      },
      "execution_count": 19,
      "outputs": [
        {
          "output_type": "stream",
          "name": "stdout",
          "text": [
            "2\n"
          ]
        }
      ]
    },
    {
      "cell_type": "markdown",
      "source": [
        "**pop()**\n",
        "\n",
        "Recibe como parámetro una clave, elimina esta y devuelve su valor. Si no lo encuentra, devuelve error."
      ],
      "metadata": {
        "id": "uh0W0RmI-5eH"
      }
    },
    {
      "cell_type": "code",
      "source": [
        "dic =   {\"a\": 1, \"b\": 2, \"c\": 3, \"d\": 4}\n",
        "valor = dic.pop('b')\n",
        "print (dic)\n",
        "print(valor)"
      ],
      "metadata": {
        "colab": {
          "base_uri": "https://localhost:8080/"
        },
        "id": "R57dCiXU_Ajy",
        "outputId": "9069d7b2-a363-4f4f-e278-20a506bdc54a"
      },
      "execution_count": 20,
      "outputs": [
        {
          "output_type": "stream",
          "name": "stdout",
          "text": [
            "{'a': 1, 'c': 3, 'd': 4}\n",
            "2\n"
          ]
        }
      ]
    },
    {
      "cell_type": "markdown",
      "source": [
        "**setdefault()**\n",
        "\n",
        "Funciona de dos formas. En la primera como get"
      ],
      "metadata": {
        "id": "z0I9itoh_OGk"
      }
    },
    {
      "cell_type": "code",
      "source": [
        "dic =   {'a': 1, 'b': 2, 'c': 3, 'd': 4}\n",
        "valor = dic.setdefault('b')\n",
        "print (dic)\n",
        "print(valor)"
      ],
      "metadata": {
        "colab": {
          "base_uri": "https://localhost:8080/"
        },
        "id": "35-8BArU_T_I",
        "outputId": "85490e0b-daa4-4b6c-bb60-5b100ed93742"
      },
      "execution_count": 21,
      "outputs": [
        {
          "output_type": "stream",
          "name": "stdout",
          "text": [
            "{'a': 1, 'b': 2, 'c': 3, 'd': 4}\n",
            "2\n"
          ]
        }
      ]
    },
    {
      "cell_type": "markdown",
      "source": [
        "Y en la segunda forma, nos sirve para agregar un nuevo elemento a nuestro diccionario."
      ],
      "metadata": {
        "id": "n5RlKhS1_dAs"
      }
    },
    {
      "cell_type": "code",
      "source": [
        "dic =   {'a': 1, 'b': 2, 'c': 3, 'd': 4}\n",
        "valor = dic.setdefault(\"f\",14)\n",
        "print (dic)\n",
        "print(valor)"
      ],
      "metadata": {
        "colab": {
          "base_uri": "https://localhost:8080/"
        },
        "id": "3XfjAYNm_hHq",
        "outputId": "34d42d92-aed8-4539-ef99-a39d9aac0bd7"
      },
      "execution_count": 22,
      "outputs": [
        {
          "output_type": "stream",
          "name": "stdout",
          "text": [
            "{'a': 1, 'b': 2, 'c': 3, 'd': 4, 'f': 14}\n",
            "14\n"
          ]
        }
      ]
    },
    {
      "cell_type": "markdown",
      "source": [
        "**update()**\n",
        "\n",
        "Recibe como parámetro otro diccionario. Si se tienen claves iguales, actualiza el valor de la clave repetida; si no hay claves iguales, este par clave-valor es agregado al diccionario."
      ],
      "metadata": {
        "id": "fshtoYC1_Tei"
      }
    },
    {
      "cell_type": "code",
      "source": [
        "dic1 =  {'a': 1, 'b': 2, 'c': 3, 'd': 4}\n",
        "dic2 = {'c' : 6, 'b' : 5, 'e' : 9 , 'f' : 10}\n",
        "dic1.update(dic2)\n",
        "print (dic1)\n",
        "print (dic2)"
      ],
      "metadata": {
        "colab": {
          "base_uri": "https://localhost:8080/"
        },
        "id": "lgJLOx_R_QqU",
        "outputId": "95ba4afe-5f1b-463b-8b4c-4fb99799910d"
      },
      "execution_count": 23,
      "outputs": [
        {
          "output_type": "stream",
          "name": "stdout",
          "text": [
            "{'a': 1, 'b': 5, 'c': 6, 'd': 4, 'e': 9, 'f': 10}\n",
            "{'c': 6, 'b': 5, 'e': 9, 'f': 10}\n"
          ]
        }
      ]
    },
    {
      "cell_type": "markdown",
      "source": [
        "**EJEMPLO PARA ACTIVIDAD:**"
      ],
      "metadata": {
        "id": "LlvVM7UO6OeM"
      }
    },
    {
      "cell_type": "markdown",
      "source": [
        "___"
      ],
      "metadata": {
        "id": "mUaoD1MA-7Mr"
      }
    },
    {
      "cell_type": "code",
      "source": [
        "import random\n",
        "appat = [\"PEREZ\",\"GALINDO\",\"YEPIZ\",\"CARDENAS\",\"NEVAREZ\",\"ZAMBRANO\",\"URBALEJO\"] \n",
        "midict = {\"appat\":\"\"}\n",
        "\n",
        "\n",
        "midict[\"appat\"]= random.choice(appat)\n",
        "\n",
        "print (midict)\n"
      ],
      "metadata": {
        "colab": {
          "base_uri": "https://localhost:8080/"
        },
        "id": "_D3Fr720MNWk",
        "outputId": "335f9bf3-dab3-4fab-b49b-a48d1d7d5983"
      },
      "execution_count": 24,
      "outputs": [
        {
          "output_type": "stream",
          "name": "stdout",
          "text": [
            "{'appat': 'NEVAREZ'}\n"
          ]
        }
      ]
    },
    {
      "cell_type": "code",
      "source": [
        "\n",
        "def gennom():\n",
        "    dic1 =  {'a': 1, 'b': 2, 'c': 3, 'd': 76}\n",
        "    return dic1\n",
        "\n",
        "diccionario = gennom()\n",
        "\n"
      ],
      "metadata": {
        "id": "myXQDML1UhsU"
      },
      "execution_count": 25,
      "outputs": []
    },
    {
      "cell_type": "code",
      "source": [
        "print (diccionario)"
      ],
      "metadata": {
        "colab": {
          "base_uri": "https://localhost:8080/"
        },
        "id": "pJrM1ahEU3z8",
        "outputId": "a4d3d4e5-6b80-4f01-c221-2ea67cf8ff41"
      },
      "execution_count": 26,
      "outputs": [
        {
          "output_type": "stream",
          "name": "stdout",
          "text": [
            "{'a': 1, 'b': 2, 'c': 3, 'd': 76}\n"
          ]
        }
      ]
    }
  ]
}