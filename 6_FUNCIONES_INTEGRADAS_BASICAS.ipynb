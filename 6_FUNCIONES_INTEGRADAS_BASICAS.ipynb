{
  "nbformat": 4,
  "nbformat_minor": 0,
  "metadata": {
    "colab": {
      "provenance": [],
      "authorship_tag": "ABX9TyNY7ke/yui1E2zmWeBwwpMn",
      "include_colab_link": true
    },
    "kernelspec": {
      "name": "python3",
      "display_name": "Python 3"
    },
    "language_info": {
      "name": "python"
    }
  },
  "cells": [
    {
      "cell_type": "markdown",
      "metadata": {
        "id": "view-in-github",
        "colab_type": "text"
      },
      "source": [
        "<a href=\"https://colab.research.google.com/github/pedroyepiz/pythonHOY/blob/main/6_FUNCIONES_INTEGRADAS_BASICAS.ipynb\" target=\"_parent\"><img src=\"https://colab.research.google.com/assets/colab-badge.svg\" alt=\"Open In Colab\"/></a>"
      ]
    },
    {
      "cell_type": "markdown",
      "source": [],
      "metadata": {
        "id": "yiMmy02RsVAx"
      }
    },
    {
      "cell_type": "markdown",
      "source": [
        "|**Función** | **Descripción** | **Ejemplo** |\n",
        "| ------- | ----------- | ------- |\n",
        "| `print()` | Imprime un mensaje en la consola | `print(\"Hola, mundo!\")` |\n",
        "| `input()` | Lee una entrada desde el usuario | `nombre = input(\"Ingresa tu nombre: \")` |\n",
        "| `len()` | Devuelve la longitud de un objeto | `longitud = len(\"Python\")` |\n",
        "| `type()` | Devuelve el tipo de un objeto | `tipo = type(3.14)` |\n",
        "| `str()` | Convierte un objeto a una cadena | `cadena = str(42)` |\n",
        "| `int()` | Convierte una cadena o número a un entero | `entero = int(\"42\")` |\n",
        "| `float()` | Convierte una cadena o número a un número de punto flotante | `flotante = float(\"3.14\")` |\n",
        "| `list()` | Crea una lista vacía o convierte un objeto iterable a una lista | `lista_vacia = list()`, `lista = list(range(5))` |\n",
        "| `dict()` | Crea un diccionario vacío o convierte un objeto iterable a un diccionario | `diccionario_vacio = dict()`, `diccionario = dict(zip([\"a\", \"b\", \"c\"], [1, 2, 3]))` |\n",
        "| `tuple()` | Crea una tupla vacía o convierte un objeto iterable a una tupla | `tupla_vacia = tuple()`, `tupla = tuple(range(5))` |\n",
        "| `set()` | Crea un conjunto vacío o convierte un objeto iterable a un conjunto | `conjunto_vacio = set()`, `conjunto = set([1, 2, 3])` |\n",
        "| `sorted()` | Devuelve una lista ordenada a partir de un objeto iterable o una cadena | `ordenada = sorted([3, 1, 2])` |\n",
        "| `max()` | Devuelve el valor máximo de un objeto iterable o el máximo de dos o más argumentos | `maximo = max([3, 1, 2])` |\n",
        "| `min()` | Devuelve el valor mínimo de un objeto iterable o el mínimo de dos o más argumentos | `minimo = min([3, 1, 2])` |\n",
        "| `sum()` | Devuelve la suma de los elementos de un objeto iterable | `suma = sum([1, 2, 3])` |\n",
        "| `range()` | Devuelve un objeto iterable de una secuencia de números | `rango = range(5)` |\n",
        "| `enumerate()` | Devuelve una tupla de un índice y un elemento para cada elemento de un objeto iterable | `enumerado = enumerate([\"a\", \"b\", \"c\"])` |\n",
        "| `zip()` | Devuelve una tupla de elementos correspondientes de cada uno de los objetos iterables | `emparejado = zip([\"a\", \"b\", \"c\"], [1, 2, 3])` |\n",
        "| `map()` | Aplica una función a cada elemento de un objeto iterable | `cuadrados = map(lambda x: x**2, [1, 2, 3])` |\n",
        "| `filter()` | Devuelve una lista de los elementos de un objeto iterable para los cuales una función devuelve `True` | `pares = filter(lambda x: x%2 == 0, [1, 2, 3, 4, 5])|\n",
        "| `round()` | Redondea un número a un número especificado de decimales. | `round(3.14159, 2)` retorna `3.14` |\n",
        "| `pow()` | Eleva un número a una potencia especificada. | `pow(2, 3)` retorna `8` |\n",
        "| `type()` | Retorna el tipo de un objeto. | `type('Hola')` retorna `<class 'str'>` |\n",
        "| `dir()` | Retorna una lista de|       |\n",
        "| `help()` | Muestra la documentación de ayuda para un objeto o función. | |\n",
        "| `id()` | imprime un número único que identifica al objeto entero |  |\n"
      ],
      "metadata": {
        "id": "fq7pUDF_qUbe"
      }
    },
    {
      "cell_type": "code",
      "execution_count": null,
      "metadata": {
        "id": "1elN_f6Mr780"
      },
      "outputs": [],
      "source": [
        "help(min)"
      ]
    },
    {
      "cell_type": "code",
      "source": [
        "dir(str)"
      ],
      "metadata": {
        "id": "KSL1gRwhE1v4"
      },
      "execution_count": null,
      "outputs": []
    },
    {
      "cell_type": "code",
      "source": [
        "dir(pow)"
      ],
      "metadata": {
        "id": "C-HEl0yxzJ7z"
      },
      "execution_count": null,
      "outputs": []
    },
    {
      "cell_type": "markdown",
      "source": [
        "## **range**\n",
        "`\"range\"` en Python es una función integrada que se utiliza para generar una secuencia de números. La secuencia generada por \"`range\"` es un objeto iterable que puede ser utilizado en ciclos `\"for\"` u otras funciones que requieren una secuencia de números.\n",
        "\n",
        "La función `\"range\" `**tiene tres argumentos: \"start\", \"stop\" y \"step\".** \n",
        "* El argumento **\"start\"** es opcional y especifica el valor inicial de la secuencia. Por defecto, su valor es 0. \n",
        "* El argumento **\"stop\"** es obligatorio y especifica el valor final de la secuencia. \n",
        "* El argumento **\"step\"** también es opcional y especifica el tamaño del salto entre los números de la secuencia. Por defecto, su valor es 1.\n",
        "\n",
        "**Por ejemplo:**\n",
        "\n",
        "` \"range(5)\"` generará la secuencia de números [0, 1, 2, 3, 4]\n",
        "\n",
        " `\"range(1, 6)\"` generará la secuencia [1, 2, 3, 4, 5].\n",
        "\n",
        " `\"range(0, 10, 2)\"` generará la secuencia [0, 2, 4, 6, 8].\n",
        "\n",
        " > También es posible especificar un tamaño de salto diferente\n",
        "\n",
        "\n",
        "\n"
      ],
      "metadata": {
        "id": "4zM7Q12MBVW9"
      }
    },
    {
      "cell_type": "code",
      "source": [
        "# range(stop)\n",
        "print(\"Ejemplo 1:\")\n",
        "for i in range(5):\n",
        "    print(i)\n",
        "print()\n",
        "\n",
        "# range(start, stop)\n",
        "print(\"Ejemplo 2:\")\n",
        "for i in range(2, 7):\n",
        "    print(i)\n",
        "print()\n",
        "\n",
        "# range(start, stop, step)\n",
        "print(\"Ejemplo 3:\")\n",
        "for i in range(1, 10, 2):\n",
        "    print(i)\n"
      ],
      "metadata": {
        "colab": {
          "base_uri": "https://localhost:8080/"
        },
        "id": "3_x5G4YKCrHg",
        "outputId": "9d45d05a-8add-4634-c678-ee3f63612f83"
      },
      "execution_count": null,
      "outputs": [
        {
          "output_type": "stream",
          "name": "stdout",
          "text": [
            "Ejemplo 1:\n",
            "0\n",
            "1\n",
            "2\n",
            "3\n",
            "4\n",
            "\n",
            "Ejemplo 2:\n",
            "2\n",
            "3\n",
            "4\n",
            "5\n",
            "6\n",
            "\n",
            "Ejemplo 3:\n",
            "1\n",
            "3\n",
            "5\n",
            "7\n",
            "9\n"
          ]
        }
      ]
    }
  ]
}