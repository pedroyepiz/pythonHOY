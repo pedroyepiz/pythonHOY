{
  "nbformat": 4,
  "nbformat_minor": 0,
  "metadata": {
    "colab": {
      "provenance": [],
      "authorship_tag": "ABX9TyNvqa0h2WSiEXCnHKSIh5w+",
      "include_colab_link": true
    },
    "kernelspec": {
      "name": "python3",
      "display_name": "Python 3"
    },
    "language_info": {
      "name": "python"
    }
  },
  "cells": [
    {
      "cell_type": "markdown",
      "metadata": {
        "id": "view-in-github",
        "colab_type": "text"
      },
      "source": [
        "<a href=\"https://colab.research.google.com/github/pedroyepiz/pythonHOY/blob/main/6_FUNCIONES_INTEGRADAS_BASICAS.ipynb\" target=\"_parent\"><img src=\"https://colab.research.google.com/assets/colab-badge.svg\" alt=\"Open In Colab\"/></a>"
      ]
    },
    {
      "cell_type": "markdown",
      "source": [
        "# **FUNCIONES INTEGRADAS BASICAS**\n",
        "| **Función** | **Descripción** | **Ejemplo** |\n",
        "|---------|-------------|---------|\n",
        "| `max()` | Encuentra el valor máximo en un objeto iterable. | `max([3, 5, 1, 8])` retorna `8` |\n",
        "| `sum()` | Encuentra la suma de los valores en un objeto iterable. | `sum([2, 4, 6])` retorna `12` |\n",
        "| `len()` | Encuentra la longitud de un objeto iterable. | `len('Hola')` retorna `4` |\n",
        "| `sorted()` | Ordena los elementos de un objeto iterable. | `sorted([5, 2, 9, 1])` retorna `[1, 2, 5, 9]` |\n",
        "| `any()` | Retorna `True` si cualquier elemento en un objeto iterable es verdadero. | `any([True, False, False])` retorna `True` |\n",
        "| `all()` | Retorna `True` si todos los elementos en un objeto iterable son verdaderos. | `all([True, True, False])` retorna `False` |\n",
        "| `abs()` | Retorna el valor absoluto de un número. | `abs(-5)` retorna `5` |\n",
        "| `round()` | Redondea un número a un número especificado de decimales. | `round(3.14159, 2)` retorna `3.14` |\n",
        "| `pow()` | Eleva un número a una potencia especificada. | `pow(2, 3)` retorna `8` |\n",
        "| `enumerate()` | Retorna una lista de tuplas que contienen el índice y el elemento de un objeto iterable. | `list(enumerate(['a', 'b', 'c']))` retorna `[(0, 'a'), (1, 'b'), (2, 'c')]` |\n",
        "| `zip()` | Combina dos o más objetos iterables en una lista de tuplas. | `list(zip([1, 2, 3], ['a', 'b', 'c']))` retorna `[(1, 'a'), (2, 'b'), (3, 'c')]` |\n",
        "| `reversed()` | Retorna una versión invertida de un objeto iterable. | `list(reversed([1, 2, 3]))` retorna `[3, 2, 1]` |\n",
        "| `filter()` | Retorna una lista que contiene los elementos de un objeto iterable | `list(filter(lambda x: x > 3, [1, 2, 3, 4, 5]))` retorna `[4, 5]` |\n",
        "||para los que una función especificada devuelve `True`.|||\n",
        "| `map()` | Retorna una lista que contiene los resultados de aplicar una función especificada  | `list(map(lambda x: x*2, [1, 2, 3]))` retorna `[2, 4, 6]` |\n",
        "||a cada elemento de un objeto iterable.|||\n",
        "| `range()` | Retorna una secuencia de números enteros. | `list(range(1, 5))` retorna `[1, 2, 3, 4]` |\n",
        "| `isinstance()` | Retorna `True` si un objeto es una instancia de una clase especificada. | `isinstance(5, int)` retorna `True` |\n",
        "| `type()` | Retorna el tipo de un objeto. | `type('Hola')` retorna `<class 'str'>` |\n",
        "| `dir()` | Retorna una lista de|       |\n",
        "| `help()` | Muestra la documentación de ayuda para un objeto o función. |     |\n"
      ],
      "metadata": {
        "id": "XaMe8kwDueJO"
      }
    },
    {
      "cell_type": "code",
      "execution_count": null,
      "metadata": {
        "id": "1elN_f6Mr780"
      },
      "outputs": [],
      "source": [
        "help(min)"
      ]
    },
    {
      "cell_type": "code",
      "source": [
        "dir(str)"
      ],
      "metadata": {
        "id": "KSL1gRwhE1v4"
      },
      "execution_count": null,
      "outputs": []
    },
    {
      "cell_type": "code",
      "source": [
        "dir(pow)"
      ],
      "metadata": {
        "id": "C-HEl0yxzJ7z"
      },
      "execution_count": null,
      "outputs": []
    },
    {
      "cell_type": "markdown",
      "source": [
        "## **range**\n",
        "`\"range\"` en Python es una función integrada que se utiliza para generar una secuencia de números. La secuencia generada por \"`range\"` es un objeto iterable que puede ser utilizado en ciclos `\"for\"` u otras funciones que requieren una secuencia de números.\n",
        "\n",
        "La función `\"range\" `**tiene tres argumentos: \"start\", \"stop\" y \"step\".** \n",
        "* El argumento **\"start\"** es opcional y especifica el valor inicial de la secuencia. Por defecto, su valor es 0. \n",
        "* El argumento **\"stop\"** es obligatorio y especifica el valor final de la secuencia. \n",
        "* El argumento **\"step\"** también es opcional y especifica el tamaño del salto entre los números de la secuencia. Por defecto, su valor es 1.\n",
        "\n",
        "**Por ejemplo:**\n",
        "\n",
        "` \"range(5)\"` generará la secuencia de números [0, 1, 2, 3, 4]\n",
        "\n",
        " `\"range(1, 6)\"` generará la secuencia [1, 2, 3, 4, 5].\n",
        "\n",
        " `\"range(0, 10, 2)\"` generará la secuencia [0, 2, 4, 6, 8].\n",
        "\n",
        " > También es posible especificar un tamaño de salto diferente\n",
        "\n",
        "\n",
        "\n"
      ],
      "metadata": {
        "id": "4zM7Q12MBVW9"
      }
    },
    {
      "cell_type": "code",
      "source": [
        "# range(stop)\n",
        "print(\"Ejemplo 1:\")\n",
        "for i in range(5):\n",
        "    print(i)\n",
        "print()\n",
        "\n",
        "# range(start, stop)\n",
        "print(\"Ejemplo 2:\")\n",
        "for i in range(2, 7):\n",
        "    print(i)\n",
        "print()\n",
        "\n",
        "# range(start, stop, step)\n",
        "print(\"Ejemplo 3:\")\n",
        "for i in range(1, 10, 2):\n",
        "    print(i)\n"
      ],
      "metadata": {
        "colab": {
          "base_uri": "https://localhost:8080/"
        },
        "id": "3_x5G4YKCrHg",
        "outputId": "9d45d05a-8add-4634-c678-ee3f63612f83"
      },
      "execution_count": null,
      "outputs": [
        {
          "output_type": "stream",
          "name": "stdout",
          "text": [
            "Ejemplo 1:\n",
            "0\n",
            "1\n",
            "2\n",
            "3\n",
            "4\n",
            "\n",
            "Ejemplo 2:\n",
            "2\n",
            "3\n",
            "4\n",
            "5\n",
            "6\n",
            "\n",
            "Ejemplo 3:\n",
            "1\n",
            "3\n",
            "5\n",
            "7\n",
            "9\n"
          ]
        }
      ]
    }
  ]
}