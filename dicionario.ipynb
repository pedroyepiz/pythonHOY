{
  "nbformat": 4,
  "nbformat_minor": 0,
  "metadata": {
    "colab": {
      "provenance": [],
      "authorship_tag": "ABX9TyM19ljHskykI8ngDLFjfX7H",
      "include_colab_link": true
    },
    "kernelspec": {
      "name": "python3",
      "display_name": "Python 3"
    },
    "language_info": {
      "name": "python"
    }
  },
  "cells": [
    {
      "cell_type": "markdown",
      "metadata": {
        "id": "view-in-github",
        "colab_type": "text"
      },
      "source": [
        "<a href=\"https://colab.research.google.com/github/pedroyepiz/pythonHOY/blob/main/dicionario.ipynb\" target=\"_parent\"><img src=\"https://colab.research.google.com/assets/colab-badge.svg\" alt=\"Open In Colab\"/></a>"
      ]
    },
    {
      "cell_type": "code",
      "source": [
        "import pprint\n",
        "import random\n",
        "\n"
      ],
      "metadata": {
        "id": "M9RZedFXd4K2"
      },
      "execution_count": 1,
      "outputs": []
    },
    {
      "cell_type": "code",
      "source": [
        "def creadicc():\n",
        "    diccionario = {\"nombre\": \"PEDRO GOKU\", \"edad\": 19, \"sexo\": \"HOMBRE\", \"ciudad\": \"ENSENADA\"}\n",
        "    pprint.pprint(diccionario, indent=4, sort_dicts=False)\n"
      ],
      "metadata": {
        "id": "TBn6yCPmd6y1"
      },
      "execution_count": 2,
      "outputs": []
    },
    {
      "cell_type": "code",
      "execution_count": 3,
      "metadata": {
        "id": "MBSXVhHzdw87"
      },
      "outputs": [],
      "source": [
        "\n",
        "def registro():\n",
        "    valores=[];\n",
        "    \n",
        "    nombre_h=[\"Juan\",\"Luis\", \"Carlos\",\"Roberto\",\"Pedro\",\"Abraham\",\"Tulio\"]\n",
        "    nombre_m=[\"Sandra\",\"Lupita\",\"Maria\",\"Sonia\",\"Ana\",\"Vanessa\",\"Cristina\"]\n",
        "    apellidos=[\"Villalobos\",\"Sanchez\",\"Perez\",\"Casas\",\"Paredes\",\"Canales\",\"Huerta\",\"Gutierrez\",\"Herrera\",\"Chavez\",\"Cota\"]\n",
        "    \n",
        "    puesto=[\"Supervisor\",\"Encargad@\",\"Conserje\",\"Gerente\",\"Guardia\",\"Empleado Gral\",\"Jefe\"]\n",
        "    sexo=[\"HOMBRE\",\"MUJER\"]\n",
        "    \n",
        "    valores.append(random.randint(10, 500))\n",
        "    valores.append(random.choice(apellidos))\n",
        "    valores.append(random.choice(apellidos))\n",
        "    sex=random.randint(0, 1)\n",
        "    if sex == 0 :\n",
        "        valores.append(random.choice(nombre_h))\n",
        "    else:\n",
        "        valores.append(random.choice(nombre_m))\n",
        "        \n",
        "    valores.append(random.choice(puesto))\n",
        "    valores.append(sexo[sex])\n",
        "    return valores"
      ]
    }
  ]
}