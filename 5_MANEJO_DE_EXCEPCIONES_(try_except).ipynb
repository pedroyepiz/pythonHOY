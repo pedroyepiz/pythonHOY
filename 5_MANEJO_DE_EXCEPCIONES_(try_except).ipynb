{
  "nbformat": 4,
  "nbformat_minor": 0,
  "metadata": {
    "colab": {
      "provenance": [],
      "authorship_tag": "ABX9TyNRLrLA+wv9GRiipTE+zI/R",
      "include_colab_link": true
    },
    "kernelspec": {
      "name": "python3",
      "display_name": "Python 3"
    },
    "language_info": {
      "name": "python"
    }
  },
  "cells": [
    {
      "cell_type": "markdown",
      "metadata": {
        "id": "view-in-github",
        "colab_type": "text"
      },
      "source": [
        "<a href=\"https://colab.research.google.com/github/pedroyepiz/pythonHOY/blob/main/5_MANEJO_DE_EXCEPCIONES_(try_except).ipynb\" target=\"_parent\"><img src=\"https://colab.research.google.com/assets/colab-badge.svg\" alt=\"Open In Colab\"/></a>"
      ]
    },
    {
      "cell_type": "markdown",
      "source": [
        "# **MANEJO DE EXCEPCIONES**"
      ],
      "metadata": {
        "id": "ThLSUFox3PSX"
      }
    },
    {
      "cell_type": "markdown",
      "source": [
        "La programación es un proceso complejo y puede haber casos en los que el código pueda encontrar errores durante la ejecución. Las excepciones son eventos que ocurren durante la ejecución de un programa que interrumpen el flujo normal del mismo. En lugar de permitir que el programa se bloquee o se cierre de manera inesperada, podemos manejar estas excepciones y tomar medidas específicas para corregir el problema o notificar al usuario del mismo.\n",
        "\n",
        "El manejo de excepciones es una técnica que se utiliza para manejar errores en el código de forma adecuada y controlada. Al utilizar excepciones, podemos capturar los errores y manejarlos de una manera estructurada, lo que nos permite evitar errores inesperados y mantener el programa en funcionamiento.\n",
        "\n",
        "La importancia del manejo de excepciones radica en que nos permite escribir programas más robustos y confiables. Si no manejamos las excepciones adecuadamente, es posible que los programas no funcionen correctamente o incluso se cierren inesperadamente, lo que puede causar problemas al usuario final. Al manejar las excepciones de manera adecuada, podemos proporcionar una experiencia de usuario más agradable y evitar posibles daños en los datos.\n",
        "\n",
        "\n",
        "En Python, puedes usar los bloques `try` y `except` para manejar estos errores como excepciones.\n"
      ],
      "metadata": {
        "id": "34UMfTWp3eMO"
      }
    },
    {
      "cell_type": "markdown",
      "source": [
        "# **Sintaxis de Try y Except en Python**\n",
        "\n",
        "\n",
        "```\n",
        "try:\n",
        "\t# Codigo a ejecutar\n",
        "\t# Pero podria haber errores en este bloque\n",
        "    \n",
        "except <tipo de error>:\n",
        "\t# Haz esto para manejar la excepcion\n",
        "\t# El bloque except se ejecutara si el bloque try lanza un error\n",
        "    \n",
        "else:\n",
        "\t# Esto se ejecutara si el bloque try se ejecuta sin errores\n",
        "   \n",
        "finally:\n",
        "\t# Este bloque se ejecutara siempre\n",
        "\n",
        "\n",
        "```\n",
        "\n",
        "## **Veamos el uso de cada uno de estos bloques:**\n",
        "\n",
        "EL bloque `try` es el bloque con las sentencias que quieres ejecutar. Sin embargo, podrían llegar a haber errores de ejecución  y el bloque se dejará de ejecutarse.\n",
        "\n",
        "El bloque except se ejecutará cuando el bloque `try` falle debido a un error. Este bloque contiene sentencias que generalmente nos dan un contexto de lo que salió mal en el bloque `try`.\n",
        "\n",
        "Siempre deberías de mencionar el tipo de error que se espera, como una excepción dentro del bloque `except` dentro de <tipo de error> como lo muestra el ejemplo anterior.\n",
        "\n",
        "Podrías usar `except` sin especificar el <tipo de error>. Pero no es una práctica recomendable, ya que no estarás al tanto de los tipos de errores que puedan ocurrir.\n",
        "\n",
        "Cuando se ejecute el código dentro del bloque `try`, existe la posibilidad de que ocurran diferentes errores.\n"
      ],
      "metadata": {
        "id": "92OAkr_U4xFK"
      }
    },
    {
      "cell_type": "code",
      "source": [
        "num1 = int(input(\"Ingrese el primer número: \"))\n",
        "num2 = int(input(\"Ingrese el segundo número: \"))\n",
        "\n",
        "\n",
        "resultado = num1 / num2\n",
        "print(\"El resultado de la división es: \", resultado)"
      ],
      "metadata": {
        "colab": {
          "base_uri": "https://localhost:8080/"
        },
        "id": "fUZLr_jtC1wg",
        "outputId": "f6245e38-597a-489d-c4e0-25c5b34f44d0"
      },
      "execution_count": null,
      "outputs": [
        {
          "output_type": "stream",
          "name": "stdout",
          "text": [
            "Ingrese el primer número: 6\n",
            "Ingrese el segundo número: 5\n",
            "El resultado de la división es:  1.2\n"
          ]
        }
      ]
    },
    {
      "cell_type": "markdown",
      "source": [
        "# **EXCEPCIONES**\n",
        "\n",
        "**La cantidad exacta de excepciones predefinidas en Python puede variar según la versión del lenguaje, pero en la versión actual (Python 3.10), hay 68 excepciones predefinidas en la biblioteca estándar de Python. Sin embargo, también es posible definir excepciones personalizadas para manejar situaciones específicas en un programa.**"
      ],
      "metadata": {
        "id": "298U_fb2854P"
      }
    },
    {
      "cell_type": "markdown",
      "source": [
        "| Excepción         | Descripción                                                            |\n",
        "|-------------------|------------------------------------------------------------------------|\n",
        "| `AssertionError`   | Se levanta cuando una afirmación falla.                                  |\n",
        "| `AttributeError`   | Se levanta cuando un objeto no tiene un atributo válido.                 |\n",
        "| `EOFError`        | Se levanta cuando se encuentra el final inesperado de un archivo.       |\n",
        "| `Exception`        | La excepción base de la cual todas las demás excepciones son subclases. |\n",
        "| `FileNotFoundError` | Se levanta cuando un archivo o directorio no se encuentra.               |\n",
        "| `ImportError`      | Se levanta cuando un módulo no se puede importar.                         |\n",
        "| `IndexError`       | Se levanta cuando un índice está fuera de rango.                          |\n",
        "| `KeyError`         | Se levanta cuando una clave no se encuentra en un diccionario.           |\n",
        "| `KeyboardInterrupt`| Se levanta cuando el usuario presiona la tecla Ctrl+C.                   |\n",
        "| `MemoryError`      | Se levanta cuando Python se queda sin memoria.                            |\n",
        "| `NameError`        | Se levanta cuando se usa una variable no definida.                         |\n",
        "| `NotImplementedError` | Se levanta cuando se llama a una función que aún no se ha implementado. |\n",
        "| `OSError`          | Se levanta cuando ocurre un error del sistema operativo.                  |\n",
        "| `OverflowError`    | Se levanta cuando un cálculo produce un resultado demasiado grande.       |\n",
        "| `RecursionError`   | Se levanta cuando hay demasiadas llamadas recursivas.                     |\n",
        "| `RuntimeError`     | Se levanta cuando ocurre un error en tiempo de ejecución.                  |\n",
        "| `StopIteration`    | Se levanta cuando el iterador no tiene más elementos.                      |\n",
        "| `SyntaxError`      | Se levanta cuando hay un error de sintaxis en el código.                   |\n",
        "| `TabError`         | Se levanta cuando hay un error en la indentación del código.               |\n",
        "| `TypeError`        | Se levanta cuando se usa una variable con un tipo incorrecto.              |\n",
        "| `UnboundLocalError`| Se levanta cuando se intenta acceder a una variable local no inicializada.  |\n",
        "| `ValueError`       | Se levanta cuando una función recibe un argumento con valor incorrecto.    |\n",
        "| `ZeroDivisionError`| Se levanta cuando se intenta dividir por cero.                             |\n"
      ],
      "metadata": {
        "id": "VH51351uB7oo"
      }
    },
    {
      "cell_type": "markdown",
      "source": [
        "# **VARIOS EJEMPLOS**"
      ],
      "metadata": {
        "id": "TAwhqgDY8S5Y"
      }
    },
    {
      "cell_type": "markdown",
      "source": [
        "## **EJEMPLO 1**"
      ],
      "metadata": {
        "id": "wLoE0xHw75t_"
      }
    },
    {
      "cell_type": "code",
      "source": [
        "num1 = int(input(\"Ingrese el primer número: \"))\n",
        "num2 = int(input(\"Ingrese el segundo número: \"))\n",
        "\n",
        "try:\n",
        "    resultado = num1 / num2\n",
        "    print(\"El resultado de la división es: \", resultado)\n",
        "except:\n",
        "    print(\"QUE PARTE DE NUMEROS NO ENTENDISTE \")"
      ],
      "metadata": {
        "colab": {
          "base_uri": "https://localhost:8080/"
        },
        "id": "W8aOWYlRDHz5",
        "outputId": "3eb00bb4-dc78-4bf8-c4e8-95d8d2b3561f"
      },
      "execution_count": null,
      "outputs": [
        {
          "output_type": "stream",
          "name": "stdout",
          "text": [
            "Ingrese el primer número: 3\n",
            "Ingrese el segundo número: 0\n",
            "QUE PARTE DE NUMEROS NO ENTENDISTE \n"
          ]
        }
      ]
    },
    {
      "cell_type": "markdown",
      "source": [
        "## **EJEMPLO 2**\n",
        "El método `isdigit()` para verificar si un valor ingresado en una cadena es un entero."
      ],
      "metadata": {
        "id": "9fdk7AUm91Eg"
      }
    },
    {
      "cell_type": "code",
      "source": [
        "entrada = input(\"Ingrese un valor: \")\n",
        "\n",
        "if entrada.isdigit():\n",
        "    valor = int(entrada)\n",
        "else:\n",
        "    valor = 0\n",
        "\n",
        "print(\"El valor ingresado es:\", valor)\n",
        "\n"
      ],
      "metadata": {
        "id": "M6j47TwGEkkF",
        "colab": {
          "base_uri": "https://localhost:8080/"
        },
        "outputId": "730ad338-c89c-4b26-f9e3-47eaaa9e500c"
      },
      "execution_count": null,
      "outputs": [
        {
          "output_type": "stream",
          "name": "stdout",
          "text": [
            "Ingrese un valor: 23\n",
            "El valor ingresado es: 23\n"
          ]
        }
      ]
    },
    {
      "cell_type": "markdown",
      "source": [
        "## **EJEMPLO 3**\n",
        "**`ZeroDivisionError`** es una excepción que se produce cuando se intenta dividir un número por cero en Python. Esta excepción se produce cuando el segundo operando en una operación de división es cero. Por ejemplo, si intentas ejecutar el siguiente código:"
      ],
      "metadata": {
        "id": "AIMXPmig-KuY"
      }
    },
    {
      "cell_type": "code",
      "source": [
        "num1 = int(input(\"Ingrese el primer número: \"))\n",
        "num2 = int(input(\"Ingrese el segundo número: \"))\n",
        "\n",
        "try:\n",
        "    resultado = num1 / num2\n",
        "    print(\"El resultado de la división es: \", resultado)\n",
        "except ZeroDivisionError:\n",
        "    print(\"Error: El segundo número no puede ser cero.\")\n"
      ],
      "metadata": {
        "colab": {
          "base_uri": "https://localhost:8080/"
        },
        "id": "fvtn56-M8zGO",
        "outputId": "8b4f26b7-9473-41dc-ad6f-33da98580f80"
      },
      "execution_count": null,
      "outputs": [
        {
          "output_type": "stream",
          "name": "stdout",
          "text": [
            "Ingrese el primer número: 1\n",
            "Ingrese el segundo número: 0\n",
            "Error: El segundo número no puede ser cero.\n"
          ]
        }
      ]
    },
    {
      "cell_type": "markdown",
      "source": [
        "# **EJEMPLO 4**"
      ],
      "metadata": {
        "id": "5EBMRjm4_Frd"
      }
    },
    {
      "cell_type": "code",
      "source": [
        "num1 = input(\"Ingrese el primer número: \")\n",
        "num2 = input(\"Ingrese el segundo número: \")\n",
        "\n",
        "try:\n",
        "    resultado = int(num1) / int(num2)\n",
        "    print(\"El resultado de la división es: \", resultado)\n",
        "except ZeroDivisionError:\n",
        "    print(\"Error: El segundo número no puede ser cero.\")\n",
        "except ValueError:\n",
        "    print(\"Error: Los valores ingresados deben ser números enteros.\")\n"
      ],
      "metadata": {
        "colab": {
          "base_uri": "https://localhost:8080/"
        },
        "id": "SyRai5R881BI",
        "outputId": "4cef5b5b-ad6d-4d0b-b8d4-482955aabe58"
      },
      "execution_count": null,
      "outputs": [
        {
          "output_type": "stream",
          "name": "stdout",
          "text": [
            "Ingrese el primer número: 4\n",
            "Ingrese el segundo número: dfg\n",
            "Error: Los valores ingresados deben ser números enteros.\n"
          ]
        }
      ]
    },
    {
      "cell_type": "markdown",
      "source": [
        "# **EJEMPLO 5**\n",
        "En Python, `raise` es una palabra clave que se utiliza para lanzar una excepción explícitamente en un programa. Cuando se encuentra un error o una condición excepcional, el programador puede utilizar la instrucción `raise` para generar una excepción y hacer que el programa termine en una forma controlada."
      ],
      "metadata": {
        "id": "-a9dSmYi_JWH"
      }
    },
    {
      "cell_type": "code",
      "source": [
        "# @title EJEMPLO 5\n",
        "try:\n",
        "    num1 = int(input(\"Ingresa el primer número entero (entre 0 y 100): \"))\n",
        "    if num1 < 0 or num1 > 100:\n",
        "        raise ValueError(\"El número debe estar entre 0 y 100.\")\n",
        "    \n",
        "    num2 = int(input(\"Ingresa el segundo número entero (entre 0 y 100): \"))\n",
        "    if num2 < 0 or num2 > 100:\n",
        "        raise ValueError(\"El número debe estar entre 0 y 100.\")\n",
        "    \n",
        "    num3 = int(input(\"Ingresa el tercer número entero (entre 0 y 100): \"))\n",
        "    if num3 < 0 or num3 > 100:\n",
        "        raise ValueError(\"El número debe estar entre 0 y 100.\")\n",
        "    \n",
        "    suma = num1 + num2 + num3\n",
        "    \n",
        "except ValueError as e:\n",
        "    print(\"Error:\", e)\n",
        "    \n",
        "except TypeError:\n",
        "    print(\"Error: El número debe ser un entero.\")\n",
        "    \n",
        "except:\n",
        "    print(\"Ocurrió un error inesperado.\")\n",
        "    \n",
        "else:\n",
        "    print(\"La suma de los números es:\", suma)\n"
      ],
      "metadata": {
        "colab": {
          "base_uri": "https://localhost:8080/"
        },
        "id": "RK4v8SPd_MLP",
        "outputId": "e3baa15b-2bbd-4062-de97-eb4d6623506b"
      },
      "execution_count": null,
      "outputs": [
        {
          "output_type": "stream",
          "name": "stdout",
          "text": [
            "Ingresa el primer número entero (entre 0 y 100): hjskdgfhjds\n",
            "Error: invalid literal for int() with base 10: 'hjskdgfhjds'\n"
          ]
        }
      ]
    },
    {
      "cell_type": "markdown",
      "source": [
        " * La  `e` es simplemente una variable que se puede utilizar para almacenar la excepción antes de generarla.\n",
        "\n",
        " * Cada excepción se manejará en su propia cláusula `except`. Si no hay excepciones, el bloque `else` se ejecutará para mostrar el resultado."
      ],
      "metadata": {
        "id": "rhxcIquk_7Ql"
      }
    },
    {
      "cell_type": "code",
      "source": [
        "try:\n",
        "    c1= int(input(\"DAME LA CALIF \"))\n",
        "    c2= int(input(\"DAME LA CALIF \"))\n",
        "    c3= int(input(\"DAME LA CALIF \"))\n",
        "except:\n",
        "    print (\"ERROR DE CAPTURA\")\n",
        "else:\n",
        "    prom = (c1 + c2 + c3 )/3\n",
        "    \n"
      ],
      "metadata": {
        "id": "VAP-M8jNL0u4"
      },
      "execution_count": null,
      "outputs": []
    }
  ]
}