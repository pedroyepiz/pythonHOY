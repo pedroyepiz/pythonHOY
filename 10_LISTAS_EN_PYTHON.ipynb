{
  "nbformat": 4,
  "nbformat_minor": 0,
  "metadata": {
    "colab": {
      "provenance": [],
      "authorship_tag": "ABX9TyMqb+gl8FkNnGKiZL58CgS4",
      "include_colab_link": true
    },
    "kernelspec": {
      "name": "python3",
      "display_name": "Python 3"
    },
    "language_info": {
      "name": "python"
    }
  },
  "cells": [
    {
      "cell_type": "markdown",
      "metadata": {
        "id": "view-in-github",
        "colab_type": "text"
      },
      "source": [
        "<a href=\"https://colab.research.google.com/github/pedroyepiz/pythonHOY/blob/main/10_LISTAS_EN_PYTHON.ipynb\" target=\"_parent\"><img src=\"https://colab.research.google.com/assets/colab-badge.svg\" alt=\"Open In Colab\"/></a>"
      ]
    },
    {
      "cell_type": "markdown",
      "source": [
        "# **LISTAS EN PYTHON**\n",
        "## **Introducción a Listas en Python:**\n",
        "Las listas son un tipo de dato en Python que permite almacenar una colección de elementos en un solo lugar. Esto significa que podemos guardar varios elementos en una lista y acceder a ellos de manera fácil y ordenada. Las listas son uno de los tipos de datos más utilizados en Python, ya que son muy flexibles y se pueden utilizar para una amplia variedad de aplicaciones.\n",
        "\n",
        "## **¿Qué son las listas?**\n",
        "Las listas son una estructura de datos en Python que nos permiten almacenar una colección ordenada de elementos. Estos elementos pueden ser de diferentes tipos, como números, cadenas de texto, booleanos, y hasta otras listas. Una lista es similar a una matriz o vector en otros lenguajes de programación.\n",
        "\n",
        "## **¿Qué \"NO\" son las listas?**\n",
        "Las listas no son un tipo de dato primitivo en Python, como lo son los enteros, flotantes o booleanos. En realidad, son un tipo de dato compuesto, ya que pueden contener elementos de diferentes tipos y se pueden crear a partir de otros tipos de datos.\n",
        "\n",
        "## **Características de las listas:**\n",
        "\n",
        "**Las listas son mutables,** lo que significa que podemos cambiar su contenido.\n",
        "Las listas pueden contener elementos de diferentes tipos.\n",
        "\n",
        "**Los elementos de una lista** se almacenan en orden y se pueden acceder utilizando índices.\n",
        "\n",
        "**Las listas son una estructura de datos flexible**, lo que significa que podemos agregar, eliminar o modificar elementos en cualquier momento.\n",
        "¿Cómo se define una lista?\n",
        "\n",
        "**Para definir una lista en Python**, usamos corchetes [] y separamos los elementos por comas. Por ejemplo:\n",
        "\n",
        "```\n",
        "lista = [\"manzana\", 26, 13.65, True]\n",
        "```\n",
        "\n",
        "La sintaxis de una lista es bastante simple. Se define una lista utilizando corchetes [] y los elementos se separan por comas, y los elementos pueden ser de diferentes tipos, a diferencia de un array\n",
        "\n",
        "**Es importante destacar que las listas en Python son sensibles a mayúsculas y minúsculas, es decir, que mi_lista y mi_Lista son dos listas diferentes.**\n",
        "\n",
        "En resumen, las listas en Python son una herramienta muy útil para manejar colecciones de datos de manera flexible y ordenada. La posibilidad de modificarlas y acceder a sus elementos mediante su índice las hace una estructura de datos muy versátil en el lenguaje Python.\n",
        "**Se caracterizan por:**\n",
        "\n",
        "*   Tienen orden.\n",
        "*   Pueden contener elementos de distintos tipos.\n",
        "*   Son mutables, es decir, pueden alterarse durante la ejecución de un programa.\n"
      ],
      "metadata": {
        "id": "NnaC-06qRjJt"
      }
    },
    {
      "cell_type": "markdown",
      "source": [
        "## **CREACIÓN DE UNA LISTA**\n",
        "* **usamos corchetes []** y separamos los elementos por comas. Por ejemplo:\n",
        "\n",
        "```\n",
        "lista = [\"manzana\", 26, 13.65, True]\n",
        "```\n",
        "\n",
        "* Es posible **crear listas vacías** y agregar elementos posteriormente utilizando el método append().\n",
        "\n",
        " \n",
        " ```\n",
        "mi_lista_vacia = []\n",
        "\n",
        "mi_lista_vacia.append(elemento1)\n",
        "\n",
        "mi_lista_vacia.append(elemento2)\n",
        "\n",
        "mi_lista_vacia.append(elemento3)\n",
        "\n",
        "```\n",
        "\n",
        "* **mediante la función list()**\n",
        "\n",
        ">> **list(c)** : Crea una lista con los elementos de la secuencia o colección, Se pueden indicar los elementos separados por comas, mediante una cadena, o mediante una colección de elementos iterable.\n",
        "\n",
        "```\n",
        "lista = list([1, 2, 3])\n",
        "```\n",
        "\n",
        "\n"
      ],
      "metadata": {
        "id": "ZZdSJVi-BAMs"
      }
    },
    {
      "cell_type": "markdown",
      "source": [
        "**EJEMPLOS CREACION LISTAS**"
      ],
      "metadata": {
        "id": "25GFMOjnZ7xX"
      }
    },
    {
      "cell_type": "code",
      "source": [
        "# ASIGNANDO VALORES  Y USANDO CORCHETES\n",
        "lista = [\"manzana\", 26, 13.65, True]\n",
        "\n",
        "#usamos for para mostra valores\n",
        "\n",
        "for elemento in lista:\n",
        "    print(elemento)\n",
        "\n"
      ],
      "metadata": {
        "colab": {
          "base_uri": "https://localhost:8080/"
        },
        "id": "9kZRzp-xaBpy",
        "outputId": "8378a645-738c-4152-f464-656b2cca5489"
      },
      "execution_count": null,
      "outputs": [
        {
          "output_type": "stream",
          "name": "stdout",
          "text": [
            "manzana\n",
            "26\n",
            "13.65\n",
            "True\n"
          ]
        }
      ]
    },
    {
      "cell_type": "code",
      "source": [
        "# CREAR LISTA VACIA Y AGRAGAR ELEMENTOS CON append\n",
        "lista = []\n",
        "lista.append(\"MANZANA\")\n",
        "lista.append(36)\n",
        "lista.append(13.45)\n",
        "lista.append(False)\n",
        "\n",
        "#USAMOS print PARA IMPRIMIR TODA LA LISTA\n",
        "print (lista)\n",
        "\n",
        "#usamos for para mostra valores\n",
        "for elemento in lista:\n",
        "    print(elemento)\n",
        "\n",
        "#IMPRIMIR UN VALOR ESPECIFICO DE LA LISTA USANDO EL INDICE\n",
        "print(not lista[3])"
      ],
      "metadata": {
        "colab": {
          "base_uri": "https://localhost:8080/"
        },
        "id": "DQbBWiCIaBeL",
        "outputId": "c62c0b1e-fc69-4893-f953-9bf12ff317ab"
      },
      "execution_count": null,
      "outputs": [
        {
          "output_type": "stream",
          "name": "stdout",
          "text": [
            "['MANZANA', 36, 13.45, False]\n",
            "MANZANA\n",
            "36\n",
            "13.45\n",
            "False\n",
            "True\n"
          ]
        }
      ]
    },
    {
      "cell_type": "code",
      "source": [
        "# funcion list\n",
        "lista = list([1, 2, 3])\n",
        "print ( lista )\n",
        "lista = list(\"Python\")\n",
        "['P', 'y', 't', 'h', 'o', 'n']"
      ],
      "metadata": {
        "colab": {
          "base_uri": "https://localhost:8080/"
        },
        "id": "2r3RI2WHBMb6",
        "outputId": "d3d8e8b0-b996-499d-f01d-5489bfd30a05"
      },
      "execution_count": null,
      "outputs": [
        {
          "output_type": "stream",
          "name": "stdout",
          "text": [
            "[1, 2, 3]\n"
          ]
        },
        {
          "output_type": "execute_result",
          "data": {
            "text/plain": [
              "['P', 'y', 't', 'h', 'o', 'n']"
            ]
          },
          "metadata": {},
          "execution_count": 11
        }
      ]
    },
    {
      "cell_type": "markdown",
      "source": [
        "\n",
        "\n",
        "---\n",
        "\n"
      ],
      "metadata": {
        "id": "YVEBwnJZk4KG"
      }
    },
    {
      "cell_type": "markdown",
      "source": [
        "# **LISTAS**\n",
        "\n",
        "Las listas se tratan de un tipo compuesto de dato que puede almacenar distintos valores (llamados ítems o elementos) ordenados entre [ ] y separados con comas:\n",
        "\n"
      ],
      "metadata": {
        "id": "g-JMxmd_z2rT"
      }
    },
    {
      "cell_type": "code",
      "execution_count": null,
      "metadata": {
        "id": "3qwPNLH9zxGr"
      },
      "outputs": [],
      "source": [
        "numeros = [1,2,3,4]\n",
        "\n",
        "print (\"los numeros son: -->\",numeros)"
      ]
    },
    {
      "cell_type": "markdown",
      "source": [
        "**Índices y slicing**\n",
        "Funcionan de una forma muy similar a las cadenas de caracteres:"
      ],
      "metadata": {
        "id": "m5Z8ehg_0KNr"
      }
    },
    {
      "cell_type": "code",
      "source": [
        "datos = [4, \"Una cadena\", -15, 3.14, \"Otra cadena\",True]\n",
        "\n",
        "print(datos[0])\n",
        "print(datos[-2])\n",
        "print(datos[2:4])"
      ],
      "metadata": {
        "id": "49vFh-yv0SYR"
      },
      "execution_count": null,
      "outputs": []
    },
    {
      "cell_type": "markdown",
      "source": [
        "**Suma de listas**\n",
        "\n",
        "Da como resultado una nueva lista que incluye todos los ítems:"
      ],
      "metadata": {
        "id": "N54Pv8VU0V9i"
      }
    },
    {
      "cell_type": "code",
      "source": [
        "numeros = [1,5,7,3]\n",
        "numeros=numeros + [5,6,7,8]\n",
        "print (\"LISTA numeros = \",numeros)"
      ],
      "metadata": {
        "id": "EbzTyRZg0idk"
      },
      "execution_count": null,
      "outputs": []
    },
    {
      "cell_type": "markdown",
      "source": [
        "**Mutabilidad**\n",
        "\n",
        "A diferencia de las cadenas, en las listas sí podemos modificar sus ítems utilizando índices:"
      ],
      "metadata": {
        "id": "EVCUjUYN0o0D"
      }
    },
    {
      "cell_type": "code",
      "source": [
        "pares = [0,2,4,5,8,10]\n",
        "pares[3] = 6\n",
        "pares"
      ],
      "metadata": {
        "id": "5dOwuZKU0v49"
      },
      "execution_count": null,
      "outputs": []
    },
    {
      "cell_type": "code",
      "source": [
        "pares = [0,2,4,5,8,10]\n",
        "print (pares)\n",
        "pares.append(12)\n",
        "pares.append(7*2)\n",
        "print (pares)"
      ],
      "metadata": {
        "id": "X8Bunmnt7qT_"
      },
      "execution_count": null,
      "outputs": []
    },
    {
      "cell_type": "markdown",
      "source": [
        "**enumerate**"
      ],
      "metadata": {
        "id": "gTtBeZ9jIKok"
      }
    },
    {
      "cell_type": "code",
      "source": [
        "\n",
        "lista=[\"GATINA\",\"PELUSA\",\"PELUSINA\",\"MILO\",\"KHALIFA\"]\n",
        "i=0\n",
        "\n",
        "for cadena in lista:\n",
        "    print (f\" {[i]}{cadena} --> {len(cadena)} CARACTERES\")\n",
        "    i=i+1\n",
        "\n",
        "\n"
      ],
      "metadata": {
        "id": "t5jzgW-L32o5",
        "colab": {
          "base_uri": "https://localhost:8080/"
        },
        "outputId": "7bd4358c-0b68-4962-eea2-c38772922808"
      },
      "execution_count": null,
      "outputs": [
        {
          "output_type": "stream",
          "name": "stdout",
          "text": [
            " [0]GATINA --> 6 CARACTERES\n",
            " [1]PELUSA --> 6 CARACTERES\n",
            " [2]PELUSINA --> 8 CARACTERES\n",
            " [3]MILO --> 4 CARACTERES\n",
            " [4]KHALIFA --> 7 CARACTERES\n"
          ]
        }
      ]
    },
    {
      "cell_type": "code",
      "source": [
        "\n",
        "\n",
        "lista = [\"LIA\",\"GATINA\",\"PELUSA\",\"PELUSINA\",\"MILO\",\"KHALIFA\",\"MISHA\"]\n",
        "for i,cadena in enumerate(lista):\n",
        "    print (f\" {[i]}{cadena} --> {len(cadena)} CARACTERES\")\n",
        "\n",
        "print(len(lista))  \n"
      ],
      "metadata": {
        "id": "FtllxmVuHQ87",
        "colab": {
          "base_uri": "https://localhost:8080/"
        },
        "outputId": "b12b7ead-ec05-4351-fee7-ce06ced6def4"
      },
      "execution_count": null,
      "outputs": [
        {
          "output_type": "stream",
          "name": "stdout",
          "text": [
            " [0]LIA --> 3 CARACTERES\n",
            " [1]GATINA --> 6 CARACTERES\n",
            " [2]PELUSA --> 6 CARACTERES\n",
            " [3]PELUSINA --> 8 CARACTERES\n",
            " [4]MILO --> 4 CARACTERES\n",
            " [5]KHALIFA --> 7 CARACTERES\n",
            " [6]MISHA --> 5 CARACTERES\n",
            "7\n"
          ]
        }
      ]
    },
    {
      "cell_type": "markdown",
      "source": [
        "# **METODOS DE LA CLASE `list()`**"
      ],
      "metadata": {
        "id": "ljL7SSgMjI32"
      }
    },
    {
      "cell_type": "markdown",
      "source": [
        "Integran funcionalidades internas como el método .append() para añadir un ítem al final de la lista:"
      ],
      "metadata": {
        "id": "bPfUzTrd08Qu"
      }
    },
    {
      "cell_type": "markdown",
      "source": [
        "**append()**\n",
        "\n",
        "Añade un ítem al final de la lista:"
      ],
      "metadata": {
        "id": "8TTJokgYkeEI"
      }
    },
    {
      "cell_type": "code",
      "source": [
        "\n",
        "lista = [1,2,3,4,5]\n",
        "lista2 = lista\n",
        "#print (id(lista),id(lista2))\n",
        "lista.append(\"hola\")\n",
        "print (lista)\n"
      ],
      "metadata": {
        "id": "ai9RrmsAkY5n"
      },
      "execution_count": null,
      "outputs": []
    },
    {
      "cell_type": "markdown",
      "source": [
        "**clear()**\n",
        "\n",
        "Vacía todos los ítems de una lista:"
      ],
      "metadata": {
        "id": "gB5k-Ux1ko-a"
      }
    },
    {
      "cell_type": "code",
      "execution_count": null,
      "metadata": {
        "id": "XB5jQPXckWHi"
      },
      "outputs": [],
      "source": [
        "lista = [1,2,3,4,5]\n",
        "lista2 = lista\n",
        "print (id(lista),id(lista2))\n",
        "lista.append(\"hola\")\n",
        "print (lista)\n",
        "lista.clear()\n",
        "print (lista)\n",
        "print (lista2)"
      ]
    },
    {
      "cell_type": "markdown",
      "source": [
        "**extend()**\n",
        "\n",
        "Une una lista a otra:"
      ],
      "metadata": {
        "id": "Veod1xmZksVm"
      }
    },
    {
      "cell_type": "code",
      "source": [
        "l1 = [1,2,2,3,3,3,3]\n",
        "l2 = [4,5,6]\n",
        "l3 = l1\n",
        "l1.extend(l2)\n",
        "l3.append(l2)\n",
        "print (l1[6])\n",
        "print (l3)\n",
        "print(l3.count(3))"
      ],
      "metadata": {
        "id": "NGyQzu_ykwEX"
      },
      "execution_count": null,
      "outputs": []
    },
    {
      "cell_type": "markdown",
      "source": [
        "**count()**\n",
        "\n",
        "Cuenta el número de veces que aparece un ítem:"
      ],
      "metadata": {
        "id": "Wny_RoYIky-A"
      }
    },
    {
      "cell_type": "code",
      "source": [
        "x=[\"Hola\", \"mundo\", \"Hola\",\"cruel\",\"despiadado\"].count(\"Hola\")\n",
        "print (x)\n",
        "print ([4,7,12,45,6,8,3,6].count(6))"
      ],
      "metadata": {
        "id": "K21jAmX4k3B4"
      },
      "execution_count": null,
      "outputs": []
    },
    {
      "cell_type": "markdown",
      "source": [
        "**index()**\n",
        "\n",
        "Devuelve el índice en el que aparece un ítem (error si no aparece):"
      ],
      "metadata": {
        "id": "dxHVA84dk6f2"
      }
    },
    {
      "cell_type": "code",
      "source": [
        "try:\n",
        "    i=[\"Hola\", \"mundo\", \"mundo\"].index(\"mundo\")\n",
        "    print (\"ESTA EN indice \",i)\n",
        "except:\n",
        "    print (\"NO TA\")"
      ],
      "metadata": {
        "id": "uwbrGUntk_2G"
      },
      "execution_count": null,
      "outputs": []
    },
    {
      "cell_type": "markdown",
      "source": [
        "**insert()**\n",
        "\n",
        "Agrega un ítem a la lista en un índice específico:\n",
        "\n",
        "**Primera posición (0):**"
      ],
      "metadata": {
        "id": "5tw3H7Z7lCoG"
      }
    },
    {
      "cell_type": "code",
      "source": [
        "l = [1,2,3]\n",
        "l.insert(0,2)\n",
        "print (l)"
      ],
      "metadata": {
        "id": "Xx0zbZP4lGjZ"
      },
      "execution_count": null,
      "outputs": []
    },
    {
      "cell_type": "markdown",
      "source": [
        "**Penúltima posición (-1):**\n",
        "\n"
      ],
      "metadata": {
        "id": "9o5S1xLklI_Y"
      }
    },
    {
      "cell_type": "code",
      "source": [
        "l = [5,10,2,4,7,2,15,25]\n",
        "l.insert(-15,20) \n",
        "print (l)"
      ],
      "metadata": {
        "id": "3eB73wWvlMzc"
      },
      "execution_count": null,
      "outputs": []
    },
    {
      "cell_type": "markdown",
      "source": [
        "**Última posición en una lista con len():**\n",
        "\n"
      ],
      "metadata": {
        "id": "4l4z8s6QlO9l"
      }
    },
    {
      "cell_type": "code",
      "source": [
        "l = [5,10,15,25]\n",
        "n = len(l)\n",
        "print (f\" {l} TIENE {n}\")\n",
        "l.insert(n,30)\n",
        "print (f\" {l} TIENE {n}\")"
      ],
      "metadata": {
        "id": "3pExiSlRlRsw"
      },
      "execution_count": null,
      "outputs": []
    },
    {
      "cell_type": "markdown",
      "source": [
        "**Una posición fuera de rango añade el elemento al final de la lista (999):**\n",
        "\n"
      ],
      "metadata": {
        "id": "CHdze50ylUPW"
      }
    },
    {
      "cell_type": "code",
      "source": [
        "l.insert(999, 800)\n",
        "print (l)"
      ],
      "metadata": {
        "id": "yd5rkFvUlXsO"
      },
      "execution_count": null,
      "outputs": []
    },
    {
      "cell_type": "markdown",
      "source": [
        "**pop()**\n",
        "\n",
        "Extrae un ítem de la lista y lo borra:"
      ],
      "metadata": {
        "id": "yX6N5HLClZ5f"
      }
    },
    {
      "cell_type": "code",
      "source": [
        "l2 = []\n",
        "l = [10,20,30,40,50]\n",
        "x=l.pop()\n",
        "l2.append(x)\n",
        "print(l,l2)\n",
        "#x=l.pop()\n",
        "#l2.append(x)\n",
        "#print(l,l2)\n",
        "#x=l.pop(0)\n",
        "#l2.append(x)\n",
        "#print(l,l2)"
      ],
      "metadata": {
        "id": "huUyzwnalckY"
      },
      "execution_count": null,
      "outputs": []
    },
    {
      "cell_type": "markdown",
      "source": [
        "**NOTA:**\n",
        "Podemos indicarle un índice con el elemento a sacar (0 es el primer ítem):\n",
        "\n"
      ],
      "metadata": {
        "id": "NncZr4JeljF1"
      }
    },
    {
      "cell_type": "code",
      "source": [
        "print(l.pop(0))\n",
        "print(l)"
      ],
      "metadata": {
        "id": "8MxJYhRZlj3h"
      },
      "execution_count": null,
      "outputs": []
    },
    {
      "cell_type": "markdown",
      "source": [
        "\n",
        "**remove()**\n",
        "\n",
        "Borra el primer ítem de la lista cuyo valor concuerde con el que indicamos:"
      ],
      "metadata": {
        "id": "ag1BDZCFll7u"
      }
    },
    {
      "cell_type": "code",
      "source": [
        "l = [20,30,30,30,40]\n",
        "l.remove(30)\n",
        "print(l)"
      ],
      "metadata": {
        "id": "2T560CBwltd9"
      },
      "execution_count": null,
      "outputs": []
    },
    {
      "cell_type": "markdown",
      "source": [
        "____"
      ],
      "metadata": {
        "id": "I3fyjgzXmJne"
      }
    },
    {
      "cell_type": "markdown",
      "source": [
        "**reverse**()\n",
        "\n",
        "Le da la vuelta a la lista actual:"
      ],
      "metadata": {
        "id": "BLBIlQbelv15"
      }
    },
    {
      "cell_type": "code",
      "source": [
        "l.reverse()\n",
        "print(l)"
      ],
      "metadata": {
        "id": "TxHc1yc0l7hW"
      },
      "execution_count": null,
      "outputs": []
    },
    {
      "cell_type": "markdown",
      "source": [
        "**Las cadenas no tienen el método .reverse() pero podemos simularlo haciendo unas conversiones:**\n",
        "\n"
      ],
      "metadata": {
        "id": "xmpbvFtMl_lG"
      }
    },
    {
      "cell_type": "code",
      "source": [
        "lista = list(\"Hola mundo\")\n",
        "lista.reverse()\n",
        "cadena = \"\".join(lista)\n",
        "cadena    "
      ],
      "metadata": {
        "id": "KSAQiskcmF56"
      },
      "execution_count": null,
      "outputs": []
    },
    {
      "cell_type": "markdown",
      "source": [
        "**sort()**\n",
        "\n",
        "Ordena automáticamente los ítems de una lista por su valor de menor a mayor:"
      ],
      "metadata": {
        "id": "OU8wBFm0mI6Z"
      }
    },
    {
      "cell_type": "code",
      "source": [
        "lista = [5,-10,35,0,-65,100]\n",
        "lista.sort()\n",
        "lista"
      ],
      "metadata": {
        "id": "eY4dtXoZmKER"
      },
      "execution_count": null,
      "outputs": []
    },
    {
      "cell_type": "markdown",
      "source": [
        "**Podemos utilizar el argumento reverse=True para indicar que la ordene del revés:**\n",
        "\n"
      ],
      "metadata": {
        "id": "VkIUAl8qmMhB"
      }
    },
    {
      "cell_type": "code",
      "source": [
        "lista.sort(reverse=True)\n",
        "lista"
      ],
      "metadata": {
        "id": "t9qSdgoDmQEy"
      },
      "execution_count": null,
      "outputs": []
    },
    {
      "cell_type": "markdown",
      "source": [
        "**FUNCION sorted**"
      ],
      "metadata": {
        "id": "-yVn_BjGm5Xp"
      }
    },
    {
      "cell_type": "code",
      "source": [
        "alumnos = [\"JUAN\",\"PEDRITO\",\"MARIA\",\"ESTEFANIA\",\"JESUS\",\"NOELIA\"]\n",
        "sorted_alumnos = sorted(alumnos)\n",
        "print(alumnos)\n",
        "print(sorted_alumnos)"
      ],
      "metadata": {
        "id": "X-jS7LXQm4W8"
      },
      "execution_count": null,
      "outputs": []
    },
    {
      "cell_type": "markdown",
      "source": [
        "**FUNCION len**"
      ],
      "metadata": {
        "id": "i6UCo6O7oz4y"
      }
    },
    {
      "cell_type": "code",
      "source": [
        "palabra = \"papel\"\n",
        "alumnos = [\"JUAN\",\"PEDRITO\",\"MARIA\",\"ESTEFANIA\",\"JESUS\",\"NOELIA\"]\n",
        "print(len(palabra))\n",
        "x=len(alumnos)\n",
        "print (x)\n",
        "\n",
        "#palabras = [\"papel\",\"platano\",\"tu\",\"estafilococo\",\"cacatua\",\"yo\",\"sopa\"]\n",
        "#print(sorted(palabras))\n",
        "#print(sorted(palabras,key=len))\n",
        "#print(sorted(palabras,reverse=True))\n",
        "#print(sorted(palabras,key=len,reverse=True))"
      ],
      "metadata": {
        "id": "JmHs5mxjo4up"
      },
      "execution_count": null,
      "outputs": []
    },
    {
      "cell_type": "markdown",
      "source": [
        "# **SUBLISTAS**\n",
        "\n",
        "`l[i:j:k] `: Devuelve la sublista desde el elemento de l con el índice i hasta el elemento anterior al índice j, tomando elementos cada k.\n",
        "\n"
      ],
      "metadata": {
        "id": "5Jat6HKAtvWK"
      }
    },
    {
      "cell_type": "code",
      "source": [
        "lista = [\"P\",\"E\",\"D\",\"R\",\"I\",\"T\",\"O\"]\n",
        "print (lista[1:4])\n",
        "\n",
        "print (lista[1:1])\n",
        "\n",
        "print (lista[:-5])\n",
        "\n",
        "print (lista[:])\n",
        "\n",
        "print (lista[0:6:2])\n",
        "\n",
        "print (lista)"
      ],
      "metadata": {
        "id": "vCs5UNe9t61E",
        "colab": {
          "base_uri": "https://localhost:8080/"
        },
        "outputId": "5a7debc2-6097-4d31-c2a9-b75ff9a5522e"
      },
      "execution_count": null,
      "outputs": [
        {
          "output_type": "stream",
          "name": "stdout",
          "text": [
            "['E', 'D', 'R']\n",
            "[]\n",
            "['P', 'E']\n",
            "['P', 'E', 'D', 'R', 'I', 'T', 'O']\n",
            "['P', 'D', 'I']\n",
            "['P', 'E', 'D', 'R', 'I', 'T', 'O']\n"
          ]
        }
      ]
    },
    {
      "cell_type": "markdown",
      "source": [
        "____"
      ],
      "metadata": {
        "id": "H-myelnZu0NN"
      }
    },
    {
      "cell_type": "markdown",
      "source": [
        "# **LISTADO DE METODOS DE LA CLASE `list()`**\n",
        "\n",
        "\n",
        "| **Método**         | **Descripción**                                       | **Ejemplo básico**                                  |\n",
        "| -------------- | ------------------------------------------------- | ----------------------------------------------- |\n",
        "| **append()**      | Agrega un elemento al final de la lista            | `mi_lista.append(\"manzana\")`                    |\n",
        "| **clear()**       | Elimina todos los elementos de la lista            | `mi_lista.clear()`                              |\n",
        "| **copy()**        | Crea una copia de la lista                         | `mi_copia_lista = mi_lista.copy()`              |\n",
        "| **count()**        | Cuenta el número de elementos con un valor dado    | `mi_lista.count(\"manzana\")`                     |\n",
        "| **extend()**       | Agrega los elementos de una lista a otra lista     | `mi_lista.extend([\"naranja\", \"pera\"])`           |\n",
        "| **index()**        | Devuelve el índice del primer elemento con un valor dado | `mi_lista.index(\"manzana\")`                 |\n",
        "| **insert()**       | Inserta un elemento en una posición especificada   | `mi_lista.insert(1, \"banana\")`                  |\n",
        "| **pop()**          | Elimina y devuelve el último elemento de la lista  | `ultimo_elemento = mi_lista.pop()`              |\n",
        "| **remove()**       | Elimina el primer elemento con un valor dado       | `mi_lista.remove(\"manzana\")`                    |\n",
        "| **reverse()**      | Invierte el orden de los elementos en la lista     | `mi_lista.reverse()`                            |\n",
        "| **sort()**         | Ordena los elementos de la lista                   | `mi_lista.sort()`                               |\n",
        "| **len()**          | Devuelve la longitud de la lista                   | `len(mi_lista)`                                 |\n",
        "| **max()**          | Devuelve el elemento con el valor máximo           | `max(mi_lista)`                                 |\n",
        "| **min()**          | Devuelve el elemento con el valor mínimo           | `min(mi_lista)`                                 |\n",
        "| **sum()**          | Devuelve la suma de los elementos de la lista      | `sum(mi_lista)`                                 |\n",
        "| **any()**          | Devuelve `True` si algún elemento es verdadero     | `any(mi_lista)`                                 |\n",
        "| **all()**          | Devuelve `True` si todos los elementos son verdaderos | `all(mi_lista)`                             |\n",
        "| **sorted()**       | Devuelve una lista ordenada                        | `sorted(mi_lista)`                              |\n",
        "| **zip()**          | Combina dos listas en una lista de tuplas           | `mi_lista_combinada = zip(mi_lista1, mi_lista2)` |\n",
        "| **enumerate()**    | Devuelve una lista de tuplas con índices y valores  | `lista_enumerada = enumerate(mi_lista)`         |\n"
      ],
      "metadata": {
        "id": "EUTsjnJkfmI0"
      }
    },
    {
      "cell_type": "markdown",
      "source": [
        "____\n"
      ],
      "metadata": {
        "id": "w8kSNhdv8XpE"
      }
    },
    {
      "cell_type": "markdown",
      "source": [
        "# **IMPORTANTE:**\n",
        "> En Python, las listas son un tipo de datos mutables, lo que significa que se pueden cambiar después de haber sido creadas. Esto se logra mediante la asignación de nuevos valores a los índices de la lista, la eliminación de elementos existentes o la inserción de nuevos elementos en la lista.\n",
        "\n",
        "> Cuando se utilizan **ciertas funciones o métodos en las listas, éstos pueden modificar directamente la lista original**, es decir, pueden cambiar la lista y actualizarla con nuevos valores o eliminar elementos existentes. A estas funciones se les llama **\"métodos mutables\" o \"métodos modificadores\".**\n",
        "\n",
        "> Por otro lado, **hay otros métodos que no modifican la lista original sino que devuelven una nueva lista** que es una versión modificada de la lista original, sin cambiar la lista original. A estos métodos se les llama **\"métodos inmutables\" o \"métodos no modificadores\".**\n",
        "\n",
        "> Es importante conocer la diferencia entre los métodos mutables y no mutables al trabajar con listas en Python, ya que la modificación accidental de la lista original puede provocar errores en el código y producir resultados inesperados. Por lo tanto, es necesario ser cuidadoso al elegir los métodos que se utilizan en cada caso y comprender cómo afectarán a la lista original.  \n"
      ],
      "metadata": {
        "id": "0aaysvXGjnjL"
      }
    },
    {
      "cell_type": "markdown",
      "source": [
        "# **OPERACONES QUE \"NO\" MODIFICAN UNA LISTA**\n",
        "\n",
        "**len(l)** : Devuelve el número de elementos de la lista l.\n",
        "\n",
        "\n",
        "**min(l)** : Devuelve el mínimo elemento de la lista l siempre que los datos sean comparables.\n",
        "\n",
        "**max(l)** : Devuelve el máximo elemento de la lista l siempre que los datos sean comparables.\n",
        "\n",
        "**sum(l)** : Devuelve la suma de los elementos de la lista l, siempre que los datos se puedan sumar.\n",
        "\n",
        "**dato in l** : Devuelve True si el dato dato pertenece a la lista l y False en caso contrario.\n",
        "\n",
        "**l.index(dato)** : Devuelve la posición que ocupa en la lista l el primer elemento con valor dato.\n",
        "\n",
        "**l.count(dato)** : Devuelve el número de veces que el valor dato está contenido en la lista l.\n",
        "\n",
        "**all(l)** : Devuelve True si todos los elementos de la lista l son True y False en caso contrario.\n",
        "\n",
        "**any(l)** : Devuelve True si algún elemento de la lista l es True y False en caso contrario.\n"
      ],
      "metadata": {
        "id": "2ccTPaNm8c8l"
      }
    },
    {
      "cell_type": "markdown",
      "source": [
        "# **OPERACIONES QUE MODIFICAN UNA LISTA**\n",
        "\n",
        "**l1 + l2** : Crea una nueva lista concatenan los elementos de la listas l1 y l2.\n",
        "\n",
        "**l.append(dato)** : Añade dato al final de la lista l.\n",
        "\n",
        "**l.extend(sequencia)** : Añade los datos de sequencia al final de la lista l.\n",
        "\n",
        "**l.insert(índice, dato)** : Inserta dato en la posición índice de la lista l y desplaza los elementos una posición a partir de la posición índice.\n",
        "\n",
        "**l.remove(dato)** : Elimina el primer elemento con valor dato en la lista l y desplaza los que están por detrás de él una posición hacia delante.\n",
        "\n",
        "**l.pop([índice])** : Devuelve el dato en la posición índice y lo elimina de la lista l, desplazando los elementos por detrás de él una posición hacia delante.\n",
        "\n",
        "**l.sort()**: Ordena los elementos de la lista l de acuerdo al orden predefinido, siempre que los elementos sean comparables.\n",
        "\n",
        "**l.reverse()** : invierte el orden de los elementos de la lista l."
      ],
      "metadata": {
        "id": "4CColb8K-4-m"
      }
    }
  ]
}