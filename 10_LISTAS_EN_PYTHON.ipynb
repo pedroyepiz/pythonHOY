{
  "nbformat": 4,
  "nbformat_minor": 0,
  "metadata": {
    "colab": {
      "provenance": [],
      "authorship_tag": "ABX9TyOw65Zb3e42slwwHkYFXs0J",
      "include_colab_link": true
    },
    "kernelspec": {
      "name": "python3",
      "display_name": "Python 3"
    },
    "language_info": {
      "name": "python"
    }
  },
  "cells": [
    {
      "cell_type": "markdown",
      "metadata": {
        "id": "view-in-github",
        "colab_type": "text"
      },
      "source": [
        "<a href=\"https://colab.research.google.com/github/pedroyepiz/pythonHOY/blob/main/10_LISTAS_EN_PYTHON.ipynb\" target=\"_parent\"><img src=\"https://colab.research.google.com/assets/colab-badge.svg\" alt=\"Open In Colab\"/></a>"
      ]
    },
    {
      "cell_type": "markdown",
      "source": [
        "![python portada.png](data:image/png;base64,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)"
      ],
      "metadata": {
        "id": "86ML3AHw6UbY"
      }
    },
    {
      "cell_type": "markdown",
      "source": [
        "# **10.- LISTAS EN PYTHON**\n",
        "## **Introducción a Listas en Python:**\n",
        "Las listas son un tipo de dato en Python que permite almacenar una colección de elementos en un solo lugar. Esto significa que podemos guardar varios elementos en una lista y acceder a ellos de manera fácil y ordenada. Las listas son uno de los tipos de datos más utilizados en Python, ya que son muy flexibles y se pueden utilizar para una amplia variedad de aplicaciones.\n",
        "\n",
        "## **¿Qué son las listas?**\n",
        "Las listas son una estructura de datos en Python que nos permiten almacenar una colección ordenada de elementos. Estos elementos pueden ser de diferentes tipos, como números, cadenas de texto, booleanos, y hasta otras listas. Una lista es similar a una matriz o vector en otros lenguajes de programación.\n",
        "\n",
        "## **¿Qué \"NO\" son las listas?**\n",
        "Las listas no son un tipo de dato primitivo en Python, como lo son los enteros, flotantes o booleanos. En realidad, son un tipo de dato compuesto, ya que pueden contener elementos de diferentes tipos y se pueden crear a partir de otros tipos de datos.\n",
        "\n",
        "## **Características de las listas:**\n",
        "\n",
        "**Las listas son mutables,** lo que significa que podemos cambiar su contenido.\n",
        "Las listas pueden contener elementos de diferentes tipos.\n",
        "\n",
        "**Los elementos de una lista** se almacenan en orden y se pueden acceder utilizando índices.\n",
        "\n",
        "**Las listas son una estructura de datos flexible**, lo que significa que podemos agregar, eliminar o modificar elementos en cualquier momento.\n",
        "¿Cómo se define una lista?\n",
        "\n",
        "**Para definir una lista en Python**, usamos corchetes [] y separamos los elementos por comas. Por ejemplo:\n",
        "\n",
        "```\n",
        "lista = [\"manzana\", 26, 13.65, True]\n",
        "```\n",
        "\n",
        "La sintaxis de una lista es bastante simple. Se define una lista utilizando corchetes [] y los elementos se separan por comas, y los elementos pueden ser de diferentes tipos, a diferencia de un array\n",
        "\n",
        "**Es importante destacar que las listas en Python son sensibles a mayúsculas y minúsculas, es decir, que mi_lista y mi_Lista son dos listas diferentes.**\n",
        "\n",
        "En resumen, las listas en Python son una herramienta muy útil para manejar colecciones de datos de manera flexible y ordenada. La posibilidad de modificarlas y acceder a sus elementos mediante su índice las hace una estructura de datos muy versátil en el lenguaje Python.\n",
        "**Se caracterizan por:**\n",
        "\n",
        "*   Tienen orden.\n",
        "*   Pueden contener elementos de distintos tipos.\n",
        "*   Son mutables, es decir, pueden alterarse durante la ejecución de un programa.\n"
      ],
      "metadata": {
        "id": "NnaC-06qRjJt"
      }
    },
    {
      "cell_type": "markdown",
      "source": [
        "## **CREACIÓN DE UNA LISTA**\n",
        "* **usamos corchetes []** y separamos los elementos por comas. Por ejemplo:\n",
        "\n",
        "```\n",
        "lista = [\"manzana\", 26, 13.65, True]\n",
        "```\n",
        "\n",
        "* Es posible **crear listas vacías** y agregar elementos posteriormente utilizando el método append().\n",
        "\n",
        " \n",
        " ```\n",
        "mi_lista_vacia = []\n",
        "\n",
        "mi_lista_vacia.append(elemento1)\n",
        "\n",
        "mi_lista_vacia.append(elemento2)\n",
        "\n",
        "mi_lista_vacia.append(elemento3)\n",
        "\n",
        "```\n",
        "\n",
        "* **mediante la función list()**\n",
        "\n",
        ">> **list(c)** : Crea una lista con los elementos de la secuencia o colección, Se pueden indicar los elementos separados por comas, mediante una cadena, o mediante una colección de elementos iterable.\n",
        "\n",
        "```\n",
        "lista = list([1, 2, 3])\n",
        "```\n",
        "\n",
        "\n"
      ],
      "metadata": {
        "id": "ZZdSJVi-BAMs"
      }
    },
    {
      "cell_type": "markdown",
      "source": [
        "**EJEMPLOS CREACION LISTAS**"
      ],
      "metadata": {
        "id": "25GFMOjnZ7xX"
      }
    },
    {
      "cell_type": "code",
      "source": [
        "# ASIGNANDO VALORES  Y USANDO CORCHETES\n",
        "lista = [\"manzana\", 26, 13.65, True]\n",
        "\n",
        "#usamos for para mostra valores\n",
        "\n",
        "for elemento in lista:\n",
        "    print(elemento)\n",
        "\n"
      ],
      "metadata": {
        "colab": {
          "base_uri": "https://localhost:8080/",
          "height": 0
        },
        "id": "9kZRzp-xaBpy",
        "outputId": "d3043954-33f5-4b03-9480-831267c10247"
      },
      "execution_count": 9,
      "outputs": [
        {
          "output_type": "stream",
          "name": "stdout",
          "text": [
            "manzana\n",
            "26\n",
            "13.65\n",
            "True\n"
          ]
        }
      ]
    },
    {
      "cell_type": "code",
      "source": [
        "# CREAR LISTA VACIA Y AGRAGAR ELEMENTOS CON append\n",
        "lista = []\n",
        "lista.append(\"MANZANA\")\n",
        "lista.append(36)\n",
        "lista.append(13.45)\n",
        "lista.append(False)\n",
        "\n",
        "#USAMOS print PARA IMPRIMIR TODA LA LISTA\n",
        "print (lista)\n",
        "\n",
        "#usamos for para mostra valores\n",
        "for elemento in lista:\n",
        "    print(elemento)\n",
        "\n",
        "#IMPRIMIR UN VALOR ESPECIFICO DE LA LISTA USANDO EL INDICE\n",
        "print(not lista[3])"
      ],
      "metadata": {
        "colab": {
          "base_uri": "https://localhost:8080/",
          "height": 0
        },
        "id": "DQbBWiCIaBeL",
        "outputId": "12260a02-0de2-44ec-c1d8-01ebf2c3ba42"
      },
      "execution_count": 10,
      "outputs": [
        {
          "output_type": "stream",
          "name": "stdout",
          "text": [
            "['MANZANA', 36, 13.45, False]\n",
            "MANZANA\n",
            "36\n",
            "13.45\n",
            "False\n",
            "True\n"
          ]
        }
      ]
    },
    {
      "cell_type": "code",
      "source": [
        "# funcion list\n",
        "lista = list([1, 2, 3])\n",
        "print ( lista )\n",
        "lista = list(\"Python\")\n",
        "['P', 'y', 't', 'h', 'o', 'n']"
      ],
      "metadata": {
        "colab": {
          "base_uri": "https://localhost:8080/",
          "height": 0
        },
        "id": "2r3RI2WHBMb6",
        "outputId": "4e8fe997-ba32-43f2-a70e-d67dfa5a9073"
      },
      "execution_count": 11,
      "outputs": [
        {
          "output_type": "stream",
          "name": "stdout",
          "text": [
            "[1, 2, 3]\n"
          ]
        },
        {
          "output_type": "execute_result",
          "data": {
            "text/plain": [
              "['P', 'y', 't', 'h', 'o', 'n']"
            ]
          },
          "metadata": {},
          "execution_count": 11
        }
      ]
    },
    {
      "cell_type": "markdown",
      "source": [
        "\n",
        "\n",
        "---\n",
        "\n"
      ],
      "metadata": {
        "id": "YVEBwnJZk4KG"
      }
    },
    {
      "cell_type": "markdown",
      "source": [
        "# **LISTAS**\n",
        "\n",
        "Las listas se tratan de un tipo compuesto de dato que puede almacenar distintos valores (llamados ítems o elementos) ordenados entre [ ] y separados con comas:\n",
        "\n"
      ],
      "metadata": {
        "id": "g-JMxmd_z2rT"
      }
    },
    {
      "cell_type": "code",
      "execution_count": 12,
      "metadata": {
        "id": "3qwPNLH9zxGr",
        "colab": {
          "base_uri": "https://localhost:8080/",
          "height": 0
        },
        "outputId": "863509b6-5c08-428d-ef4d-ec3b2eae0c76"
      },
      "outputs": [
        {
          "output_type": "stream",
          "name": "stdout",
          "text": [
            "los numeros son: --> [1, 2, 3, 4]\n"
          ]
        }
      ],
      "source": [
        "numeros = [1,2,3,4]\n",
        "\n",
        "print (\"los numeros son: -->\",numeros)"
      ]
    },
    {
      "cell_type": "markdown",
      "source": [
        "**Índices y slicing**\n",
        "Funcionan de una forma muy similar a las cadenas de caracteres:"
      ],
      "metadata": {
        "id": "m5Z8ehg_0KNr"
      }
    },
    {
      "cell_type": "code",
      "source": [
        "datos = [4, \"Una cadena\", -15, 3.14, \"Otra cadena\",True]\n",
        "\n",
        "print(datos[0])\n",
        "print(datos[-2])\n",
        "print(datos[2:4])"
      ],
      "metadata": {
        "id": "49vFh-yv0SYR",
        "colab": {
          "base_uri": "https://localhost:8080/",
          "height": 0
        },
        "outputId": "0bfeb1d7-10a3-483e-af44-4bab6edeed20"
      },
      "execution_count": 13,
      "outputs": [
        {
          "output_type": "stream",
          "name": "stdout",
          "text": [
            "4\n",
            "Otra cadena\n",
            "[-15, 3.14]\n"
          ]
        }
      ]
    },
    {
      "cell_type": "markdown",
      "source": [
        "**Suma de listas**\n",
        "\n",
        "Da como resultado una nueva lista que incluye todos los ítems:"
      ],
      "metadata": {
        "id": "N54Pv8VU0V9i"
      }
    },
    {
      "cell_type": "code",
      "source": [
        "numeros = [1,5,7,3]\n",
        "numeros=numeros + [5,6,7,8]\n",
        "print (\"LISTA numeros = \",numeros)"
      ],
      "metadata": {
        "id": "EbzTyRZg0idk",
        "colab": {
          "base_uri": "https://localhost:8080/",
          "height": 0
        },
        "outputId": "74a6c5f3-0543-4f53-dfc4-5115e5b227d3"
      },
      "execution_count": 14,
      "outputs": [
        {
          "output_type": "stream",
          "name": "stdout",
          "text": [
            "LISTA numeros =  [1, 5, 7, 3, 5, 6, 7, 8]\n"
          ]
        }
      ]
    },
    {
      "cell_type": "markdown",
      "source": [
        "**Mutabilidad**\n",
        "\n",
        "A diferencia de las cadenas, en las listas sí podemos modificar sus ítems utilizando índices:"
      ],
      "metadata": {
        "id": "EVCUjUYN0o0D"
      }
    },
    {
      "cell_type": "code",
      "source": [
        "pares = [0,2,4,5,8,10]\n",
        "pares[3] = 6\n",
        "pares"
      ],
      "metadata": {
        "id": "5dOwuZKU0v49",
        "colab": {
          "base_uri": "https://localhost:8080/",
          "height": 0
        },
        "outputId": "59fc79b0-fd43-4668-eab9-a62a2f0a528b"
      },
      "execution_count": 15,
      "outputs": [
        {
          "output_type": "execute_result",
          "data": {
            "text/plain": [
              "[0, 2, 4, 6, 8, 10]"
            ]
          },
          "metadata": {},
          "execution_count": 15
        }
      ]
    },
    {
      "cell_type": "code",
      "source": [
        "pares = [0,2,4,5,8,10]\n",
        "print (pares)\n",
        "pares.append(12)\n",
        "pares.append(7*2)\n",
        "print (pares)"
      ],
      "metadata": {
        "id": "X8Bunmnt7qT_",
        "colab": {
          "base_uri": "https://localhost:8080/",
          "height": 0
        },
        "outputId": "d2da02ed-94fc-45d6-dec9-b003196265b4"
      },
      "execution_count": 16,
      "outputs": [
        {
          "output_type": "stream",
          "name": "stdout",
          "text": [
            "[0, 2, 4, 5, 8, 10]\n",
            "[0, 2, 4, 5, 8, 10, 12, 14]\n"
          ]
        }
      ]
    },
    {
      "cell_type": "markdown",
      "source": [
        "**enumerate**"
      ],
      "metadata": {
        "id": "gTtBeZ9jIKok"
      }
    },
    {
      "cell_type": "code",
      "source": [
        "\n",
        "lista=[\"GATINA\",\"PELUSA\",\"PELUSINA\",\"MILO\",\"KHALIFA\"]\n",
        "i=0\n",
        "\n",
        "for cadena in lista:\n",
        "    print (f\" {[i]}{cadena} --> {len(cadena)} CARACTERES\")\n",
        "    i=i+1\n",
        "\n",
        "\n"
      ],
      "metadata": {
        "id": "t5jzgW-L32o5",
        "colab": {
          "base_uri": "https://localhost:8080/",
          "height": 0
        },
        "outputId": "7173d0e7-dbd6-48fe-b794-0c647873c7c6"
      },
      "execution_count": 17,
      "outputs": [
        {
          "output_type": "stream",
          "name": "stdout",
          "text": [
            " [0]GATINA --> 6 CARACTERES\n",
            " [1]PELUSA --> 6 CARACTERES\n",
            " [2]PELUSINA --> 8 CARACTERES\n",
            " [3]MILO --> 4 CARACTERES\n",
            " [4]KHALIFA --> 7 CARACTERES\n"
          ]
        }
      ]
    },
    {
      "cell_type": "code",
      "source": [
        "\n",
        "\n",
        "lista = [\"LIA\",\"GATINA\",\"PELUSA\",\"PELUSINA\",\"MILO\",\"KHALIFA\",\"MISHA\"]\n",
        "for i,cadena in enumerate(lista):\n",
        "    print (f\" {[i]}{cadena} --> {len(cadena)} CARACTERES\")\n",
        "\n",
        "print(len(lista))  \n"
      ],
      "metadata": {
        "id": "FtllxmVuHQ87",
        "colab": {
          "base_uri": "https://localhost:8080/",
          "height": 0
        },
        "outputId": "a6cff67e-9c23-48f9-f570-b1691faea9fa"
      },
      "execution_count": 18,
      "outputs": [
        {
          "output_type": "stream",
          "name": "stdout",
          "text": [
            " [0]LIA --> 3 CARACTERES\n",
            " [1]GATINA --> 6 CARACTERES\n",
            " [2]PELUSA --> 6 CARACTERES\n",
            " [3]PELUSINA --> 8 CARACTERES\n",
            " [4]MILO --> 4 CARACTERES\n",
            " [5]KHALIFA --> 7 CARACTERES\n",
            " [6]MISHA --> 5 CARACTERES\n",
            "7\n"
          ]
        }
      ]
    },
    {
      "cell_type": "markdown",
      "source": [
        "# **METODOS DE LA CLASE `list()`**"
      ],
      "metadata": {
        "id": "ljL7SSgMjI32"
      }
    },
    {
      "cell_type": "markdown",
      "source": [
        "Integran funcionalidades internas como el método .append() para añadir un ítem al final de la lista:"
      ],
      "metadata": {
        "id": "bPfUzTrd08Qu"
      }
    },
    {
      "cell_type": "markdown",
      "source": [
        "**append()**\n",
        "\n",
        "Añade un ítem al final de la lista:"
      ],
      "metadata": {
        "id": "8TTJokgYkeEI"
      }
    },
    {
      "cell_type": "code",
      "source": [
        "\n",
        "lista = [1,2,3,4,5]\n",
        "lista2 = lista\n",
        "#print (id(lista),id(lista2))\n",
        "lista.append(\"hola\")\n",
        "print (lista)\n"
      ],
      "metadata": {
        "id": "ai9RrmsAkY5n",
        "colab": {
          "base_uri": "https://localhost:8080/",
          "height": 0
        },
        "outputId": "e55f7852-1eb8-40f4-e9eb-fd78ffc25fc8"
      },
      "execution_count": 19,
      "outputs": [
        {
          "output_type": "stream",
          "name": "stdout",
          "text": [
            "[1, 2, 3, 4, 5, 'hola']\n"
          ]
        }
      ]
    },
    {
      "cell_type": "markdown",
      "source": [
        "**clear()**\n",
        "\n",
        "Vacía todos los ítems de una lista:"
      ],
      "metadata": {
        "id": "gB5k-Ux1ko-a"
      }
    },
    {
      "cell_type": "code",
      "execution_count": 20,
      "metadata": {
        "id": "XB5jQPXckWHi",
        "colab": {
          "base_uri": "https://localhost:8080/",
          "height": 0
        },
        "outputId": "084f8ce8-fe2f-4c7b-9bbb-84c32dab3178"
      },
      "outputs": [
        {
          "output_type": "stream",
          "name": "stdout",
          "text": [
            "139715105944064 139715105944064\n",
            "[1, 2, 3, 4, 5, 'hola']\n",
            "[]\n",
            "[]\n"
          ]
        }
      ],
      "source": [
        "lista = [1,2,3,4,5]\n",
        "lista2 = lista\n",
        "print (id(lista),id(lista2))\n",
        "lista.append(\"hola\")\n",
        "print (lista)\n",
        "lista.clear()\n",
        "print (lista)\n",
        "print (lista2)"
      ]
    },
    {
      "cell_type": "markdown",
      "source": [
        "**extend()**\n",
        "\n",
        "Une una lista a otra:"
      ],
      "metadata": {
        "id": "Veod1xmZksVm"
      }
    },
    {
      "cell_type": "code",
      "source": [
        "l1 = [1,2,2,3,3,3,3]\n",
        "l2 = [4,5,6]\n",
        "l3 = l1\n",
        "l1.extend(l2)\n",
        "l3.append(l2)\n",
        "print (l1[6])\n",
        "print (l3)\n",
        "print(l3.count(3))"
      ],
      "metadata": {
        "id": "NGyQzu_ykwEX",
        "colab": {
          "base_uri": "https://localhost:8080/",
          "height": 0
        },
        "outputId": "f80509ca-07bd-4aa7-c401-1dc2336afd42"
      },
      "execution_count": 21,
      "outputs": [
        {
          "output_type": "stream",
          "name": "stdout",
          "text": [
            "3\n",
            "[1, 2, 2, 3, 3, 3, 3, 4, 5, 6, [4, 5, 6]]\n",
            "4\n"
          ]
        }
      ]
    },
    {
      "cell_type": "markdown",
      "source": [
        "**count()**\n",
        "\n",
        "Cuenta el número de veces que aparece un ítem:"
      ],
      "metadata": {
        "id": "Wny_RoYIky-A"
      }
    },
    {
      "cell_type": "code",
      "source": [
        "x=[\"Hola\", \"mundo\", \"Hola\",\"cruel\",\"despiadado\"].count(\"Hola\")\n",
        "print (x)\n",
        "print ([4,7,12,45,6,8,3,6].count(6))"
      ],
      "metadata": {
        "id": "K21jAmX4k3B4",
        "colab": {
          "base_uri": "https://localhost:8080/",
          "height": 0
        },
        "outputId": "5696ad29-6404-48fa-ac25-b5737cd7a11c"
      },
      "execution_count": 22,
      "outputs": [
        {
          "output_type": "stream",
          "name": "stdout",
          "text": [
            "2\n",
            "2\n"
          ]
        }
      ]
    },
    {
      "cell_type": "markdown",
      "source": [
        "**index()**\n",
        "\n",
        "Devuelve el índice en el que aparece un ítem (error si no aparece):"
      ],
      "metadata": {
        "id": "dxHVA84dk6f2"
      }
    },
    {
      "cell_type": "code",
      "source": [
        "try:\n",
        "    i=[\"Hola\", \"mundo\", \"mundo\"].index(\"mundo\")\n",
        "    print (\"ESTA EN indice \",i)\n",
        "except:\n",
        "    print (\"NO TA\")"
      ],
      "metadata": {
        "id": "uwbrGUntk_2G",
        "colab": {
          "base_uri": "https://localhost:8080/",
          "height": 0
        },
        "outputId": "6ec87f69-a337-4a2a-ae54-152efe37c580"
      },
      "execution_count": 23,
      "outputs": [
        {
          "output_type": "stream",
          "name": "stdout",
          "text": [
            "ESTA EN indice  1\n"
          ]
        }
      ]
    },
    {
      "cell_type": "markdown",
      "source": [
        "**insert()**\n",
        "\n",
        "Agrega un ítem a la lista en un índice específico:\n",
        "\n",
        "**Primera posición (0):**"
      ],
      "metadata": {
        "id": "5tw3H7Z7lCoG"
      }
    },
    {
      "cell_type": "code",
      "source": [
        "l = [1,2,3]\n",
        "l.insert(0,2)\n",
        "print (l)"
      ],
      "metadata": {
        "id": "Xx0zbZP4lGjZ",
        "colab": {
          "base_uri": "https://localhost:8080/",
          "height": 0
        },
        "outputId": "21abd1f0-28f7-4bc4-ba28-c87f8e865854"
      },
      "execution_count": 24,
      "outputs": [
        {
          "output_type": "stream",
          "name": "stdout",
          "text": [
            "[2, 1, 2, 3]\n"
          ]
        }
      ]
    },
    {
      "cell_type": "markdown",
      "source": [
        "**Penúltima posición (-1):**\n",
        "\n"
      ],
      "metadata": {
        "id": "9o5S1xLklI_Y"
      }
    },
    {
      "cell_type": "code",
      "source": [
        "l = [5,10,2,4,7,2,15,25]\n",
        "l.insert(-15,20) \n",
        "print (l)"
      ],
      "metadata": {
        "id": "3eB73wWvlMzc",
        "colab": {
          "base_uri": "https://localhost:8080/",
          "height": 0
        },
        "outputId": "70a23bbd-cd49-47f0-fd81-311fa0aa6195"
      },
      "execution_count": 25,
      "outputs": [
        {
          "output_type": "stream",
          "name": "stdout",
          "text": [
            "[20, 5, 10, 2, 4, 7, 2, 15, 25]\n"
          ]
        }
      ]
    },
    {
      "cell_type": "markdown",
      "source": [
        "**Última posición en una lista con len():**\n",
        "\n"
      ],
      "metadata": {
        "id": "4l4z8s6QlO9l"
      }
    },
    {
      "cell_type": "code",
      "source": [
        "l = [5,10,15,25]\n",
        "n = len(l)\n",
        "print (f\" {l} TIENE {n}\")\n",
        "l.insert(n,30)\n",
        "print (f\" {l} TIENE {n}\")"
      ],
      "metadata": {
        "id": "3pExiSlRlRsw",
        "colab": {
          "base_uri": "https://localhost:8080/",
          "height": 0
        },
        "outputId": "2aa565e5-9714-4d33-a0e9-1a950a9aa51f"
      },
      "execution_count": 26,
      "outputs": [
        {
          "output_type": "stream",
          "name": "stdout",
          "text": [
            " [5, 10, 15, 25] TIENE 4\n",
            " [5, 10, 15, 25, 30] TIENE 4\n"
          ]
        }
      ]
    },
    {
      "cell_type": "markdown",
      "source": [
        "**Una posición fuera de rango añade el elemento al final de la lista (999):**\n",
        "\n"
      ],
      "metadata": {
        "id": "CHdze50ylUPW"
      }
    },
    {
      "cell_type": "code",
      "source": [
        "l.insert(999, 800)\n",
        "print (l)"
      ],
      "metadata": {
        "id": "yd5rkFvUlXsO",
        "colab": {
          "base_uri": "https://localhost:8080/",
          "height": 0
        },
        "outputId": "9b180895-055c-44c8-d1c5-76872968acf8"
      },
      "execution_count": 27,
      "outputs": [
        {
          "output_type": "stream",
          "name": "stdout",
          "text": [
            "[5, 10, 15, 25, 30, 800]\n"
          ]
        }
      ]
    },
    {
      "cell_type": "markdown",
      "source": [
        "**pop()**\n",
        "\n",
        "Extrae un ítem de la lista y lo borra:"
      ],
      "metadata": {
        "id": "yX6N5HLClZ5f"
      }
    },
    {
      "cell_type": "code",
      "source": [
        "l2 = []\n",
        "l = [10,20,30,40,50]\n",
        "x=l.pop()\n",
        "l2.append(x)\n",
        "print(l,l2)\n",
        "#x=l.pop()\n",
        "#l2.append(x)\n",
        "#print(l,l2)\n",
        "#x=l.pop(0)\n",
        "#l2.append(x)\n",
        "#print(l,l2)"
      ],
      "metadata": {
        "id": "huUyzwnalckY",
        "colab": {
          "base_uri": "https://localhost:8080/",
          "height": 0
        },
        "outputId": "6188a7a9-082f-494c-e094-2018d4e58be4"
      },
      "execution_count": 28,
      "outputs": [
        {
          "output_type": "stream",
          "name": "stdout",
          "text": [
            "[10, 20, 30, 40] [50]\n"
          ]
        }
      ]
    },
    {
      "cell_type": "markdown",
      "source": [
        "**NOTA:**\n",
        "Podemos indicarle un índice con el elemento a sacar (0 es el primer ítem):\n",
        "\n"
      ],
      "metadata": {
        "id": "NncZr4JeljF1"
      }
    },
    {
      "cell_type": "code",
      "source": [
        "print(l.pop(0))\n",
        "print(l)"
      ],
      "metadata": {
        "id": "8MxJYhRZlj3h",
        "colab": {
          "base_uri": "https://localhost:8080/",
          "height": 0
        },
        "outputId": "31567de7-aa99-4cb2-afe4-ce5c094d5529"
      },
      "execution_count": 29,
      "outputs": [
        {
          "output_type": "stream",
          "name": "stdout",
          "text": [
            "10\n",
            "[20, 30, 40]\n"
          ]
        }
      ]
    },
    {
      "cell_type": "markdown",
      "source": [
        "\n",
        "**remove()**\n",
        "\n",
        "Borra el primer ítem de la lista cuyo valor concuerde con el que indicamos:"
      ],
      "metadata": {
        "id": "ag1BDZCFll7u"
      }
    },
    {
      "cell_type": "code",
      "source": [
        "l = [20,30,30,30,40]\n",
        "l.remove(30)\n",
        "print(l)"
      ],
      "metadata": {
        "id": "2T560CBwltd9",
        "colab": {
          "base_uri": "https://localhost:8080/",
          "height": 0
        },
        "outputId": "bcfbde6d-e704-4119-f62c-6430b1b0b94d"
      },
      "execution_count": 30,
      "outputs": [
        {
          "output_type": "stream",
          "name": "stdout",
          "text": [
            "[20, 30, 30, 40]\n"
          ]
        }
      ]
    },
    {
      "cell_type": "markdown",
      "source": [
        "____"
      ],
      "metadata": {
        "id": "I3fyjgzXmJne"
      }
    },
    {
      "cell_type": "markdown",
      "source": [
        "**reverse**()\n",
        "\n",
        "Le da la vuelta a la lista actual:"
      ],
      "metadata": {
        "id": "BLBIlQbelv15"
      }
    },
    {
      "cell_type": "code",
      "source": [
        "l.reverse()\n",
        "print(l)"
      ],
      "metadata": {
        "id": "TxHc1yc0l7hW",
        "colab": {
          "base_uri": "https://localhost:8080/",
          "height": 0
        },
        "outputId": "652e575e-9529-428c-9f81-1caf400483a0"
      },
      "execution_count": 31,
      "outputs": [
        {
          "output_type": "stream",
          "name": "stdout",
          "text": [
            "[40, 30, 30, 20]\n"
          ]
        }
      ]
    },
    {
      "cell_type": "markdown",
      "source": [
        "**Las cadenas no tienen el método .reverse() pero podemos simularlo haciendo unas conversiones:**\n",
        "\n"
      ],
      "metadata": {
        "id": "xmpbvFtMl_lG"
      }
    },
    {
      "cell_type": "code",
      "source": [
        "lista = list(\"Hola mundo\")\n",
        "lista.reverse()\n",
        "cadena = \"\".join(lista)\n",
        "cadena    "
      ],
      "metadata": {
        "id": "KSAQiskcmF56",
        "colab": {
          "base_uri": "https://localhost:8080/",
          "height": 36
        },
        "outputId": "77071bd9-da2a-4bf8-f0a5-bc6feb4392be"
      },
      "execution_count": 32,
      "outputs": [
        {
          "output_type": "execute_result",
          "data": {
            "text/plain": [
              "'odnum aloH'"
            ],
            "application/vnd.google.colaboratory.intrinsic+json": {
              "type": "string"
            }
          },
          "metadata": {},
          "execution_count": 32
        }
      ]
    },
    {
      "cell_type": "markdown",
      "source": [
        "**sort()**\n",
        "\n",
        "Ordena automáticamente los ítems de una lista por su valor de menor a mayor:"
      ],
      "metadata": {
        "id": "OU8wBFm0mI6Z"
      }
    },
    {
      "cell_type": "code",
      "source": [
        "lista = [5,-10,35,0,-65,100]\n",
        "lista.sort()\n",
        "lista"
      ],
      "metadata": {
        "id": "eY4dtXoZmKER",
        "colab": {
          "base_uri": "https://localhost:8080/",
          "height": 0
        },
        "outputId": "ec0ab79a-4913-44ac-e10c-f4590a6ea543"
      },
      "execution_count": 33,
      "outputs": [
        {
          "output_type": "execute_result",
          "data": {
            "text/plain": [
              "[-65, -10, 0, 5, 35, 100]"
            ]
          },
          "metadata": {},
          "execution_count": 33
        }
      ]
    },
    {
      "cell_type": "markdown",
      "source": [
        "**Podemos utilizar el argumento reverse=True para indicar que la ordene del revés:**\n",
        "\n"
      ],
      "metadata": {
        "id": "VkIUAl8qmMhB"
      }
    },
    {
      "cell_type": "code",
      "source": [
        "lista.sort(reverse=True)\n",
        "lista"
      ],
      "metadata": {
        "id": "t9qSdgoDmQEy",
        "colab": {
          "base_uri": "https://localhost:8080/",
          "height": 0
        },
        "outputId": "d5ebe1c5-1b06-46f9-f74f-3e73e9acee27"
      },
      "execution_count": 34,
      "outputs": [
        {
          "output_type": "execute_result",
          "data": {
            "text/plain": [
              "[100, 35, 5, 0, -10, -65]"
            ]
          },
          "metadata": {},
          "execution_count": 34
        }
      ]
    },
    {
      "cell_type": "markdown",
      "source": [
        "**FUNCION sorted**"
      ],
      "metadata": {
        "id": "-yVn_BjGm5Xp"
      }
    },
    {
      "cell_type": "code",
      "source": [
        "alumnos = [\"JUAN\",\"PEDRITO\",\"MARIA\",\"ESTEFANIA\",\"JESUS\",\"NOELIA\"]\n",
        "sorted_alumnos = sorted(alumnos)\n",
        "print(alumnos)\n",
        "print(sorted_alumnos)"
      ],
      "metadata": {
        "id": "X-jS7LXQm4W8",
        "colab": {
          "base_uri": "https://localhost:8080/",
          "height": 0
        },
        "outputId": "a01b729f-9fa9-41f5-c19a-462418177e24"
      },
      "execution_count": 35,
      "outputs": [
        {
          "output_type": "stream",
          "name": "stdout",
          "text": [
            "['JUAN', 'PEDRITO', 'MARIA', 'ESTEFANIA', 'JESUS', 'NOELIA']\n",
            "['ESTEFANIA', 'JESUS', 'JUAN', 'MARIA', 'NOELIA', 'PEDRITO']\n"
          ]
        }
      ]
    },
    {
      "cell_type": "markdown",
      "source": [
        "**FUNCION len**"
      ],
      "metadata": {
        "id": "i6UCo6O7oz4y"
      }
    },
    {
      "cell_type": "code",
      "source": [
        "palabra = \"papel\"\n",
        "alumnos = [\"JUAN\",\"PEDRITO\",\"MARIA\",\"ESTEFANIA\",\"JESUS\",\"NOELIA\"]\n",
        "print(len(palabra))\n",
        "x=len(alumnos)\n",
        "print (x)\n",
        "\n",
        "#palabras = [\"papel\",\"platano\",\"tu\",\"estafilococo\",\"cacatua\",\"yo\",\"sopa\"]\n",
        "#print(sorted(palabras))\n",
        "#print(sorted(palabras,key=len))\n",
        "#print(sorted(palabras,reverse=True))\n",
        "#print(sorted(palabras,key=len,reverse=True))"
      ],
      "metadata": {
        "id": "JmHs5mxjo4up",
        "colab": {
          "base_uri": "https://localhost:8080/",
          "height": 0
        },
        "outputId": "226b865e-3abd-4937-f4d1-84da633f24bd"
      },
      "execution_count": 36,
      "outputs": [
        {
          "output_type": "stream",
          "name": "stdout",
          "text": [
            "5\n",
            "6\n"
          ]
        }
      ]
    },
    {
      "cell_type": "markdown",
      "source": [
        "# **SUBLISTAS**\n",
        "\n",
        "`l[i:j:k] `: Devuelve la sublista desde el elemento de l con el índice i hasta el elemento anterior al índice j, tomando elementos cada k.\n",
        "\n"
      ],
      "metadata": {
        "id": "5Jat6HKAtvWK"
      }
    },
    {
      "cell_type": "code",
      "source": [
        "lista = [\"P\",\"E\",\"D\",\"R\",\"I\",\"T\",\"O\"]\n",
        "print (lista[1:4])\n",
        "\n",
        "print (lista[1:1])\n",
        "\n",
        "print (lista[:-5])\n",
        "\n",
        "print (lista[:])\n",
        "\n",
        "print (lista[0:6:2])\n",
        "\n",
        "print (lista)"
      ],
      "metadata": {
        "id": "vCs5UNe9t61E",
        "colab": {
          "base_uri": "https://localhost:8080/",
          "height": 0
        },
        "outputId": "d6d2c588-385a-454c-ebbe-06eeb32a02bf"
      },
      "execution_count": 37,
      "outputs": [
        {
          "output_type": "stream",
          "name": "stdout",
          "text": [
            "['E', 'D', 'R']\n",
            "[]\n",
            "['P', 'E']\n",
            "['P', 'E', 'D', 'R', 'I', 'T', 'O']\n",
            "['P', 'D', 'I']\n",
            "['P', 'E', 'D', 'R', 'I', 'T', 'O']\n"
          ]
        }
      ]
    },
    {
      "cell_type": "markdown",
      "source": [
        "____"
      ],
      "metadata": {
        "id": "H-myelnZu0NN"
      }
    },
    {
      "cell_type": "markdown",
      "source": [
        "# **LISTADO DE METODOS DE LA CLASE `list()`**\n",
        "\n",
        "\n",
        "| **Método**         | **Descripción**                                       | **Ejemplo básico**                                  |\n",
        "| -------------- | ------------------------------------------------- | ----------------------------------------------- |\n",
        "| **append()**      | Agrega un elemento al final de la lista            | `mi_lista.append(\"manzana\")`                    |\n",
        "| **clear()**       | Elimina todos los elementos de la lista            | `mi_lista.clear()`                              |\n",
        "| **copy()**        | Crea una copia de la lista                         | `mi_copia_lista = mi_lista.copy()`              |\n",
        "| **count()**        | Cuenta el número de elementos con un valor dado    | `mi_lista.count(\"manzana\")`                     |\n",
        "| **extend()**       | Agrega los elementos de una lista a otra lista     | `mi_lista.extend([\"naranja\", \"pera\"])`           |\n",
        "| **index()**        | Devuelve el índice del primer elemento con un valor dado | `mi_lista.index(\"manzana\")`                 |\n",
        "| **insert()**       | Inserta un elemento en una posición especificada   | `mi_lista.insert(1, \"banana\")`                  |\n",
        "| **pop()**          | Elimina y devuelve el último elemento de la lista  | `ultimo_elemento = mi_lista.pop()`              |\n",
        "| **remove()**       | Elimina el primer elemento con un valor dado       | `mi_lista.remove(\"manzana\")`                    |\n",
        "| **reverse()**      | Invierte el orden de los elementos en la lista     | `mi_lista.reverse()`                            |\n",
        "| **sort()**         | Ordena los elementos de la lista                   | `mi_lista.sort()`                               |\n",
        "| **len()**          | Devuelve la longitud de la lista                   | `len(mi_lista)`                                 |\n",
        "| **max()**          | Devuelve el elemento con el valor máximo           | `max(mi_lista)`                                 |\n",
        "| **min()**          | Devuelve el elemento con el valor mínimo           | `min(mi_lista)`                                 |\n",
        "| **sum()**          | Devuelve la suma de los elementos de la lista      | `sum(mi_lista)`                                 |\n",
        "| **any()**          | Devuelve `True` si algún elemento es verdadero     | `any(mi_lista)`                                 |\n",
        "| **all()**          | Devuelve `True` si todos los elementos son verdaderos | `all(mi_lista)`                             |\n",
        "| **sorted()**       | Devuelve una lista ordenada                        | `sorted(mi_lista)`                              |\n",
        "| **zip()**          | Combina dos listas en una lista de tuplas           | `mi_lista_combinada = zip(mi_lista1, mi_lista2)` |\n",
        "| **enumerate()**    | Devuelve una lista de tuplas con índices y valores  | `lista_enumerada = enumerate(mi_lista)`         |\n"
      ],
      "metadata": {
        "id": "EUTsjnJkfmI0"
      }
    },
    {
      "cell_type": "markdown",
      "source": [
        "____\n"
      ],
      "metadata": {
        "id": "w8kSNhdv8XpE"
      }
    },
    {
      "cell_type": "markdown",
      "source": [
        "# **IMPORTANTE:**\n",
        "> En Python, las listas son un tipo de datos mutables, lo que significa que se pueden cambiar después de haber sido creadas. Esto se logra mediante la asignación de nuevos valores a los índices de la lista, la eliminación de elementos existentes o la inserción de nuevos elementos en la lista.\n",
        "\n",
        "> Cuando se utilizan **ciertas funciones o métodos en las listas, éstos pueden modificar directamente la lista original**, es decir, pueden cambiar la lista y actualizarla con nuevos valores o eliminar elementos existentes. A estas funciones se les llama **\"métodos mutables\" o \"métodos modificadores\".**\n",
        "\n",
        "> Por otro lado, **hay otros métodos que no modifican la lista original sino que devuelven una nueva lista** que es una versión modificada de la lista original, sin cambiar la lista original. A estos métodos se les llama **\"métodos inmutables\" o \"métodos no modificadores\".**\n",
        "\n",
        "> Es importante conocer la diferencia entre los métodos mutables y no mutables al trabajar con listas en Python, ya que la modificación accidental de la lista original puede provocar errores en el código y producir resultados inesperados. Por lo tanto, es necesario ser cuidadoso al elegir los métodos que se utilizan en cada caso y comprender cómo afectarán a la lista original.  \n"
      ],
      "metadata": {
        "id": "0aaysvXGjnjL"
      }
    },
    {
      "cell_type": "markdown",
      "source": [
        "# **OPERACONES QUE \"NO\" MODIFICAN UNA LISTA**\n",
        "\n",
        "**len(l)** : Devuelve el número de elementos de la lista l.\n",
        "\n",
        "\n",
        "**min(l)** : Devuelve el mínimo elemento de la lista l siempre que los datos sean comparables.\n",
        "\n",
        "**max(l)** : Devuelve el máximo elemento de la lista l siempre que los datos sean comparables.\n",
        "\n",
        "**sum(l)** : Devuelve la suma de los elementos de la lista l, siempre que los datos se puedan sumar.\n",
        "\n",
        "**dato in l** : Devuelve True si el dato dato pertenece a la lista l y False en caso contrario.\n",
        "\n",
        "**l.index(dato)** : Devuelve la posición que ocupa en la lista l el primer elemento con valor dato.\n",
        "\n",
        "**l.count(dato)** : Devuelve el número de veces que el valor dato está contenido en la lista l.\n",
        "\n",
        "**all(l)** : Devuelve True si todos los elementos de la lista l son True y False en caso contrario.\n",
        "\n",
        "**any(l)** : Devuelve True si algún elemento de la lista l es True y False en caso contrario.\n"
      ],
      "metadata": {
        "id": "2ccTPaNm8c8l"
      }
    },
    {
      "cell_type": "markdown",
      "source": [
        "# **OPERACIONES QUE MODIFICAN UNA LISTA**\n",
        "\n",
        "**l1 + l2** : Crea una nueva lista concatenan los elementos de la listas l1 y l2.\n",
        "\n",
        "**l.append(dato)** : Añade dato al final de la lista l.\n",
        "\n",
        "**l.extend(sequencia)** : Añade los datos de sequencia al final de la lista l.\n",
        "\n",
        "**l.insert(índice, dato)** : Inserta dato en la posición índice de la lista l y desplaza los elementos una posición a partir de la posición índice.\n",
        "\n",
        "**l.remove(dato)** : Elimina el primer elemento con valor dato en la lista l y desplaza los que están por detrás de él una posición hacia delante.\n",
        "\n",
        "**l.pop([índice])** : Devuelve el dato en la posición índice y lo elimina de la lista l, desplazando los elementos por detrás de él una posición hacia delante.\n",
        "\n",
        "**l.sort()**: Ordena los elementos de la lista l de acuerdo al orden predefinido, siempre que los elementos sean comparables.\n",
        "\n",
        "**l.reverse()** : invierte el orden de los elementos de la lista l."
      ],
      "metadata": {
        "id": "4CColb8K-4-m"
      }
    }
  ]
}