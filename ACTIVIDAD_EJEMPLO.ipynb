{
  "nbformat": 4,
  "nbformat_minor": 0,
  "metadata": {
    "colab": {
      "provenance": [],
      "authorship_tag": "ABX9TyOohlVYlytdjkRtGf413Xkm",
      "include_colab_link": true
    },
    "kernelspec": {
      "name": "python3",
      "display_name": "Python 3"
    },
    "language_info": {
      "name": "python"
    }
  },
  "cells": [
    {
      "cell_type": "markdown",
      "metadata": {
        "id": "view-in-github",
        "colab_type": "text"
      },
      "source": [
        "<a href=\"https://colab.research.google.com/github/pedroyepiz/pythonHOY/blob/main/ACTIVIDAD_EJEMPLO.ipynb\" target=\"_parent\"><img src=\"https://colab.research.google.com/assets/colab-badge.svg\" alt=\"Open In Colab\"/></a>"
      ]
    },
    {
      "cell_type": "code",
      "source": [
        "!pip install pyyaml"
      ],
      "metadata": {
        "colab": {
          "base_uri": "https://localhost:8080/"
        },
        "id": "Sz_Jn7-u1lWo",
        "outputId": "54b1ff19-41ea-46fb-e2c4-a91d9418e27b"
      },
      "execution_count": 15,
      "outputs": [
        {
          "output_type": "stream",
          "name": "stdout",
          "text": [
            "Looking in indexes: https://pypi.org/simple, https://us-python.pkg.dev/colab-wheels/public/simple/\n",
            "Requirement already satisfied: pyyaml in /usr/local/lib/python3.10/dist-packages (6.0)\n"
          ]
        }
      ]
    },
    {
      "cell_type": "code",
      "execution_count": 24,
      "metadata": {
        "id": "KkHOHwpKdQw2"
      },
      "outputs": [],
      "source": [
        "from IPython.display import clear_output\n",
        "import random\n",
        "import json\n",
        "import yaml\n",
        "import time\n",
        "import pandas as pd"
      ]
    },
    {
      "cell_type": "code",
      "source": [
        "from google.colab import drive\n",
        "drive.mount('/content/drive')"
      ],
      "metadata": {
        "colab": {
          "base_uri": "https://localhost:8080/"
        },
        "id": "8gng3xRRdi0k",
        "outputId": "029aa36f-44f7-4683-e880-74862a07a1b1"
      },
      "execution_count": 4,
      "outputs": [
        {
          "output_type": "stream",
          "name": "stdout",
          "text": [
            "Mounted at /content/drive\n"
          ]
        }
      ]
    },
    {
      "cell_type": "code",
      "source": [
        "ruta=\"/content/drive/MyDrive/proyecto\"\n"
      ],
      "metadata": {
        "id": "axsyrA_oei15"
      },
      "execution_count": 5,
      "outputs": []
    },
    {
      "cell_type": "code",
      "source": [
        "import sys\n",
        "sys.path.append(ruta)\n"
      ],
      "metadata": {
        "id": "KkC7rGM-eZw_"
      },
      "execution_count": 6,
      "outputs": []
    },
    {
      "cell_type": "code",
      "source": [
        "import dicionario"
      ],
      "metadata": {
        "id": "N8dqMJWRfEA2"
      },
      "execution_count": 67,
      "outputs": []
    },
    {
      "cell_type": "code",
      "source": [
        "def imprimir(lista_dic):\n",
        "    clear_output()\n",
        "    op = random.randint(1,3)\n",
        "    if op == 1:\n",
        "        print(yaml.dump(lista_dic,sort_keys=False,default_flow_style=False))\n",
        "    elif op == 2:\n",
        "        print(json.dumps(lista_dic, sort_keys=False, indent=2))\n",
        "    elif op == 3:\n",
        "        salida=pd.DataFrame(lista_dic)\n",
        "        print(salida)\n",
        "    time.sleep(5)"
      ],
      "metadata": {
        "id": "evQH88xW1EnW"
      },
      "execution_count": 66,
      "outputs": []
    },
    {
      "cell_type": "code",
      "source": [
        "def letrero():\n",
        "    clear_output()\n",
        "    print(\"MENU:\")\n",
        "    print(\"1.-AGREGAR AUTOMATICO\")\n",
        "    print(\"3.-IMPRIMIR LISTA\")\n",
        "    print(\"4.-BUSCAR\")\n",
        "    print(\"5.-ORDENAR\")\n",
        "    print(\"6.-ELIMINAR\")\n",
        "    print(\"7.-BORRAR TODA LA LISTA\")\n",
        "    print(\"8.-BUSCAR POR NOMBRE\")\n",
        "    print(\"0.-SALIR\")\n",
        "    "
      ],
      "metadata": {
        "id": "cHitBh3Ww0a5"
      },
      "execution_count": 83,
      "outputs": []
    },
    {
      "cell_type": "code",
      "source": [
        "def buscar(lista,val,key):\n",
        "    lista_id = [d[key] for d in lista]\n",
        "    try:\n",
        "       indice = lista_id.index(val)\n",
        "       return indice\n",
        "    except:\n",
        "        return -1"
      ],
      "metadata": {
        "id": "rc94prPlKmai"
      },
      "execution_count": 77,
      "outputs": []
    },
    {
      "cell_type": "code",
      "source": [
        "def busca_nombre(lista):\n",
        "    clear_output()\n",
        "    val=input(\"QUE NOMBRE BUSCAS:\") # FALTA VALIDAR PERO ME DIO FLOJERA...\n",
        "    indice=buscar(lista,val,key=\"Nombre\")\n",
        "    if indice != -1 :\n",
        "        print(json.dumps(lista[indice], sort_keys=False, indent=2))\n",
        "    else:\n",
        "        print(\"NO EXISTE \")\n",
        "    time.sleep(5)"
      ],
      "metadata": {
        "id": "BeZXSIW3brBN"
      },
      "execution_count": 82,
      "outputs": []
    },
    {
      "cell_type": "code",
      "source": [
        "def busca_valor(lista):\n",
        "    clear_output()\n",
        "    val=int(input(\"QUE VALOR BUSCAS:\"))\n",
        "    indice=buscar(lista,val,key=\"Id\")\n",
        "    if indice != -1 :\n",
        "        print(json.dumps(lista[indice], sort_keys=False, indent=2))\n",
        "    else:\n",
        "        print(\"NO EXISTE \")\n",
        "    time.sleep(5)\n"
      ],
      "metadata": {
        "id": "LFMLZTvwRb15"
      },
      "execution_count": 76,
      "outputs": []
    },
    {
      "cell_type": "code",
      "source": [
        "def elimina_dic(lista):\n",
        "    clear_output()\n",
        "    val=int(input(\"QUE VALOR BUSCAS:\"))\n",
        "    indice=buscar(lista,val,key=\"Id\")\n",
        "    if indice != -1 :\n",
        "        print(json.dumps(lista[indice], sort_keys=False, indent=2))\n",
        "        del lista[indice]\n",
        "        print(\" DATOS BORRADOS DE LA LISTA\") \n",
        "    else:\n",
        "        print(\"NO EXISTE \")\n",
        "    time.sleep(5)"
      ],
      "metadata": {
        "id": "Fc2UsttZTXKb"
      },
      "execution_count": 75,
      "outputs": []
    },
    {
      "cell_type": "code",
      "source": [
        "def menu ():\n",
        "    listadatos= []\n",
        "    claves = [\"Id\",\"Ap.Paterno\",\"Ap.Materno\",\"Nombre\",\"Puesto\",\"Sexo\"]\n",
        "    while True:\n",
        "        letrero()\n",
        "        op=int(input(\"ESCOGE UNA OPCION:\")) # FALTA VALIDAR PERO ME DIO FLOJERA...\n",
        "        if op == 1:\n",
        "            listadatos.append(dict(zip(claves,dicionario.registro())))\n",
        "        elif op==3:\n",
        "            imprimir(listadatos)\n",
        "        elif op == 4:\n",
        "           busca_valor(listadatos)\n",
        "        elif op==5:\n",
        "            lista_ord = sorted(listadatos, key=lambda x: x[\"Id\"])\n",
        "            imprimir(lista_ord)\n",
        "        elif op == 6:\n",
        "            elimina_dic(listadatos)  \n",
        "        elif op == 8:\n",
        "            busca_nombre(listadatos)\n",
        "        elif  op == 0:\n",
        "            break\n",
        "\n",
        "        "
      ],
      "metadata": {
        "id": "Lc8YY_ECwQ2q"
      },
      "execution_count": 84,
      "outputs": []
    },
    {
      "cell_type": "code",
      "source": [
        "\n",
        "menu()\n"
      ],
      "metadata": {
        "colab": {
          "base_uri": "https://localhost:8080/"
        },
        "id": "SJvTjJHZ1Blb",
        "outputId": "db94da1c-7fb2-4cd4-b644-5ee7cad077a2"
      },
      "execution_count": null,
      "outputs": [
        {
          "output_type": "stream",
          "name": "stdout",
          "text": [
            "MENU:\n",
            "1.-AGREGAR AUTOMATICO\n",
            "3.-IMPRIMIR LISTA\n",
            "4.-BUSCAR\n",
            "5.-ORDENAR\n",
            "6.-ELIMINAR\n",
            "7.-BORRAR TODA LA LISTA\n",
            "8.-BUSCAR POR NOMBRE\n",
            "0.-SALIR\n"
          ]
        }
      ]
    }
  ]
}