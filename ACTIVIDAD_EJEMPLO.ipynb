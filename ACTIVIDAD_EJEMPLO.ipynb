{
  "cells": [
    {
      "cell_type": "markdown",
      "metadata": {
        "id": "view-in-github",
        "colab_type": "text"
      },
      "source": [
        "<a href=\"https://colab.research.google.com/github/pedroyepiz/pythonHOY/blob/main/ACTIVIDAD_EJEMPLO.ipynb\" target=\"_parent\"><img src=\"https://colab.research.google.com/assets/colab-badge.svg\" alt=\"Open In Colab\"/></a>"
      ]
    },
    {
      "cell_type": "code",
      "execution_count": null,
      "metadata": {
        "colab": {
          "base_uri": "https://localhost:8080/"
        },
        "id": "Sz_Jn7-u1lWo",
        "outputId": "54b1ff19-41ea-46fb-e2c4-a91d9418e27b"
      },
      "outputs": [
        {
          "name": "stdout",
          "output_type": "stream",
          "text": [
            "Looking in indexes: https://pypi.org/simple, https://us-python.pkg.dev/colab-wheels/public/simple/\n",
            "Requirement already satisfied: pyyaml in /usr/local/lib/python3.10/dist-packages (6.0)\n"
          ]
        }
      ],
      "source": [
        "!pip install pyyaml"
      ]
    },
    {
      "cell_type": "code",
      "execution_count": null,
      "metadata": {
        "id": "KkHOHwpKdQw2"
      },
      "outputs": [],
      "source": [
        "from IPython.display import clear_output\n",
        "import random\n",
        "import json\n",
        "import yaml\n",
        "import time\n",
        "import pandas as pd"
      ]
    },
    {
      "cell_type": "code",
      "execution_count": null,
      "metadata": {
        "colab": {
          "base_uri": "https://localhost:8080/"
        },
        "id": "8gng3xRRdi0k",
        "outputId": "029aa36f-44f7-4683-e880-74862a07a1b1"
      },
      "outputs": [
        {
          "name": "stdout",
          "output_type": "stream",
          "text": [
            "Mounted at /content/drive\n"
          ]
        }
      ],
      "source": [
        "from google.colab import drive\n",
        "drive.mount('/content/drive')"
      ]
    },
    {
      "cell_type": "code",
      "execution_count": null,
      "metadata": {
        "id": "axsyrA_oei15"
      },
      "outputs": [],
      "source": [
        "ruta=\"/content/drive/MyDrive/proyecto\"\n"
      ]
    },
    {
      "cell_type": "code",
      "execution_count": null,
      "metadata": {
        "id": "KkC7rGM-eZw_"
      },
      "outputs": [],
      "source": [
        "import sys\n",
        "sys.path.append(ruta)\n"
      ]
    },
    {
      "cell_type": "code",
      "execution_count": null,
      "metadata": {
        "id": "N8dqMJWRfEA2"
      },
      "outputs": [],
      "source": [
        "import dicionario"
      ]
    },
    {
      "cell_type": "code",
      "execution_count": null,
      "metadata": {
        "id": "evQH88xW1EnW"
      },
      "outputs": [],
      "source": [
        "def imprimir(lista_dic):\n",
        "    clear_output()\n",
        "    op = random.randint(1,3)\n",
        "    if op == 1:\n",
        "        print(yaml.dump(lista_dic,sort_keys=False,default_flow_style=False))\n",
        "    elif op == 2:\n",
        "        print(json.dumps(lista_dic, sort_keys=False, indent=2))\n",
        "    elif op == 3:\n",
        "        salida=pd.DataFrame(lista_dic)\n",
        "        salida.to_csv('/content/drive/MyDrive/proyecto/salida.csv', index=False)\n",
        "        print(salida)\n",
        "    time.sleep(5)"
      ]
    },
    {
      "cell_type": "code",
      "execution_count": null,
      "metadata": {
        "id": "cHitBh3Ww0a5"
      },
      "outputs": [],
      "source": [
        "def letrero():\n",
        "    clear_output()\n",
        "    print(\"MENU:\")\n",
        "    print(\"1.-AGREGAR AUTOMATICO\")\n",
        "    print(\"3.-IMPRIMIR LISTA\")\n",
        "    print(\"4.-BUSCAR\")\n",
        "    print(\"5.-ORDENAR\")\n",
        "    print(\"6.-ELIMINAR\")\n",
        "    print(\"7.-BORRAR TODA LA LISTA\")\n",
        "    print(\"8.-BUSCAR POR NOMBRE\")\n",
        "    print(\"0.-SALIR\")\n",
        "    "
      ]
    },
    {
      "cell_type": "code",
      "execution_count": null,
      "metadata": {
        "id": "rc94prPlKmai"
      },
      "outputs": [],
      "source": [
        "def buscar(lista,val,key):\n",
        "    lista_id = [d[key] for d in lista]\n",
        "    try:\n",
        "       indice = lista_id.index(val)\n",
        "       return indice\n",
        "    except:\n",
        "        return -1"
      ]
    },
    {
      "cell_type": "code",
      "execution_count": null,
      "metadata": {
        "id": "BeZXSIW3brBN"
      },
      "outputs": [],
      "source": [
        "def busca_nombre(lista):\n",
        "    clear_output()\n",
        "    val=input(\"QUE NOMBRE BUSCAS:\") # FALTA VALIDAR PERO ME DIO FLOJERA...\n",
        "    indice=buscar(lista,val,key=\"Nombre\")\n",
        "    if indice != -1 :\n",
        "        print(json.dumps(lista[indice], sort_keys=False, indent=2))\n",
        "    else:\n",
        "        print(\"NO EXISTE \")\n",
        "    time.sleep(5)"
      ]
    },
    {
      "cell_type": "code",
      "execution_count": null,
      "metadata": {
        "id": "LFMLZTvwRb15"
      },
      "outputs": [],
      "source": [
        "def busca_valor(lista):\n",
        "    clear_output()\n",
        "    val=int(input(\"QUE VALOR BUSCAS:\"))\n",
        "    indice=buscar(lista,val,key=\"Id\")\n",
        "    if indice != -1 :\n",
        "        print(json.dumps(lista[indice], sort_keys=False, indent=2))\n",
        "    else:\n",
        "        print(\"NO EXISTE \")\n",
        "    time.sleep(5)\n"
      ]
    },
    {
      "cell_type": "code",
      "execution_count": null,
      "metadata": {
        "id": "Fc2UsttZTXKb"
      },
      "outputs": [],
      "source": [
        "def elimina_dic(lista):\n",
        "    clear_output()\n",
        "    val=int(input(\"QUE VALOR BUSCAS:\"))\n",
        "    indice=buscar(lista,val,key=\"Id\")\n",
        "    if indice != -1 :\n",
        "        print(json.dumps(lista[indice], sort_keys=False, indent=2))\n",
        "        del lista[indice]\n",
        "        print(\" DATOS BORRADOS DE LA LISTA\") \n",
        "    else:\n",
        "        print(\"NO EXISTE \")\n",
        "    time.sleep(5)"
      ]
    },
    {
      "cell_type": "code",
      "execution_count": null,
      "metadata": {
        "id": "Lc8YY_ECwQ2q"
      },
      "outputs": [],
      "source": [
        "def menu ():\n",
        "    listadatos= []\n",
        "    claves = [\"Id\",\"Ap.Paterno\",\"Ap.Materno\",\"Nombre\",\"Puesto\",\"Sexo\"]\n",
        "    while True:\n",
        "        letrero()\n",
        "        op=int(input(\"ESCOGE UNA OPCION:\")) # FALTA VALIDAR PERO ME DIO FLOJERA...\n",
        "        if op == 1:\n",
        "            listadatos.append(dict(zip(claves,dicionario.registro())))\n",
        "        elif op==3:\n",
        "            imprimir(listadatos)\n",
        "        elif op == 4:\n",
        "           busca_valor(listadatos)\n",
        "        elif op==5:\n",
        "            lista_ord = sorted(listadatos, key=lambda x: x[\"Id\"])\n",
        "            imprimir(lista_ord)\n",
        "        elif op == 6:\n",
        "            elimina_dic(listadatos)  \n",
        "        elif op == 8:\n",
        "            busca_nombre(listadatos)\n",
        "        elif  op == 0:\n",
        "            break\n",
        "\n",
        "        "
      ]
    },
    {
      "cell_type": "code",
      "execution_count": null,
      "metadata": {
        "colab": {
          "background_save": true,
          "base_uri": "https://localhost:8080/"
        },
        "id": "SJvTjJHZ1Blb",
        "outputId": "30c8ebc6-bc0a-44ad-e486-05b98b4a2554"
      },
      "outputs": [
        {
          "name": "stdout",
          "output_type": "stream",
          "text": [
            "MENU:\n",
            "1.-AGREGAR AUTOMATICO\n",
            "3.-IMPRIMIR LISTA\n",
            "4.-BUSCAR\n",
            "5.-ORDENAR\n",
            "6.-ELIMINAR\n",
            "7.-BORRAR TODA LA LISTA\n",
            "8.-BUSCAR POR NOMBRE\n",
            "0.-SALIR\n"
          ]
        }
      ],
      "source": [
        "\n",
        "menu()\n"
      ]
    }
  ],
  "metadata": {
    "colab": {
      "provenance": [],
      "authorship_tag": "ABX9TyOYuMCNfJvbv4al0vZV6Mha",
      "include_colab_link": true
    },
    "kernelspec": {
      "display_name": "Python 3",
      "name": "python3"
    },
    "language_info": {
      "name": "python"
    }
  },
  "nbformat": 4,
  "nbformat_minor": 0
}