{
  "nbformat": 4,
  "nbformat_minor": 0,
  "metadata": {
    "colab": {
      "provenance": [],
      "toc_visible": true,
      "authorship_tag": "ABX9TyMXC2Ltfb1DuNTrrGc51V+J",
      "include_colab_link": true
    },
    "kernelspec": {
      "name": "python3",
      "display_name": "Python 3"
    },
    "language_info": {
      "name": "python"
    }
  },
  "cells": [
    {
      "cell_type": "markdown",
      "metadata": {
        "id": "view-in-github",
        "colab_type": "text"
      },
      "source": [
        "<a href=\"https://colab.research.google.com/github/pedroyepiz/pythonHOY/blob/main/01_2_FORMATEO_DE_SALIDA_EN_PYTHON.ipynb\" target=\"_parent\"><img src=\"https://colab.research.google.com/assets/colab-badge.svg\" alt=\"Open In Colab\"/></a>"
      ]
    },
    {
      "cell_type": "markdown",
      "source": [
        "\n",
        "![CABCERA PYTHON.png](data:image/png;base64,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)\n"
      ],
      "metadata": {
        "id": "C81oZZnX9lQW"
      }
    },
    {
      "cell_type": "markdown",
      "source": [
        "# **FORMATO DE SALIDA  TIPOS DATOS BASICOS EN PYTHON**\n",
        "El formato de salida en Python es la forma en que se presentan los datos en la consola o en un archivo de texto. La salida formateada es importante porque permite que los datos se muestren de manera legible y estructurada, lo que facilita su interpretación y análisis.\n",
        "\n",
        "Python proporciona diferentes formas de formatear la salida, incluyendo el método de cadenas de formato, el operador de formato y la función de formato. Cada uno de estos métodos tiene sus propias ventajas y desventajas y se puede elegir según las necesidades específicas del programador.\n",
        "\n",
        "La salida formateada también es importante para la comunicación con el usuario final de una aplicación. Un mensaje de error o un resultado incorrecto que se presenta en una salida poco clara o confusa puede generar confusión y frustración para el usuario. Por otro lado, una salida clara y bien formateada puede mejorar la experiencia del usuario y hacer que la aplicación sea más fácil de usar.\n",
        "\n",
        "En resumen, el formato de salida en Python es importante porque permite que los datos se presenten de manera estructurada y legible, lo que facilita su interpretación y análisis, y mejora la experiencia del usuario final.\n"
      ],
      "metadata": {
        "id": "5CC7ZD8RCMXr"
      }
    },
    {
      "cell_type": "markdown",
      "source": [
        "# **EL METODO  `format()`**"
      ],
      "metadata": {
        "id": "Ucyv0irKycOt"
      }
    },
    {
      "cell_type": "markdown",
      "source": [
        "El método `format()` es una función de Python que se utiliza para dar formato a cadenas. Este método se utiliza con una cadena de formato que contiene marcadores de posición para los valores que deseas insertar en la cadena. Estos marcadores de posición se indican con llaves `{}`.\n",
        "\n",
        "Puedes utilizar el método `format()` para incluir valores de diferentes tipos de datos en una cadena, como enteros, flotantes, cadenas, booleanos, etc. Además, el método `format()` te permite dar formato a los valores que insertas en la cadena, como el número de decimales, la justificación, el ancho del campo, etc."
      ],
      "metadata": {
        "id": "93ah19jYDESb"
      }
    },
    {
      "cell_type": "markdown",
      "source": [
        "## **EJEMPLOS CON `format()`**"
      ],
      "metadata": {
        "id": "78PnpHOu19ao"
      }
    },
    {
      "cell_type": "code",
      "source": [
        "# Ejemplo 1: Insertar valores en una cadena\n",
        "nombre = \"Juan\"\n",
        "edad = 25\n",
        "print(\"Mi nombre es {} y tengo {} años\".format(nombre, edad))\n",
        "\n"
      ],
      "metadata": {
        "colab": {
          "base_uri": "https://localhost:8080/"
        },
        "id": "LDrEm5XyDuwv",
        "outputId": "552d5370-ec2d-4846-8134-e3acb63cac05"
      },
      "execution_count": null,
      "outputs": [
        {
          "output_type": "stream",
          "name": "stdout",
          "text": [
            "Mi nombre es Juan y tengo 25 años\n"
          ]
        }
      ]
    },
    {
      "cell_type": "markdown",
      "source": [
        "En el **ejemplo 1**, se utiliza el método format() para insertar los valores de `nombre` y `edad` en una cadena."
      ],
      "metadata": {
        "id": "LkjxPtHhg9nT"
      }
    },
    {
      "cell_type": "code",
      "source": [
        "\n",
        "# Ejemplo 2: Dar formato a un número\n",
        "precio = 23.45\n",
        "print(\"El precio es {:.2f} dólares\".format(precio))\n"
      ],
      "metadata": {
        "colab": {
          "base_uri": "https://localhost:8080/"
        },
        "id": "z89KDaqfgPAr",
        "outputId": "0862b467-8ff5-48ea-a8ea-fcfe9f611fa3"
      },
      "execution_count": null,
      "outputs": [
        {
          "output_type": "stream",
          "name": "stdout",
          "text": [
            "El precio es 23.45 dólares\n"
          ]
        }
      ]
    },
    {
      "cell_type": "markdown",
      "source": [
        "En el **ejemplo 2**, se utiliza el método `format()` para dar formato al número `precio`, limitando el número de decimales a dos."
      ],
      "metadata": {
        "id": "lZYzuI_ehEJv"
      }
    },
    {
      "cell_type": "code",
      "source": [
        "\n",
        "# Ejemplo 3: Justificar a la izquierda\n",
        "texto = \"Hola\"\n",
        "print(\"{:<10} Mundo\".format(texto))\n"
      ],
      "metadata": {
        "colab": {
          "base_uri": "https://localhost:8080/"
        },
        "id": "yVC1yJyEgO2Y",
        "outputId": "d082b592-0cae-4b3c-aa9d-d3b6e73028dc"
      },
      "execution_count": null,
      "outputs": [
        {
          "output_type": "stream",
          "name": "stdout",
          "text": [
            "Hola       Mundo\n"
          ]
        }
      ]
    },
    {
      "cell_type": "markdown",
      "source": [
        "En el **ejemplo 3**, se utiliza el método `format()` para justificar la cadena `texto` a la izquierda y agregar espacios en blanco hasta alcanzar una longitud total de 10 caracteres."
      ],
      "metadata": {
        "id": "L3uis9MohIXR"
      }
    },
    {
      "cell_type": "code",
      "source": [
        "\n",
        "# Ejemplo 4: Justificar a la derecha y llenar con ceros\n",
        "numero = 42\n",
        "print(\"{:0>5}\".format(numero))  # Salida: 00042"
      ],
      "metadata": {
        "colab": {
          "base_uri": "https://localhost:8080/"
        },
        "id": "y8CZChUrgOrJ",
        "outputId": "dec6fcf0-e7a2-4900-b600-de1e52bd3ade"
      },
      "execution_count": null,
      "outputs": [
        {
          "output_type": "stream",
          "name": "stdout",
          "text": [
            "00042\n"
          ]
        }
      ]
    },
    {
      "cell_type": "markdown",
      "source": [
        "En el **ejemplo 4**, se utiliza el método `format()` para justificar el número `numero` a la derecha y agregar ceros a la izquierda hasta alcanzar una longitud total de 5 caracteres."
      ],
      "metadata": {
        "id": "TeR9JIpohZwo"
      }
    },
    {
      "cell_type": "code",
      "source": [
        "# Ejemplo 5: Justificar a la derecha y llenar con ceros convirtiendo a cadena\n",
        "num = 5\n",
        "print(\"El valor de la variable num es: {}\".format(str(num).zfill(3)))"
      ],
      "metadata": {
        "colab": {
          "base_uri": "https://localhost:8080/"
        },
        "id": "lpaPiU81rdxO",
        "outputId": "bf85866e-8b9e-44f3-bbe9-8fea8481fdad"
      },
      "execution_count": null,
      "outputs": [
        {
          "output_type": "stream",
          "name": "stdout",
          "text": [
            "El valor de la variable num es: 005\n"
          ]
        }
      ]
    },
    {
      "cell_type": "markdown",
      "source": [
        "En el **ejemplo 5**, se utiliza el método `format() `para justificar el número numero a la derecha y agregar ceros a la izquierda hasta alcanzar una longitud total de 3 caracteres.  la diferencia es que aqui el numero entero se convierte a string y se utiliza un metodo de la clase string"
      ],
      "metadata": {
        "id": "LylEzcX_r5Nz"
      }
    },
    {
      "cell_type": "markdown",
      "source": [
        "---\n",
        "**El método `format()` se introdujo en Python 2.6 como una forma más moderna y flexible de formatear cadenas que los antiguos operadores de formato % que se usaban antes. Desde entonces, `format()` se ha convertido en la forma estándar de formatear cadenas en Python, y sigue siendo ampliamente utilizado en la actualidad en versiones de Python 3.x.**\n",
        "\n",
        "**Aunque las f-strings son una alternativa más reciente y conveniente en algunos casos, `format()` sigue siendo una herramienta muy útil y poderosa para dar formato a cadenas en Python. Además, `format()` es compatible con versiones antiguas de Python, lo que significa que sigue siendo una opción importante para proyectos que requieren compatibilidad hacia atrás.**\n",
        "\n",
        "---"
      ],
      "metadata": {
        "id": "MiL-dREFoaQn"
      }
    },
    {
      "cell_type": "markdown",
      "source": [
        "# **f-string**\n",
        "Las `f-strings` son una forma más moderna y conveniente de dar formato a cadenas en Python. Se introdujeron en Python 3.6 y proporcionan una forma más legible y fácil de entender de incrustar valores de variables en cadenas. En lugar de tener que usar la función `format()`, las f-strings permiten incrustar valores de variables directamente en la cadena utilizando expresiones de Python encerradas entre llaves {}.\n",
        "\n",
        "Las `f-strings` también permiten la interpolación de expresiones de Python más complejas, lo que las hace más flexibles que las cadenas formateadas tradicionales. Por ejemplo, se pueden utilizar operadores matemáticos, llamadas a funciones y otros constructos de Python dentro de una f-string para crear cadenas más complejas.\n",
        "\n",
        "En general, las `f-strings` son una herramienta muy útil y poderosa para dar formato a cadenas en Python, y se utilizan ampliamente en la actualidad. Son más fáciles de leer y escribir que las cadenas formateadas tradicionales, y proporcionan una forma más directa y flexible de incrustar valores de variables en cadenas.\n",
        "\n",
        "\n",
        "\n",
        "\n",
        "\n"
      ],
      "metadata": {
        "id": "ygNsuZHLt3x_"
      }
    },
    {
      "cell_type": "markdown",
      "source": [
        "## **EJEMPLOS CON TIPOS DE DATOS BASICOS**"
      ],
      "metadata": {
        "id": "Qqmc2E1Mw1fo"
      }
    },
    {
      "cell_type": "code",
      "source": [
        "num = 3.14159265\n",
        "print(f\"El valor de la variable num es: {num:.2f}\")\n"
      ],
      "metadata": {
        "colab": {
          "base_uri": "https://localhost:8080/"
        },
        "id": "njI8xRX9-Hf3",
        "outputId": "967ca6bb-1db7-42ca-c809-6cab68e40bc2"
      },
      "execution_count": null,
      "outputs": [
        {
          "output_type": "stream",
          "name": "stdout",
          "text": [
            "El valor de la variable num es: 3.14\n"
          ]
        }
      ]
    },
    {
      "cell_type": "code",
      "source": [
        "num = 5\n",
        "print(f\"El valor de la variable num es: {num:.2f}\")\n"
      ],
      "metadata": {
        "colab": {
          "base_uri": "https://localhost:8080/"
        },
        "outputId": "9d03b178-014f-4482-b417-b65080c5f253",
        "id": "k-pMooa2_nJF"
      },
      "execution_count": null,
      "outputs": [
        {
          "output_type": "stream",
          "name": "stdout",
          "text": [
            "El valor de la variable num es: 5.00\n"
          ]
        }
      ]
    },
    {
      "cell_type": "code",
      "source": [
        "num = 5\n",
        "print(f\"El valor de la variable num es: {str(num).zfill(3)}\")\n"
      ],
      "metadata": {
        "colab": {
          "base_uri": "https://localhost:8080/"
        },
        "id": "HZA-yutZ9zdg",
        "outputId": "07cb8bae-f05a-4bf5-95ba-d713a1e68df3"
      },
      "execution_count": null,
      "outputs": [
        {
          "output_type": "stream",
          "name": "stdout",
          "text": [
            "El valor de la variable num es: 005\n"
          ]
        }
      ]
    },
    {
      "cell_type": "code",
      "source": [
        "nombre = \"PEDRITO\"\n",
        "appat = \"YEPIZ\"\n",
        "\n",
        "print(f\"El valor de la variable num es:{nombre.ljust(10)}{appat.ljust(10)}\")\n"
      ],
      "metadata": {
        "colab": {
          "base_uri": "https://localhost:8080/"
        },
        "outputId": "905dce06-b757-4d4c-e27e-af00b807db52",
        "id": "UHmvpl4S_v2c"
      },
      "execution_count": null,
      "outputs": [
        {
          "output_type": "stream",
          "name": "stdout",
          "text": [
            "El valor de la variable num es:PEDRITO   YEPIZ     \n"
          ]
        }
      ]
    },
    {
      "cell_type": "code",
      "source": [
        "nombre = \"PEDRITO\"\n",
        "appat = \"YEPIZ\"\n",
        "\n",
        "print(f\"El valor de la variable num es:{nombre.rjust(10,'_')}{appat.rjust(10,'_')}\")\n"
      ],
      "metadata": {
        "colab": {
          "base_uri": "https://localhost:8080/"
        },
        "outputId": "dc339ec2-f1c1-4122-aa1a-db23147c0091",
        "id": "KA5t7B5dBWuy"
      },
      "execution_count": null,
      "outputs": [
        {
          "output_type": "stream",
          "name": "stdout",
          "text": [
            "El valor de la variable num es:___PEDRITO_____YEPIZ\n"
          ]
        }
      ]
    },
    {
      "cell_type": "markdown",
      "source": [
        "## **OTROS EJEMPLOS Y USO DE f-string**"
      ],
      "metadata": {
        "id": "MrP7-Eizx8rW"
      }
    },
    {
      "cell_type": "code",
      "source": [
        "# Uso de variables:\n",
        "\n",
        "nombre = \"Juan\"\n",
        "edad = 30\n",
        "print(f\"Hola, mi nombre es {nombre} y tengo {edad} años\")\n",
        "# Salida: Hola, mi nombre es Juan y tengo 30 años\n"
      ],
      "metadata": {
        "id": "vhj3SHvCBWOV"
      },
      "execution_count": null,
      "outputs": []
    },
    {
      "cell_type": "code",
      "source": [
        "# Uso de expresiones matemáticas:\n",
        "\n",
        "num1 = 10\n",
        "num2 = 5\n",
        "print(f\"La suma de {num1} y {num2} es {num1+num2}\")\n",
        "# Salida: La suma de 10 y 5 es 15\n"
      ],
      "metadata": {
        "id": "5J4oXSEizxqH"
      },
      "execution_count": null,
      "outputs": []
    },
    {
      "cell_type": "code",
      "source": [
        "# Uso de expresiones booleanas:\n",
        "\n",
        "es_mayor_edad = True\n",
        "print(f\"¿Es mayor de edad? {'Sí' if es_mayor_edad else 'No'}\")\n",
        "# Salida: ¿Es mayor de edad? Sí\n"
      ],
      "metadata": {
        "id": "W158W265zxmA"
      },
      "execution_count": null,
      "outputs": []
    },
    {
      "cell_type": "code",
      "source": [
        "# Uso de métodos de cadenas:\n",
        "\n",
        "nombre_completo = \"Juan Pérez\"\n",
        "print(f\"Mi nombre completo es {nombre_completo.upper()}\")\n",
        "# Salida: Mi nombre completo es JUAN PÉREZ\n"
      ],
      "metadata": {
        "id": "9JIugXnvzxhX"
      },
      "execution_count": null,
      "outputs": []
    },
    {
      "cell_type": "code",
      "source": [
        "# Uso de operadores condicionales:\n",
        "\n",
        "edad = 15\n",
        "print(f\"{'Bienvenido' if edad >= 18 else 'Lo sentimos, debes ser mayor de edad'}\")\n",
        "# Salida: Lo sentimos, debes ser mayor de edad\n"
      ],
      "metadata": {
        "id": "ZQT_1D-tzxZY"
      },
      "execution_count": null,
      "outputs": []
    },
    {
      "cell_type": "code",
      "source": [
        "nombre = \"Juan\"\n",
        "edad = 30\n",
        "altura = 1.75\n",
        "\n",
        "# Incluyendo variables simples\n",
        "print(f\"Hola, mi nombre es {nombre}, tengo {edad} años y mido {altura} metros.\")\n",
        "\n",
        "# Operaciones aritméticas y formateo numérico\n",
        "print(f\"La mitad de {edad} es {edad / 2:.2f}\")\n",
        "\n",
        "# Justificación de texto\n",
        "print(f\"{nombre.ljust(10)}{edad:>10}\")\n",
        "\n",
        "# Formateo de fechas y horas\n",
        "import datetime\n",
        "fecha_actual = datetime.datetime.now()\n",
        "print(f\"Hoy es {fecha_actual:%d-%m-%Y} y son las {fecha_actual:%H:%M}\")\n"
      ],
      "metadata": {
        "colab": {
          "base_uri": "https://localhost:8080/"
        },
        "id": "UICO05y24caU",
        "outputId": "4619cfe5-1f7c-49f9-c8ab-90898df1d930"
      },
      "execution_count": null,
      "outputs": [
        {
          "output_type": "stream",
          "name": "stdout",
          "text": [
            "Hola, mi nombre es Juan, tengo 30 años y mido 1.75 metros.\n",
            "La mitad de 30 es 15.00\n",
            "Juan              30\n",
            "Hoy es 06-03-2023 y son las 07:45\n"
          ]
        }
      ]
    },
    {
      "cell_type": "markdown",
      "source": [
        "Las f-strings permiten crear cadenas de texto complejas y dinámicas en Python de manera sencilla y legible. Son muy utilizadas actualmente y se consideran una buena práctica en el desarrollo de aplicaciones en Python.\n",
        "las f-strings te permiten crear cadenas de manera más fácil y legible, y es una forma más moderna de dar formato a las cadenas en Python.\n",
        "\n",
        " ---\n"
      ],
      "metadata": {
        "id": "Wb7dPfDB0Vmj"
      }
    },
    {
      "cell_type": "markdown",
      "source": [
        "\n",
        "# **CONCLUSION:**\n",
        "Tanto `format(`) como las `f-strings` (f\"...\") son herramientas que permiten la interpolación de variables y expresiones en una cadena de texto en Python. Sin embargo, hay algunas diferencias importantes entre ambas:\n",
        "\n",
        "* **Sintaxis:** La sintaxis de las f-strings es más concisa y legible que la sintaxis de format(). Con las f-strings, simplemente se escribe una cadena precedida por la letra \"f\" y se usan llaves para insertar las variables y expresiones. Con `format()`, se debe usar una cadena con llaves (`{}`) y luego llamar a la función `format() `en esa cadena, pasando las variables y expresiones como argumentos.\n",
        "\n",
        "* **Capacidad de personalización:** `format()` ofrece mucha más flexibilidad y opciones de formato que las f-strings. Con `format()`, se pueden especificar el ancho y la precisión para números, la justificación de texto, el formato de fecha y hora, etc. Las f-strings, por otro lado, ofrecen un conjunto más limitado de opciones de formato incorporadas.\n",
        "\n",
        "* **Compatibilidad:** Las f-strings se introdujeron en Python 3.6, por lo que si estás usando una versión anterior de Python, no podrás usarlas. format(), por otro lado, está disponible en todas las versiones de Python desde la 2.6 en adelante, por lo que es más compatible con versiones antiguas de Python.\n",
        "\n",
        "En general, las f-strings son más simples y legibles para la interpolación básica de variables y expresiones, mientras que format() es más adecuado para casos en los que se requiere una personalización compleja de la salida o una mayor compatibilidad con versiones antiguas de Python."
      ],
      "metadata": {
        "id": "KoIRphPW1XiU"
      }
    },
    {
      "cell_type": "code",
      "source": [
        "num = 3.14159265\n",
        "print(\"El valor de la variable num es: {:.2f}\".format(num))\n"
      ],
      "metadata": {
        "colab": {
          "base_uri": "https://localhost:8080/"
        },
        "id": "Xt0zgKdH-eRA",
        "outputId": "5aa1baa7-9037-4531-f579-2b423125f3dd"
      },
      "execution_count": null,
      "outputs": [
        {
          "output_type": "stream",
          "name": "stdout",
          "text": [
            "El valor de la variable num es: 3.14\n"
          ]
        }
      ]
    },
    {
      "cell_type": "code",
      "source": [
        "num = 3.14159265\n",
        "print(f\"El valor de la variable num es: {num:.2f}\")\n"
      ],
      "metadata": {
        "colab": {
          "base_uri": "https://localhost:8080/"
        },
        "id": "_oDyK-xX2lQl",
        "outputId": "e8d3d80c-7abf-4c17-99f2-a7937a3d8e98"
      },
      "execution_count": null,
      "outputs": [
        {
          "output_type": "stream",
          "name": "stdout",
          "text": [
            "El valor de la variable num es: 3.14\n"
          ]
        }
      ]
    },
    {
      "cell_type": "code",
      "execution_count": null,
      "metadata": {
        "colab": {
          "base_uri": "https://localhost:8080/"
        },
        "id": "C7h_MdcO9mS4",
        "outputId": "bc5661a7-7422-491c-d4cd-d995af947280"
      },
      "outputs": [
        {
          "output_type": "stream",
          "name": "stdout",
          "text": [
            "El valor de la variable num es: 005\n"
          ]
        }
      ],
      "source": [
        "num = 5\n",
        "print(\"El valor de la variable num es: {}\".format(str(num).zfill(3)))\n"
      ]
    },
    {
      "cell_type": "code",
      "source": [
        "num = 5\n",
        "print(f\"El valor de la variable num es: {str(num).zfill(3)}\")\n"
      ],
      "metadata": {
        "colab": {
          "base_uri": "https://localhost:8080/"
        },
        "id": "mITHExNS21_h",
        "outputId": "6dc4c602-62c1-498a-ce84-73cdcdd8daca"
      },
      "execution_count": null,
      "outputs": [
        {
          "output_type": "stream",
          "name": "stdout",
          "text": [
            "El valor de la variable num es: 005\n"
          ]
        }
      ]
    },
    {
      "cell_type": "code",
      "source": [
        "\n",
        "\n",
        "numero = 67\n",
        "print(\"{:0>5}\".format(numero))"
      ],
      "metadata": {
        "colab": {
          "base_uri": "https://localhost:8080/"
        },
        "outputId": "5b69f747-b1be-444b-d60b-5006e73ac139",
        "id": "xdvDD78z4BxC"
      },
      "execution_count": null,
      "outputs": [
        {
          "output_type": "stream",
          "name": "stdout",
          "text": [
            "00042\n"
          ]
        }
      ]
    },
    {
      "cell_type": "code",
      "source": [
        "\n",
        "numero = 67\n",
        "print(f\"{numero:0>5}\")"
      ],
      "metadata": {
        "colab": {
          "base_uri": "https://localhost:8080/"
        },
        "outputId": "f5509ee9-5b1a-4be9-8fb0-668ca3521489",
        "id": "1hBHRcDo3wiS"
      },
      "execution_count": null,
      "outputs": [
        {
          "output_type": "stream",
          "name": "stdout",
          "text": [
            "00042\n"
          ]
        }
      ]
    },
    {
      "cell_type": "code",
      "source": [
        "nombre = \"Juan\"\n",
        "apellido = \"Pérez\"\n",
        "nombre_completo = f\"{nombre.upper()} {apellido.lower()}\"\n",
        "print(nombre_completo)\n",
        "# Salida: JUAN pérez\n"
      ],
      "metadata": {
        "colab": {
          "base_uri": "https://localhost:8080/"
        },
        "id": "g6NZp2xg3v6u",
        "outputId": "8f6254f4-cfd7-40c3-87b4-22b33109c1a2"
      },
      "execution_count": null,
      "outputs": [
        {
          "output_type": "stream",
          "name": "stdout",
          "text": [
            "JUAN pérez\n"
          ]
        }
      ]
    }
  ]
}