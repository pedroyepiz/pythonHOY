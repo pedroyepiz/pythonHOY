{
  "nbformat": 4,
  "nbformat_minor": 0,
  "metadata": {
    "colab": {
      "provenance": [],
      "authorship_tag": "ABX9TyPHNR9S4xTyq4YT4irwi+7R",
      "include_colab_link": true
    },
    "kernelspec": {
      "name": "python3",
      "display_name": "Python 3"
    },
    "language_info": {
      "name": "python"
    }
  },
  "cells": [
    {
      "cell_type": "markdown",
      "metadata": {
        "id": "view-in-github",
        "colab_type": "text"
      },
      "source": [
        "<a href=\"https://colab.research.google.com/github/pedroyepiz/pythonHOY/blob/main/11_MODULOS_EN_PYTHON.ipynb\" target=\"_parent\"><img src=\"https://colab.research.google.com/assets/colab-badge.svg\" alt=\"Open In Colab\"/></a>"
      ]
    },
    {
      "cell_type": "markdown",
      "source": [
        "![python portada.png](data:image/png;base64,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)"
      ],
      "metadata": {
        "id": "8hyS8WW2195G"
      }
    },
    {
      "cell_type": "markdown",
      "source": [
        "# **MODULOS EN PYTHON**\n",
        "\n",
        "### **Introducción**:\n",
        "Los módulos en Python son bloques de código reutilizables que contienen funciones, clases y variables que pueden ser utilizados en diferentes programas. Los módulos son una parte fundamental de Python, ya que permiten organizar el código y facilitan el desarrollo de aplicaciones más grandes y complejas. Python viene con una gran cantidad de módulos integrados, lo que permite a los desarrolladores ahorrar tiempo al no tener que escribir código desde cero para cada tarea.\n",
        "\n",
        "### **¿Qué son los módulos en Python?**\n",
        "Los módulos en Python son archivos con extensión .py que contienen código reutilizable. Cada módulo puede contener una o varias funciones, clases o variables que pueden ser importadas en otros programas y utilizadas en diferentes partes del mismo.\n",
        "\n",
        "### **Importancia de los módulos en Python:**\n",
        "Los módulos en Python son importantes porque ayudan a organizar el código y lo hacen más reutilizable. Los módulos también permiten a los desarrolladores separar la lógica de su aplicación en bloques más pequeños y manejables, lo que facilita el mantenimiento y la depuración del código. Además, los módulos en Python ayudan a reducir el tiempo de desarrollo al permitir a los programadores utilizar el código existente en lugar de tener que escribir todo desde cero.\n",
        "\n",
        "### **Tipos de módulos en Python:**\n",
        "> **En Python, existen tres tipos de módulos:**\n",
        "\n",
        "* **Módulos integrados:** son los módulos que vienen con Python y que se pueden utilizar sin necesidad de instalar nada adicional. Ejemplos de módulos integrados incluyen `os, sys, math y random`.\n",
        "\n",
        "* **Módulos de terceros:** son módulos que han sido desarrollados por terceros y que pueden ser instalados en Python utilizando un administrador de paquetes como pip. Ejemplos de módulos de terceros incluyen `numpy, pandas y matplotlib`.\n",
        "\n",
        "* **Módulos personalizados**: son módulos que han sido creados por los propios desarrolladores y que pueden ser utilizados en sus propios programas. Estos módulos pueden ser almacenados en cualquier lugar del sistema de archivos y se pueden importar en otros programas utilizando el comando import.\n",
        "\n",
        "### **Diferencia con otros lenguajes de programación:**\n",
        "A diferencia de otros lenguajes de programación, como Java y C++, Python hace un gran uso de los módulos para organizar el código y hacerlo más reutilizable. Los módulos en Python son archivos independientes que contienen código que puede ser utilizado en diferentes partes de un programa o en programas diferentes. En otros lenguajes de programación, el código se organiza en clases y paquetes que se utilizan para agrupar el código relacionado. Aunque Python también tiene clases y paquetes, los módulos son una forma más flexible de organizar el código y hacerlo más modular."
      ],
      "metadata": {
        "id": "Q4z5mwQO-vEi"
      }
    },
    {
      "cell_type": "markdown",
      "source": [
        "## **COMO IMPORTAR MODULOS  EN PYTHON**\n",
        "\n",
        "Python permite importar un módulo completo o sólo algunas partes de él. Cuando se importa un módulo completo, el intérprete de Python ejecuta todo el código que contiene el módulo, mientras que si solo se importan algunas partes del módulo, solo se ejecutarán esas partes.\n",
        "\n",
        "* **Importación completa de módulos (import)**\n",
        "* **Importación parcial de módulos (from import)**\n",
        "\n",
        "**Existen varias formas de utilizar módulos en Python, a continuación se muestran algunas de las principales:**\n"
      ],
      "metadata": {
        "id": "-Lzb7ooIYY8Q"
      }
    },
    {
      "cell_type": "markdown",
      "source": [
        "### **1.- Importar todo el módulo y utilizar sus funciones y clases:**\n",
        "> En este ejemplo se importa el módulo `math` completo y se utiliza la función\n",
        "`sqrt()` para calcular la raíz cuadrada de 25."
      ],
      "metadata": {
        "id": "AP_ypUapYjjh"
      }
    },
    {
      "cell_type": "code",
      "source": [
        "import math\n",
        "\n",
        "resultado = math.sqrt(25)\n",
        "print(resultado)\n"
      ],
      "metadata": {
        "id": "QbO9bK21FfqZ"
      },
      "execution_count": null,
      "outputs": []
    },
    {
      "cell_type": "markdown",
      "source": [
        "### **2.- Importar una función o clase específica de un módulo:**\n",
        "> En este ejemplo se importa solo la función sqrt del módulo math y se utiliza para calcular la raíz cuadrada de 25."
      ],
      "metadata": {
        "id": "Mxw1xih0CpBe"
      }
    },
    {
      "cell_type": "code",
      "source": [
        "from math import sqrt\n",
        "\n",
        "resultado = sqrt(25)\n",
        "print(resultado)"
      ],
      "metadata": {
        "colab": {
          "base_uri": "https://localhost:8080/"
        },
        "id": "xa0YchesFfKx",
        "outputId": "e69dc085-dfe5-4669-e44e-635669ef32d5"
      },
      "execution_count": null,
      "outputs": [
        {
          "output_type": "stream",
          "name": "stdout",
          "text": [
            "5.0\n"
          ]
        }
      ]
    },
    {
      "cell_type": "markdown",
      "source": [
        "### **3.- Renombrar un módulo o una función al importarla:**\n",
        "> En este ejemplo se importa la función sqrt del módulo math pero se renombra como raiz_cuadrada, para luego utilizarla para calcular la raíz cuadrada de 25."
      ],
      "metadata": {
        "id": "iSmU5ERJCoy1"
      }
    },
    {
      "cell_type": "code",
      "source": [
        "from math import sqrt as raiz_cuadrada\n",
        "\n",
        "resultado = raiz_cuadrada(25)\n",
        "print(resultado)"
      ],
      "metadata": {
        "colab": {
          "base_uri": "https://localhost:8080/"
        },
        "id": "uBquaibXFeVQ",
        "outputId": "df402c0b-e4fa-42d5-f0c6-312d6b507ae2"
      },
      "execution_count": null,
      "outputs": [
        {
          "output_type": "stream",
          "name": "stdout",
          "text": [
            "5.0\n"
          ]
        }
      ]
    },
    {
      "cell_type": "markdown",
      "source": [
        "### **4.- Importar todo un módulo y renombrarlo:**\n",
        "> En este ejemplo se importa el módulo math pero se renombra como matematica, para luego utilizar su función sqrt para calcular la raíz cuadrada de 25."
      ],
      "metadata": {
        "id": "r_p5saAwCojZ"
      }
    },
    {
      "cell_type": "code",
      "source": [
        "import math as matematica\n",
        "\n",
        "resultado = matematica.sqrt(25)\n",
        "print(resultado)\n"
      ],
      "metadata": {
        "colab": {
          "base_uri": "https://localhost:8080/"
        },
        "id": "yH6j2LOTFdsF",
        "outputId": "ebff19b0-1652-4583-f053-1dbd490a7fe0"
      },
      "execution_count": null,
      "outputs": [
        {
          "output_type": "stream",
          "name": "stdout",
          "text": [
            "5.0\n"
          ]
        }
      ]
    },
    {
      "cell_type": "markdown",
      "source": [
        "### **5.- Importar todo el contenido de un módulo:**\n",
        "> Esto importará todas las funciones, clases y variables definidas en el módulo \"modulo\" y las hará accesibles en el programa sin necesidad de usar la notación de punto para acceder a ellas.\n",
        "\n",
        "> **Sin embargo, esta forma de importación no es recomendable** en general, ya que puede haber conflictos de nombres si se importan múltiples módulos con funciones o variables con el mismo nombre. Además, dificulta la lectura y comprensión del código, ya que no está claro qué funciones y variables están siendo usadas y de dónde provienen."
      ],
      "metadata": {
        "id": "OCrVJpTmEfMy"
      }
    },
    {
      "cell_type": "code",
      "source": [
        "from math import *\n",
        "\n",
        "resultado = sqrt(25)\n",
        "print(resultado)\n",
        "print(cos(pi))\n"
      ],
      "metadata": {
        "colab": {
          "base_uri": "https://localhost:8080/"
        },
        "id": "PYu7QfsxFcIf",
        "outputId": "7d5fbdd2-1cdd-4cb5-bd5e-8c5ec8661a3b"
      },
      "execution_count": null,
      "outputs": [
        {
          "output_type": "stream",
          "name": "stdout",
          "text": [
            "5.0\n",
            "-1.0\n"
          ]
        }
      ]
    },
    {
      "cell_type": "markdown",
      "source": [
        "---\n",
        "## **TIPOS DE MODULOS EN PYTHON:**\n",
        "> **En Python, existen tres tipos de módulos:**\n",
        "\n",
        "* **Módulos integrados \"LIBRERIA ESTANDAR DE PYTHON\"**\n",
        "\n",
        "* **Módulos de terceros:** .\n",
        "\n",
        "* **Módulos personalizados**: \n",
        "---"
      ],
      "metadata": {
        "id": "OQesV0NkMr8n"
      }
    },
    {
      "cell_type": "markdown",
      "source": [
        "\n",
        "### **LA LIBRERIA ESTANDAR DE PYTHON**\n",
        "\n",
        "La librería estándar de Python es una colección de módulos y paquetes que vienen incluidos con la instalación de Python. Estos módulos ofrecen una amplia variedad de herramientas y funcionalidades para realizar diversas tareas, desde operaciones matemáticas hasta manipulación de archivos y creación de interfaces gráficas de usuario.\n",
        "\n",
        "La librería estándar de Python es una de las características más destacadas del lenguaje. A diferencia de otros lenguajes de programación como C o Java, en los que es necesario importar módulos de manera externa, en Python los módulos ya están incluidos en la instalación del lenguaje, lo que facilita mucho la programación y el desarrollo de proyectos.\n",
        "\n",
        "Los módulos de la librería estándar de Python son muy importantes porque permiten a los programadores tener acceso a una gran cantidad de funcionalidades y herramientas que de otra manera tendrían que desarrollar por su cuenta. Además, estos módulos son muy estables y han sido probados exhaustivamente, lo que garantiza su calidad y fiabilidad."
      ],
      "metadata": {
        "id": "7serPRE16CFZ"
      }
    },
    {
      "cell_type": "markdown",
      "source": [
        "### **MODULOS DE LA LIBRERIA ESTANDAR DE PYTHON Y MAS IMPORTANTES**\n",
        "**Python viene con una biblioteca de módulos predefinidos que no necesitan instalarse. Algunos de los más utilizados son:**\n",
        "\n",
        "| Modulo   | Descripcion                                                                                                                | Funciones/Metodos destacados |\n",
        "| -------- | -------------------------------------------------------------------------------------------------------------------------- | ---------------------------- |\n",
        "| os       | Proporciona funciones para interactuar con el sistema operativo, como manipulación de archivos y directorios, y acceso a variables de entorno. | `os.path`, `os.system`, `os.environ` |\n",
        "| sys      | Proporciona funciones y variables para interactuar con el intérprete de Python y el sistema en el que se está ejecutando. | `sys.argv`, `sys.exit`, `sys.platform` |\n",
        "| math     | Proporciona funciones matemáticas avanzadas, como trigonometría, álgebra, funciones exponenciales y logarítmicas, etc. | `math.sin`, `math.cos`, `math.sqrt` |\n",
        "| datetime | Proporciona clases para trabajar con fechas, horas y marcas de tiempo. | `datetime.date`, `datetime.time`, `datetime.datetime` |\n",
        "| random   | Proporciona funciones para generar números aleatorios y realizar otras operaciones aleatorias. | `random.randint`, `random.choice`, `random.shuffle` |\n",
        "| json     | Proporciona funciones para trabajar con JSON, un formato comúnmente utilizado para el intercambio de datos en la web. | `json.loads`, `json.dumps`, `json.load` |\n",
        "| re       | Proporciona funciones para trabajar con expresiones regulares, que son patrones utilizados para buscar y manipular cadenas de texto. | `re.search`, `re.match`, `re.findall` |\n",
        "| urllib   | Proporciona módulos para trabajar con protocolos de Internet, como HTTP, FTP, etc. | `urllib.request.urlopen`, `urllib.parse.urlencode`, `urllib.error.URLError` |\n",
        "| csv      | Proporciona funciones para trabajar con archivos CSV (valores separados por comas), un formato comúnmente utilizado para el intercambio de datos. | `csv.reader`, `csv.writer`, `csv.DictReader` |\n",
        "| argparse | Proporciona una forma fácil de definir y analizar argumentos de línea de comandos en un programa Python. | `argparse.ArgumentParser`, `argparse.ArgumentTypeError`, `argparse.Action` |\n"
      ],
      "metadata": {
        "id": "0mu9ghOJg2lM"
      }
    },
    {
      "cell_type": "code",
      "source": [
        "import os\n",
        "'''\n",
        "El módulo os proporciona una manera de interactuar con el sistema operativo \n",
        "subyacente que ejecuta Python. Esto incluye funciones para manipular archivos y\n",
        "directorios, así como para acceder a las variables de entorno y otros recursos\n",
        "del sistema.\n",
        "'''\n",
        "# Obtener el directorio actual\n",
        "print(os.getcwd())\n",
        "\n",
        "# Crear un directorio\n",
        "os.mkdir(\"nuevo_directorio\")\n",
        "\n",
        "# Borrar un archivo\n",
        "os.remove(\"archivo_a_borrar.txt\")\n"
      ],
      "metadata": {
        "id": "caYa3dfXO9vm"
      },
      "execution_count": null,
      "outputs": []
    },
    {
      "cell_type": "code",
      "source": [
        "import sys\n",
        "'''\n",
        "  El módulo sys proporciona acceso a algunas variables utilizadas o mantenidas por\n",
        "  el intérprete de Python y al sistema en el que se está ejecutando Python. \n",
        "  También proporciona una manera de interactuar con el intérprete de Python \n",
        "  en tiempo de ejecución.\n",
        "'''\n",
        "# Ejemplo 1: Obtener el argumento de línea de comandos\n",
        "arg = sys.argv[1]\n",
        "print(arg)\n",
        "\n",
        "# Ejemplo 2: Obtener la versión de Python\n",
        "version = sys.version_info\n",
        "print(version)\n",
        "\n",
        "# Ejemplo 3: Salir del programa con un código de error\n",
        "sys.exit(1)\n"
      ],
      "metadata": {
        "id": "AIGo6bcVO9i6"
      },
      "execution_count": null,
      "outputs": []
    },
    {
      "cell_type": "code",
      "source": [
        "import math\n",
        "'''\n",
        "   El módulo math proporciona una amplia gama de funciones matemáticas avanzadas\n",
        "   que no están disponibles en el módulo incorporado cmath. Esto incluye funciones\n",
        "   para trigonometría, álgebra, funciones exponenciales y logarítmicas, etc.\n",
        "'''\n",
        "# Ejemplo 1: Calcular la raíz cuadrada de un número\n",
        "sqrt = math.sqrt(25)\n",
        "print(sqrt)\n",
        "\n",
        "# Ejemplo 2: Calcular el seno de un ángulo en radianes\n",
        "angle = math.pi / 2\n",
        "sin = math.sin(angle)\n",
        "print(sin)\n",
        "\n",
        "# Ejemplo 3: Calcular el logaritmo base 10 de un número\n",
        "log10 = math.log10(100)\n",
        "print(log10)\n"
      ],
      "metadata": {
        "id": "5fVLkDoRO9aE"
      },
      "execution_count": null,
      "outputs": []
    },
    {
      "cell_type": "code",
      "source": [
        "import datetime\n",
        "'''\n",
        "   El módulo datetime proporciona clases para trabajar con fechas, horas y marcas\n",
        "   de tiempo. Esto incluye clases para representar fechas y horas específicas, \n",
        "   así como para realizar cálculos con ellas.\n",
        "'''\n",
        "# Ejemplo 1: Obtener la fecha actual\n",
        "current_date = datetime.date.today()\n",
        "print(current_date)\n",
        "\n",
        "# Ejemplo 2: Obtener la hora actual\n",
        "current_time = datetime.datetime.now().time()\n",
        "print(current_time)\n",
        "\n",
        "# Ejemplo 3: Restar dos fechas\n",
        "date1 = datetime.date(2022, 3, 1)\n",
        "date2 = datetime.date(2022, 2, 1)\n",
        "delta = date1 - date2\n"
      ],
      "metadata": {
        "id": "zLmNAm-JO9NW"
      },
      "execution_count": null,
      "outputs": []
    },
    {
      "cell_type": "code",
      "source": [
        "import json\n",
        "'''\n",
        "   El módulo json proporciona una forma sencilla de trabajar con JSON (JavaScript\n",
        "   Object Notation), un formato comúnmente utilizado para el intercambio de datos \n",
        "   en la web. La principal función del módulo es json.loads(), que toma una cadena \n",
        "   JSON y la convierte en un objeto Python. También se puede utilizar json.dumps() \n",
        "   para convertir un objeto Python en una cadena JSON.\n",
        "'''\n",
        "# Convertir un objeto Python en una cadena JSON\n",
        "data = {\n",
        "    \"name\": \"John\",\n",
        "    \"age\": 30,\n",
        "    \"city\": \"New York\"\n",
        "}\n",
        "json_data = json.dumps(data)\n",
        "print(json_data)\n",
        "\n",
        "# Convertir una cadena JSON en un objeto Python\n",
        "json_string = '{\"name\": \"John\", \"age\": 30, \"city\": \"New York\"}'\n",
        "py_data = json.loads(json_string)\n",
        "print(py_data)\n"
      ],
      "metadata": {
        "id": "uiI8bvabP04n"
      },
      "execution_count": null,
      "outputs": []
    },
    {
      "cell_type": "code",
      "source": [
        "import re\n",
        "'''\n",
        "   El módulo re proporciona funciones para trabajar con expresiones regulares, \n",
        "   que son patrones utilizados para buscar y manipular cadenas de texto. La \n",
        "   función más comúnmente utilizada es re.search(), que busca un patrón en una \n",
        "   cadena y devuelve el primer resultado encontrado.\n",
        "'''\n",
        "# Buscar una cadena que contenga una dirección de correo electrónico\n",
        "text = \"My email is john@example.com.\"\n",
        "pattern = r\"\\b[A-Za-z0-9._%+-]+@[A-Za-z0-9.-]+\\.[A-Z|a-z]{2,}\\b\"\n",
        "match = re.search(pattern, text)\n",
        "if match:\n",
        "    print(match.group())\n"
      ],
      "metadata": {
        "id": "OXLRRBHAP0mF"
      },
      "execution_count": null,
      "outputs": []
    },
    {
      "cell_type": "code",
      "source": [
        "from urllib.request import urlopen\n",
        "'''\n",
        "   El módulo urllib proporciona módulos para trabajar con protocolos de Internet,\n",
        "   como HTTP, FTP, etc. La función más utilizada es urllib.request.urlopen(), \n",
        "   que abre una URL y devuelve un objeto de respuesta que puede ser leído para \n",
        "   obtener el contenido de la página web.\n",
        "'''\n",
        "# Abrir una URL y leer el contenido de la página web\n",
        "url = \"https://www.example.com/\"\n",
        "response = urlopen(url)\n",
        "html = response.read()\n",
        "print(html)\n"
      ],
      "metadata": {
        "id": "45lIqQTPP6fb"
      },
      "execution_count": null,
      "outputs": []
    },
    {
      "cell_type": "code",
      "source": [
        "import csv\n",
        "'''\n",
        "   El módulo csv proporciona funciones para trabajar con archivos CSV (valores \n",
        "   separados por comas), un formato comúnmente utilizado para el intercambio de \n",
        "   datos. La función más utilizada es csv.reader(), que lee un archivo CSV y \n",
        "   devuelve un objeto iterable que contiene cada fila como una lista.\n",
        "'''\n",
        "# Leer un archivo CSV y mostrar cada fila\n",
        "with open(\"example.csv\") as file:\n",
        "    reader = csv.reader(file)\n",
        "    for row in reader:\n",
        "        print(row)\n"
      ],
      "metadata": {
        "id": "B5HINJt5P-ZR"
      },
      "execution_count": null,
      "outputs": []
    },
    {
      "cell_type": "code",
      "source": [
        "import argparse\n",
        "'''\n",
        "   El módulo argparse proporciona una forma fácil de definir y analizar \n",
        "   argumentos de línea de comandos en un programa Python. La función más utilizada \n",
        "   es argparse.ArgumentParser(), que crea un objeto de analizador de argumentos \n",
        "   y permite especificar los argumentos que se pueden usar en el programa.\n",
        "'''\n",
        "# Definir y analizar argumentos de línea de comandos\n",
        "parser = argparse.ArgumentParser()\n",
        "parser.add_argument(\"--name\", help=\"display a name\")\n",
        "parser.add_argument(\"--age\", help=\"display an age\")\n",
        "args = parser.parse_args()\n",
        "\n",
        "# Mostrar el nombre y la edad\n",
        "if args.name:\n",
        "    print(\"Name:\", args\n"
      ],
      "metadata": {
        "id": "XTyu6LAvQFtK"
      },
      "execution_count": null,
      "outputs": []
    },
    {
      "cell_type": "markdown",
      "source": [
        "### **LISTADO DE MODULOS ESTANDAR EN PYTHON**\n",
        "| Modulo | Descripcion |\n",
        "| ------ | ----------- |\n",
        "| **os** | Funciones para interactuar con el sistema operativo |\n",
        "| **math** | Funciones matemáticas |\n",
        "| **datetime** | Funciones para trabajar con fechas y horas |\n",
        "| **collections** | Contenedores y estructuras de datos especiales |\n",
        "| **random** | Generación de números aleatorios |\n",
        "| **re** | Operaciones de expresiones regulares |\n",
        "| **json** | Codificación y decodificación de objetos JSON |\n",
        "| **heapq** | Implementación de colas con prioridad |\n",
        "| **sys** | Funciones y parámetros específicos del intérprete |\n",
        "| **urllib** | Biblioteca de utilidades para trabajar con URLs |\n",
        "| **csv** | Lectura y escritura de archivos CSV |\n",
        "| **itertools** | Funciones para crear iteradores |\n",
        "| **time** | Funciones para trabajar con tiempo |\n",
        "| **pickle** | Serialización y deserialización de objetos |\n",
        "| **argparse** | Análisis de argumentos de línea de comandos |\n",
        "| **string** | Funciones para trabajar con cadenas de caracteres |\n",
        "| **subprocess** | Creación de procesos secundarios |\n",
        "| **threading** | Programación concurrente con subprocesos |\n",
        "| **xml** | Procesamiento de documentos XML |\n",
        "| **logging** | Registro de eventos en el código |\n",
        "| **socket** | Interfaz para sockets de red |\n",
        "| **ssl** | Funciones para trabajar con certificados SSL/TLS |\n",
        "| **multiprocessing** | Programación concurrente con procesos |\n",
        "| **hashlib** | Funciones hash criptográficas |\n",
        "| **shutil** | Funciones para operaciones de archivo de alto nivel |\n",
        "| **zipfile** | Lectura y escritura de archivos ZIP |\n",
        "| **fnmatch** | Comparación de cadenas con patrones de archivo |\n",
        "| **glob** | Generación de listas de archivos basadas en patrones |\n",
        "| **tempfile** | Generación de nombres y archivos temporales |\n",
        "| **io** | Funciones para trabajar con flujos de entrada/salida |\n",
        "| **asyncio** | Programación asíncrona en Python |\n",
        "| **pathlib** | Manipulación de rutas y nombres de archivo |\n",
        "| **getpass** | Lectura segura de contraseñas desde la consola |\n",
        "| **textwrap** | Formateo de texto |\n",
        "| **configparser** | Lectura y escritura de archivos de configuración |\n",
        "| **platform** | Información sobre la plataforma en la que se ejecuta el intérprete |\n",
        "| **functools** | Funciones de orden superior |\n",
        "| **unittest** | Framework de pruebas unitarias |\n",
        "| **typing** | Soporte de anotaciones de tipo |\n",
        "| **traceback** | Funciones para imprimir trazas de pila |\n",
        "| **curses** | Interfaz para programar aplicaciones de consola |\n",
        "| **gzip** | Lectura y escritura de archivos comprimidos en formato gzip |\n",
        "| **struct** | Empaquetado y desempaquetado de datos binarios |\n",
        "| **mathplotlib** | Gráficos y visualizaciones |\n",
        "| **calendar** | Funciones de calendario |\n",
        "| **collections.abc** | Clases abstractas para contenedores y estructuras de datos |\n",
        "| **html** | Generación y análisis de HTML |\n",
        "| **http** | Protocolo HTTP |\n",
        "| **base64** | Codificación\n"
      ],
      "metadata": {
        "id": "VTWgpl-XRysB"
      }
    },
    {
      "cell_type": "markdown",
      "source": [
        "## **MODULOS DE TERCEROS**\n",
        "\n",
        "Los módulos de terceros en Python son paquetes de software desarrollados por otros programadores que pueden ser utilizados en nuestras propias aplicaciones. Estos módulos se instalan en nuestro entorno de Python y proporcionan funcionalidades adicionales que no están disponibles en los módulos estándar de Python.\n",
        "\n",
        "La importancia de los módulos de terceros radica en que permiten a los programadores aprovechar la experiencia y el trabajo de otros desarrolladores, ahorrando tiempo y recursos en la creación de nuevas funcionalidades o herramientas. Además, estos módulos a menudo proporcionan una mayor calidad y estabilidad que las soluciones personalizadas.\n",
        "\n",
        "**Existen diferentes tipos de módulos de terceros, algunos de ellos son:**\n",
        "\n",
        "* Bibliotecas de análisis de datos, como `Pandas y Numpy`.\n",
        "* Bibliotecas de visualización de datos, como `Matplotlib y Plotly`.\n",
        "* Bibliotecas de aprendizaje automático, como `Scikit-Learn y Tensorflow`.\n",
        "* Bibliotecas de desarrollo web, como `Django y Flask`.\n",
        "\n",
        "**Para instalar módulos de terceros en Python se puede utilizar el gestor de paquetes `pip`, el cual se instala junto con Python.**\n",
        "\n",
        "* Para instalar un módulo se puede utilizar el siguiente comando en la terminal:\n",
        "\n",
        "\n",
        ">> `pip install nombre-del-modulo`\n",
        "\n",
        "* Para actualizar un módulo ya instalado, se puede utilizar el siguiente comando:\n",
        "\n",
        ">> `pip install --upgrade nombre-del-modulo`\n",
        "\n",
        "* Para verificar la versión instalada de un módulo y si existe una actualización disponible, se puede utilizar el siguiente comando:\n",
        "\n",
        ">> `pip show nombre-del-modulo`\n",
        "\n"
      ],
      "metadata": {
        "id": "wVvKmxHIV31W"
      }
    },
    {
      "cell_type": "markdown",
      "source": [
        "### **BIBLIOTECAS DE MODULOS DE TERCEROS**\n",
        "\n",
        "| Categoria de Modulo | Modulo | Descripcion | Funciones |\n",
        "| --- | --- | --- | --- |\n",
        "| **Bibliotecas de análisis de datos** | Pandas | Biblioteca de análisis de datos que proporciona estructuras de datos  | read_csv(), head(), groupby() |\n",
        "| | | flexibles y herramientas para el análisis de datos. | |\n",
        "|   | Numpy | Biblioteca de análisis numérico que proporciona una  | array(), linspace(), random() |\n",
        "||| gran cantidad de funciones matemáticas para operar con arreglos y matrices. ||\n",
        "| **Bibliotecas de visualización de datos** | Matplotlib | Biblioteca de visualización de datos que permite crear gráficos y | plot(), scatter(), hist() |\n",
        "||| visualizaciones de datos en Python.  ||\n",
        "|   | Plotly | Biblioteca de visualización de datos interactiva que  | plot(), scatter(), heatmap() |\n",
        "||| permite crear gráficos interactivos y dinámicos en Python. ||\n",
        "| **Bibliotecas de aprendizaje automático** | Scikit-Learn | Biblioteca de aprendizaje automático de código abierto que proporciona | train_test_split(), fit(), predict() |\n",
        "||| herramientas simples y eficientes para la minería de datos y análisis de datos.  ||\n",
        "|   | Tensorflow | Biblioteca de aprendizaje automático de código abierto desarrollada por | keras.layers, keras.models, tf.data.Dataset() |\n",
        "|||  Google que se utiliza para crear modelos de aprendizaje automático. ||\n",
        "| **Bibliotecas de desarrollo web** | Django | Marco de desarrollo web de Python que sigue el patrón de diseño. | models.py, views.py, urls.py |\n",
        "|||  MVC (Modelo-Vista-Controlador) y se utiliza para crear sitios web y aplicaciones web ||\n",
        "|   | Flask | Marco de desarrollo web minimalista de Python  | route(), render_template(), request.args.get() |\n",
        "||| que se utiliza para crear aplicaciones web simples y pequeñas. ||\n"
      ],
      "metadata": {
        "id": "Phbjbn2vlfW9"
      }
    },
    {
      "cell_type": "code",
      "source": [
        "import pandas as pd\n",
        "lstdict =[\n",
        "        { \"name\": \"Mia\", \"age\": 32,\"country\":\"Libano\" },\n",
        "        { \"name\": \"Goku\", \"age\": 33,\"country\":\"Planeta Vegeta\" },\n",
        "        { \"name\": \"Vegueta\", \"age\": 28, \"country\":\"Planeta Vegeta\"},\n",
        "        { \"name\": \"Thor\", \"age\": 48,\"country\":\"Asgard\" }\n",
        "       ]\n",
        "series=pd.DataFrame(lstdict)\n",
        "print (series)"
      ],
      "metadata": {
        "id": "du7eWYlvAdFj",
        "colab": {
          "base_uri": "https://localhost:8080/"
        },
        "outputId": "1e761000-c0ec-488c-fa6b-9f46d4902ee4"
      },
      "execution_count": null,
      "outputs": [
        {
          "output_type": "stream",
          "name": "stdout",
          "text": [
            "      name  age         country\n",
            "0      Mia   32          Libano\n",
            "1     Goku   33  Planeta Vegeta\n",
            "2  Vegueta   28  Planeta Vegeta\n",
            "3     Thor   48          Asgard\n"
          ]
        }
      ]
    },
    {
      "cell_type": "code",
      "source": [
        "import numpy as np\n",
        "\n",
        "# crear un arreglo de numpy\n",
        "arr = np.array([1, 2, 3, 4, 5])\n",
        "\n",
        "# imprimir el arreglo\n",
        "print(arr)\n"
      ],
      "metadata": {
        "colab": {
          "base_uri": "https://localhost:8080/"
        },
        "id": "vC209Lc1h4kf",
        "outputId": "f47a0a09-5528-4b54-a822-d6e597207db2"
      },
      "execution_count": null,
      "outputs": [
        {
          "output_type": "stream",
          "name": "stdout",
          "text": [
            "[1 2 3 4 5]\n"
          ]
        }
      ]
    },
    {
      "cell_type": "code",
      "source": [
        "import matplotlib.pyplot as plt\n",
        "import numpy as np\n",
        "\n",
        "# crear un arreglo de numpy con valores de x\n",
        "x = np.array([0, 1, 2, 3])\n",
        "# crear un arreglo de numpy con valores de y\n",
        "y = np.array([3, 8, 1, 10])\n",
        "\n",
        "# crear gráfico de línea\n",
        "plt.plot(x, y)\n",
        "\n",
        "# agregar título y etiquetas de ejes\n",
        "plt.title(\"Gráfico de línea\")\n",
        "plt.xlabel(\"Eje x\")\n",
        "plt.ylabel(\"Eje y\")\n",
        "\n",
        "# mostrar gráfico\n",
        "plt.show()\n"
      ],
      "metadata": {
        "colab": {
          "base_uri": "https://localhost:8080/",
          "height": 295
        },
        "id": "PmxGjKP9hgWS",
        "outputId": "88aabb3d-20ce-43e0-8d35-d9675a7f631d"
      },
      "execution_count": null,
      "outputs": [
        {
          "output_type": "display_data",
          "data": {
            "text/plain": [
              "<Figure size 432x288 with 1 Axes>"
            ],
            "image/png": "[encoded data removed]"
          },
          "metadata": {
            "needs_background": "light"
          }
        }
      ]
    },
    {
      "cell_type": "code",
      "source": [
        "import matplotlib.pyplot as plt\n",
        "\n",
        "# crear un arreglo de numpy con valores de x\n",
        "x = np.array([0, 1, 2, 3])\n",
        "# crear un arreglo de numpy con valores de y\n",
        "y = np.array([3, 8, 1, 10])\n",
        "# Crea un gráfico de línea simple\n",
        "plt.plot(x, y)\n",
        "\n",
        "# Crea un gráfico de dispersión de puntos\n",
        "plt.scatter(x, y)\n",
        "\n",
        "# Crea un gráfico de barras vertical\n",
        "plt.bar(x, y)"
      ],
      "metadata": {
        "colab": {
          "base_uri": "https://localhost:8080/",
          "height": 283
        },
        "id": "3zB1ZM1_jAp_",
        "outputId": "bb6cff86-386b-4062-9674-647472032e27"
      },
      "execution_count": null,
      "outputs": [
        {
          "output_type": "execute_result",
          "data": {
            "text/plain": [
              "<BarContainer object of 4 artists>"
            ]
          },
          "metadata": {},
          "execution_count": 16
        },
        {
          "output_type": "display_data",
          "data": {
            "text/plain": [
              "<Figure size 432x288 with 1 Axes>"
            ],
            "image/png": "[encoded data removed]"
          },
          "metadata": {
            "needs_background": "light"
          }
        }
      ]
    },
    {
      "cell_type": "code",
      "source": [
        "import calendar\n",
        "print (calendar.month(2022,10))"
      ],
      "metadata": {
        "id": "-_8_zbYG9Mew",
        "colab": {
          "base_uri": "https://localhost:8080/"
        },
        "outputId": "bf3d2950-8983-4dbd-d7bc-2e4c27f2ee15"
      },
      "execution_count": null,
      "outputs": [
        {
          "output_type": "stream",
          "name": "stdout",
          "text": [
            "    October 2022\n",
            "Mo Tu We Th Fr Sa Su\n",
            "                1  2\n",
            " 3  4  5  6  7  8  9\n",
            "10 11 12 13 14 15 16\n",
            "17 18 19 20 21 22 23\n",
            "24 25 26 27 28 29 30\n",
            "31\n",
            "\n"
          ]
        }
      ]
    },
    {
      "cell_type": "code",
      "source": [
        "import scipy.stats as stats\n",
        "\n",
        "# Generando datos aleatorios\n",
        "data = stats.norm.rvs(size=100)\n",
        "\n",
        "# Calculando la media y desviación estándar\n",
        "mean = stats.tmean(data)\n",
        "std = stats.tstd(data)\n",
        "\n",
        "# Realizando una prueba t de una muestra con media poblacional conocida\n",
        "t, p = stats.ttest_1samp(data, popmean=0)\n",
        "\n",
        "# Imprimiendo los resultados\n",
        "print(f\"Media: {mean:.2f}, Desviación estándar: {std:.2f}\")\n",
        "print(f\"Estadístico t: {t:.2f}, Valor p: {p:.2f}\")\n"
      ],
      "metadata": {
        "colab": {
          "base_uri": "https://localhost:8080/"
        },
        "id": "KBLkQkMAqfBN",
        "outputId": "417164a5-6cbc-47e1-9d94-4d2d11854292"
      },
      "execution_count": null,
      "outputs": [
        {
          "output_type": "stream",
          "name": "stdout",
          "text": [
            "Media: 0.10, Desviación estándar: 1.11\n",
            "Estadístico t: 0.89, Valor p: 0.38\n"
          ]
        }
      ]
    },
    {
      "cell_type": "markdown",
      "source": [
        "## **MODULOS PERSONALIZADOS EN PYTHON**\n",
        "\n",
        "Los módulos personalizados en Python son aquellos que son creados por el programador para ser utilizados en su propio código. Estos módulos son importantes porque permiten una mayor modularidad en el código, lo que lo hace más fácil de mantener y actualizar.\n",
        "\n",
        "**Los módulos personalizados se pueden dividir en dos tipos principales:**\n",
        "\n",
        "* **Funciones personalizadas:** Son pequeños fragmentos de código que realizan una tarea específica y se pueden reutilizar en diferentes partes del código.\n",
        "\n",
        "* **Módulos personalizados:** Son archivos de Python que contienen una colección de funciones y clases personalizadas que se pueden importar y utilizar en cualquier parte del código.\n",
        "\n",
        "Para usar un módulo personalizado en Python, primero debe estar disponible en el mismo directorio que el archivo de Python que lo utilizará o en una ruta que Python pueda encontrar. Para importar un módulo personalizado en su archivo de Python, puede utilizar la palabra clave `\"import\"` seguida del nombre del módulo (nombre del archivo sin la extensión .py):\n",
        "\n",
        "\n",
        ">> `import modulo_personalizado`\n",
        "\n",
        "Si el módulo personalizado se encuentra en otra carpeta o ruta, se puede agregar esa ruta al sistema de búsqueda de módulos de Python utilizando la variable de entorno \"PYTHONPATH\". También se puede especificar la ruta al módulo utilizando la función \"sys.path.append()\" dentro del archivo de Python:\n",
        "\n",
        "\n",
        ">> `import sys`\n",
        "\n",
        ">> `sys.path.append('/ruta/a/modulo_personalizado')`\n",
        "\n",
        ">> `import modulo_personalizado`\n",
        "\n",
        "\n",
        "Una vez que se ha importado un módulo personalizado, se puede acceder a sus funciones y clases utilizando la sintaxis de punto:\n",
        "\n",
        "\n",
        ">> `import modulo_personalizado`\n",
        "\n",
        ">> `resultado = modulo_personalizado.funcion_personalizada(argumentos)`\n",
        "\n",
        ">> `objeto = modulo_personalizado.ClasePersonalizada(argumentos)`\n",
        "\n",
        "\n",
        "\n",
        "\n"
      ],
      "metadata": {
        "id": "i4zLSX5VwzHV"
      }
    },
    {
      "cell_type": "markdown",
      "source": [
        "### **Para crear un módulo personalizado en Python, sigue estos pasos:**\n",
        "\n",
        "* 1.- Crea un archivo con extensión .py y nombra el archivo con el nombre que quieres darle al módulo. Por ejemplo, mi_modulo.py.\n",
        "\n",
        "* 2.- Dentro del archivo, escribe las funciones, variables y clases que quieres incluir en el módulo.\n",
        "\n",
        "* 3.- Guarda el archivo en una ubicación donde Python pueda encontrarlo. Una opción es guardar el archivo en el mismo directorio que el script que lo usará.\n",
        "\n",
        "* 4.- Para usar el módulo en un script, utiliza la palabra clave import seguida del nombre del archivo sin la extensión .py. Por ejemplo, import mi_modulo.\n",
        "\n",
        "* 5.- Llama a las funciones y clases del módulo en tu script utilizando la sintaxis nombre_modulo.nombre_funcion() o nombre_modulo.nombre_clase().\n",
        "\n",
        "**IMPORTANTE:** Si el archivo del módulo está en una carpeta diferente a la del script, se puede agregar la ruta de la carpeta al sys.path para que Python pueda encontrar el archivo. Por ejemplo:\n",
        "\n",
        "\n",
        ">>  `import sys`\n",
        "\n",
        ">>  `sys.path.append('/ruta/de/la/carpeta')`\n",
        "\n",
        ">>  `import mi_modulo`\n",
        "\n",
        "\n",
        "\n",
        "**NOTA:** Asegurarse de que el archivo del módulo tenga permisos de lectura para el usuario que ejecuta el script.\n",
        "\n",
        "\n",
        "\n",
        "\n",
        "\n"
      ],
      "metadata": {
        "id": "R6yqk010zb99"
      }
    },
    {
      "cell_type": "code",
      "source": [],
      "metadata": {
        "id": "BKWHyPPp6vjq"
      },
      "execution_count": null,
      "outputs": []
    }
  ]
}