{
  "nbformat": 4,
  "nbformat_minor": 0,
  "metadata": {
    "colab": {
      "provenance": [],
      "authorship_tag": "ABX9TyPjDusfMQXM5zVRj5TPj2p8",
      "include_colab_link": true
    },
    "kernelspec": {
      "name": "python3",
      "display_name": "Python 3"
    },
    "language_info": {
      "name": "python"
    }
  },
  "cells": [
    {
      "cell_type": "markdown",
      "metadata": {
        "id": "view-in-github",
        "colab_type": "text"
      },
      "source": [
        "<a href=\"https://colab.research.google.com/github/pedroyepiz/pythonHOY/blob/main/17_ARCHIVOS_DRIVE_Y_LOCALES.ipynb\" target=\"_parent\"><img src=\"https://colab.research.google.com/assets/colab-badge.svg\" alt=\"Open In Colab\"/></a>"
      ]
    },
    {
      "cell_type": "code",
      "execution_count": null,
      "metadata": {
        "id": "mv1mkhvPfr6K"
      },
      "outputs": [],
      "source": []
    },
    {
      "cell_type": "code",
      "source": [
        "!pip install pyyaml"
      ],
      "metadata": {
        "colab": {
          "base_uri": "https://localhost:8080/"
        },
        "id": "Sz_Jn7-u1lWo",
        "outputId": "d1c9e666-1cc7-45a8-f062-10d4006cba21"
      },
      "execution_count": null,
      "outputs": [
        {
          "output_type": "stream",
          "name": "stdout",
          "text": [
            "Looking in indexes: https://pypi.org/simple, https://us-python.pkg.dev/colab-wheels/public/simple/\n",
            "Requirement already satisfied: pyyaml in /usr/local/lib/python3.10/dist-packages (6.0)\n"
          ]
        }
      ]
    },
    {
      "cell_type": "code",
      "execution_count": 1,
      "metadata": {
        "id": "KkHOHwpKdQw2"
      },
      "outputs": [],
      "source": [
        "from IPython.display import clear_output\n",
        "import random\n",
        "import json\n",
        "import yaml\n",
        "import time\n",
        "import pandas as pd"
      ]
    },
    {
      "cell_type": "code",
      "source": [
        "from google.colab import drive\n",
        "drive.mount('/content/drive')"
      ],
      "metadata": {
        "colab": {
          "base_uri": "https://localhost:8080/"
        },
        "id": "8gng3xRRdi0k",
        "outputId": "dae61b69-8542-4fbd-c29d-ba6ff7b2d475"
      },
      "execution_count": 2,
      "outputs": [
        {
          "output_type": "stream",
          "name": "stdout",
          "text": [
            "Mounted at /content/drive\n"
          ]
        }
      ]
    },
    {
      "cell_type": "code",
      "source": [
        "ruta=\"/content/drive/MyDrive/proyecto\"\n"
      ],
      "metadata": {
        "id": "axsyrA_oei15"
      },
      "execution_count": 3,
      "outputs": []
    },
    {
      "cell_type": "code",
      "source": [
        "import sys\n",
        "sys.path.append(ruta)\n"
      ],
      "metadata": {
        "id": "KkC7rGM-eZw_"
      },
      "execution_count": 4,
      "outputs": []
    },
    {
      "cell_type": "code",
      "source": [
        "import os\n",
        "\n",
        "# Ruta de la carpeta \"proyecto\" en Google Drive\n",
        "path = \"/content/drive/MyDrive/proyecto\"\n",
        "\n",
        "# Nombre del archivo de texto a crear\n",
        "filename = \"peso_pluma.txt\"\n",
        "\n",
        "# Contenido del archivo\n",
        "p1 = \"Me levanto, un baño y luego me pongo a forjar\\n\"\n",
        "p2=\"Es veneno, da pa' arriba, de muy buena calidad\\n\"\n",
        "p3=\"Los teléfonos no paran nunca de sonar\\n\"\n",
        "p4=\"Si no es alguna plebita, es porque un cliente quiere más\\n\"\n",
        "\n",
        "contenido = p1 + p2 + p3 + p4\n",
        "\n",
        "# Crear el archivo y escribir el contenido\n",
        "with open(os.path.join(path, filename), \"w\") as file:\n",
        "    file.write(contenido)\n"
      ],
      "metadata": {
        "id": "A4YbChbzgDU5"
      },
      "execution_count": 5,
      "outputs": []
    },
    {
      "cell_type": "code",
      "source": [
        "import dicionario\n",
        "listadatos= []\n",
        "claves = [\"Id\",\"Ap.Paterno\",\"Ap.Materno\",\"Nombre\",\"Puesto\",\"Sexo\"]\n",
        "for i in range(15):\n",
        "    listadatos.append(dict(zip(claves,dicionario.registro())))"
      ],
      "metadata": {
        "id": "7CvRcNSJi4wi"
      },
      "execution_count": 6,
      "outputs": []
    },
    {
      "cell_type": "code",
      "source": [
        "data = pd.DataFrame(listadatos)\n",
        "print (data)\n"
      ],
      "metadata": {
        "colab": {
          "base_uri": "https://localhost:8080/"
        },
        "id": "Bl3j4w1GV6eU",
        "outputId": "aee15f52-0371-417c-84e4-911f5c332cd8"
      },
      "execution_count": 7,
      "outputs": [
        {
          "output_type": "stream",
          "name": "stdout",
          "text": [
            "     Id  Ap.Paterno  Ap.Materno   Nombre      Puesto    Sexo\n",
            "0   452     Paredes      Chavez     Luis   Encargad@  HOMBRE\n",
            "1   233     Paredes      Chavez    Pedro     Gerente  HOMBRE\n",
            "2   339        Cota     Herrera    Pedro     Gerente  HOMBRE\n",
            "3    56     Herrera        Cota  Roberto  Supervisor  HOMBRE\n",
            "4    36   Gutierrez      Huerta  Abraham     Guardia  HOMBRE\n",
            "5    27     Paredes  Villalobos  Abraham  Supervisor  HOMBRE\n",
            "6   371       Perez     Sanchez    Maria        Jefe   MUJER\n",
            "7   373     Paredes     Paredes  Roberto   Encargad@  HOMBRE\n",
            "8   436       Casas      Chavez   Carlos     Gerente  HOMBRE\n",
            "9    54  Villalobos      Huerta     Juan   Encargad@  HOMBRE\n",
            "10  350     Herrera       Perez   Lupita  Supervisor   MUJER\n",
            "11  157   Gutierrez   Gutierrez    Pedro    Conserje  HOMBRE\n",
            "12  438       Casas     Herrera     Luis   Encargad@  HOMBRE\n",
            "13  328   Gutierrez  Villalobos    Sonia    Conserje   MUJER\n",
            "14  172        Cota        Cota     Juan     Guardia  HOMBRE\n"
          ]
        }
      ]
    },
    {
      "cell_type": "markdown",
      "source": [
        "|   Id | Ap.Paterno   | Ap.Materno   | Nombre   | Puesto        | Sexo   |\n",
        "|-----:|:-------------|:-------------|:---------|:--------------|:-------|\n",
        "|   71 | Casas        | Perez        | Lupita   | Gerente       | MUJER  |\n",
        "|  482 | Sanchez      | Sanchez      | Luis     | Encargad@     | HOMBRE |\n",
        "|   48 | Herrera      | Sanchez      | Abraham  | Supervisor    | HOMBRE |\n",
        "|  210 | Herrera      | Herrera      | Maria    | Empleado Gral | MUJER  |\n",
        "|  266 | Canales      | Canales      | Sandra   | Conserje      | MUJER  |\n",
        "|  476 | Perez        | Canales      | Abraham  | Jefe          | HOMBRE |\n",
        "|   73 | Sanchez      | Casas        | Tulio    | Guardia       | HOMBRE |\n",
        "|  164 | Paredes      | Herrera      | Sonia    | Empleado Gral | MUJER  |\n",
        "|   37 | Casas        | Gutierrez    | Juan     | Encargad@     | HOMBRE |\n",
        "|  245 | Herrera      | Huerta       | Ana      | Gerente       | MUJER  |\n",
        "|   24 | Gutierrez    | Huerta       | Sonia    | Guardia       | MUJER  |\n",
        "|  440 | Perez        | Villalobos   | Ana      | Conserje      | MUJER  |\n",
        "|  155 | Chavez       | Paredes      | Vanessa  | Guardia       | MUJER  |\n",
        "|  143 | Huerta       | Sanchez      | Carlos   | Empleado Gral | HOMBRE |\n",
        "|  243 | Casas        | Herrera      | Vanessa  | Supervisor    | MUJER  |"
      ],
      "metadata": {
        "id": "8e5-7N46W8hL"
      }
    },
    {
      "cell_type": "code",
      "source": [
        "data = pd.DataFrame(listadatos)\n",
        "data.to_csv('/content/drive/MyDrive/proyecto/salida.csv', index=False)"
      ],
      "metadata": {
        "id": "MoVfs61ChsDS"
      },
      "execution_count": 8,
      "outputs": []
    },
    {
      "cell_type": "code",
      "source": [
        "data = pd.DataFrame(listadatos)\n",
        "data.to_excel('/content/drive/MyDrive/proyecto/ejemplo.xlsx', index=False)"
      ],
      "metadata": {
        "id": "yn6NlhDaob19"
      },
      "execution_count": 9,
      "outputs": []
    },
    {
      "cell_type": "code",
      "source": [
        "path = \"/content/drive/MyDrive/proyecto/datos.md\"\n",
        "data.to_markdown(path, index=False)"
      ],
      "metadata": {
        "id": "BT5_BdxepREz"
      },
      "execution_count": 10,
      "outputs": []
    },
    {
      "cell_type": "code",
      "source": [
        "path = \"/content/drive/MyDrive/proyecto/salida.csv\"\n",
        "\n",
        "datos_csv = pd.read_csv(path)\n",
        "print(datos_csv)"
      ],
      "metadata": {
        "id": "3t9h8KQJsB5s",
        "colab": {
          "base_uri": "https://localhost:8080/"
        },
        "outputId": "5d7b75b7-cb1e-4a25-a65c-2a5961a75cea"
      },
      "execution_count": 12,
      "outputs": [
        {
          "output_type": "stream",
          "name": "stdout",
          "text": [
            "     Id  Ap.Paterno  Ap.Materno   Nombre      Puesto    Sexo\n",
            "0   452     Paredes      Chavez     Luis   Encargad@  HOMBRE\n",
            "1   233     Paredes      Chavez    Pedro     Gerente  HOMBRE\n",
            "2   339        Cota     Herrera    Pedro     Gerente  HOMBRE\n",
            "3    56     Herrera        Cota  Roberto  Supervisor  HOMBRE\n",
            "4    36   Gutierrez      Huerta  Abraham     Guardia  HOMBRE\n",
            "5    27     Paredes  Villalobos  Abraham  Supervisor  HOMBRE\n",
            "6   371       Perez     Sanchez    Maria        Jefe   MUJER\n",
            "7   373     Paredes     Paredes  Roberto   Encargad@  HOMBRE\n",
            "8   436       Casas      Chavez   Carlos     Gerente  HOMBRE\n",
            "9    54  Villalobos      Huerta     Juan   Encargad@  HOMBRE\n",
            "10  350     Herrera       Perez   Lupita  Supervisor   MUJER\n",
            "11  157   Gutierrez   Gutierrez    Pedro    Conserje  HOMBRE\n",
            "12  438       Casas     Herrera     Luis   Encargad@  HOMBRE\n",
            "13  328   Gutierrez  Villalobos    Sonia    Conserje   MUJER\n",
            "14  172        Cota        Cota     Juan     Guardia  HOMBRE\n"
          ]
        }
      ]
    },
    {
      "cell_type": "code",
      "source": [
        "path = \"/content/drive/MyDrive/proyecto/holamundo.txt\"\n",
        "\n",
        "with open(path, \"r\") as f:\n",
        "    contenido = f.read()\n",
        "\n",
        "print(contenido)"
      ],
      "metadata": {
        "colab": {
          "base_uri": "https://localhost:8080/"
        },
        "id": "7VR5LH0mzQKW",
        "outputId": "d5f4c4a9-c503-414c-f134-1e9d382a2506"
      },
      "execution_count": null,
      "outputs": [
        {
          "output_type": "stream",
          "name": "stdout",
          "text": [
            "  _____         _            __     __        _     \n",
            " |  __ \\       | |           \\ \\   / /       (_)    \n",
            " | |__) |__  __| |_ __ ___    \\ \\_/ /__ _ __  _ ____\n",
            " |  ___/ _ \\/ _` | '__/ _ \\    \\   / _ \\ '_ \\| |_  /\n",
            " | |  |  __/ (_| | | | (_) |    | |  __/ |_) | |/ / \n",
            " |_|   \\___|\\__,_|_|  \\___/     |_|\\___| .__/|_/___|\n",
            "                                       | |          \n",
            "                                       |_|         \n"
          ]
        }
      ]
    }
  ]
}