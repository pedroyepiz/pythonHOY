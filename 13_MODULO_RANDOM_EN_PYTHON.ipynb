{
  "nbformat": 4,
  "nbformat_minor": 0,
  "metadata": {
    "colab": {
      "provenance": [],
      "toc_visible": true,
      "authorship_tag": "ABX9TyPyEco44cZak4rpplXdUT+B",
      "include_colab_link": true
    },
    "kernelspec": {
      "name": "python3",
      "display_name": "Python 3"
    },
    "language_info": {
      "name": "python"
    }
  },
  "cells": [
    {
      "cell_type": "markdown",
      "metadata": {
        "id": "view-in-github",
        "colab_type": "text"
      },
      "source": [
        "<a href=\"https://colab.research.google.com/github/pedroyepiz/pythonHOY/blob/main/13_MODULO_RANDOM_EN_PYTHON.ipynb\" target=\"_parent\"><img src=\"https://colab.research.google.com/assets/colab-badge.svg\" alt=\"Open In Colab\"/></a>"
      ]
    },
    {
      "cell_type": "markdown",
      "source": [
        "![python portada.png](data:image/png;base64,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)"
      ],
      "metadata": {
        "id": "qnvl8ynLt3Fk"
      }
    },
    {
      "cell_type": "markdown",
      "source": [
        "# **MODULO RANDOM PARA PYTHON**\n",
        "\n",
        "\n",
        "El módulo random de Python es una biblioteca estándar que proporciona funciones para trabajar con números pseudoaleatorios. Estas funciones son utilizadas para generar secuencias de números aleatorios para diversas aplicaciones, como simulaciones, juegos, análisis de datos y criptografía. El módulo random de Python utiliza el algoritmo Mersenne Twister como generador de números pseudoaleatorios, el cual es conocido por ser rápido y de alta calidad.\n",
        "\n",
        "La importancia del uso del módulo random radica en que muchas aplicaciones requieren de la generación de números aleatorios para funcionar correctamente. Por ejemplo, en los juegos es necesario generar aleatoriamente las posiciones de los objetos, las acciones de los personajes, los resultados de los dados, etc. En el análisis de datos, se pueden usar números aleatorios para realizar muestreos, generar datos sintéticos, evaluar la robustez de los algoritmos, entre otros usos.\n",
        "\n",
        "En Python, el módulo random genera números aleatorios entre 0 y 1, mientras que en otros lenguajes como C, la función rand() genera números aleatorios entre 0 y un número máximo especificado. Además, Python ofrece una amplia variedad de funciones para trabajar con números aleatorios, mientras que en otros lenguajes estas funciones pueden ser más limitadas.\n",
        "\n",
        "Un aspecto importante en el uso del módulo random en Python es el concepto de generador de números aleatorios, que permite controlar la semilla y generar una secuencia de números aleatorios que se puede reproducir en el futuro si se utiliza la misma semilla. En resumen, el módulo random es una herramienta muy útil para generar números aleatorios en Python y cuenta con varias funciones que lo hacen más completo que otros lenguajes de programación.\n",
        "\n",
        "Además, el módulo random en Python proporciona una amplia variedad de funciones para generar diferentes tipos de datos aleatorios, incluyendo números enteros, números reales, elecciones aleatorias de secuencias, entre otros. Algunas de las funciones más comunes incluyen:\n",
        "\n",
        "**Algunos de los métodos más utilizados del módulo random de Python:**\n",
        "\n",
        "| Nombre          | Descripción                                                | Ejemplo                    |\n",
        "|----------------|------------------------------------------------------------|----------------------------|\n",
        "| random()        | Genera un número aleatorio entre 0 y 1.                    | random()                   |\n",
        "| randint(a, b)   | Genera un número entero aleatorio en el rango [a, b].      | randint(1, 10)             |\n",
        "| uniform(a, b)   | Genera un número real aleatorio en el rango [a, b].        | uniform(1.0, 5.0)          |\n",
        "| choice(seq)     | Devuelve un elemento aleatorio de la secuencia dada.      | choice(['a', 'b', 'c'])    |\n",
        "| shuffle(seq)    | Mezcla aleatoriamente los elementos de una secuencia.      | shuffle(['a', 'b', 'c'])   |\n",
        "| sample(seq, k)  | Devuelve una lista de k elementos aleatorios de la secuencia dada. | sample(['a', 'b', 'c'], 2) |\n",
        "\n",
        "\n",
        "\n",
        "Es importante destacar que el módulo random no es adecuado para aplicaciones de criptografía, ya que los números generados no son completamente aleatorios y pueden ser predecibles en ciertas situaciones. Para aplicaciones que requieren de alta seguridad, es necesario utilizar bibliotecas especializadas en criptografía, como cryptography o pycryptodome.\n",
        "\n",
        "En resumen, el módulo random es una herramienta esencial en el kit de herramientas de Python para la generación de números aleatorios y es utilizado en una amplia variedad de aplicaciones. Su uso en Python difiere de otros lenguajes de programación debido al uso de generadores de números aleatorios, lo que permite una mayor flexibilidad y control en la generación de datos aleatorios.\n",
        "\n",
        "**Fuentes:**\n",
        "\n",
        "Documentación oficial de Python: (https://docs.python.org/3/library/random.html)\n",
        "\n",
        "Tutorialspoint: [https://www.tutorialspoint.com/python3/python_numbers.htm](https://www.tutorialspoint.com/python3/python_numbers.htm)\n"
      ],
      "metadata": {
        "id": "hVVWZOrbt49r"
      }
    },
    {
      "cell_type": "markdown",
      "source": [
        "## **IMPORTACION DEL MODULO RANDOM**\n",
        "\n",
        "* Para importar el módulo random en Python, se puede utilizar la siguiente sintaxis:\n",
        "```\n",
        "import random\n",
        "```\n",
        "* También es posible importar funciones específicas del módulo, utilizando la siguiente sintaxis:\n",
        "```\n",
        "from random import nombre_funcion\n",
        "```\n",
        "donde \"nombre_funcion\" es el nombre de la función que se desea importar.\n",
        "\n",
        "\n",
        "**Un ejemplo básico de un método del módulo random es la función random() que devuelve un número aleatorio entre 0 y 1:**\n",
        "```\n",
        "import random\n",
        "numero_aleatorio = random.random()\n",
        "```\n",
        "**Otro ejemplo es la función randint(a, b), que devuelve un número entero aleatorio entre \"a\" y \"b\", incluyendo ambos extremos:**\n",
        "```\n",
        "import random\n",
        "\n",
        "numero_aleatorio = random.randint(1, 100)\n",
        "```\n",
        "## **Tips para utilizar el módulo random**\n",
        "\n",
        "Es importante tener en cuenta que los números aleatorios generados por el módulo random no son realmente aleatorios, sino que se generan utilizando un algoritmo determinista. Por lo tanto, es posible que los números generados no sean realmente aleatorios si la semilla no se establece adecuadamente.\n",
        "\n",
        "**Para evitar problemas con la generación de números aleatorios, se recomienda establecer la semilla al inicio del programa con la función random.seed(). Por ejemplo:**\n",
        "```\n",
        "import random\n",
        "random.seed(123)\n",
        "```\n",
        "\n",
        "**IMPORTANTE:**\n",
        "\n",
        "Tener en cuenta que el módulo random debe ser utilizado con cuidado en aplicaciones criptográficas, ya que los números generados pueden ser predecibles si no se utiliza adecuadamente.\n",
        "\n",
        "En conclusión, el módulo random es una herramienta útil y poderosa en Python que permite generar números aleatorios para una variedad de aplicaciones. Al utilizar este módulo, es importante tener en cuenta los tips mencionados anteriormente para garantizar que los números generados sean realmente aleatorios y que no se produzcan problemas de seguridad en las aplicaciones criptográficas."
      ],
      "metadata": {
        "id": "4ykPu8fA0MNG"
      }
    },
    {
      "cell_type": "markdown",
      "source": [
        "## **TABLA DE METODOS DEL MODULO RANDOM**\n",
        "| Método                 | Descripción                                                   | Ejemplo                                          |\n",
        "|------------------------|---------------------------------------------------------------|--------------------------------------------------|\n",
        "| `random()`             | Devuelve un número decimal aleatorio entre 0 y 1.            | `random.random()`                                |\n",
        "| `randrange()`          | Devuelve un número entero aleatorio dentro de un rango.       | `random.randrange(10)`                           |\n",
        "| `randint()`            | Devuelve un número entero aleatorio dentro de un rango.       | `random.randint(1, 100)`                         |\n",
        "| `choice()`             | Devuelve un elemento aleatorio de una secuencia.              | `random.choice(['a', 'b', 'c'])`                 |\n",
        "| `choices()`            | Devuelve una lista con elementos aleatorios de una secuencia. | `random.choices(['a', 'b', 'c'], k=2)`           |\n",
        "| `shuffle()`            | Mezcla los elementos de una secuencia de forma aleatoria.     | `x = [1, 2, 3]; random.shuffle(x)`                |\n",
        "| `sample()`             | Devuelve una lista con una muestra aleatoria de una secuencia. | `random.sample(['a', 'b', 'c'], k=2)`            |\n",
        "| `uniform()`            | Devuelve un número decimal aleatorio dentro de un rango.      | `random.uniform(1, 10)`                          |\n",
        "| `triangular()`         | Devuelve un número decimal aleatorio dentro de un rango.      | `random.triangular(1, 5, 8)`                     |\n",
        "| `betavariate()`        | Devuelve un número aleatorio de la distribución beta.         | `random.betavariate(0.5, 0.5)`                   |\n",
        "| `expovariate()`        | Devuelve un número aleatorio de la distribución exponencial.  | `random.expovariate(1/5)`                        |\n",
        "| `gammavariate()`       | Devuelve un número aleatorio de la distribución gamma.        | `random.gammavariate(1, 2)`                      |\n",
        "| `gauss()`              | Devuelve un número aleatorio de la distribución normal.       | `random.gauss(0, 1)`                             |\n",
        "| `lognormvariate()`     | Devuelve un número aleatorio de la distribución lognormal.    | `random.lognormvariate(0, 1)`                    |\n",
        "| `normalvariate()`      | Devuelve un número aleatorio de la distribución normal.       | `random.normalvariate(0, 1)`                     |\n",
        "| `vonmisesvariate()`    | Devuelve un número aleatorio de la distribución Von Mises.    | `random.vonmisesvariate(0, 1)`                   |\n",
        "| `paretovariate()`      | Devuelve un número aleatorio de la distribución de Pareto.    | `random.paretovariate(1)`                        |\n",
        "| `weibullvariate()`     | Devuelve un número aleatorio de la distribución de Weibull.   | `random.weibullvariate(1, 2)`                    |\n",
        "| `getstate()`           | Devuelve el estado interno del generador de números aleatorios. | `state = random.getstate()`                    |\n",
        "| `setstate()`           | Restablece el estado interno del generador de números aleatorios. | `random.setstate(state)`\n"
      ],
      "metadata": {
        "id": "hSTrBm8n7VQy"
      }
    },
    {
      "cell_type": "markdown",
      "source": [
        "_____\n",
        "## **EJEMPLOS METODOS MAS USADOS DEL MODULO RANDOM**\n"
      ],
      "metadata": {
        "id": "NiJEzuR5ugVJ"
      }
    },
    {
      "cell_type": "markdown",
      "source": [
        "### **randint()**\n",
        "\n",
        "\n",
        "La función randint() devuelve un número entero incluido entre los valores indicados. Los valores de los límites inferior y superior también pueden aparecer entre los valores devueltos.\n",
        "\n",
        "\n",
        "**En el siguiente ejemplo se realizan cinco \"rifas\" y se obtiene, para cada uno de ellos, un regalo de diez posibles.**"
      ],
      "metadata": {
        "id": "EgRVmEBKuWB9"
      }
    },
    {
      "cell_type": "code",
      "source": [
        "import random\n",
        "\n",
        "regalos = [\"PLUMA\",\"LAPIZ\",\"BORRADOR\",\"CELULAR\",\"TABLET\",\n",
        "           \"LAPTOP\",\"PANTALLA\",\"JUEGO PLUMAS\",\"LIBROS\",\"TABLET + LAPTOP\"]\n",
        "           \n",
        "for rifa in range(5):\n",
        "    regalo = regalos[random.randint(0, 9)]\n",
        "    print(f\"RIFA: {rifa + 1} : {regalo}\")"
      ],
      "metadata": {
        "id": "bgrWErpyufHp",
        "colab": {
          "base_uri": "https://localhost:8080/"
        },
        "outputId": "9894811f-962c-41f2-894d-deb3b2d3873b"
      },
      "execution_count": null,
      "outputs": [
        {
          "output_type": "stream",
          "name": "stdout",
          "text": [
            "RIFA: 1 : PANTALLA\n",
            "RIFA: 2 : BORRADOR\n",
            "RIFA: 3 : PANTALLA\n",
            "RIFA: 4 : LIBROS\n",
            "RIFA: 5 : LIBROS\n"
          ]
        }
      ]
    },
    {
      "cell_type": "code",
      "source": [],
      "metadata": {
        "id": "piw0SMYBzh4l"
      },
      "execution_count": null,
      "outputs": []
    },
    {
      "cell_type": "markdown",
      "source": [
        "### **randrange()**\n",
        "\n",
        "La función randrange() devuelve enteros que van desde un valor inicial a otro final separados entre sí un número de valores determinados. Esta separación (o paso) se utiliza en primer lugar con el valor inicial para calcular el siguiente valor y los sucesivos hasta llegar al valor final o al más cercano posible.\n",
        "\n",
        "En el ejemplo que sigue se obtienen 25 números que van desde el 3 al 16. Como el paso es 3 nunca se obtendría el valor 16.\n",
        "\n",
        "\n",
        "\n",
        "A continuación, se utiliza la forma abreviada para obtener números que van desde el 0 a cualquier número (en este caso el 4) con el paso 1.\n",
        "\n",
        "\n",
        "\n"
      ],
      "metadata": {
        "id": "juo04_wszoFp"
      }
    },
    {
      "cell_type": "code",
      "source": [
        "print(\"\\nVALORES POSIBLES: 3, 6, 9, 12, 15\\n\")\n",
        "for i in range(25):\n",
        "    print(random.randrange(3, 16, 3), end=\", \")"
      ],
      "metadata": {
        "id": "VupeS2Ycz6fW",
        "colab": {
          "base_uri": "https://localhost:8080/"
        },
        "outputId": "59eac8a8-a168-4d6e-9932-01a7e2012f58"
      },
      "execution_count": null,
      "outputs": [
        {
          "output_type": "stream",
          "name": "stdout",
          "text": [
            "\n",
            "VALORES POSIBLES: 3, 6, 9, 12, 15\n",
            "\n",
            "15, 6, 9, 6, 12, 15, 6, 6, 6, 9, 15, 6, 15, 3, 12, 3, 12, 6, 12, 15, 9, 12, 3, 3, 3, "
          ]
        }
      ]
    },
    {
      "cell_type": "code",
      "source": [
        "print(\"\\nVALORES POSIBLESs: 0, 1, 2, 3\\n\")\n",
        "for i in range(25):\n",
        "    print(random.randrange(4), end=\", \")"
      ],
      "metadata": {
        "id": "4QEuSoZf0OUW",
        "colab": {
          "base_uri": "https://localhost:8080/"
        },
        "outputId": "e8e411f4-906a-448d-94fd-5aa06f0fba2b"
      },
      "execution_count": null,
      "outputs": [
        {
          "output_type": "stream",
          "name": "stdout",
          "text": [
            "\n",
            "VALORES POSIBLESs: 0, 1, 2, 3\n",
            "\n",
            "1, 1, 1, 2, 3, 1, 0, 1, 3, 1, 0, 3, 1, 2, 0, 1, 2, 0, 2, 3, 3, 2, 2, 2, 3, "
          ]
        }
      ]
    },
    {
      "cell_type": "markdown",
      "source": [
        "### **random()**\n",
        "\n",
        "La función random() devuelve un número float entre 0 y 1\n",
        "\n",
        "En el ejemplo se obtienen tres números con muchos decimales entre 0 y 1.\n",
        "\n",
        "\n",
        "\n"
      ],
      "metadata": {
        "id": "dHB6VogNz7DB"
      }
    },
    {
      "cell_type": "code",
      "source": [
        "for numero in range(3):\n",
        "    print(random.random(), end=\",  \")"
      ],
      "metadata": {
        "colab": {
          "base_uri": "https://localhost:8080/"
        },
        "id": "_ockuuhQ0Dcn",
        "outputId": "1e9e339a-bf4b-4c43-bc4e-ef417df25123"
      },
      "execution_count": null,
      "outputs": [
        {
          "output_type": "stream",
          "name": "stdout",
          "text": [
            "0.11171906045824631,  0.48273380468269167,  0.7369871761897036,  "
          ]
        }
      ]
    },
    {
      "cell_type": "markdown",
      "source": [
        "### **uniform()**\n",
        "\n",
        "La función uniform() devuelve un número float incluido entre los valores indicados.\n",
        "\n"
      ],
      "metadata": {
        "id": "WgmKoYxO0D9w"
      }
    },
    {
      "cell_type": "code",
      "source": [
        "for numero in range(3):\n",
        "    print(random.uniform(100, 105), end=\", \")"
      ],
      "metadata": {
        "colab": {
          "base_uri": "https://localhost:8080/"
        },
        "id": "vRbbjV0_0FSt",
        "outputId": "00e60e4e-9c85-49cb-9b8a-77dec1107e4c"
      },
      "execution_count": null,
      "outputs": [
        {
          "output_type": "stream",
          "name": "stdout",
          "text": [
            "103.55702470284223, 100.5586129614904, 101.64111672402919, "
          ]
        }
      ]
    },
    {
      "cell_type": "markdown",
      "source": [
        "### **choice()**\n",
        "\n",
        "La función choice() se utiliza para seleccionar elementos al azar de una lista.\n",
        "\n",
        "En el siguiente ejemplo se obtiene un elemento de los cinco existentes en una lista.\n",
        "\n",
        "\n",
        "\n"
      ],
      "metadata": {
        "id": "7OsPDpVsvv37"
      }
    },
    {
      "cell_type": "code",
      "source": [
        "transporte = [\"BICI\",\"MOTO\",\"CARRO\",\"MICRO\",\"UBER\"]\n",
        "print(\"HOY VIAJARE EN : \", random.choice(transporte))\n"
      ],
      "metadata": {
        "colab": {
          "base_uri": "https://localhost:8080/"
        },
        "id": "Se55HDsJwQer",
        "outputId": "b4142e1f-b102-47a0-f1e4-2bf0614fba68"
      },
      "execution_count": null,
      "outputs": [
        {
          "output_type": "stream",
          "name": "stdout",
          "text": [
            "HOY VIAJARE EN :  MICRO\n"
          ]
        }
      ]
    },
    {
      "cell_type": "markdown",
      "source": [
        "### **suffle()**\n",
        "\n",
        "La función shuffle() 'mezcla' o cambia aleatoriamente el orden de los elementos de una lista antes de realizar la selección de alguno de ellos. Esta mezcla recuerda en el caso de los juegos de cartas la acción de barajar un número de veces antes de repartir o seleccionar cartas.\n",
        "\n",
        "El el siguiente ejemplo se realizan dos 'mezclas' antes de que se obtenga el elemento.\n",
        "\n",
        "\n",
        "\n"
      ],
      "metadata": {
        "id": "LM00WF_dwQ-2"
      }
    },
    {
      "cell_type": "code",
      "source": [
        "lista = [\"ROJO\",\"VERDE\",\"AMARILLO\"]\n",
        "\n",
        "random.shuffle(lista)\n",
        "print(\"mezcla1\", lista)\n",
        "\n",
        "random.shuffle(lista)\n",
        "print(\"mezcla2\", lista)\n",
        "print(lista[random.randint(0,2)])"
      ],
      "metadata": {
        "colab": {
          "base_uri": "https://localhost:8080/"
        },
        "id": "a9omtu2Twfim",
        "outputId": "61defcce-b553-425d-b330-2dc8121d7ec3"
      },
      "execution_count": null,
      "outputs": [
        {
          "output_type": "stream",
          "name": "stdout",
          "text": [
            "mezcla1 ['VERDE', 'AMARILLO', 'ROJO']\n",
            "mezcla2 ['VERDE', 'AMARILLO', 'ROJO']\n",
            "ROJO\n"
          ]
        }
      ]
    },
    {
      "cell_type": "markdown",
      "source": [
        "### **sample()**\n",
        "\n",
        "La función sample() devuelve de una lista de elementos un determinado número de elementos diferentes elegidos al azar.\n",
        "\n",
        "En el ejemplo que sigue sample() devuelve dos elementos de una lista que contiene seis.\n",
        "\n",
        "\n",
        "\n"
      ],
      "metadata": {
        "id": "2cdZCL96wf7I"
      }
    },
    {
      "cell_type": "code",
      "source": [
        "lista = [\"X\",\"Y\",\"Z\",\"i\",\"j\",\"k\"]\n",
        "print(random.sample(lista, 2))"
      ],
      "metadata": {
        "colab": {
          "base_uri": "https://localhost:8080/"
        },
        "id": "YB6owwgVwtfN",
        "outputId": "d382bad0-f299-4637-b1f6-df8de1970843"
      },
      "execution_count": null,
      "outputs": [
        {
          "output_type": "stream",
          "name": "stdout",
          "text": [
            "['k', 'i']\n"
          ]
        }
      ]
    },
    {
      "cell_type": "markdown",
      "source": [
        "### **getrandbits()**\n",
        "\n",
        "De una longitud de bits determinada la función getrandbits() devuelve números enteros decimales que se puedan representar con los mismos.\n",
        "\n",
        "Con 1 bit se pueden representar 2 números (0,1); con 2 bits, cuatro (0,1,2,3); con 3 bits, ocho (0,1,2,3,4,5,6,7) y con n-bits, 2 elevado a n.\n",
        "\n",
        "A continuación se generan 10 números decimales que se pueden representar con 3 bits.\n",
        "\n"
      ],
      "metadata": {
        "id": "9_8D2qqywt56"
      }
    },
    {
      "cell_type": "code",
      "source": [
        "for num in range(10):\n",
        "    print(random.getrandbits(3), end=' ')"
      ],
      "metadata": {
        "colab": {
          "base_uri": "https://localhost:8080/"
        },
        "id": "KocUwF1DxL8A",
        "outputId": "293915dc-11f5-4127-b392-20aacb8c4052"
      },
      "execution_count": null,
      "outputs": [
        {
          "output_type": "stream",
          "name": "stdout",
          "text": [
            "6 5 6 5 6 2 4 1 3 0 "
          ]
        }
      ]
    },
    {
      "cell_type": "markdown",
      "source": [
        "## **CODIGO EJEMPLO**"
      ],
      "metadata": {
        "id": "P7EzKrXgCeF1"
      }
    },
    {
      "cell_type": "code",
      "source": [
        "import random\n",
        "\n",
        "# 1. random() - devuelve un número flotante aleatorio entre 0 y 1\n",
        "num1 = random.random()\n",
        "print(\"Número aleatorio entre 0 y 1: \", num1)\n",
        "\n",
        "# 2. randint(a, b) - devuelve un número entero aleatorio entre a y b (incluyendo a y b)\n",
        "num2 = random.randint(1, 10)\n",
        "print(\"Número entero aleatorio entre 1 y 10: \", num2)\n",
        "\n",
        "# 3. choice(seq) - devuelve un elemento aleatorio de una secuencia dada\n",
        "lista = [\"Manzana\", \"Banana\", \"Cereza\"]\n",
        "fruta = random.choice(lista)\n",
        "print(\"Fruta aleatoria de la lista: \", fruta)\n",
        "\n",
        "# 4. shuffle(seq) - reordena aleatoriamente una secuencia dada\n",
        "numeros = [1, 2, 3, 4, 5]\n",
        "random.shuffle(numeros)\n",
        "print(\"Números reordenados aleatoriamente: \", numeros)\n",
        "\n",
        "# 5. uniform(a, b) - devuelve un número flotante aleatorio entre a y b (incluyendo a y b)\n",
        "num3 = random.uniform(2.5, 5.5)\n",
        "print(\"Número flotante aleatorio entre 2.5 y 5.5: \", num3)\n",
        "\n",
        "# 6. sample(population, k) - devuelve una lista con k elementos únicos aleatorios de una población dada\n",
        "baraja = [\"A\", \"2\", \"3\", \"4\", \"5\", \"6\", \"7\", \"8\", \"9\", \"10\", \"J\", \"Q\", \"K\"]\n",
        "mano = random.sample(baraja, 5)\n",
        "print(\"Mano de 5 cartas aleatorias: \", mano)\n",
        "\n",
        "# 7. choices(population, weights=None, k=1) - devuelve una lista de k elementos aleatorios de una población dada, con posibilidad de asignar pesos a cada elemento\n",
        "dado = [1, 2, 3, 4, 5, 6]\n",
        "probs = [0.1, 0.1, 0.2, 0.2, 0.2, 0.2] # probabilidades de cada número\n",
        "resultados = random.choices(dado, probs, k=10)\n",
        "print(\"Lanzamiento de dado con probabilidades: \", resultados)\n"
      ],
      "metadata": {
        "colab": {
          "base_uri": "https://localhost:8080/"
        },
        "id": "_D_mRkiOCbjz",
        "outputId": "0f20472d-b268-4334-ec79-de4f08cef955"
      },
      "execution_count": null,
      "outputs": [
        {
          "output_type": "stream",
          "name": "stdout",
          "text": [
            "Número aleatorio entre 0 y 1:  0.8236300877293553\n",
            "Número entero aleatorio entre 1 y 10:  7\n",
            "Fruta aleatoria de la lista:  Cereza\n",
            "Números reordenados aleatoriamente:  [3, 2, 5, 4, 1]\n",
            "Número flotante aleatorio entre 2.5 y 5.5:  4.970563095957829\n",
            "Mano de 5 cartas aleatorias:  ['5', '8', 'Q', '3', '9']\n",
            "Lanzamiento de dado con probabilidades:  [3, 4, 2, 5, 5, 6, 6, 5, 5, 6]\n"
          ]
        }
      ]
    },
    {
      "cell_type": "code",
      "source": [
        "import random\n",
        "\n",
        "# Crear una lista de números aleatorios\n",
        "numeros = [random.randint(1, 100) for i in range(10)]\n",
        "print(\"Lista original:\", numeros)\n",
        "\n",
        "# Mezclar la lista de números aleatorios\n",
        "random.shuffle(numeros)\n",
        "print(\"Lista mezclada:\", numeros)\n",
        "\n",
        "# Seleccionar aleatoriamente un elemento de la lista\n",
        "elemento = random.choice(numeros)\n",
        "print(\"Elemento aleatorio:\", elemento)\n",
        "\n",
        "# Generar un número aleatorio con decimales\n",
        "decimal = random.uniform(0, 1)\n",
        "print(\"Número aleatorio con decimales:\", decimal)\n",
        "\n",
        "# Seleccionar una muestra aleatoria de elementos de la lista\n",
        "muestra = random.sample(numeros, 3)\n",
        "print(\"Muestra aleatoria de 3 elementos:\", muestra)\n"
      ],
      "metadata": {
        "colab": {
          "base_uri": "https://localhost:8080/"
        },
        "id": "DIQcMGqbClyS",
        "outputId": "79775e1e-65cb-4da4-e631-4a43e4cfada2"
      },
      "execution_count": null,
      "outputs": [
        {
          "output_type": "stream",
          "name": "stdout",
          "text": [
            "Lista original: [56, 6, 18, 47, 74, 84, 7, 60, 46, 33]\n",
            "Lista mezclada: [33, 7, 18, 84, 6, 46, 47, 60, 74, 56]\n",
            "Elemento aleatorio: 74\n",
            "Número aleatorio con decimales: 0.6227570493108657\n",
            "Muestra aleatoria de 3 elementos: [7, 60, 56]\n"
          ]
        }
      ]
    }
  ]
}