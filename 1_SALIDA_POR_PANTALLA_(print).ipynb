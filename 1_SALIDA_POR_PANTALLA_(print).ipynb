{
  "nbformat": 4,
  "nbformat_minor": 0,
  "metadata": {
    "colab": {
      "provenance": [],
      "authorship_tag": "ABX9TyMzJBQDkhsKB56F8O4c+yk3",
      "include_colab_link": true
    },
    "kernelspec": {
      "name": "python3",
      "display_name": "Python 3"
    },
    "language_info": {
      "name": "python"
    }
  },
  "cells": [
    {
      "cell_type": "markdown",
      "metadata": {
        "id": "view-in-github",
        "colab_type": "text"
      },
      "source": [
        "<a href=\"https://colab.research.google.com/github/pedroyepiz/pythonHOY/blob/main/1_SALIDA_POR_PANTALLA_(print).ipynb\" target=\"_parent\"><img src=\"https://colab.research.google.com/assets/colab-badge.svg\" alt=\"Open In Colab\"/></a>"
      ]
    },
    {
      "cell_type": "markdown",
      "source": [
        "# **SALIDA POR PANTALLA: la función print()**\n",
        "\n",
        "En Informática, la \"salida\" de un programa son los datos que el programa proporciona al exterior. Aunque en los inicios de la informática la salida más habitual era una impresora, hace muchos años que el dispositivo de salida más habitual es la pantalla del ordenador.**texto en negrita**"
      ],
      "metadata": {
        "id": "ETkDNtt1xBO1"
      }
    },
    {
      "cell_type": "markdown",
      "source": [
        "### **LA FUNCION print**\n",
        "En los programas, para que python nos muestre texto o variables hay que utilizar la función print()."
      ],
      "metadata": {
        "id": "TsvG_MN7ynYi"
      }
    },
    {
      "cell_type": "markdown",
      "source": [
        "**print** es la funcion basica para dar una salida por pantalla en PYTHON, la sintaxis basica indica que las constantes de cadena pueden ir entre comillas dobles o comillas simples. "
      ],
      "metadata": {
        "id": "9AQ3fOry0HoS"
      }
    },
    {
      "cell_type": "code",
      "execution_count": null,
      "metadata": {
        "id": "BpcSRfaVwuvn"
      },
      "outputs": [],
      "source": [
        "# @title ESTE ES EL HOLA MUNDO \n",
        "print (\"Hola  mundo cruel y\\n despiadado\")\n",
        "print ('Hola  mundo cruel y despiadado') \n",
        "print (\"Hola\")"
      ]
    },
    {
      "cell_type": "code",
      "source": [
        "print('Hola')"
      ],
      "metadata": {
        "id": "JiLMwbC1y8FV",
        "colab": {
          "base_uri": "https://localhost:8080/"
        },
        "outputId": "5ed7d03a-bab2-41ea-fd74-001e5f0acaad"
      },
      "execution_count": null,
      "outputs": [
        {
          "output_type": "stream",
          "name": "stdout",
          "text": [
            "Hola\n"
          ]
        }
      ]
    },
    {
      "cell_type": "markdown",
      "source": [
        "**Nota:** Nosotros siempre usaremos comillas dobles.  para mantener un estilo de programacion uniforme"
      ],
      "metadata": {
        "id": "k_Qt821OzVsO"
      }
    },
    {
      "cell_type": "markdown",
      "source": [
        "**La función print() admite varios argumentos**\n",
        "En el programa, los argumentos deben separarse por comas. Los argumentos se muestran en el mismo orden y en la misma línea, separados por espacios:"
      ],
      "metadata": {
        "id": "Z4q3xSc35e7j"
      }
    },
    {
      "cell_type": "code",
      "source": [
        "print (\"Hola\"+\"Adiós\")"
      ],
      "metadata": {
        "id": "OqVN4-ECzBTn",
        "colab": {
          "base_uri": "https://localhost:8080/"
        },
        "outputId": "a454ccb8-c6fc-438c-87d7-d4fb9f4d285e"
      },
      "execution_count": null,
      "outputs": [
        {
          "output_type": "stream",
          "name": "stdout",
          "text": [
            "HolaAdiós\n"
          ]
        }
      ]
    },
    {
      "cell_type": "markdown",
      "source": [
        "**Cuando se trata de dos cadenas seguidas, se puede no escribir comas entre ellas, pero las cadenas se escribirán seguidas, sin espacio en blanco entre ellas:**"
      ],
      "metadata": {
        "id": "VUdungha5U52"
      }
    },
    {
      "cell_type": "code",
      "source": [
        "msge = \"ADIOS\"\n",
        "print(\"Hola\", msge)\n",
        "print (\"HOLA \\nADIOS\")"
      ],
      "metadata": {
        "id": "rsmUXXeA33yx",
        "colab": {
          "base_uri": "https://localhost:8080/"
        },
        "outputId": "0d080f46-bc09-4ffd-cf10-9a02c569ea7e"
      },
      "execution_count": null,
      "outputs": [
        {
          "output_type": "stream",
          "name": "stdout",
          "text": [
            "HolaADIOS\n",
            "HOLA \n",
            "ADIOS\n"
          ]
        }
      ]
    },
    {
      "cell_type": "markdown",
      "source": [
        "**Al final de cada print(), Python añade automáticamente un salto de línea:**"
      ],
      "metadata": {
        "id": "qWDbtDsE5v0o"
      }
    },
    {
      "cell_type": "code",
      "source": [
        "print(\"Hola\")\n",
        "print(\"Mundo\")"
      ],
      "metadata": {
        "id": "sYNBBm1O3-gW",
        "colab": {
          "base_uri": "https://localhost:8080/"
        },
        "outputId": "be2771a4-d89a-4f34-e7cb-cac17e4d2a4e"
      },
      "execution_count": null,
      "outputs": [
        {
          "output_type": "stream",
          "name": "stdout",
          "text": [
            "Hola\n",
            "Mundo\n"
          ]
        }
      ]
    },
    {
      "cell_type": "markdown",
      "source": [
        "**Para generar una línea en blanco, se puede escribir una orden print() sin argumentos.**"
      ],
      "metadata": {
        "id": "LXNwuCh8529w"
      }
    },
    {
      "cell_type": "code",
      "source": [
        "print(\"Hola\\n\")\n",
        "print(\"Mundo\")"
      ],
      "metadata": {
        "id": "VrAZfQkx4JSG",
        "colab": {
          "base_uri": "https://localhost:8080/"
        },
        "outputId": "c5e0b4a4-14c3-4661-c8f6-e4fa7d58843e"
      },
      "execution_count": null,
      "outputs": [
        {
          "output_type": "stream",
          "name": "stdout",
          "text": [
            "Hola\n",
            "\n",
            "Mundo\n"
          ]
        }
      ]
    },
    {
      "cell_type": "markdown",
      "source": [
        "**Si se quiere que Python no añada un salto de línea al final de un print(), se debe añadir al final el argumento end=\"\"**: "
      ],
      "metadata": {
        "id": "QqnBpahF-Ave"
      }
    },
    {
      "cell_type": "code",
      "source": [
        "print(\"Hola\", end=\" \")\n",
        "print(\"Adiós\")"
      ],
      "metadata": {
        "colab": {
          "base_uri": "https://localhost:8080/"
        },
        "id": "O-PgY1y24SHB",
        "outputId": "2ad1122d-0ec0-47fd-8b1d-1b99de2a0777"
      },
      "execution_count": null,
      "outputs": [
        {
          "output_type": "stream",
          "name": "stdout",
          "text": [
            "Hola -> Adiós\n"
          ]
        }
      ]
    },
    {
      "cell_type": "markdown",
      "source": [
        "**En el ejemplo anterior, las dos cadenas se muestran pegadas. Si se quieren separar los argumentos en la salida, hay que incluir los espacios deseados (bien en la cadena, bien en el argumento end):**"
      ],
      "metadata": {
        "id": "odY1GFLt-F8X"
      }
    },
    {
      "cell_type": "code",
      "source": [
        "print(\"Hola \", end=\"\")\n",
        "print(\"Adiós\")"
      ],
      "metadata": {
        "colab": {
          "base_uri": "https://localhost:8080/"
        },
        "id": "08mmwu0u-PYM",
        "outputId": "9e8ab577-927e-470c-c786-a6ad9c4ab43e"
      },
      "execution_count": null,
      "outputs": [
        {
          "output_type": "stream",
          "name": "stdout",
          "text": [
            "Hola Adiós\n"
          ]
        }
      ]
    },
    {
      "cell_type": "code",
      "source": [
        "print(\"Hola\", end=\" \")\n",
        "print(\"Adiós\")"
      ],
      "metadata": {
        "id": "MRGuEN19-Tk8",
        "colab": {
          "base_uri": "https://localhost:8080/"
        },
        "outputId": "ef79ddd7-cfdd-4059-a180-b6099f14607c"
      },
      "execution_count": null,
      "outputs": [
        {
          "output_type": "stream",
          "name": "stdout",
          "text": [
            "Hola Adiós\n"
          ]
        }
      ]
    },
    {
      "cell_type": "markdown",
      "source": [
        "**El valor del parámetro end puede ser una cadena f:**"
      ],
      "metadata": {
        "id": "K7bNBS_i-djA"
      }
    },
    {
      "cell_type": "code",
      "source": [
        "texto = \"Pedrito Hermoso\"\n",
        "print(\"Hola \", end=f\"{texto}\")\n",
        "print(\", y Adiós\")"
      ],
      "metadata": {
        "id": "wp_rUIh_-fEC",
        "colab": {
          "base_uri": "https://localhost:8080/"
        },
        "outputId": "73667f38-16e9-4633-940a-ec8008a35765"
      },
      "execution_count": null,
      "outputs": [
        {
          "output_type": "stream",
          "name": "stdout",
          "text": [
            "Hola Pedrito Hermoso, y Adiós\n"
          ]
        }
      ]
    },
    {
      "cell_type": "markdown",
      "source": [
        "LAS COMILLAS..."
      ],
      "metadata": {
        "id": "6DZ2E5sbw6Vu"
      }
    },
    {
      "cell_type": "code",
      "source": [
        "print(\"Un tipo le dice a otro: \"¿Cómo estás?\"\")"
      ],
      "metadata": {
        "id": "uFNADlChxD2c",
        "colab": {
          "base_uri": "https://localhost:8080/",
          "height": 131
        },
        "outputId": "e57756fd-cfe0-4677-d253-8d4b184159af"
      },
      "execution_count": null,
      "outputs": [
        {
          "output_type": "error",
          "ename": "SyntaxError",
          "evalue": "ignored",
          "traceback": [
            "\u001b[0;36m  File \u001b[0;32m\"<ipython-input-12-6df517bfc093>\"\u001b[0;36m, line \u001b[0;32m1\u001b[0m\n\u001b[0;31m    print(\"Un tipo le dice a otro: \"¿Cómo estás?\"\")\u001b[0m\n\u001b[0m                                        ^\u001b[0m\n\u001b[0;31mSyntaxError\u001b[0m\u001b[0;31m:\u001b[0m invalid character in identifier\n"
          ]
        }
      ]
    },
    {
      "cell_type": "code",
      "source": [
        "print('Un tipo le dice a otro: '¿Cómo estás?'')"
      ],
      "metadata": {
        "id": "-2tb-VpGAVvx",
        "colab": {
          "base_uri": "https://localhost:8080/",
          "height": 131
        },
        "outputId": "8c7247a6-2da9-4d27-b405-ec60a989c10a"
      },
      "execution_count": null,
      "outputs": [
        {
          "output_type": "error",
          "ename": "SyntaxError",
          "evalue": "ignored",
          "traceback": [
            "\u001b[0;36m  File \u001b[0;32m\"<ipython-input-13-4395b742426e>\"\u001b[0;36m, line \u001b[0;32m1\u001b[0m\n\u001b[0;31m    print('Un tipo le dice a otro: '¿Cómo estás?'')\u001b[0m\n\u001b[0m                                        ^\u001b[0m\n\u001b[0;31mSyntaxError\u001b[0m\u001b[0;31m:\u001b[0m invalid character in identifier\n"
          ]
        }
      ]
    },
    {
      "cell_type": "code",
      "source": [
        "print(\"Un tipo le dice a otro: \\\"¿Cómo estás?\\\"\")\n",
        "print('Y el otro le contesta: \\'¡Pues anda que tú!\\'')"
      ],
      "metadata": {
        "id": "tjhzy5hQAdW5",
        "colab": {
          "base_uri": "https://localhost:8080/"
        },
        "outputId": "26edef45-5f3d-4453-d285-0ee4a97b71f0"
      },
      "execution_count": null,
      "outputs": [
        {
          "output_type": "stream",
          "name": "stdout",
          "text": [
            "Un tipo le dice a otro: \"¿Cómo estás?\"\n",
            "Y el otro le contesta: '¡Pues anda que tú!'\n"
          ]
        }
      ]
    },
    {
      "cell_type": "code",
      "source": [
        "print(\"Un tipo le dice a otro: '¿Cómo estás?'\")\n",
        "print('Y el otro le contesta: \"¡Pues anda que tú!\"')"
      ],
      "metadata": {
        "id": "FVWKmvsNAdC1",
        "colab": {
          "base_uri": "https://localhost:8080/"
        },
        "outputId": "cd1eaf8c-1d96-4b2a-bf39-acb02656a084"
      },
      "execution_count": null,
      "outputs": [
        {
          "output_type": "stream",
          "name": "stdout",
          "text": [
            "Un tipo le dice a otro: '¿Cómo estás?'\n",
            "Y el otro le contesta: \"¡Pues anda que tú!\"\n"
          ]
        }
      ]
    },
    {
      "cell_type": "markdown",
      "source": [
        "**La función print() permite incluir variables o expresiones como argumento, lo que nos permite combinar texto y variables:**"
      ],
      "metadata": {
        "id": "4UmP5o9vArrh"
      }
    },
    {
      "cell_type": "code",
      "source": [
        "nombre = \"pedrito\"\n",
        "edad = 28\n",
        "print(\"Me llamo\", nombre, \"y tengo\", edad, \"años.\")\n"
      ],
      "metadata": {
        "id": "FoA91WWkAuiu",
        "colab": {
          "base_uri": "https://localhost:8080/"
        },
        "outputId": "782c551c-3744-4940-ab94-72ae2b1176a2"
      },
      "execution_count": null,
      "outputs": [
        {
          "output_type": "stream",
          "name": "stdout",
          "text": [
            "Me llamo pedrito y tengo 28 años.\n"
          ]
        }
      ]
    },
    {
      "cell_type": "code",
      "source": [
        "num1=6\n",
        "num2=4\n",
        "suma= num1+num2\n",
        "print(num1,\" + \",num2,\" = \",suma)"
      ],
      "metadata": {
        "id": "DFwjSUr1XgLF"
      },
      "execution_count": null,
      "outputs": []
    },
    {
      "cell_type": "code",
      "source": [
        "semanas = 3\n",
        "print(\"En\", semanas , \"semanas hay\", 7 * semanas, \"días.\")"
      ],
      "metadata": {
        "id": "JoHsw_jpAvLi"
      },
      "execution_count": null,
      "outputs": []
    },
    {
      "cell_type": "markdown",
      "source": [
        "**La función print() muestra los argumentos separados por espacios, lo que a veces no es conveniente. En el ejemplo siguiente el signo de exclamación se muestra separado de la palabra.**"
      ],
      "metadata": {
        "id": "To7lyNBJBSI4"
      }
    },
    {
      "cell_type": "code",
      "source": [
        "nombre = \"Pedrito\"\n",
        "print(\"¡Hola,\", nombre, \"!\")"
      ],
      "metadata": {
        "id": "qu6s3_ukBTdo"
      },
      "execution_count": null,
      "outputs": []
    },
    {
      "cell_type": "markdown",
      "source": [
        "OBSOLETO...."
      ],
      "metadata": {
        "id": "U-k-wBIIBzRL"
      }
    },
    {
      "cell_type": "markdown",
      "source": [
        "**Cadenas \"f\"**"
      ],
      "metadata": {
        "id": "ZUezuBKMCAkr"
      }
    },
    {
      "cell_type": "code",
      "source": [
        "nombre = \"Pedrito\"\n",
        "print(f\"¡Hola, {nombre}!\")"
      ],
      "metadata": {
        "id": "wFWsrJXZBY7g",
        "colab": {
          "base_uri": "https://localhost:8080/"
        },
        "outputId": "43af0522-26ae-4cfe-f5fd-54bbfc4c46b8"
      },
      "execution_count": null,
      "outputs": [
        {
          "output_type": "stream",
          "name": "stdout",
          "text": [
            "¡Hola, Pedrito!\n"
          ]
        }
      ]
    },
    {
      "cell_type": "code",
      "source": [
        "nombre = \"Pedrito\"\n",
        "edad = 28\n",
        "print(f\"Me llamo {nombre} y tengo {edad} años.\")"
      ],
      "metadata": {
        "id": "UXFiFr3VBYte",
        "colab": {
          "base_uri": "https://localhost:8080/"
        },
        "outputId": "44319acb-a3d9-4a84-e9ff-f622adb80787"
      },
      "execution_count": null,
      "outputs": [
        {
          "output_type": "stream",
          "name": "stdout",
          "text": [
            "Me llamo Pedrito y tengo 28 años.\n"
          ]
        }
      ]
    },
    {
      "cell_type": "code",
      "source": [
        "semanas = 4\n",
        "print(f\"En {semanas} semanas hay {7 * semanas} días.\")"
      ],
      "metadata": {
        "id": "LSidTx7FCTAV",
        "colab": {
          "base_uri": "https://localhost:8080/"
        },
        "outputId": "6d3d8789-0f2d-4064-9fad-1c5897079e25"
      },
      "execution_count": null,
      "outputs": [
        {
          "output_type": "stream",
          "name": "stdout",
          "text": [
            "En 4 semanas hay 28 días.\n"
          ]
        }
      ]
    },
    {
      "cell_type": "code",
      "source": [
        "fecha = 2020\n",
        "print(\"¡Feliz\", fecha, \"!\")\n",
        "print(f\"¡Feliz {fecha}!\")\n",
        "print(f\"¡Feliz {fecha}!\")"
      ],
      "metadata": {
        "id": "d1C6S8ZCCS0e",
        "colab": {
          "base_uri": "https://localhost:8080/"
        },
        "outputId": "235e3fcc-567f-4e8c-bd3d-f36bfae41c98"
      },
      "execution_count": null,
      "outputs": [
        {
          "output_type": "stream",
          "name": "stdout",
          "text": [
            "¡Feliz 2020 !\n",
            "¡Feliz 2020!\n",
            "¡Feliz 2020!\n"
          ]
        }
      ]
    },
    {
      "cell_type": "markdown",
      "source": [
        "**Si no se escribe la letra f antes de la cadena, Python no sustituye los valores de las variables ni calcula las expresiones.**"
      ],
      "metadata": {
        "id": "bKTrppaPCy5n"
      }
    },
    {
      "cell_type": "code",
      "source": [
        "nombre = \"Pedrito\"\n",
        "edad = 28\n",
        "print(\"Me llamo {nombre} y tengo {edad} años.\")"
      ],
      "metadata": {
        "id": "YZQ_CUohCvka"
      },
      "execution_count": null,
      "outputs": []
    },
    {
      "cell_type": "markdown",
      "source": [
        "**Si se quieren escribir los caracteres { o }, se deben escribir duplicados.**"
      ],
      "metadata": {
        "id": "aFa-caMTDK2U"
      }
    },
    {
      "cell_type": "code",
      "source": [
        "nombre = \"Pedrito\"\n",
        "edad = 28\n",
        "print(f\"Si escribe {{nombre}} se escribirá el valor de la variable nombre, \"\n",
        "      f\"en este caso {nombre}.\")"
      ],
      "metadata": {
        "id": "BbJ-cq8OCxMK",
        "colab": {
          "base_uri": "https://localhost:8080/"
        },
        "outputId": "1a49406e-46f9-4a39-f1b4-7828c19e3c04"
      },
      "execution_count": null,
      "outputs": [
        {
          "output_type": "stream",
          "name": "stdout",
          "text": [
            "Si escribe {nombre} se escribirá el valor de la variable nombre, en este caso Pedrito.\n"
          ]
        }
      ]
    },
    {
      "cell_type": "markdown",
      "source": [
        "## **ACTIVIDAD 1** "
      ],
      "metadata": {
        "id": "9JOxJyXkF7xV"
      }
    },
    {
      "cell_type": "markdown",
      "source": [
        "1.- Programa en Python Mostrar un mensaje que diga “HOLA MUNDO” en un solo renglón usando 2 print \n",
        "\n",
        "\n",
        "\n",
        "2.- Programa en Python que lea 2 números, realizar la\n",
        "\n",
        "suma y desplegar la suma de los 2 números\n",
        "\n",
        "\n",
        "\n",
        "3.- Programa en Python que lea 2 números y realice las 4\n",
        "\n",
        "operaciones básicas\n",
        "\n",
        "\n",
        "\n",
        "4.- Programa en Python Que sirva para calcular el área de\n",
        "\n",
        "un triángulo\n",
        "\n",
        "\n",
        "\n",
        "5.- Programa en Python que lea una medida en centímetros y\n",
        "\n",
        "desplegar la misma medida pero convertida en pies y pulgadas\n",
        "\n",
        "\n",
        "\n",
        "6.- Programa en Python que lea una temperatura en\n",
        "\n",
        "grados centígrados y desplegarla en Grados Fahrenheit y grados\n",
        "\n",
        "kelvin\n",
        "\n",
        "\n",
        "\n",
        "7.- Programa en Python que lea 4 calificaciones de un alumno,\n",
        "\n",
        "desplegar el promedio del alumno"
      ],
      "metadata": {
        "id": "zhi6bBcuGFVW"
      }
    }
  ]
}