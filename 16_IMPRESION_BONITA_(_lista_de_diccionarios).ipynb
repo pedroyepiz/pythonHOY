{
  "nbformat": 4,
  "nbformat_minor": 0,
  "metadata": {
    "colab": {
      "provenance": [],
      "authorship_tag": "ABX9TyMKx6PXrOWskke19FBalijU",
      "include_colab_link": true
    },
    "kernelspec": {
      "name": "python3",
      "display_name": "Python 3"
    },
    "language_info": {
      "name": "python"
    }
  },
  "cells": [
    {
      "cell_type": "markdown",
      "metadata": {
        "id": "view-in-github",
        "colab_type": "text"
      },
      "source": [
        "<a href=\"https://colab.research.google.com/github/pedroyepiz/pythonHOY/blob/main/16_IMPRESION_BONITA_(_lista_de_diccionarios).ipynb\" target=\"_parent\"><img src=\"https://colab.research.google.com/assets/colab-badge.svg\" alt=\"Open In Colab\"/></a>"
      ]
    },
    {
      "cell_type": "markdown",
      "source": [
        "# **Impresión bonita de un diccionario en Python**\n",
        "* Utilice **pprint()** para imprimir un diccionario en Python\n",
        "* Utilice **json.dumps()** para imprimir un diccionario en Python\n",
        "* Usar **yaml.dump()** para imprimir un diccionario en Python\n",
        "* Usar **dataframe del Modulo pandas** para imprimir un diccionario en Python"
      ],
      "metadata": {
        "id": "mfIBJdQA6yZJ"
      }
    },
    {
      "cell_type": "markdown",
      "source": [
        "**IMPRESION NORMAL DE UN DICCIONARIO**"
      ],
      "metadata": {
        "id": "9a3RdFrGdxqR"
      }
    },
    {
      "cell_type": "code",
      "source": [
        "dicc = { \"name\": \"Mia\", \"age\": 32,\"country\":\"Libano\" }"
      ],
      "metadata": {
        "id": "WGoaGCVRjV13"
      },
      "execution_count": 52,
      "outputs": []
    },
    {
      "cell_type": "code",
      "source": [
        "dicc_list = [\n",
        "        { \"name\": \"Mia\", \"age\": 32,\"country\":\"Libano\" },\n",
        "        { \"name\": \"Goku\", \"age\": 33,\"country\":\"Planeta Vegeta\" },\n",
        "        { \"name\": \"Vegueta\", \"age\": 28, \"country\":\"Planeta Vegeta\"},\n",
        "        { \"name\": \"Thor\", \"age\": 48,\"country\":\"Asgard\" }\n",
        "       ]"
      ],
      "metadata": {
        "id": "FbcSEjwAD-vc"
      },
      "execution_count": 53,
      "outputs": []
    },
    {
      "cell_type": "code",
      "source": [
        "print (dicc)\n",
        "print (dicc_list)"
      ],
      "metadata": {
        "colab": {
          "base_uri": "https://localhost:8080/"
        },
        "id": "CnvcmHqz-k2C",
        "outputId": "c2d6b764-e064-4818-c90c-4a6578012832"
      },
      "execution_count": 54,
      "outputs": [
        {
          "output_type": "stream",
          "name": "stdout",
          "text": [
            "{'name': 'Mia', 'age': 32, 'country': 'Libano'}\n",
            "[{'name': 'Mia', 'age': 32, 'country': 'Libano'}, {'name': 'Goku', 'age': 33, 'country': 'Planeta Vegeta'}, {'name': 'Vegueta', 'age': 28, 'country': 'Planeta Vegeta'}, {'name': 'Thor', 'age': 48, 'country': 'Asgard'}]\n"
          ]
        }
      ]
    },
    {
      "cell_type": "markdown",
      "source": [
        "# **Utilice pprint() para imprimir un diccionario en Python**"
      ],
      "metadata": {
        "id": "6GhLJevM759k"
      }
    },
    {
      "cell_type": "markdown",
      "source": [
        "**pprint** es un módulo de Python que proporciona la capacidad de imprimir de forma bonita los tipos de datos de Python para que sean más legibles. Este módulo también soporta la impresión bonita de diccionarios.\n",
        "\n",
        "Dentro del módulo `pprint` hay una función con el mismo nombre `pprint()`, que es la función que se utiliza para la impresión bonita de la cadena u objeto dado.\n",
        "\n",
        "Primero, declara un array de diccionarios. Después, imprímelo usando la función **pprint.pprint()**."
      ],
      "metadata": {
        "id": "V-ggH61x8Cc9"
      }
    },
    {
      "cell_type": "code",
      "execution_count": 55,
      "metadata": {
        "colab": {
          "base_uri": "https://localhost:8080/"
        },
        "id": "teJO-i6m6t7h",
        "outputId": "2b9d7472-8178-4d3b-8aaa-eda944054be2"
      },
      "outputs": [
        {
          "output_type": "stream",
          "name": "stdout",
          "text": [
            "[{'age': 32, 'country': 'Libano', 'name': 'Mia'},\n",
            " {'age': 33, 'country': 'Planeta Vegeta', 'name': 'Goku'},\n",
            " {'age': 28, 'country': 'Planeta Vegeta', 'name': 'Vegueta'},\n",
            " {'age': 48, 'country': 'Asgard', 'name': 'Thor'}]\n"
          ]
        }
      ],
      "source": [
        "import pprint\n",
        "\n",
        "dicc_list = [\n",
        "        { \"name\": \"Mia\", \"age\": 32,\"country\":\"Libano\" },\n",
        "        { \"name\": \"Goku\", \"age\": 33,\"country\":\"Planeta Vegeta\" },\n",
        "        { \"name\": \"Vegueta\", \"age\": 28, \"country\":\"Planeta Vegeta\"},\n",
        "        { \"name\": \"Thor\", \"age\": 48,\"country\":\"Asgard\" }\n",
        "       ]\n",
        "\n",
        "pprint.pprint(dicc_list)"
      ]
    },
    {
      "cell_type": "code",
      "source": [
        "import pprint\n",
        "dicc_list = [\n",
        "        { \"name\": {\"nombre\":\"Mia\",\"apellido\":\"De Yepiz\"}, \"age\": 32,\"country\":\"Libano\" },\n",
        "        { \"name\": {\"nombre\":\"Goku\",\"apellido\":\"Lopez\"}, \"age\": 33,\"country\":\"Planeta Vegeta\" },\n",
        "        { \"name\": {\"nombre\":\"Vegueta\",\"apellido\":\"Garcia\"}, \"age\": 28, \"country\":\"Planeta Vegeta\"},\n",
        "        { \"name\": {\"nombre\":\"Thor\",\"apellido\":\"De Tello\"}, \"age\": 48,\"country\":\"Asgard\" }\n",
        "       ]\n",
        "pprint.pprint(dicc_list)       "
      ],
      "metadata": {
        "colab": {
          "base_uri": "https://localhost:8080/"
        },
        "id": "8ESF3NBIGdt2",
        "outputId": "7e4cf46d-bb2a-4653-886b-e819d8799b2d"
      },
      "execution_count": 56,
      "outputs": [
        {
          "output_type": "stream",
          "name": "stdout",
          "text": [
            "[{'age': 32,\n",
            "  'country': 'Libano',\n",
            "  'name': {'apellido': 'De Yepiz', 'nombre': 'Mia'}},\n",
            " {'age': 33,\n",
            "  'country': 'Planeta Vegeta',\n",
            "  'name': {'apellido': 'Lopez', 'nombre': 'Goku'}},\n",
            " {'age': 28,\n",
            "  'country': 'Planeta Vegeta',\n",
            "  'name': {'apellido': 'Garcia', 'nombre': 'Vegueta'}},\n",
            " {'age': 48,\n",
            "  'country': 'Asgard',\n",
            "  'name': {'apellido': 'De Tello', 'nombre': 'Thor'}}]\n"
          ]
        }
      ]
    },
    {
      "cell_type": "markdown",
      "source": [
        "La salida de `pprint()` es definitivamente más legible. Lo que hace es romper cada elemento del diccionario en el array justo después de las comas mientras que también ordena los valores del diccionario por clave.\n",
        "\n",
        "Si no quiere que sus pares clave-valor estén ordenados por clave, entonces `pprint()` no es la función que debe utilizar ya que su mecanismo de ordenación está incorporado en la función.\n",
        "\n",
        "Otra cosa a tener en cuenta es que `pprint()` no imprimirá bien los objetos anidados, incluyendo los diccionarios anidados. Así que si espera que sus valores estén anidados, entonces esta no es la solución para eso también."
      ],
      "metadata": {
        "id": "m0pI02xm-wrV"
      }
    },
    {
      "cell_type": "markdown",
      "source": [
        "# **`json.dumps()` para imprimir un diccionario en Python**"
      ],
      "metadata": {
        "id": "nJFI2DDh_dpM"
      }
    },
    {
      "cell_type": "markdown",
      "source": [
        "La comprensión de listas es una forma relativamente más corta y muy elegante de crear listas que se formarán en función de los valores dados de una lista ya existente.\n",
        "\n",
        "Podemos usar la comprensión de listas para devolver una lista que produzca los resultados de la búsqueda de la lista de diccionarios en Python.\n",
        "\n",
        "El siguiente código usa la comprensión de listas para buscar una lista de diccionarios en Python."
      ],
      "metadata": {
        "id": "7sTLeW4k_7Mv"
      }
    },
    {
      "cell_type": "code",
      "source": [
        "import json\n",
        "\n",
        "dicc_list = [\n",
        "        { \"name\": {\"nombre\":\"Mia\",\"apellido\":\"De Yepiz\"}, \"age\": 32,\"country\":\"Libano\" },\n",
        "        { \"name\": {\"nombre\":\"Goku\",\"apellido\":\"Lopez\"}, \"age\": 33,\"country\":\"Planeta Vegeta\" },\n",
        "        { \"name\": {\"nombre\":\"Vegueta\",\"apellido\":\"Garcia\"}, \"age\": 28, \"country\":\"Planeta Vegeta\"},\n",
        "        { \"name\": {\"nombre\":\"Thor\",\"apellido\":\"De Tello\"}, \"age\": 48,\"country\":\"Asgard\" }\n",
        "       ]\n",
        "\n",
        "print(json.dumps(dicc_list, sort_keys=False, indent=2))"
      ],
      "metadata": {
        "colab": {
          "base_uri": "https://localhost:8080/"
        },
        "id": "3kQMurYX_-Ho",
        "outputId": "56948db7-e1c4-4b8c-b7fa-89f8ef538684"
      },
      "execution_count": 57,
      "outputs": [
        {
          "output_type": "stream",
          "name": "stdout",
          "text": [
            "[\n",
            "  {\n",
            "    \"name\": {\n",
            "      \"nombre\": \"Mia\",\n",
            "      \"apellido\": \"De Yepiz\"\n",
            "    },\n",
            "    \"age\": 32,\n",
            "    \"country\": \"Libano\"\n",
            "  },\n",
            "  {\n",
            "    \"name\": {\n",
            "      \"nombre\": \"Goku\",\n",
            "      \"apellido\": \"Lopez\"\n",
            "    },\n",
            "    \"age\": 33,\n",
            "    \"country\": \"Planeta Vegeta\"\n",
            "  },\n",
            "  {\n",
            "    \"name\": {\n",
            "      \"nombre\": \"Vegueta\",\n",
            "      \"apellido\": \"Garcia\"\n",
            "    },\n",
            "    \"age\": 28,\n",
            "    \"country\": \"Planeta Vegeta\"\n",
            "  },\n",
            "  {\n",
            "    \"name\": {\n",
            "      \"nombre\": \"Thor\",\n",
            "      \"apellido\": \"De Tello\"\n",
            "    },\n",
            "    \"age\": 48,\n",
            "    \"country\": \"Asgard\"\n",
            "  }\n",
            "]\n"
          ]
        }
      ]
    },
    {
      "cell_type": "code",
      "source": [
        "import json\n",
        "\n",
        "dicc_list = [\n",
        "        { \"name\": \"Mia\", \"age\": 32,\"country\":\"Libano\" },\n",
        "        { \"name\": \"Goku\", \"age\": 33,\"country\":\"Planeta Vegeta\" },\n",
        "        { \"name\": \"Vegueta\", \"age\": 28, \"country\":\"Planeta Vegeta\"},\n",
        "        { \"name\": \"Thor\", \"age\": 48,\"country\":\"Asgard\" }\n",
        "       ]\n",
        "\n",
        "print(json.dumps(dicc_list, sort_keys=False, indent=2))"
      ],
      "metadata": {
        "colab": {
          "base_uri": "https://localhost:8080/"
        },
        "id": "QpABxyfSlKwN",
        "outputId": "a05a56c2-4f29-4da4-8545-caeba3762d3c"
      },
      "execution_count": 58,
      "outputs": [
        {
          "output_type": "stream",
          "name": "stdout",
          "text": [
            "[\n",
            "  {\n",
            "    \"name\": \"Mia\",\n",
            "    \"age\": 32,\n",
            "    \"country\": \"Libano\"\n",
            "  },\n",
            "  {\n",
            "    \"name\": \"Goku\",\n",
            "    \"age\": 33,\n",
            "    \"country\": \"Planeta Vegeta\"\n",
            "  },\n",
            "  {\n",
            "    \"name\": \"Vegueta\",\n",
            "    \"age\": 28,\n",
            "    \"country\": \"Planeta Vegeta\"\n",
            "  },\n",
            "  {\n",
            "    \"name\": \"Thor\",\n",
            "    \"age\": 48,\n",
            "    \"country\": \"Asgard\"\n",
            "  }\n",
            "]\n"
          ]
        }
      ]
    },
    {
      "cell_type": "markdown",
      "source": [
        "# **Usar yaml.dump() para imprimir un diccionario en Python**"
      ],
      "metadata": {
        "id": "2dGbhRBMBC98"
      }
    },
    {
      "cell_type": "markdown",
      "source": [
        "Otra forma de imprimir un diccionario es utilizando la función dump() del módulo yaml. Sirve el mismo propósito que la función json.dumps() pero en formato YAML en lugar de JSON.\n",
        "\n",
        "Primero, instala el módulo YAML usando pip:\n",
        "\n",
        "pip install pyyaml\n",
        "o si usas Python 3 y pip3:\n",
        "\n",
        "**pip3 install pyyaml**"
      ],
      "metadata": {
        "id": "wx51lWFlBSjp"
      }
    },
    {
      "cell_type": "markdown",
      "source": [
        "Vamos a probarlo con el mismo ejemplo anidado utilizado en el ejemplo JSON.\n",
        "\n",
        "Fíjate en el nuevo parámetro default_flow_style, que determina si el estilo de salida del volcado debe ser inline o block. En este caso, la salida debe ser de estilo bloque ya que queremos que sea legible, así que establece este parámetro a False."
      ],
      "metadata": {
        "id": "3Y_P8wcFBg98"
      }
    },
    {
      "cell_type": "code",
      "source": [
        "!pip install pyyaml"
      ],
      "metadata": {
        "colab": {
          "base_uri": "https://localhost:8080/"
        },
        "id": "-1GWGzD2lk5U",
        "outputId": "34cbac54-1224-4945-a844-75fdc2fff1a7"
      },
      "execution_count": 59,
      "outputs": [
        {
          "output_type": "stream",
          "name": "stdout",
          "text": [
            "Looking in indexes: https://pypi.org/simple, https://us-python.pkg.dev/colab-wheels/public/simple/\n",
            "Requirement already satisfied: pyyaml in /usr/local/lib/python3.9/dist-packages (6.0)\n"
          ]
        }
      ]
    },
    {
      "cell_type": "code",
      "source": [
        "import yaml\n",
        "\n",
        "dicc_list = [\n",
        "        { \"name\": \"Mia\", \"age\": 32,\"country\":\"Libano\" },\n",
        "        { \"name\": \"Goku\", \"age\": 33,\"country\":\"Planeta Vegeta\" },\n",
        "        { \"name\": \"Vegueta\", \"age\": 28, \"country\":\"Planeta Vegeta\"},\n",
        "        { \"name\": \"Thor\", \"age\": 48,\"country\":\"Asgard\" }\n",
        "       ]\n",
        "\n",
        "print(yaml.dump(dicc_list, sort_keys=False, default_flow_style=False))"
      ],
      "metadata": {
        "colab": {
          "base_uri": "https://localhost:8080/"
        },
        "id": "upJnZN7V-wQe",
        "outputId": "238facce-df5c-4a89-92d2-ab6aed3be45d"
      },
      "execution_count": 60,
      "outputs": [
        {
          "output_type": "stream",
          "name": "stdout",
          "text": [
            "- name: Mia\n",
            "  age: 32\n",
            "  country: Libano\n",
            "- name: Goku\n",
            "  age: 33\n",
            "  country: Planeta Vegeta\n",
            "- name: Vegueta\n",
            "  age: 28\n",
            "  country: Planeta Vegeta\n",
            "- name: Thor\n",
            "  age: 48\n",
            "  country: Asgard\n",
            "\n"
          ]
        }
      ]
    },
    {
      "cell_type": "code",
      "source": [
        "import yaml\n",
        "dicc_list = [\n",
        "        { \"name\": {\"nombre\":\"Mia\",\"apellido\":\"De Yepiz\"}, \"age\": 32,\"country\":\"Libano\" },\n",
        "        { \"name\": {\"nombre\":\"Goku\",\"apellido\":\"Lopez\"}, \"age\": 33,\"country\":\"Planeta Vegeta\" },\n",
        "        { \"name\": {\"nombre\":\"Vegueta\",\"apellido\":\"Garcia\"}, \"age\": 28, \"country\":\"Planeta Vegeta\"},\n",
        "        { \"name\": {\"nombre\":\"Thor\",\"apellido\":\"De Tello\"}, \"age\": 48,\"country\":\"Asgard\" }\n",
        "       ]\n",
        "\n",
        "#print(yaml.dump(dicc_list, sort_keys=False, default_flow_style=False))       \n",
        "x=(yaml.dump(dicc_list, sort_keys=False, default_flow_style=False))\n",
        "print (x)"
      ],
      "metadata": {
        "id": "Csoa4c1KFY_Z",
        "colab": {
          "base_uri": "https://localhost:8080/"
        },
        "outputId": "cc79631c-925b-4bf5-9935-d6584ce6d636"
      },
      "execution_count": 61,
      "outputs": [
        {
          "output_type": "stream",
          "name": "stdout",
          "text": [
            "- name:\n",
            "    nombre: Mia\n",
            "    apellido: De Yepiz\n",
            "  age: 32\n",
            "  country: Libano\n",
            "- name:\n",
            "    nombre: Goku\n",
            "    apellido: Lopez\n",
            "  age: 33\n",
            "  country: Planeta Vegeta\n",
            "- name:\n",
            "    nombre: Vegueta\n",
            "    apellido: Garcia\n",
            "  age: 28\n",
            "  country: Planeta Vegeta\n",
            "- name:\n",
            "    nombre: Thor\n",
            "    apellido: De Tello\n",
            "  age: 48\n",
            "  country: Asgard\n",
            "\n"
          ]
        }
      ]
    },
    {
      "cell_type": "markdown",
      "source": [
        "# **usar `pd.dataFrame()`   del modulo pandas**"
      ],
      "metadata": {
        "id": "AhU9zLMja-dY"
      }
    },
    {
      "cell_type": "markdown",
      "source": [
        "Un DataFrame es una estructura de datos bidimensional en forma de tabla, proporcionada por la librería pandas en Python. Puedes pensar en un DataFrame como una hoja de cálculo en Excel o una tabla en una base de datos, donde los datos se organizan en filas y columnas. Los DataFrames son una de las principales estructuras de datos utilizadas en el análisis de datos y manipulación de datos en Python."
      ],
      "metadata": {
        "id": "q9U2nwMIqm-5"
      }
    },
    {
      "cell_type": "code",
      "source": [
        "import pandas as pd\n",
        "dicc_list =[\n",
        "        { \"name\": \"Mia\", \"age\": 32,\"country\":\"Libano\" },\n",
        "        { \"name\": \"Goku\", \"age\": 33,\"country\":\"Planeta Vegeta\" },\n",
        "        { \"name\": \"Vegueta\", \"age\": 28, \"country\":\"Planeta Vegeta\"},\n",
        "        { \"name\": \"Thor\", \"age\": 48,\"country\":\"Asgard\" }\n",
        "       ]\n",
        "salida=pd.DataFrame(dicc_list)\n",
        "salida"
      ],
      "metadata": {
        "colab": {
          "base_uri": "https://localhost:8080/",
          "height": 175
        },
        "id": "gzpSNKcPbO5W",
        "outputId": "d943e1db-e185-4772-f037-73c80373064a"
      },
      "execution_count": 62,
      "outputs": [
        {
          "output_type": "execute_result",
          "data": {
            "text/plain": [
              "      name  age         country\n",
              "0      Mia   32          Libano\n",
              "1     Goku   33  Planeta Vegeta\n",
              "2  Vegueta   28  Planeta Vegeta\n",
              "3     Thor   48          Asgard"
            ],
            "text/html": [
              "\n",
              "  <div id=\"df-2fe466ff-0886-44ee-9acb-a19c2f0fba0c\">\n",
              "    <div class=\"colab-df-container\">\n",
              "      <div>\n",
              "<style scoped>\n",
              "    .dataframe tbody tr th:only-of-type {\n",
              "        vertical-align: middle;\n",
              "    }\n",
              "\n",
              "    .dataframe tbody tr th {\n",
              "        vertical-align: top;\n",
              "    }\n",
              "\n",
              "    .dataframe thead th {\n",
              "        text-align: right;\n",
              "    }\n",
              "</style>\n",
              "<table border=\"1\" class=\"dataframe\">\n",
              "  <thead>\n",
              "    <tr style=\"text-align: right;\">\n",
              "      <th></th>\n",
              "      <th>name</th>\n",
              "      <th>age</th>\n",
              "      <th>country</th>\n",
              "    </tr>\n",
              "  </thead>\n",
              "  <tbody>\n",
              "    <tr>\n",
              "      <th>0</th>\n",
              "      <td>Mia</td>\n",
              "      <td>32</td>\n",
              "      <td>Libano</td>\n",
              "    </tr>\n",
              "    <tr>\n",
              "      <th>1</th>\n",
              "      <td>Goku</td>\n",
              "      <td>33</td>\n",
              "      <td>Planeta Vegeta</td>\n",
              "    </tr>\n",
              "    <tr>\n",
              "      <th>2</th>\n",
              "      <td>Vegueta</td>\n",
              "      <td>28</td>\n",
              "      <td>Planeta Vegeta</td>\n",
              "    </tr>\n",
              "    <tr>\n",
              "      <th>3</th>\n",
              "      <td>Thor</td>\n",
              "      <td>48</td>\n",
              "      <td>Asgard</td>\n",
              "    </tr>\n",
              "  </tbody>\n",
              "</table>\n",
              "</div>\n",
              "      <button class=\"colab-df-convert\" onclick=\"convertToInteractive('df-2fe466ff-0886-44ee-9acb-a19c2f0fba0c')\"\n",
              "              title=\"Convert this dataframe to an interactive table.\"\n",
              "              style=\"display:none;\">\n",
              "        \n",
              "  <svg xmlns=\"http://www.w3.org/2000/svg\" height=\"24px\"viewBox=\"0 0 24 24\"\n",
              "       width=\"24px\">\n",
              "    <path d=\"M0 0h24v24H0V0z\" fill=\"none\"/>\n",
              "    <path d=\"M18.56 5.44l.94 2.06.94-2.06 2.06-.94-2.06-.94-.94-2.06-.94 2.06-2.06.94zm-11 1L8.5 8.5l.94-2.06 2.06-.94-2.06-.94L8.5 2.5l-.94 2.06-2.06.94zm10 10l.94 2.06.94-2.06 2.06-.94-2.06-.94-.94-2.06-.94 2.06-2.06.94z\"/><path d=\"M17.41 7.96l-1.37-1.37c-.4-.4-.92-.59-1.43-.59-.52 0-1.04.2-1.43.59L10.3 9.45l-7.72 7.72c-.78.78-.78 2.05 0 2.83L4 21.41c.39.39.9.59 1.41.59.51 0 1.02-.2 1.41-.59l7.78-7.78 2.81-2.81c.8-.78.8-2.07 0-2.86zM5.41 20L4 18.59l7.72-7.72 1.47 1.35L5.41 20z\"/>\n",
              "  </svg>\n",
              "      </button>\n",
              "      \n",
              "  <style>\n",
              "    .colab-df-container {\n",
              "      display:flex;\n",
              "      flex-wrap:wrap;\n",
              "      gap: 12px;\n",
              "    }\n",
              "\n",
              "    .colab-df-convert {\n",
              "      background-color: #E8F0FE;\n",
              "      border: none;\n",
              "      border-radius: 50%;\n",
              "      cursor: pointer;\n",
              "      display: none;\n",
              "      fill: #1967D2;\n",
              "      height: 32px;\n",
              "      padding: 0 0 0 0;\n",
              "      width: 32px;\n",
              "    }\n",
              "\n",
              "    .colab-df-convert:hover {\n",
              "      background-color: #E2EBFA;\n",
              "      box-shadow: 0px 1px 2px rgba(60, 64, 67, 0.3), 0px 1px 3px 1px rgba(60, 64, 67, 0.15);\n",
              "      fill: #174EA6;\n",
              "    }\n",
              "\n",
              "    [theme=dark] .colab-df-convert {\n",
              "      background-color: #3B4455;\n",
              "      fill: #D2E3FC;\n",
              "    }\n",
              "\n",
              "    [theme=dark] .colab-df-convert:hover {\n",
              "      background-color: #434B5C;\n",
              "      box-shadow: 0px 1px 3px 1px rgba(0, 0, 0, 0.15);\n",
              "      filter: drop-shadow(0px 1px 2px rgba(0, 0, 0, 0.3));\n",
              "      fill: #FFFFFF;\n",
              "    }\n",
              "  </style>\n",
              "\n",
              "      <script>\n",
              "        const buttonEl =\n",
              "          document.querySelector('#df-2fe466ff-0886-44ee-9acb-a19c2f0fba0c button.colab-df-convert');\n",
              "        buttonEl.style.display =\n",
              "          google.colab.kernel.accessAllowed ? 'block' : 'none';\n",
              "\n",
              "        async function convertToInteractive(key) {\n",
              "          const element = document.querySelector('#df-2fe466ff-0886-44ee-9acb-a19c2f0fba0c');\n",
              "          const dataTable =\n",
              "            await google.colab.kernel.invokeFunction('convertToInteractive',\n",
              "                                                     [key], {});\n",
              "          if (!dataTable) return;\n",
              "\n",
              "          const docLinkHtml = 'Like what you see? Visit the ' +\n",
              "            '<a target=\"_blank\" href=https://colab.research.google.com/notebooks/data_table.ipynb>data table notebook</a>'\n",
              "            + ' to learn more about interactive tables.';\n",
              "          element.innerHTML = '';\n",
              "          dataTable['output_type'] = 'display_data';\n",
              "          await google.colab.output.renderOutput(dataTable, element);\n",
              "          const docLink = document.createElement('div');\n",
              "          docLink.innerHTML = docLinkHtml;\n",
              "          element.appendChild(docLink);\n",
              "        }\n",
              "      </script>\n",
              "    </div>\n",
              "  </div>\n",
              "  "
            ]
          },
          "metadata": {},
          "execution_count": 62
        }
      ]
    },
    {
      "cell_type": "code",
      "source": [
        "import pandas as pd\n",
        "dicc_list =[\n",
        "        { \"name\": \"Mia\", \"age\": 32,\"country\":\"Libano\" },\n",
        "        { \"name\": \"Goku\", \"age\": 33,\"country\":\"Planeta Vegeta\" },\n",
        "        { \"name\": \"Vegueta\", \"age\": 28, \"country\":\"Planeta Vegeta\"},\n",
        "        { \"name\": \"Thor\", \"age\": 48,\"country\":\"Asgard\" }\n",
        "       ]\n",
        "salida=pd.DataFrame(dicc_list)\n",
        "print(salida)"
      ],
      "metadata": {
        "colab": {
          "base_uri": "https://localhost:8080/"
        },
        "outputId": "9b676ac1-db67-4bac-9f53-e6ab87e2738d",
        "id": "ibZjt4XsdkMq"
      },
      "execution_count": 63,
      "outputs": [
        {
          "output_type": "stream",
          "name": "stdout",
          "text": [
            "      name  age         country\n",
            "0      Mia   32          Libano\n",
            "1     Goku   33  Planeta Vegeta\n",
            "2  Vegueta   28  Planeta Vegeta\n",
            "3     Thor   48          Asgard\n"
          ]
        }
      ]
    },
    {
      "cell_type": "markdown",
      "source": [
        "En Pandas existen varias formas de dar una salida con estilo personalizado o aplicar formatos especiales a la presentación de los datos en un DataFrame. Algunas de las opciones incluyen:\n",
        "\n",
        "* 1.-**df.to_string():** Puedes utilizar el método `to_string()` del DataFrame para convertirlo en una representación de cadena de caracteres con formato personalizado.\n",
        "\n",
        "* 2.-**df.style:** Pandas proporciona el atributo style del DataFrame, que te permite aplicar estilos a la presentación de los datos. Puedes utilizar métodos como `background_gradient()`, `highlight_max()`, `highlight_min()`, `highlight_null()`, entre otros, para aplicar formatos especiales a los valores del DataFrame y resaltarlos en la salida."
      ],
      "metadata": {
        "id": "B7laY8zkzDFh"
      }
    },
    {
      "cell_type": "code",
      "source": [
        "print(salida.to_string(index=False))"
      ],
      "metadata": {
        "colab": {
          "base_uri": "https://localhost:8080/"
        },
        "id": "EifZuQQYol7Q",
        "outputId": "b7ced12a-4aa5-44c2-fb41-4bbf45bc90bb"
      },
      "execution_count": 65,
      "outputs": [
        {
          "output_type": "stream",
          "name": "stdout",
          "text": [
            "   name  age        country\n",
            "   Goku   33 Planeta Vegeta\n",
            "    Mia   32         Libano\n",
            "   Thor   48         Asgard\n",
            "Vegueta   28 Planeta Vegeta\n"
          ]
        }
      ]
    },
    {
      "cell_type": "markdown",
      "source": [
        "Se utiliza el método `to_string()` del DataFrame con el argumento `index=False` para imprimir el DataFrame en formato de tabla, **sin mostrar el índice**. Esto produce una salida bonita y bien formateada del diccionario."
      ],
      "metadata": {
        "id": "xyxTesV3qNXX"
      }
    },
    {
      "cell_type": "code",
      "source": [
        "# Ordenar el DataFrame por la columna 'name' en orden ascendente\n",
        "salida = salida.sort_values(by='name', ascending=True)\n",
        "print (salida)\n"
      ],
      "metadata": {
        "colab": {
          "base_uri": "https://localhost:8080/"
        },
        "id": "CmJzgCYSvU9z",
        "outputId": "ab2fddd8-b0e8-4491-b1ce-1445f1ec1769"
      },
      "execution_count": 64,
      "outputs": [
        {
          "output_type": "stream",
          "name": "stdout",
          "text": [
            "      name  age         country\n",
            "1     Goku   33  Planeta Vegeta\n",
            "0      Mia   32          Libano\n",
            "3     Thor   48          Asgard\n",
            "2  Vegueta   28  Planeta Vegeta\n"
          ]
        }
      ]
    },
    {
      "cell_type": "code",
      "source": [
        "salida.style.background_gradient(subset='age', cmap='Blues')"
      ],
      "metadata": {
        "colab": {
          "base_uri": "https://localhost:8080/",
          "height": 175
        },
        "id": "dquEWZ2IsDdy",
        "outputId": "dd3fbb2d-ec2e-4bae-8e96-9eaf0467611e"
      },
      "execution_count": 66,
      "outputs": [
        {
          "output_type": "execute_result",
          "data": {
            "text/plain": [
              "<pandas.io.formats.style.Styler at 0x7f23aa2498b0>"
            ],
            "text/html": [
              "<style type=\"text/css\">\n",
              "#T_cf225_row0_col1 {\n",
              "  background-color: #c6dbef;\n",
              "  color: #000000;\n",
              "}\n",
              "#T_cf225_row1_col1 {\n",
              "  background-color: #d0e1f2;\n",
              "  color: #000000;\n",
              "}\n",
              "#T_cf225_row2_col1 {\n",
              "  background-color: #08306b;\n",
              "  color: #f1f1f1;\n",
              "}\n",
              "#T_cf225_row3_col1 {\n",
              "  background-color: #f7fbff;\n",
              "  color: #000000;\n",
              "}\n",
              "</style>\n",
              "<table id=\"T_cf225\" class=\"dataframe\">\n",
              "  <thead>\n",
              "    <tr>\n",
              "      <th class=\"blank level0\" >&nbsp;</th>\n",
              "      <th id=\"T_cf225_level0_col0\" class=\"col_heading level0 col0\" >name</th>\n",
              "      <th id=\"T_cf225_level0_col1\" class=\"col_heading level0 col1\" >age</th>\n",
              "      <th id=\"T_cf225_level0_col2\" class=\"col_heading level0 col2\" >country</th>\n",
              "    </tr>\n",
              "  </thead>\n",
              "  <tbody>\n",
              "    <tr>\n",
              "      <th id=\"T_cf225_level0_row0\" class=\"row_heading level0 row0\" >1</th>\n",
              "      <td id=\"T_cf225_row0_col0\" class=\"data row0 col0\" >Goku</td>\n",
              "      <td id=\"T_cf225_row0_col1\" class=\"data row0 col1\" >33</td>\n",
              "      <td id=\"T_cf225_row0_col2\" class=\"data row0 col2\" >Planeta Vegeta</td>\n",
              "    </tr>\n",
              "    <tr>\n",
              "      <th id=\"T_cf225_level0_row1\" class=\"row_heading level0 row1\" >0</th>\n",
              "      <td id=\"T_cf225_row1_col0\" class=\"data row1 col0\" >Mia</td>\n",
              "      <td id=\"T_cf225_row1_col1\" class=\"data row1 col1\" >32</td>\n",
              "      <td id=\"T_cf225_row1_col2\" class=\"data row1 col2\" >Libano</td>\n",
              "    </tr>\n",
              "    <tr>\n",
              "      <th id=\"T_cf225_level0_row2\" class=\"row_heading level0 row2\" >3</th>\n",
              "      <td id=\"T_cf225_row2_col0\" class=\"data row2 col0\" >Thor</td>\n",
              "      <td id=\"T_cf225_row2_col1\" class=\"data row2 col1\" >48</td>\n",
              "      <td id=\"T_cf225_row2_col2\" class=\"data row2 col2\" >Asgard</td>\n",
              "    </tr>\n",
              "    <tr>\n",
              "      <th id=\"T_cf225_level0_row3\" class=\"row_heading level0 row3\" >2</th>\n",
              "      <td id=\"T_cf225_row3_col0\" class=\"data row3 col0\" >Vegueta</td>\n",
              "      <td id=\"T_cf225_row3_col1\" class=\"data row3 col1\" >28</td>\n",
              "      <td id=\"T_cf225_row3_col2\" class=\"data row3 col2\" >Planeta Vegeta</td>\n",
              "    </tr>\n",
              "  </tbody>\n",
              "</table>\n"
            ]
          },
          "metadata": {},
          "execution_count": 66
        }
      ]
    },
    {
      "cell_type": "code",
      "source": [
        "salida.style.highlight_max(subset='age', color='yellow', axis=0)\n",
        "#style.highlight_max() en Pandas para resaltar el valor máximo en una tabla:"
      ],
      "metadata": {
        "colab": {
          "base_uri": "https://localhost:8080/",
          "height": 175
        },
        "id": "OAt9BaBmtWvC",
        "outputId": "07808063-1746-408e-afe6-3bbcc23207c2"
      },
      "execution_count": 67,
      "outputs": [
        {
          "output_type": "execute_result",
          "data": {
            "text/plain": [
              "<pandas.io.formats.style.Styler at 0x7f23aa16aee0>"
            ],
            "text/html": [
              "<style type=\"text/css\">\n",
              "#T_99b82_row2_col1 {\n",
              "  background-color: yellow;\n",
              "}\n",
              "</style>\n",
              "<table id=\"T_99b82\" class=\"dataframe\">\n",
              "  <thead>\n",
              "    <tr>\n",
              "      <th class=\"blank level0\" >&nbsp;</th>\n",
              "      <th id=\"T_99b82_level0_col0\" class=\"col_heading level0 col0\" >name</th>\n",
              "      <th id=\"T_99b82_level0_col1\" class=\"col_heading level0 col1\" >age</th>\n",
              "      <th id=\"T_99b82_level0_col2\" class=\"col_heading level0 col2\" >country</th>\n",
              "    </tr>\n",
              "  </thead>\n",
              "  <tbody>\n",
              "    <tr>\n",
              "      <th id=\"T_99b82_level0_row0\" class=\"row_heading level0 row0\" >1</th>\n",
              "      <td id=\"T_99b82_row0_col0\" class=\"data row0 col0\" >Goku</td>\n",
              "      <td id=\"T_99b82_row0_col1\" class=\"data row0 col1\" >33</td>\n",
              "      <td id=\"T_99b82_row0_col2\" class=\"data row0 col2\" >Planeta Vegeta</td>\n",
              "    </tr>\n",
              "    <tr>\n",
              "      <th id=\"T_99b82_level0_row1\" class=\"row_heading level0 row1\" >0</th>\n",
              "      <td id=\"T_99b82_row1_col0\" class=\"data row1 col0\" >Mia</td>\n",
              "      <td id=\"T_99b82_row1_col1\" class=\"data row1 col1\" >32</td>\n",
              "      <td id=\"T_99b82_row1_col2\" class=\"data row1 col2\" >Libano</td>\n",
              "    </tr>\n",
              "    <tr>\n",
              "      <th id=\"T_99b82_level0_row2\" class=\"row_heading level0 row2\" >3</th>\n",
              "      <td id=\"T_99b82_row2_col0\" class=\"data row2 col0\" >Thor</td>\n",
              "      <td id=\"T_99b82_row2_col1\" class=\"data row2 col1\" >48</td>\n",
              "      <td id=\"T_99b82_row2_col2\" class=\"data row2 col2\" >Asgard</td>\n",
              "    </tr>\n",
              "    <tr>\n",
              "      <th id=\"T_99b82_level0_row3\" class=\"row_heading level0 row3\" >2</th>\n",
              "      <td id=\"T_99b82_row3_col0\" class=\"data row3 col0\" >Vegueta</td>\n",
              "      <td id=\"T_99b82_row3_col1\" class=\"data row3 col1\" >28</td>\n",
              "      <td id=\"T_99b82_row3_col2\" class=\"data row3 col2\" >Planeta Vegeta</td>\n",
              "    </tr>\n",
              "  </tbody>\n",
              "</table>\n"
            ]
          },
          "metadata": {},
          "execution_count": 67
        }
      ]
    },
    {
      "cell_type": "code",
      "source": [
        "salida.style.highlight_min(subset='age', color='cyan', axis=0)\n",
        "#style.highlight_min() en Pandas para resaltar el valor minimo en una tabla:"
      ],
      "metadata": {
        "colab": {
          "base_uri": "https://localhost:8080/",
          "height": 175
        },
        "id": "x23hWbxcuEgY",
        "outputId": "05e27b2a-2a18-462c-9d1f-9768d5f9ad84"
      },
      "execution_count": 68,
      "outputs": [
        {
          "output_type": "execute_result",
          "data": {
            "text/plain": [
              "<pandas.io.formats.style.Styler at 0x7f23aa18faf0>"
            ],
            "text/html": [
              "<style type=\"text/css\">\n",
              "#T_4ff9c_row3_col1 {\n",
              "  background-color: cyan;\n",
              "}\n",
              "</style>\n",
              "<table id=\"T_4ff9c\" class=\"dataframe\">\n",
              "  <thead>\n",
              "    <tr>\n",
              "      <th class=\"blank level0\" >&nbsp;</th>\n",
              "      <th id=\"T_4ff9c_level0_col0\" class=\"col_heading level0 col0\" >name</th>\n",
              "      <th id=\"T_4ff9c_level0_col1\" class=\"col_heading level0 col1\" >age</th>\n",
              "      <th id=\"T_4ff9c_level0_col2\" class=\"col_heading level0 col2\" >country</th>\n",
              "    </tr>\n",
              "  </thead>\n",
              "  <tbody>\n",
              "    <tr>\n",
              "      <th id=\"T_4ff9c_level0_row0\" class=\"row_heading level0 row0\" >1</th>\n",
              "      <td id=\"T_4ff9c_row0_col0\" class=\"data row0 col0\" >Goku</td>\n",
              "      <td id=\"T_4ff9c_row0_col1\" class=\"data row0 col1\" >33</td>\n",
              "      <td id=\"T_4ff9c_row0_col2\" class=\"data row0 col2\" >Planeta Vegeta</td>\n",
              "    </tr>\n",
              "    <tr>\n",
              "      <th id=\"T_4ff9c_level0_row1\" class=\"row_heading level0 row1\" >0</th>\n",
              "      <td id=\"T_4ff9c_row1_col0\" class=\"data row1 col0\" >Mia</td>\n",
              "      <td id=\"T_4ff9c_row1_col1\" class=\"data row1 col1\" >32</td>\n",
              "      <td id=\"T_4ff9c_row1_col2\" class=\"data row1 col2\" >Libano</td>\n",
              "    </tr>\n",
              "    <tr>\n",
              "      <th id=\"T_4ff9c_level0_row2\" class=\"row_heading level0 row2\" >3</th>\n",
              "      <td id=\"T_4ff9c_row2_col0\" class=\"data row2 col0\" >Thor</td>\n",
              "      <td id=\"T_4ff9c_row2_col1\" class=\"data row2 col1\" >48</td>\n",
              "      <td id=\"T_4ff9c_row2_col2\" class=\"data row2 col2\" >Asgard</td>\n",
              "    </tr>\n",
              "    <tr>\n",
              "      <th id=\"T_4ff9c_level0_row3\" class=\"row_heading level0 row3\" >2</th>\n",
              "      <td id=\"T_4ff9c_row3_col0\" class=\"data row3 col0\" >Vegueta</td>\n",
              "      <td id=\"T_4ff9c_row3_col1\" class=\"data row3 col1\" >28</td>\n",
              "      <td id=\"T_4ff9c_row3_col2\" class=\"data row3 col2\" >Planeta Vegeta</td>\n",
              "    </tr>\n",
              "  </tbody>\n",
              "</table>\n"
            ]
          },
          "metadata": {},
          "execution_count": 68
        }
      ]
    }
  ]
}