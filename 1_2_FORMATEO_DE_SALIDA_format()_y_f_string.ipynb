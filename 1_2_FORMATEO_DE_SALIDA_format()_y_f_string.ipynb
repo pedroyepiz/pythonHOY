{
  "nbformat": 4,
  "nbformat_minor": 0,
  "metadata": {
    "colab": {
      "provenance": [],
      "toc_visible": true,
      "authorship_tag": "ABX9TyPGUDfhq/QG0+U9wE/YQH2Y",
      "include_colab_link": true
    },
    "kernelspec": {
      "name": "python3",
      "display_name": "Python 3"
    },
    "language_info": {
      "name": "python"
    }
  },
  "cells": [
    {
      "cell_type": "markdown",
      "metadata": {
        "id": "view-in-github",
        "colab_type": "text"
      },
      "source": [
        "<a href=\"https://colab.research.google.com/github/pedroyepiz/pythonHOY/blob/main/1_2_FORMATEO_DE_SALIDA_format()_y_f_string.ipynb\" target=\"_parent\"><img src=\"https://colab.research.google.com/assets/colab-badge.svg\" alt=\"Open In Colab\"/></a>"
      ]
    },
    {
      "cell_type": "markdown",
      "source": [
        "# **FORMATO DE SALIDA  TIPOS DATOS BASICOS EN PYTHON**"
      ],
      "metadata": {
        "id": "5CC7ZD8RCMXr"
      }
    },
    {
      "cell_type": "markdown",
      "source": [
        "# **EL METODO  `format()`**"
      ],
      "metadata": {
        "id": "Ucyv0irKycOt"
      }
    },
    {
      "cell_type": "markdown",
      "source": [
        "El método `format()` es una función de Python que se utiliza para dar formato a cadenas. Este método se utiliza con una cadena de formato que contiene marcadores de posición para los valores que deseas insertar en la cadena. Estos marcadores de posición se indican con llaves `{}`.\n",
        "\n",
        "Puedes utilizar el método `format()` para incluir valores de diferentes tipos de datos en una cadena, como enteros, flotantes, cadenas, booleanos, etc. Además, el método `format()` te permite dar formato a los valores que insertas en la cadena, como el número de decimales, la justificación, el ancho del campo, etc."
      ],
      "metadata": {
        "id": "93ah19jYDESb"
      }
    },
    {
      "cell_type": "markdown",
      "source": [
        "## **EJEMPLOS CON `format()`**"
      ],
      "metadata": {
        "id": "78PnpHOu19ao"
      }
    },
    {
      "cell_type": "code",
      "source": [
        "# Ejemplo 1: Insertar valores en una cadena\n",
        "nombre = \"Juan\"\n",
        "edad = 25\n",
        "print(\"Mi nombre es {} y tengo {} años\".format(nombre, edad))\n",
        "\n"
      ],
      "metadata": {
        "colab": {
          "base_uri": "https://localhost:8080/"
        },
        "id": "LDrEm5XyDuwv",
        "outputId": "552d5370-ec2d-4846-8134-e3acb63cac05"
      },
      "execution_count": 1,
      "outputs": [
        {
          "output_type": "stream",
          "name": "stdout",
          "text": [
            "Mi nombre es Juan y tengo 25 años\n"
          ]
        }
      ]
    },
    {
      "cell_type": "markdown",
      "source": [
        "En el **ejemplo 1**, se utiliza el método format() para insertar los valores de `nombre` y `edad` en una cadena."
      ],
      "metadata": {
        "id": "LkjxPtHhg9nT"
      }
    },
    {
      "cell_type": "code",
      "source": [
        "\n",
        "# Ejemplo 2: Dar formato a un número\n",
        "precio = 23.45\n",
        "print(\"El precio es {:.2f} dólares\".format(precio))\n"
      ],
      "metadata": {
        "colab": {
          "base_uri": "https://localhost:8080/"
        },
        "id": "z89KDaqfgPAr",
        "outputId": "0862b467-8ff5-48ea-a8ea-fcfe9f611fa3"
      },
      "execution_count": 2,
      "outputs": [
        {
          "output_type": "stream",
          "name": "stdout",
          "text": [
            "El precio es 23.45 dólares\n"
          ]
        }
      ]
    },
    {
      "cell_type": "markdown",
      "source": [
        "En el **ejemplo 2**, se utiliza el método `format()` para dar formato al número `precio`, limitando el número de decimales a dos."
      ],
      "metadata": {
        "id": "lZYzuI_ehEJv"
      }
    },
    {
      "cell_type": "code",
      "source": [
        "\n",
        "# Ejemplo 3: Justificar a la izquierda\n",
        "texto = \"Hola\"\n",
        "print(\"{:<10} Mundo\".format(texto))\n"
      ],
      "metadata": {
        "colab": {
          "base_uri": "https://localhost:8080/"
        },
        "id": "yVC1yJyEgO2Y",
        "outputId": "d082b592-0cae-4b3c-aa9d-d3b6e73028dc"
      },
      "execution_count": 4,
      "outputs": [
        {
          "output_type": "stream",
          "name": "stdout",
          "text": [
            "Hola       Mundo\n"
          ]
        }
      ]
    },
    {
      "cell_type": "markdown",
      "source": [
        "En el **ejemplo 3**, se utiliza el método `format()` para justificar la cadena `texto` a la izquierda y agregar espacios en blanco hasta alcanzar una longitud total de 10 caracteres."
      ],
      "metadata": {
        "id": "L3uis9MohIXR"
      }
    },
    {
      "cell_type": "code",
      "source": [
        "\n",
        "# Ejemplo 4: Justificar a la derecha y llenar con ceros\n",
        "numero = 42\n",
        "print(\"{:0>5}\".format(numero))  # Salida: 00042"
      ],
      "metadata": {
        "colab": {
          "base_uri": "https://localhost:8080/"
        },
        "id": "y8CZChUrgOrJ",
        "outputId": "dec6fcf0-e7a2-4900-b600-de1e52bd3ade"
      },
      "execution_count": 3,
      "outputs": [
        {
          "output_type": "stream",
          "name": "stdout",
          "text": [
            "00042\n"
          ]
        }
      ]
    },
    {
      "cell_type": "markdown",
      "source": [
        "En el **ejemplo 4**, se utiliza el método `format()` para justificar el número `numero` a la derecha y agregar ceros a la izquierda hasta alcanzar una longitud total de 5 caracteres."
      ],
      "metadata": {
        "id": "TeR9JIpohZwo"
      }
    },
    {
      "cell_type": "code",
      "source": [
        "# Ejemplo 5: Justificar a la derecha y llenar con ceros convirtiendo a cadena\n",
        "num = 5\n",
        "print(\"El valor de la variable num es: {}\".format(str(num).zfill(3)))"
      ],
      "metadata": {
        "colab": {
          "base_uri": "https://localhost:8080/"
        },
        "id": "lpaPiU81rdxO",
        "outputId": "bf85866e-8b9e-44f3-bbe9-8fea8481fdad"
      },
      "execution_count": 6,
      "outputs": [
        {
          "output_type": "stream",
          "name": "stdout",
          "text": [
            "El valor de la variable num es: 005\n"
          ]
        }
      ]
    },
    {
      "cell_type": "markdown",
      "source": [
        "En el **ejemplo 5**, se utiliza el método `format() `para justificar el número numero a la derecha y agregar ceros a la izquierda hasta alcanzar una longitud total de 3 caracteres.  la diferencia es que aqui el numero entero se convierte a string y se utiliza un metodo de la clase string"
      ],
      "metadata": {
        "id": "LylEzcX_r5Nz"
      }
    },
    {
      "cell_type": "markdown",
      "source": [
        "---\n",
        "**El método `format()` se introdujo en Python 2.6 como una forma más moderna y flexible de formatear cadenas que los antiguos operadores de formato % que se usaban antes. Desde entonces, `format()` se ha convertido en la forma estándar de formatear cadenas en Python, y sigue siendo ampliamente utilizado en la actualidad en versiones de Python 3.x.**\n",
        "\n",
        "**Aunque las f-strings son una alternativa más reciente y conveniente en algunos casos, `format()` sigue siendo una herramienta muy útil y poderosa para dar formato a cadenas en Python. Además, `format()` es compatible con versiones antiguas de Python, lo que significa que sigue siendo una opción importante para proyectos que requieren compatibilidad hacia atrás.**\n",
        "\n",
        "---"
      ],
      "metadata": {
        "id": "MiL-dREFoaQn"
      }
    },
    {
      "cell_type": "markdown",
      "source": [
        "# **f-string**\n",
        "Las `f-strings` son una forma más moderna y conveniente de dar formato a cadenas en Python. Se introdujeron en Python 3.6 y proporcionan una forma más legible y fácil de entender de incrustar valores de variables en cadenas. En lugar de tener que usar la función `format()`, las f-strings permiten incrustar valores de variables directamente en la cadena utilizando expresiones de Python encerradas entre llaves {}.\n",
        "\n",
        "Las `f-strings` también permiten la interpolación de expresiones de Python más complejas, lo que las hace más flexibles que las cadenas formateadas tradicionales. Por ejemplo, se pueden utilizar operadores matemáticos, llamadas a funciones y otros constructos de Python dentro de una f-string para crear cadenas más complejas.\n",
        "\n",
        "En general, las `f-strings` son una herramienta muy útil y poderosa para dar formato a cadenas en Python, y se utilizan ampliamente en la actualidad. Son más fáciles de leer y escribir que las cadenas formateadas tradicionales, y proporcionan una forma más directa y flexible de incrustar valores de variables en cadenas.\n",
        "\n",
        "\n",
        "\n",
        "\n",
        "\n"
      ],
      "metadata": {
        "id": "ygNsuZHLt3x_"
      }
    },
    {
      "cell_type": "markdown",
      "source": [
        "## **EJEMPLOS CON TIPOS DE DATOS BASICOS**"
      ],
      "metadata": {
        "id": "Qqmc2E1Mw1fo"
      }
    },
    {
      "cell_type": "code",
      "source": [
        "num = 3.14159265\n",
        "print(f\"El valor de la variable num es: {num:.2f}\")\n"
      ],
      "metadata": {
        "colab": {
          "base_uri": "https://localhost:8080/"
        },
        "id": "njI8xRX9-Hf3",
        "outputId": "967ca6bb-1db7-42ca-c809-6cab68e40bc2"
      },
      "execution_count": 5,
      "outputs": [
        {
          "output_type": "stream",
          "name": "stdout",
          "text": [
            "El valor de la variable num es: 3.14\n"
          ]
        }
      ]
    },
    {
      "cell_type": "code",
      "source": [
        "num = 5\n",
        "print(f\"El valor de la variable num es: {num:.2f}\")\n"
      ],
      "metadata": {
        "colab": {
          "base_uri": "https://localhost:8080/"
        },
        "outputId": "9d03b178-014f-4482-b417-b65080c5f253",
        "id": "k-pMooa2_nJF"
      },
      "execution_count": 6,
      "outputs": [
        {
          "output_type": "stream",
          "name": "stdout",
          "text": [
            "El valor de la variable num es: 5.00\n"
          ]
        }
      ]
    },
    {
      "cell_type": "code",
      "source": [
        "num = 5\n",
        "print(f\"El valor de la variable num es: {str(num).zfill(3)}\")\n"
      ],
      "metadata": {
        "colab": {
          "base_uri": "https://localhost:8080/"
        },
        "id": "HZA-yutZ9zdg",
        "outputId": "07cb8bae-f05a-4bf5-95ba-d713a1e68df3"
      },
      "execution_count": 3,
      "outputs": [
        {
          "output_type": "stream",
          "name": "stdout",
          "text": [
            "El valor de la variable num es: 005\n"
          ]
        }
      ]
    },
    {
      "cell_type": "code",
      "source": [
        "nombre = \"PEDRITO\"\n",
        "appat = \"YEPIZ\"\n",
        "\n",
        "print(f\"El valor de la variable num es:{nombre.ljust(10)}{appat.ljust(10)}\")\n"
      ],
      "metadata": {
        "colab": {
          "base_uri": "https://localhost:8080/"
        },
        "outputId": "905dce06-b757-4d4c-e27e-af00b807db52",
        "id": "UHmvpl4S_v2c"
      },
      "execution_count": 12,
      "outputs": [
        {
          "output_type": "stream",
          "name": "stdout",
          "text": [
            "El valor de la variable num es:PEDRITO   YEPIZ     \n"
          ]
        }
      ]
    },
    {
      "cell_type": "code",
      "source": [
        "nombre = \"PEDRITO\"\n",
        "appat = \"YEPIZ\"\n",
        "\n",
        "print(f\"El valor de la variable num es:{nombre.rjust(10,'_')}{appat.rjust(10,'_')}\")\n"
      ],
      "metadata": {
        "colab": {
          "base_uri": "https://localhost:8080/"
        },
        "outputId": "dc339ec2-f1c1-4122-aa1a-db23147c0091",
        "id": "KA5t7B5dBWuy"
      },
      "execution_count": 14,
      "outputs": [
        {
          "output_type": "stream",
          "name": "stdout",
          "text": [
            "El valor de la variable num es:___PEDRITO_____YEPIZ\n"
          ]
        }
      ]
    },
    {
      "cell_type": "markdown",
      "source": [
        "## **OTROS EJEMPLOS Y USO DE f-string**"
      ],
      "metadata": {
        "id": "MrP7-Eizx8rW"
      }
    },
    {
      "cell_type": "code",
      "source": [
        "# Uso de variables:\n",
        "\n",
        "nombre = \"Juan\"\n",
        "edad = 30\n",
        "print(f\"Hola, mi nombre es {nombre} y tengo {edad} años\")\n",
        "# Salida: Hola, mi nombre es Juan y tengo 30 años\n"
      ],
      "metadata": {
        "id": "vhj3SHvCBWOV"
      },
      "execution_count": null,
      "outputs": []
    },
    {
      "cell_type": "code",
      "source": [
        "# Uso de expresiones matemáticas:\n",
        "\n",
        "num1 = 10\n",
        "num2 = 5\n",
        "print(f\"La suma de {num1} y {num2} es {num1+num2}\")\n",
        "# Salida: La suma de 10 y 5 es 15\n"
      ],
      "metadata": {
        "id": "5J4oXSEizxqH"
      },
      "execution_count": null,
      "outputs": []
    },
    {
      "cell_type": "code",
      "source": [
        "# Uso de expresiones booleanas:\n",
        "\n",
        "es_mayor_edad = True\n",
        "print(f\"¿Es mayor de edad? {'Sí' if es_mayor_edad else 'No'}\")\n",
        "# Salida: ¿Es mayor de edad? Sí\n"
      ],
      "metadata": {
        "id": "W158W265zxmA"
      },
      "execution_count": null,
      "outputs": []
    },
    {
      "cell_type": "code",
      "source": [
        "# Uso de métodos de cadenas:\n",
        "\n",
        "nombre_completo = \"Juan Pérez\"\n",
        "print(f\"Mi nombre completo es {nombre_completo.upper()}\")\n",
        "# Salida: Mi nombre completo es JUAN PÉREZ\n"
      ],
      "metadata": {
        "id": "9JIugXnvzxhX"
      },
      "execution_count": null,
      "outputs": []
    },
    {
      "cell_type": "code",
      "source": [
        "# Uso de operadores condicionales:\n",
        "\n",
        "edad = 15\n",
        "print(f\"{'Bienvenido' if edad >= 18 else 'Lo sentimos, debes ser mayor de edad'}\")\n",
        "# Salida: Lo sentimos, debes ser mayor de edad\n"
      ],
      "metadata": {
        "id": "ZQT_1D-tzxZY"
      },
      "execution_count": null,
      "outputs": []
    },
    {
      "cell_type": "code",
      "source": [
        "nombre = \"Juan\"\n",
        "edad = 30\n",
        "altura = 1.75\n",
        "\n",
        "# Incluyendo variables simples\n",
        "print(f\"Hola, mi nombre es {nombre}, tengo {edad} años y mido {altura} metros.\")\n",
        "\n",
        "# Operaciones aritméticas y formateo numérico\n",
        "print(f\"La mitad de {edad} es {edad / 2:.2f}\")\n",
        "\n",
        "# Justificación de texto\n",
        "print(f\"{nombre.ljust(10)}{edad:>10}\")\n",
        "\n",
        "# Formateo de fechas y horas\n",
        "import datetime\n",
        "fecha_actual = datetime.datetime.now()\n",
        "print(f\"Hoy es {fecha_actual:%d-%m-%Y} y son las {fecha_actual:%H:%M}\")\n"
      ],
      "metadata": {
        "colab": {
          "base_uri": "https://localhost:8080/"
        },
        "id": "UICO05y24caU",
        "outputId": "4619cfe5-1f7c-49f9-c8ab-90898df1d930"
      },
      "execution_count": 15,
      "outputs": [
        {
          "output_type": "stream",
          "name": "stdout",
          "text": [
            "Hola, mi nombre es Juan, tengo 30 años y mido 1.75 metros.\n",
            "La mitad de 30 es 15.00\n",
            "Juan              30\n",
            "Hoy es 06-03-2023 y son las 07:45\n"
          ]
        }
      ]
    },
    {
      "cell_type": "markdown",
      "source": [
        "Las f-strings permiten crear cadenas de texto complejas y dinámicas en Python de manera sencilla y legible. Son muy utilizadas actualmente y se consideran una buena práctica en el desarrollo de aplicaciones en Python.\n",
        "las f-strings te permiten crear cadenas de manera más fácil y legible, y es una forma más moderna de dar formato a las cadenas en Python.\n",
        "\n",
        " ---\n"
      ],
      "metadata": {
        "id": "Wb7dPfDB0Vmj"
      }
    },
    {
      "cell_type": "markdown",
      "source": [
        "\n",
        "# **CONCLUSION:**\n",
        "Tanto `format(`) como las `f-strings` (f\"...\") son herramientas que permiten la interpolación de variables y expresiones en una cadena de texto en Python. Sin embargo, hay algunas diferencias importantes entre ambas:\n",
        "\n",
        "* **Sintaxis:** La sintaxis de las f-strings es más concisa y legible que la sintaxis de format(). Con las f-strings, simplemente se escribe una cadena precedida por la letra \"f\" y se usan llaves para insertar las variables y expresiones. Con `format()`, se debe usar una cadena con llaves (`{}`) y luego llamar a la función `format() `en esa cadena, pasando las variables y expresiones como argumentos.\n",
        "\n",
        "* **Capacidad de personalización:** `format()` ofrece mucha más flexibilidad y opciones de formato que las f-strings. Con `format()`, se pueden especificar el ancho y la precisión para números, la justificación de texto, el formato de fecha y hora, etc. Las f-strings, por otro lado, ofrecen un conjunto más limitado de opciones de formato incorporadas.\n",
        "\n",
        "* **Compatibilidad:** Las f-strings se introdujeron en Python 3.6, por lo que si estás usando una versión anterior de Python, no podrás usarlas. format(), por otro lado, está disponible en todas las versiones de Python desde la 2.6 en adelante, por lo que es más compatible con versiones antiguas de Python.\n",
        "\n",
        "En general, las f-strings son más simples y legibles para la interpolación básica de variables y expresiones, mientras que format() es más adecuado para casos en los que se requiere una personalización compleja de la salida o una mayor compatibilidad con versiones antiguas de Python."
      ],
      "metadata": {
        "id": "KoIRphPW1XiU"
      }
    },
    {
      "cell_type": "code",
      "source": [
        "num = 3.14159265\n",
        "print(\"El valor de la variable num es: {:.2f}\".format(num))\n"
      ],
      "metadata": {
        "colab": {
          "base_uri": "https://localhost:8080/"
        },
        "id": "Xt0zgKdH-eRA",
        "outputId": "5aa1baa7-9037-4531-f579-2b423125f3dd"
      },
      "execution_count": 4,
      "outputs": [
        {
          "output_type": "stream",
          "name": "stdout",
          "text": [
            "El valor de la variable num es: 3.14\n"
          ]
        }
      ]
    },
    {
      "cell_type": "code",
      "source": [
        "num = 3.14159265\n",
        "print(f\"El valor de la variable num es: {num:.2f}\")\n"
      ],
      "metadata": {
        "colab": {
          "base_uri": "https://localhost:8080/"
        },
        "id": "_oDyK-xX2lQl",
        "outputId": "e8d3d80c-7abf-4c17-99f2-a7937a3d8e98"
      },
      "execution_count": 8,
      "outputs": [
        {
          "output_type": "stream",
          "name": "stdout",
          "text": [
            "El valor de la variable num es: 3.14\n"
          ]
        }
      ]
    },
    {
      "cell_type": "code",
      "execution_count": 1,
      "metadata": {
        "colab": {
          "base_uri": "https://localhost:8080/"
        },
        "id": "C7h_MdcO9mS4",
        "outputId": "bc5661a7-7422-491c-d4cd-d995af947280"
      },
      "outputs": [
        {
          "output_type": "stream",
          "name": "stdout",
          "text": [
            "El valor de la variable num es: 005\n"
          ]
        }
      ],
      "source": [
        "num = 5\n",
        "print(\"El valor de la variable num es: {}\".format(str(num).zfill(3)))\n"
      ]
    },
    {
      "cell_type": "code",
      "source": [
        "num = 5\n",
        "print(f\"El valor de la variable num es: {str(num).zfill(3)}\")\n"
      ],
      "metadata": {
        "colab": {
          "base_uri": "https://localhost:8080/"
        },
        "id": "mITHExNS21_h",
        "outputId": "6dc4c602-62c1-498a-ce84-73cdcdd8daca"
      },
      "execution_count": 12,
      "outputs": [
        {
          "output_type": "stream",
          "name": "stdout",
          "text": [
            "El valor de la variable num es: 005\n"
          ]
        }
      ]
    },
    {
      "cell_type": "code",
      "source": [
        "\n",
        "\n",
        "numero = 67\n",
        "print(\"{:0>5}\".format(numero)) "
      ],
      "metadata": {
        "colab": {
          "base_uri": "https://localhost:8080/"
        },
        "outputId": "5b69f747-b1be-444b-d60b-5006e73ac139",
        "id": "xdvDD78z4BxC"
      },
      "execution_count": 14,
      "outputs": [
        {
          "output_type": "stream",
          "name": "stdout",
          "text": [
            "00042\n"
          ]
        }
      ]
    },
    {
      "cell_type": "code",
      "source": [
        "\n",
        "numero = 67\n",
        "print(f\"{numero:0>5}\")  "
      ],
      "metadata": {
        "colab": {
          "base_uri": "https://localhost:8080/"
        },
        "outputId": "f5509ee9-5b1a-4be9-8fb0-668ca3521489",
        "id": "1hBHRcDo3wiS"
      },
      "execution_count": 13,
      "outputs": [
        {
          "output_type": "stream",
          "name": "stdout",
          "text": [
            "00042\n"
          ]
        }
      ]
    },
    {
      "cell_type": "code",
      "source": [
        "nombre = \"Juan\"\n",
        "apellido = \"Pérez\"\n",
        "nombre_completo = f\"{nombre.upper()} {apellido.lower()}\"\n",
        "print(nombre_completo)\n",
        "# Salida: JUAN pérez\n"
      ],
      "metadata": {
        "colab": {
          "base_uri": "https://localhost:8080/"
        },
        "id": "g6NZp2xg3v6u",
        "outputId": "8f6254f4-cfd7-40c3-87b4-22b33109c1a2"
      },
      "execution_count": 16,
      "outputs": [
        {
          "output_type": "stream",
          "name": "stdout",
          "text": [
            "JUAN pérez\n"
          ]
        }
      ]
    }
  ]
}